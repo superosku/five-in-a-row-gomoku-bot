{
 "cells": [
  {
   "cell_type": "code",
   "execution_count": 216,
   "metadata": {},
   "outputs": [],
   "source": [
    "import random\n",
    "import time\n",
    "\n",
    "import numpy as np\n",
    "\n",
    "from matplotlib import pyplot\n",
    "from matplotlib.colors import Normalize\n",
    "\n",
    "from keras.models import Sequential\n",
    "from keras.layers import Dense, Conv2D, Flatten, Softmax, Reshape\n",
    "import keras\n"
   ]
  },
  {
   "cell_type": "code",
   "execution_count": 217,
   "metadata": {},
   "outputs": [],
   "source": [
    "BOARD_SIZE = 12"
   ]
  },
  {
   "cell_type": "markdown",
   "metadata": {},
   "source": [
    "# Helpers and stuff"
   ]
  },
  {
   "cell_type": "code",
   "execution_count": 218,
   "metadata": {},
   "outputs": [
    {
     "data": {
      "image/png": "[encoded data removed]",
      "text/plain": [
       "<Figure size 432x288 with 1 Axes>"
      ]
     },
     "metadata": {
      "needs_background": "light"
     },
     "output_type": "display_data"
    }
   ],
   "source": [
    "board = np.zeros((BOARD_SIZE, BOARD_SIZE, 3))\n",
    "\n",
    "board[5][5][1] = 1\n",
    "board[6][6][2] = 1\n",
    "board[2][5][2] = 1\n",
    "\n",
    "def vis_board(board, shower=pyplot):\n",
    "    #pyplot.grid(which='minor', color='w', linestyle='-', linewidth=2)\n",
    "    shower.imshow((board[:,:,1] - board[:,:,2]).transpose(), norm=Normalize(-1 ,1))\n",
    "    ax = pyplot.gca()\n",
    "\n",
    "    ax.set_xticks(np.arange(-.5, BOARD_SIZE, 1), minor=True);\n",
    "    ax.set_yticks(np.arange(-.5, BOARD_SIZE, 1), minor=True);\n",
    "    ax.grid(which='minor', color='black', linestyle='-', linewidth=1)\n",
    "    \n",
    "    #pyplot.axis('off')\n",
    "\n",
    "\n",
    "vis_board(board)"
   ]
  },
  {
   "cell_type": "code",
   "execution_count": 219,
   "metadata": {},
   "outputs": [
    {
     "name": "stdout",
     "output_type": "stream",
     "text": [
      "Model: \"sequential_19\"\n",
      "_________________________________________________________________\n",
      "Layer (type)                 Output Shape              Param #   \n",
      "=================================================================\n",
      "conv2d_46 (Conv2D)           (None, 12, 12, 64)        1792      \n",
      "_________________________________________________________________\n",
      "conv2d_47 (Conv2D)           (None, 12, 12, 64)        36928     \n",
      "_________________________________________________________________\n",
      "conv2d_48 (Conv2D)           (None, 12, 12, 1)         577       \n",
      "_________________________________________________________________\n",
      "flatten_19 (Flatten)         (None, 144)               0         \n",
      "_________________________________________________________________\n",
      "softmax_10 (Softmax)         (None, 144)               0         \n",
      "_________________________________________________________________\n",
      "reshape_10 (Reshape)         (None, 12, 12, 1)         0         \n",
      "=================================================================\n",
      "Total params: 39,297\n",
      "Trainable params: 39,297\n",
      "Non-trainable params: 0\n",
      "_________________________________________________________________\n",
      "Model: \"sequential_20\"\n",
      "_________________________________________________________________\n",
      "Layer (type)                 Output Shape              Param #   \n",
      "=================================================================\n",
      "conv2d_49 (Conv2D)           (None, 10, 10, 64)        1792      \n",
      "_________________________________________________________________\n",
      "conv2d_50 (Conv2D)           (None, 8, 8, 64)          36928     \n",
      "_________________________________________________________________\n",
      "flatten_20 (Flatten)         (None, 4096)              0         \n",
      "_________________________________________________________________\n",
      "dense_28 (Dense)             (None, 32)                131104    \n",
      "_________________________________________________________________\n",
      "dense_29 (Dense)             (None, 10)                330       \n",
      "_________________________________________________________________\n",
      "dense_30 (Dense)             (None, 1)                 11        \n",
      "=================================================================\n",
      "Total params: 170,165\n",
      "Trainable params: 170,165\n",
      "Non-trainable params: 0\n",
      "_________________________________________________________________\n"
     ]
    }
   ],
   "source": [
    "def get_models():\n",
    "    move_model = Sequential()\n",
    "    move_model.add(Conv2D(\n",
    "        64, kernel_size=3, activation='relu', input_shape=(BOARD_SIZE, BOARD_SIZE, 3), padding='same'\n",
    "    ))\n",
    "    move_model.add(Conv2D(64, kernel_size=3, activation='relu', padding='same'))\n",
    "    #move_model.add(Conv2D(128, kernel_size=3, activation='relu', padding='same'))\n",
    "    move_model.add(Conv2D(1, kernel_size=3, activation='relu', padding='same'))\n",
    "    move_model.add(Flatten())\n",
    "    move_model.add(Softmax())\n",
    "    move_model.add(Reshape((BOARD_SIZE, BOARD_SIZE, 1)))\n",
    "\n",
    "    move_model.compile(\n",
    "        optimizer=keras.optimizers.Adam(lr=0.0001),\n",
    "        #loss='categorical_crossentropy',\n",
    "        loss='binary_crossentropy',\n",
    "        metrics=['accuracy']\n",
    "    )\n",
    "\n",
    "    score_model = Sequential()\n",
    "    score_model.add(Conv2D(64, kernel_size=3, activation='relu', input_shape=(BOARD_SIZE, BOARD_SIZE, 3)))#, padding='same'))\n",
    "    score_model.add(Conv2D(64, kernel_size=3, activation='relu')) #, padding='same'))\n",
    "    #score_model.add(Conv2D(128, kernel_size=3, activation='relu')) #, padding='same'))\n",
    "\n",
    "    score_model.add(Flatten())\n",
    "\n",
    "    score_model.add(Dense(32, activation='sigmoid'))\n",
    "    score_model.add(Dense(10, activation='sigmoid'))\n",
    "    score_model.add(Dense(1, activation='sigmoid'))\n",
    "\n",
    "    score_model.compile(\n",
    "        optimizer=keras.optimizers.Adam(lr=0.0001),\n",
    "        #loss='categorical_crossentropy',\n",
    "        loss='binary_crossentropy',\n",
    "        metrics=['accuracy']\n",
    "    )\n",
    "    \n",
    "    return move_model, score_model\n",
    "\n",
    "test_move_model, test_score_model = get_models()\n",
    "\n",
    "test_move_model.summary()\n",
    "test_score_model.summary()\n"
   ]
  },
  {
   "cell_type": "code",
   "execution_count": null,
   "metadata": {},
   "outputs": [],
   "source": []
  },
  {
   "cell_type": "code",
   "execution_count": 220,
   "metadata": {},
   "outputs": [],
   "source": [
    "def weighted_random(pairs):\n",
    "    total = sum(pair[0] for pair in pairs)\n",
    "    r = random.random() * total # randint(1, total)\n",
    "    for index, (weight, value) in enumerate(pairs):\n",
    "        # print('asdf', r, weight)\n",
    "        r -= weight\n",
    "        if r <= 0: return index # value\n",
    "    print('ERROR IN weighted_random')\n",
    "    return len(pairs) - 1\n",
    "    return pairs[-1][1]\n"
   ]
  },
  {
   "cell_type": "code",
   "execution_count": 221,
   "metadata": {},
   "outputs": [],
   "source": [
    "def augment_data(train_x, train_y, scores):\n",
    "    augmented_train_x = []\n",
    "    augmented_train_y = []\n",
    "    augmented_train_scores = []\n",
    "\n",
    "    #train_x[0].shape\n",
    "\n",
    "    #pyplot.imshow(train_x[5].reshape(15, 15))\n",
    "    #pyplot.imshow(train_y[2].reshape(15, 15))\n",
    "\n",
    "    #pyplot.imshow(np.flip(np.rot90(train_x[7])).reshape(15, 15))\n",
    "\n",
    "\n",
    "    for x, y, score in zip(train_x, train_y, scores):\n",
    "        augmented_train_x.append(x)\n",
    "        augmented_train_y.append(y)\n",
    "        augmented_train_scores.append(score)\n",
    "        augmented_train_x.append(np.rot90(x))\n",
    "        augmented_train_y.append(np.rot90(y))\n",
    "        augmented_train_scores.append(score)\n",
    "        augmented_train_x.append(np.rot90(x, 2))\n",
    "        augmented_train_y.append(np.rot90(y, 2))\n",
    "        augmented_train_scores.append(score)\n",
    "        augmented_train_x.append(np.rot90(x, 3))\n",
    "        augmented_train_y.append(np.rot90(y, 3))\n",
    "        augmented_train_scores.append(score)\n",
    "        augmented_train_x.append(np.flip(x))\n",
    "        augmented_train_y.append(np.flip(y))\n",
    "        augmented_train_scores.append(score)\n",
    "        augmented_train_x.append(np.flip(np.rot90(x)))\n",
    "        augmented_train_y.append(np.flip(np.rot90(y)))\n",
    "        augmented_train_scores.append(score)\n",
    "        augmented_train_x.append(np.flip(np.rot90(x, 2)))\n",
    "        augmented_train_y.append(np.flip(np.rot90(y, 2)))\n",
    "        augmented_train_scores.append(score)\n",
    "        augmented_train_x.append(np.flip(np.rot90(x, 3)))\n",
    "        augmented_train_y.append(np.flip(np.rot90(y, 3)))\n",
    "        augmented_train_scores.append(score)\n",
    "    \n",
    "    augmented_boards = []\n",
    "    augmented_statuses = []\n",
    "    augmented_scores = []\n",
    "    \n",
    "    for board, status, score in zip(augmented_train_x, augmented_train_y, augmented_train_scores):\n",
    "        augmented_boards.append(board)\n",
    "        augmented_statuses.append(status)\n",
    "        augmented_scores.append(score)\n",
    "\n",
    "        flipped_board = np.zeros((BOARD_SIZE, BOARD_SIZE, 3))\n",
    "    \n",
    "        flipped_board[:,:,0] = 1 if board[0,0,0] == 0 else 0\n",
    "        flipped_board[:,:,1] = board[:,:,2]\n",
    "        flipped_board[:,:,2] = board[:,:,1]\n",
    "\n",
    "        augmented_boards.append(flipped_board)\n",
    "        augmented_statuses.append(status)\n",
    "        augmented_scores.append(1 - score)\n",
    "\n",
    "    \n",
    "    return np.array(augmented_boards), np.array(augmented_statuses), np.array(augmented_scores)\n"
   ]
  },
  {
   "cell_type": "code",
   "execution_count": 222,
   "metadata": {},
   "outputs": [],
   "source": [
    "def filter_by_play_ids(plays, boards, board_statuses, min_play_id):\n",
    "    from_win = []\n",
    "\n",
    "    is_first_play = [np.sum(b[:,:,1]) == 0 and np.sum(b[:,:,2]) == 0 for b in boards]\n",
    "\n",
    "    counter = 0\n",
    "\n",
    "    for status in is_first_play:\n",
    "        if status:\n",
    "            from_win += list(reversed(list(range(counter))))\n",
    "            counter = 0\n",
    "\n",
    "        counter += 1\n",
    "    \n",
    "    return list(np.array([\n",
    "        (play, board, status)\n",
    "        for play, board, status, index in\n",
    "        zip(plays, boards, board_statuses, from_win)\n",
    "        if status % 2 == 0 and index <= min_play_id\n",
    "    ]).transpose())"
   ]
  },
  {
   "cell_type": "code",
   "execution_count": 223,
   "metadata": {},
   "outputs": [
    {
     "data": {
      "text/plain": [
       "False"
      ]
     },
     "execution_count": 223,
     "metadata": {},
     "output_type": "execute_result"
    },
    {
     "data": {
      "image/png": "[encoded data removed]",
      "text/plain": [
       "<Figure size 432x288 with 1 Axes>"
      ]
     },
     "metadata": {
      "needs_background": "light"
     },
     "output_type": "display_data"
    }
   ],
   "source": [
    "def check_win(board, x, y, player):\n",
    "    #value = board[x][y][0]\n",
    "    \n",
    "    # X direction\n",
    "    count = 1\n",
    "    i = 1\n",
    "    while x - i >= 0 and board[x - i][y][player+1] == 1:\n",
    "        count += 1\n",
    "        i += 1\n",
    "    i = 1\n",
    "    while x + i < BOARD_SIZE and board[x + i][y][player+1] == 1:\n",
    "        count += 1\n",
    "        i += 1\n",
    "    if count >= 5:\n",
    "        return True\n",
    "    \n",
    "    # Y direction\n",
    "    count = 1\n",
    "    i = 1\n",
    "    while y - i >= 0 and board[x][y - i][player+1] == 1:\n",
    "        count += 1\n",
    "        i += 1\n",
    "    i = 1\n",
    "    while y + i < BOARD_SIZE and board[x][y + i][player+1] == 1:\n",
    "        count += 1\n",
    "        i += 1\n",
    "    if count >= 5:\n",
    "        return True\n",
    "    \n",
    "    # Diagonal 1\n",
    "    count = 1\n",
    "    i = 1\n",
    "    while x - i >= 0 and y - i >= 0 and board[x - i][y - i][player+1] == 1:\n",
    "        count += 1\n",
    "        i += 1\n",
    "    i = 1\n",
    "    while x + i < BOARD_SIZE and y + i < BOARD_SIZE and board[x + i][y + i][player+1] == 1:\n",
    "        count += 1\n",
    "        i += 1\n",
    "    if count >= 5:\n",
    "        return True\n",
    "    \n",
    "    # Diagonal 2\n",
    "    count = 1\n",
    "    i = 1\n",
    "    while x - i >= 0 and y + i < BOARD_SIZE and board[x - i][y + i][player+1] == 1:\n",
    "        count += 1\n",
    "        i += 1\n",
    "    i = 1\n",
    "    while x + i < BOARD_SIZE and y - i >= 0 and board[x + i][y - i][player+1] == 1:\n",
    "        count += 1\n",
    "        i += 1\n",
    "    if count >= 5:\n",
    "        return True\n",
    "    \n",
    "    return False\n",
    "\n",
    "board = np.zeros((BOARD_SIZE, BOARD_SIZE, 3))\n",
    "\n",
    "board[2][3][2] = 1\n",
    "board[2][4][2] = 1\n",
    "board[2][5][2] = 1\n",
    "board[2][6][2] = 1\n",
    "#board[2][7][2] = 1\n",
    "\n",
    "board[1][1][1] = 1\n",
    "\n",
    "vis_board(board)\n",
    "\n",
    "check_win(board, 2, 5, 1)"
   ]
  },
  {
   "cell_type": "code",
   "execution_count": null,
   "metadata": {},
   "outputs": [],
   "source": []
  },
  {
   "cell_type": "code",
   "execution_count": 279,
   "metadata": {
    "scrolled": false
   },
   "outputs": [],
   "source": [
    "EXPANSIONS_PER_MOVE = 500\n",
    "BOARDS_PER_STEP = 2000\n",
    "\n",
    "class RootCalculator():\n",
    "    def __init__(self):\n",
    "        self.nodes = 0\n",
    "    \n",
    "    def expanded(self):\n",
    "        self.nodes += 1\n",
    "\n",
    "\n",
    "class TerminalNode():\n",
    "    def __init__(self, value, xy):\n",
    "        self.value = value\n",
    "        self.best_xy = xy\n",
    "    \n",
    "    def do_expansion(self, board):\n",
    "        pass\n",
    "\n",
    "\n",
    "class Node():\n",
    "    def __init__(self, board, root_calculator, xy, move_model, score_model, depth):\n",
    "        self.move_model = move_model\n",
    "        self.score_model = score_model\n",
    "        \n",
    "        self.depth = depth\n",
    "        self.player = int(board[0][0][0])\n",
    "        #print('Player is here', self.player)\n",
    "        self.play_positions = []\n",
    "        self.sub_nodes = []\n",
    "        self.play_probs = []\n",
    "        \n",
    "        self.expansion_count = 0\n",
    "        \n",
    "        self.root_calculator = root_calculator\n",
    "        self.xy = xy\n",
    "        self.is_terminal = False\n",
    "        \n",
    "        for x in range(BOARD_SIZE):\n",
    "            for y in range(BOARD_SIZE):\n",
    "                if board[x][y][1] == 0 and board[x][y][2] == 0:\n",
    "                    self.play_positions.append((x, y))\n",
    "        \n",
    "        if xy == None:\n",
    "            # Root node\n",
    "            value = 0.5 # score_model.predict(np.array([board]))[0][0]\n",
    "        else:\n",
    "            # Non root\n",
    "            x, y = xy\n",
    "            \n",
    "            board[x][y][self.player + 1] = 1\n",
    "            \n",
    "            other_player = 1 if self.player == 0 else 0\n",
    "            \n",
    "            if check_win(board, x, y, other_player):\n",
    "                self.is_terminal = True\n",
    "                value = other_player\n",
    "            else:\n",
    "                value = self.score_model.predict(np.array([board]))[0][0]\n",
    "            board[x][y][self.player + 1] = 0            \n",
    "        \n",
    "        self.value = value\n",
    "        self.best_xy = xy\n",
    "    \n",
    "    def expand(self, board):\n",
    "        if self.is_terminal:\n",
    "            return\n",
    "        \n",
    "        #best_val = float('inf') if self.player == 0 else float('-inf')\n",
    "        #best_xy = None\n",
    "        \n",
    "        play_probs = self.move_model.predict(np.array([board])).reshape(BOARD_SIZE, BOARD_SIZE)\n",
    "        \n",
    "        for x, y in self.play_positions:\n",
    "            prob = play_probs[x][y]\n",
    "            self.play_probs.append(prob + 0.1 / (BOARD_SIZE * BOARD_SIZE)) # Add some randomness\n",
    "            \n",
    "            #sub_node = Node(board, self.root_calculator, (x, y))\n",
    "            #self.sub_nodes.append(sub_node)\n",
    "            \n",
    "            self.sub_nodes.append(None)\n",
    "            \n",
    "            #if (\n",
    "            #    (self.player == 1 and sub_node.value > best_val) or\n",
    "            #    (self.player == 0 and sub_node.value < best_val)\n",
    "            #):\n",
    "            #    best_val = sub_node.value\n",
    "            #    best_xy = (x, y)\n",
    "            \n",
    "        #self.value = best_val\n",
    "        #self.best_xy = best_xy\n",
    "    \n",
    "    def get_value(self):\n",
    "        if not any(self.sub_nodes) or self.is_terminal:\n",
    "            #print('returning self.value', self.value)\n",
    "            return self.value\n",
    "        \n",
    "        value_sums = self.value\n",
    "        value_count = 1\n",
    "        \n",
    "        #best_value = float('inf') if self.player == 0 else float('-inf')\n",
    "        for node in self.sub_nodes:\n",
    "            if node:\n",
    "                node_value = node.get_value()\n",
    "                value_sums += node_value * (node.expansion_count + 1)\n",
    "                value_count += (node.expansion_count + 1)\n",
    "                \n",
    "                #best_value = min(best_value, node_value) if self.player == 0 else max(best_value, node_value)\n",
    "        \n",
    "        return_val = value_sums / value_count\n",
    "        #print('returning combined value', value_sums, value_count, self.sub_nodes)\n",
    "        return return_val\n",
    "        \n",
    "        #return best_value\n",
    "    \n",
    "    def get_best_xy(self):\n",
    "        \n",
    "        best_value = float('inf') if self.player == 0 else float('-inf')\n",
    "        best_xy = None\n",
    "        \n",
    "        for xy, node in zip(self.play_positions, self.sub_nodes):\n",
    "            if node is not None:\n",
    "                node_value = node.get_value()\n",
    "                #print('asdf', xy, node_value, best_value, best_xy)\n",
    "                if (self.player == 0 and node_value < best_value) or (self.player == 1 and node_value > best_value):\n",
    "                    best_value = node_value\n",
    "                    best_xy = xy\n",
    "        \n",
    "        return best_xy\n",
    "    \n",
    "    def get_sub_node_at(self, xy):\n",
    "        for pos, sub_node in zip(self.play_positions, self.sub_nodes):\n",
    "            if sub_node and xy == pos:\n",
    "                return sub_node\n",
    "        raise ValueError('Invalid path')\n",
    "        \n",
    "    def get_values_rec(self, path=[]):\n",
    "        if path:\n",
    "            return self.get_sub_node_at(path[0]).get_values_rec(path[1:])\n",
    "        \n",
    "        values = np.ones((BOARD_SIZE, BOARD_SIZE)) * -1\n",
    "\n",
    "        for (x, y), sub_node in zip(self.play_positions, self.sub_nodes):\n",
    "            if sub_node:\n",
    "                sub_node_value = sub_node.get_value()\n",
    "                #print('asdf', sub_node_value)\n",
    "                values[x][y] = sub_node_value\n",
    "\n",
    "        return values\n",
    "\n",
    "    \n",
    "    def do_expansion(self, board):\n",
    "        self.expansion_count += 1\n",
    "        \n",
    "        self.root_calculator.expanded()\n",
    "        \n",
    "        \n",
    "        if self.sub_nodes:\n",
    "            # Select expansion position\n",
    "            random_node_index = weighted_random(list(zip(self.play_probs, self.sub_nodes)))\n",
    "            random_node = self.sub_nodes[random_node_index]\n",
    "            random_node_xy = self.play_positions[random_node_index]\n",
    "            \n",
    "            x, y = random_node_xy\n",
    "            board[x][y][self.player + 1] = 1\n",
    "            board[:,:,0] = 1 if self.player == 0 else 0\n",
    "            #board[x][y][self.player + 1] = 0\n",
    "            #board[:,:,0] = self.player\n",
    "\n",
    "            # Expand or add random node\n",
    "            if random_node is None:\n",
    "                xy = self.play_positions[random_node_index]\n",
    "                random_node = Node(\n",
    "                    board, \n",
    "                    self.root_calculator,\n",
    "                    random_node_xy,\n",
    "                    self.move_model,\n",
    "                    self.score_model,\n",
    "                    self.depth+1\n",
    "                )\n",
    "                self.sub_nodes[random_node_index] = random_node\n",
    "                value = random_node.value\n",
    "            else:\n",
    "                random_node.do_expansion(board)\n",
    "                value = random_node.value\n",
    "                \n",
    "            board[x][y][self.player + 1] = 0\n",
    "            board[:,:,0] = self.player\n",
    "            \n",
    "            '''\n",
    "            # Update value\n",
    "            if self.player == 1:\n",
    "                if value > self.value or self.best_xy == None:\n",
    "                    self.best_xy = random_node_xy\n",
    "                    #print('Updating bestxy', self.xy, self.best_xy, self.depth)\n",
    "                    self.value = value\n",
    "                #self.value = max(value, self.value)\n",
    "            else:\n",
    "                if value < self.value or self.best_xy == None:\n",
    "                    self.best_xy = random_node_xy\n",
    "                    #print('Updating bestxy', self.xy, self.best_xy, self.depth)\n",
    "                    self.value = value\n",
    "                #self.value = min(value, self.value)\n",
    "            '''\n",
    "            \n",
    "            #all_sub_values = [sub_node.value for sub_node in self.sub_nodes if sub_node]\n",
    "            #self.value = sum(all_sub_values) / len(all_sub_values)\n",
    "            \n",
    "        else:\n",
    "            self.expand(board)\n",
    "\n",
    "\n",
    "def do_play_round(move_model, score_model):\n",
    "    boards = []\n",
    "    plays = []\n",
    "    board_statuses = []\n",
    "\n",
    "    while True:\n",
    "        batch_boards = []\n",
    "        batch_plays = []\n",
    "        batch_board_stauts = []\n",
    "\n",
    "        board = np.zeros((BOARD_SIZE, BOARD_SIZE, 3))\n",
    "\n",
    "        winned = False\n",
    "\n",
    "        for i in range(int(BOARD_SIZE * BOARD_SIZE / 2)): # Max board size / 2 so no stupid board filling games allowed\n",
    "            #print('Starting loop')\n",
    "            cur_player = int(board[0][0][0])\n",
    "\n",
    "            root_calculator = RootCalculator()\n",
    "            node = Node(board, root_calculator, None, move_model, score_model,0)\n",
    "            for i in range(EXPANSIONS_PER_MOVE):\n",
    "                node.do_expansion(board)\n",
    "                #print('wtf', node.best_xy)\n",
    "                #print('node_count', root_calculator.nodes)\n",
    "            #print('asdfg', node.best_xy, node.depth)\n",
    "            x, y = node.get_best_xy()\n",
    "\n",
    "            batch_boards.append(board.copy())\n",
    "            play_pos = np.zeros((BOARD_SIZE, BOARD_SIZE, 1))\n",
    "            play_pos[x][y][0] = 1\n",
    "            batch_plays.append(play_pos)\n",
    "\n",
    "            board[x][y][cur_player + 1] = 1\n",
    "\n",
    "            if check_win(board, x, y, cur_player):\n",
    "                print('Win condition found')\n",
    "                winned = True\n",
    "                batch_board_stauts = len(batch_boards) * [cur_player]\n",
    "                break\n",
    "\n",
    "            board[:,:,0] = 1 if cur_player == 0 else 0 # Change the current player\n",
    "\n",
    "        if winned:\n",
    "            boards += batch_boards\n",
    "            plays += batch_plays\n",
    "            board_statuses += batch_board_stauts\n",
    "\n",
    "        print('Loop ended', len(boards), len(plays), len(board_statuses))\n",
    "        \n",
    "        if len(boards) > BOARDS_PER_STEP:\n",
    "            return boards, plays, board_statuses\n",
    "\n",
    "\n",
    "def run_simulation():\n",
    "    move_model, score_model = get_models()\n",
    "    \n",
    "    prev_augmented_boards, prev_augmented_plays, prev_augmented_board_statuses = (\n",
    "        np.array([]).reshape(0, BOARD_SIZE, BOARD_SIZE, 3),\n",
    "        np.array([]).reshape(0, BOARD_SIZE, BOARD_SIZE, 1),\n",
    "        np.array([]).reshape(0)\n",
    "    )\n",
    "    \n",
    "    loop_index = 0\n",
    "    while True:\n",
    "        boards, plays, board_statuses = do_play_round(move_model, score_model)\n",
    "\n",
    "        np.savez_compressed(\n",
    "            'game_data/loop_{}_game_data'.format(loop_index),\n",
    "            plays=plays, \n",
    "            boards=boards,\n",
    "            board_statuses=board_statuses\n",
    "        )\n",
    "\n",
    "        move_model.save('game_data/loop_{}_move_model.h5'.format(loop_index))\n",
    "        score_model.save('game_data/loop_{}_score_model.h5'.format(loop_index))\n",
    "\n",
    "        move_model, score_model = get_models()\n",
    "        \n",
    "        # Only winners and only latest if we are on earlier rounds\n",
    "        f_plays, f_boards, f_board_statuses = filter_by_play_ids(plays, boards, board_statuses, int(loop_index / 2))\n",
    "        \n",
    "        augmented_boards, augmented_plays, augmented_board_statuses = augment_data(f_boards, f_plays, f_board_statuses)\n",
    "        \n",
    "        history = score_model.fit(\n",
    "            np.concatenate((prev_augmented_boards, augmented_boards)),\n",
    "            np.concatenate((prev_augmented_board_statuses, augmented_board_statuses)),\n",
    "            epochs=20,\n",
    "            #validation_split=0.2,\n",
    "            shuffle=True\n",
    "        )\n",
    "        history = move_model.fit(\n",
    "            np.concatenate((prev_augmented_boards, augmented_boards)),\n",
    "            np.concatenate((prev_augmented_plays, augmented_plays)),\n",
    "            epochs=20,\n",
    "            #validation_split=0.2,\n",
    "            shuffle=True\n",
    "        )\n",
    "        \n",
    "        prev_augmented_boards, prev_augmented_plays, prev_augmented_board_statuses = augmented_boards, augmented_plays, augmented_board_statuses\n",
    "\n",
    "        loop_index += 1\n",
    "    \n",
    "\n",
    "#run_simulation()"
   ]
  },
  {
   "cell_type": "code",
   "execution_count": null,
   "metadata": {},
   "outputs": [],
   "source": []
  },
  {
   "cell_type": "code",
   "execution_count": null,
   "metadata": {},
   "outputs": [],
   "source": []
  },
  {
   "cell_type": "code",
   "execution_count": null,
   "metadata": {},
   "outputs": [],
   "source": []
  },
  {
   "cell_type": "code",
   "execution_count": 146,
   "metadata": {
    "scrolled": true
   },
   "outputs": [
    {
     "name": "stdout",
     "output_type": "stream",
     "text": [
      "Running simulation\n",
      "Win condition found\n",
      "Loop ended 58 58 58\n",
      "Win condition found\n",
      "Loop ended 93 93 93\n",
      "Win condition found\n",
      "Loop ended 133 133 133\n",
      "Win condition found\n",
      "Loop ended 179 179 179\n",
      "Win condition found\n",
      "Loop ended 245 245 245\n",
      "Loop ended 245 245 245\n",
      "Win condition found\n",
      "Loop ended 298 298 298\n",
      "Win condition found\n",
      "Loop ended 332 332 332\n",
      "Win condition found\n",
      "Loop ended 376 376 376\n",
      "Win condition found\n",
      "Loop ended 429 429 429\n",
      "Win condition found\n",
      "Loop ended 468 468 468\n",
      "Win condition found\n",
      "Loop ended 523 523 523\n",
      "Epoch 1/20\n",
      "64/64 [==============================] - 0s 4ms/step - loss: 0.7156 - accuracy: 0.5000\n",
      "Epoch 2/20\n",
      "64/64 [==============================] - 0s 453us/step - loss: 0.7125 - accuracy: 0.5000\n",
      "Epoch 3/20\n",
      "64/64 [==============================] - 0s 502us/step - loss: 0.7093 - accuracy: 0.5000\n",
      "Epoch 4/20\n",
      "64/64 [==============================] - 0s 439us/step - loss: 0.7058 - accuracy: 0.5000\n",
      "Epoch 5/20\n",
      "64/64 [==============================] - 0s 467us/step - loss: 0.7021 - accuracy: 0.5000\n",
      "Epoch 6/20\n",
      "64/64 [==============================] - 0s 476us/step - loss: 0.6980 - accuracy: 0.5000\n",
      "Epoch 7/20\n",
      "64/64 [==============================] - 0s 471us/step - loss: 0.6934 - accuracy: 0.5000\n",
      "Epoch 8/20\n",
      "64/64 [==============================] - 0s 503us/step - loss: 0.6883 - accuracy: 0.5000\n",
      "Epoch 9/20\n",
      "64/64 [==============================] - 0s 532us/step - loss: 0.6824 - accuracy: 0.5000\n",
      "Epoch 10/20\n",
      "64/64 [==============================] - 0s 504us/step - loss: 0.6762 - accuracy: 0.5000\n",
      "Epoch 11/20\n",
      "64/64 [==============================] - 0s 555us/step - loss: 0.6691 - accuracy: 0.5000\n",
      "Epoch 12/20\n",
      "64/64 [==============================] - 0s 539us/step - loss: 0.6614 - accuracy: 0.5000\n",
      "Epoch 13/20\n",
      "64/64 [==============================] - 0s 574us/step - loss: 0.6532 - accuracy: 0.5000\n",
      "Epoch 14/20\n",
      "64/64 [==============================] - 0s 593us/step - loss: 0.6442 - accuracy: 0.5000\n",
      "Epoch 15/20\n",
      "64/64 [==============================] - 0s 568us/step - loss: 0.6347 - accuracy: 0.5000\n",
      "Epoch 16/20\n",
      "64/64 [==============================] - 0s 532us/step - loss: 0.6245 - accuracy: 0.5000\n",
      "Epoch 17/20\n",
      "64/64 [==============================] - 0s 496us/step - loss: 0.6138 - accuracy: 0.5000\n",
      "Epoch 18/20\n",
      "64/64 [==============================] - 0s 479us/step - loss: 0.6022 - accuracy: 0.5000\n",
      "Epoch 19/20\n",
      "64/64 [==============================] - 0s 469us/step - loss: 0.5903 - accuracy: 0.5000\n",
      "Epoch 20/20\n",
      "64/64 [==============================] - 0s 477us/step - loss: 0.5783 - accuracy: 0.5000\n",
      "Epoch 1/20\n",
      "64/64 [==============================] - 0s 3ms/step - loss: 0.0415 - accuracy: 0.9931\n",
      "Epoch 2/20\n",
      "64/64 [==============================] - 0s 995us/step - loss: 0.0414 - accuracy: 0.9931\n",
      "Epoch 3/20\n",
      "64/64 [==============================] - 0s 1ms/step - loss: 0.0413 - accuracy: 0.9931\n",
      "Epoch 4/20\n",
      "64/64 [==============================] - 0s 1ms/step - loss: 0.0413 - accuracy: 0.9931\n",
      "Epoch 5/20\n",
      "64/64 [==============================] - 0s 1ms/step - loss: 0.0412 - accuracy: 0.9931\n",
      "Epoch 6/20\n",
      "64/64 [==============================] - 0s 1ms/step - loss: 0.0412 - accuracy: 0.9931\n",
      "Epoch 7/20\n",
      "64/64 [==============================] - 0s 987us/step - loss: 0.0411 - accuracy: 0.9931\n",
      "Epoch 8/20\n",
      "64/64 [==============================] - 0s 981us/step - loss: 0.0411 - accuracy: 0.9931\n",
      "Epoch 9/20\n",
      "64/64 [==============================] - 0s 958us/step - loss: 0.0410 - accuracy: 0.9931\n",
      "Epoch 10/20\n",
      "64/64 [==============================] - 0s 990us/step - loss: 0.0410 - accuracy: 0.9931\n",
      "Epoch 11/20\n",
      "64/64 [==============================] - 0s 1ms/step - loss: 0.0409 - accuracy: 0.9931\n",
      "Epoch 12/20\n",
      "64/64 [==============================] - 0s 1ms/step - loss: 0.0408 - accuracy: 0.9931\n",
      "Epoch 13/20\n",
      "64/64 [==============================] - 0s 1ms/step - loss: 0.0408 - accuracy: 0.9931\n",
      "Epoch 14/20\n",
      "64/64 [==============================] - 0s 978us/step - loss: 0.0407 - accuracy: 0.9931\n",
      "Epoch 15/20\n",
      "64/64 [==============================] - 0s 1ms/step - loss: 0.0406 - accuracy: 0.9931\n",
      "Epoch 16/20\n",
      "64/64 [==============================] - 0s 992us/step - loss: 0.0406 - accuracy: 0.9931\n",
      "Epoch 17/20\n",
      "64/64 [==============================] - 0s 969us/step - loss: 0.0405 - accuracy: 0.9931\n",
      "Epoch 18/20\n",
      "64/64 [==============================] - 0s 1ms/step - loss: 0.0404 - accuracy: 0.9931\n",
      "Epoch 19/20\n",
      "64/64 [==============================] - 0s 941us/step - loss: 0.0403 - accuracy: 0.9931\n",
      "Epoch 20/20\n",
      "64/64 [==============================] - 0s 1ms/step - loss: 0.0403 - accuracy: 0.9931\n",
      "Win condition found\n",
      "Loop ended 45 45 45\n",
      "Win condition found\n",
      "Loop ended 92 92 92\n",
      "Win condition found\n",
      "Loop ended 127 127 127\n",
      "Win condition found\n",
      "Loop ended 162 162 162\n",
      "Win condition found\n",
      "Loop ended 189 189 189\n",
      "Win condition found\n",
      "Loop ended 236 236 236\n",
      "Win condition found\n",
      "Loop ended 281 281 281\n",
      "Win condition found\n",
      "Loop ended 312 312 312\n",
      "Win condition found\n",
      "Loop ended 329 329 329\n",
      "Win condition found\n",
      "Loop ended 374 374 374\n",
      "Win condition found\n",
      "Loop ended 393 393 393\n",
      "Win condition found\n",
      "Loop ended 428 428 428\n",
      "Win condition found\n",
      "Loop ended 471 471 471\n",
      "Win condition found\n",
      "Loop ended 507 507 507\n",
      "Epoch 1/20\n",
      "272/272 [==============================] - 0s 1ms/step - loss: 0.7068 - accuracy: 0.5000\n",
      "Epoch 2/20\n",
      "272/272 [==============================] - 0s 577us/step - loss: 0.6755 - accuracy: 0.5000\n",
      "Epoch 3/20\n",
      "272/272 [==============================] - 0s 544us/step - loss: 0.6339 - accuracy: 0.6066\n",
      "Epoch 4/20\n",
      "272/272 [==============================] - 0s 535us/step - loss: 0.5804 - accuracy: 0.9632\n",
      "Epoch 5/20\n",
      "272/272 [==============================] - 0s 543us/step - loss: 0.5272 - accuracy: 0.9632\n",
      "Epoch 6/20\n",
      "272/272 [==============================] - 0s 513us/step - loss: 0.4788 - accuracy: 0.9632\n",
      "Epoch 7/20\n",
      "272/272 [==============================] - 0s 524us/step - loss: 0.4370 - accuracy: 0.9632\n",
      "Epoch 8/20\n",
      "272/272 [==============================] - 0s 547us/step - loss: 0.4068 - accuracy: 0.9632\n",
      "Epoch 9/20\n",
      "272/272 [==============================] - 0s 591us/step - loss: 0.3889 - accuracy: 0.9632\n",
      "Epoch 10/20\n",
      "272/272 [==============================] - 0s 576us/step - loss: 0.3779 - accuracy: 0.9632\n",
      "Epoch 11/20\n",
      "272/272 [==============================] - 0s 529us/step - loss: 0.3697 - accuracy: 0.9632\n",
      "Epoch 12/20\n",
      "272/272 [==============================] - 0s 512us/step - loss: 0.3629 - accuracy: 0.9632\n",
      "Epoch 13/20\n",
      "272/272 [==============================] - 0s 523us/step - loss: 0.3556 - accuracy: 0.9632\n",
      "Epoch 14/20\n",
      "272/272 [==============================] - 0s 526us/step - loss: 0.3485 - accuracy: 0.9632\n",
      "Epoch 15/20\n",
      "272/272 [==============================] - 0s 538us/step - loss: 0.3408 - accuracy: 0.9632\n",
      "Epoch 16/20\n",
      "272/272 [==============================] - 0s 555us/step - loss: 0.3338 - accuracy: 0.9632\n",
      "Epoch 17/20\n",
      "272/272 [==============================] - 0s 523us/step - loss: 0.3266 - accuracy: 0.9853\n",
      "Epoch 18/20\n",
      "272/272 [==============================] - 0s 508us/step - loss: 0.3201 - accuracy: 0.9853\n",
      "Epoch 19/20\n",
      "272/272 [==============================] - 0s 537us/step - loss: 0.3144 - accuracy: 0.9926\n",
      "Epoch 20/20\n",
      "272/272 [==============================] - 0s 513us/step - loss: 0.3092 - accuracy: 1.0000\n",
      "Epoch 1/20\n",
      "272/272 [==============================] - 0s 2ms/step - loss: 0.0414 - accuracy: 0.9931\n",
      "Epoch 2/20\n",
      "272/272 [==============================] - 0s 1ms/step - loss: 0.0412 - accuracy: 0.9931\n",
      "Epoch 3/20\n",
      "272/272 [==============================] - 0s 1ms/step - loss: 0.0410 - accuracy: 0.9931\n",
      "Epoch 4/20\n",
      "272/272 [==============================] - 0s 1ms/step - loss: 0.0408 - accuracy: 0.9931\n",
      "Epoch 5/20\n",
      "272/272 [==============================] - 0s 1ms/step - loss: 0.0405 - accuracy: 0.9931\n",
      "Epoch 6/20\n",
      "272/272 [==============================] - 0s 1ms/step - loss: 0.0403 - accuracy: 0.9931\n",
      "Epoch 7/20\n",
      "272/272 [==============================] - 0s 1ms/step - loss: 0.0400 - accuracy: 0.9931\n",
      "Epoch 8/20\n",
      "272/272 [==============================] - 0s 1ms/step - loss: 0.0397 - accuracy: 0.9931\n",
      "Epoch 9/20\n",
      "272/272 [==============================] - 0s 1ms/step - loss: 0.0393 - accuracy: 0.9931\n",
      "Epoch 10/20\n",
      "272/272 [==============================] - 0s 1ms/step - loss: 0.0390 - accuracy: 0.9931\n",
      "Epoch 11/20\n",
      "272/272 [==============================] - 0s 1ms/step - loss: 0.0386 - accuracy: 0.9931\n",
      "Epoch 12/20\n",
      "272/272 [==============================] - 0s 1ms/step - loss: 0.0382 - accuracy: 0.9931\n",
      "Epoch 13/20\n",
      "272/272 [==============================] - 0s 1ms/step - loss: 0.0378 - accuracy: 0.9931\n",
      "Epoch 14/20\n",
      "272/272 [==============================] - 0s 1ms/step - loss: 0.0374 - accuracy: 0.9931\n",
      "Epoch 15/20\n",
      "272/272 [==============================] - 0s 1ms/step - loss: 0.0370 - accuracy: 0.9931\n",
      "Epoch 16/20\n",
      "272/272 [==============================] - 0s 1ms/step - loss: 0.0366 - accuracy: 0.9931\n",
      "Epoch 17/20\n",
      "272/272 [==============================] - 0s 1ms/step - loss: 0.0363 - accuracy: 0.9931\n",
      "Epoch 18/20\n",
      "272/272 [==============================] - 0s 1ms/step - loss: 0.0360 - accuracy: 0.9931\n",
      "Epoch 19/20\n",
      "272/272 [==============================] - 0s 1ms/step - loss: 0.0356 - accuracy: 0.9931\n",
      "Epoch 20/20\n",
      "272/272 [==============================] - 0s 1ms/step - loss: 0.0353 - accuracy: 0.9931\n",
      "Win condition found\n",
      "Loop ended 21 21 21\n",
      "Win condition found\n",
      "Loop ended 54 54 54\n",
      "Win condition found\n",
      "Loop ended 82 82 82\n",
      "Win condition found\n",
      "Loop ended 96 96 96\n",
      "Win condition found\n",
      "Loop ended 127 127 127\n",
      "Win condition found\n",
      "Loop ended 143 143 143\n",
      "Win condition found\n",
      "Loop ended 166 166 166\n",
      "Win condition found\n",
      "Loop ended 200 200 200\n",
      "Win condition found\n",
      "Loop ended 220 220 220\n",
      "Win condition found\n",
      "Loop ended 237 237 237\n",
      "Win condition found\n",
      "Loop ended 253 253 253\n",
      "Win condition found\n",
      "Loop ended 271 271 271\n",
      "Win condition found\n",
      "Loop ended 290 290 290\n",
      "Win condition found\n",
      "Loop ended 330 330 330\n",
      "Win condition found\n",
      "Loop ended 358 358 358\n"
     ]
    },
    {
     "ename": "KeyboardInterrupt",
     "evalue": "",
     "output_type": "error",
     "traceback": [
      "\u001b[0;31m---------------------------------------------------------------------------\u001b[0m",
      "\u001b[0;31mKeyboardInterrupt\u001b[0m                         Traceback (most recent call last)",
      "\u001b[0;32m<ipython-input-146-560f778a84b9>\u001b[0m in \u001b[0;36m<module>\u001b[0;34m\u001b[0m\n\u001b[1;32m      1\u001b[0m \u001b[0mprint\u001b[0m\u001b[0;34m(\u001b[0m\u001b[0;34m'Running simulation'\u001b[0m\u001b[0;34m)\u001b[0m\u001b[0;34m\u001b[0m\u001b[0;34m\u001b[0m\u001b[0m\n\u001b[0;32m----> 2\u001b[0;31m \u001b[0mrun_simulation\u001b[0m\u001b[0;34m(\u001b[0m\u001b[0;34m)\u001b[0m\u001b[0;34m\u001b[0m\u001b[0;34m\u001b[0m\u001b[0m\n\u001b[0m",
      "\u001b[0;32m<ipython-input-145-5e8fd781daf2>\u001b[0m in \u001b[0;36mrun_simulation\u001b[0;34m()\u001b[0m\n\u001b[1;32m    262\u001b[0m     \u001b[0mloop_index\u001b[0m \u001b[0;34m=\u001b[0m \u001b[0;36m0\u001b[0m\u001b[0;34m\u001b[0m\u001b[0;34m\u001b[0m\u001b[0m\n\u001b[1;32m    263\u001b[0m     \u001b[0;32mwhile\u001b[0m \u001b[0;32mTrue\u001b[0m\u001b[0;34m:\u001b[0m\u001b[0;34m\u001b[0m\u001b[0;34m\u001b[0m\u001b[0m\n\u001b[0;32m--> 264\u001b[0;31m         \u001b[0mboards\u001b[0m\u001b[0;34m,\u001b[0m \u001b[0mplays\u001b[0m\u001b[0;34m,\u001b[0m \u001b[0mboard_statuses\u001b[0m \u001b[0;34m=\u001b[0m \u001b[0mdo_play_round\u001b[0m\u001b[0;34m(\u001b[0m\u001b[0mmove_model\u001b[0m\u001b[0;34m,\u001b[0m \u001b[0mscore_model\u001b[0m\u001b[0;34m)\u001b[0m\u001b[0;34m\u001b[0m\u001b[0;34m\u001b[0m\u001b[0m\n\u001b[0m\u001b[1;32m    265\u001b[0m \u001b[0;34m\u001b[0m\u001b[0m\n\u001b[1;32m    266\u001b[0m         np.savez_compressed(\n",
      "\u001b[0;32m<ipython-input-145-5e8fd781daf2>\u001b[0m in \u001b[0;36mdo_play_round\u001b[0;34m(move_model, score_model)\u001b[0m\n\u001b[1;32m    219\u001b[0m             \u001b[0mnode\u001b[0m \u001b[0;34m=\u001b[0m \u001b[0mNode\u001b[0m\u001b[0;34m(\u001b[0m\u001b[0mboard\u001b[0m\u001b[0;34m,\u001b[0m \u001b[0mroot_calculator\u001b[0m\u001b[0;34m,\u001b[0m \u001b[0;32mNone\u001b[0m\u001b[0;34m,\u001b[0m \u001b[0mmove_model\u001b[0m\u001b[0;34m,\u001b[0m \u001b[0mscore_model\u001b[0m\u001b[0;34m,\u001b[0m\u001b[0;36m0\u001b[0m\u001b[0;34m)\u001b[0m\u001b[0;34m\u001b[0m\u001b[0;34m\u001b[0m\u001b[0m\n\u001b[1;32m    220\u001b[0m             \u001b[0;32mfor\u001b[0m \u001b[0mi\u001b[0m \u001b[0;32min\u001b[0m \u001b[0mrange\u001b[0m\u001b[0;34m(\u001b[0m\u001b[0mEXPANSIONS_PER_MOVE\u001b[0m\u001b[0;34m)\u001b[0m\u001b[0;34m:\u001b[0m\u001b[0;34m\u001b[0m\u001b[0;34m\u001b[0m\u001b[0m\n\u001b[0;32m--> 221\u001b[0;31m                 \u001b[0mnode\u001b[0m\u001b[0;34m.\u001b[0m\u001b[0mdo_expansion\u001b[0m\u001b[0;34m(\u001b[0m\u001b[0mboard\u001b[0m\u001b[0;34m)\u001b[0m\u001b[0;34m\u001b[0m\u001b[0;34m\u001b[0m\u001b[0m\n\u001b[0m\u001b[1;32m    222\u001b[0m                 \u001b[0;31m#print('wtf', node.best_xy)\u001b[0m\u001b[0;34m\u001b[0m\u001b[0;34m\u001b[0m\u001b[0;34m\u001b[0m\u001b[0m\n\u001b[1;32m    223\u001b[0m                 \u001b[0;31m#print('node_count', root_calculator.nodes)\u001b[0m\u001b[0;34m\u001b[0m\u001b[0;34m\u001b[0m\u001b[0;34m\u001b[0m\u001b[0m\n",
      "\u001b[0;32m<ipython-input-145-5e8fd781daf2>\u001b[0m in \u001b[0;36mdo_expansion\u001b[0;34m(self, board)\u001b[0m\n\u001b[1;32m    169\u001b[0m                 \u001b[0mvalue\u001b[0m \u001b[0;34m=\u001b[0m \u001b[0mrandom_node\u001b[0m\u001b[0;34m.\u001b[0m\u001b[0mvalue\u001b[0m\u001b[0;34m\u001b[0m\u001b[0;34m\u001b[0m\u001b[0m\n\u001b[1;32m    170\u001b[0m             \u001b[0;32melse\u001b[0m\u001b[0;34m:\u001b[0m\u001b[0;34m\u001b[0m\u001b[0;34m\u001b[0m\u001b[0m\n\u001b[0;32m--> 171\u001b[0;31m                 \u001b[0mrandom_node\u001b[0m\u001b[0;34m.\u001b[0m\u001b[0mdo_expansion\u001b[0m\u001b[0;34m(\u001b[0m\u001b[0mboard\u001b[0m\u001b[0;34m)\u001b[0m\u001b[0;34m\u001b[0m\u001b[0;34m\u001b[0m\u001b[0m\n\u001b[0m\u001b[1;32m    172\u001b[0m                 \u001b[0mvalue\u001b[0m \u001b[0;34m=\u001b[0m \u001b[0mrandom_node\u001b[0m\u001b[0;34m.\u001b[0m\u001b[0mvalue\u001b[0m\u001b[0;34m\u001b[0m\u001b[0;34m\u001b[0m\u001b[0m\n\u001b[1;32m    173\u001b[0m \u001b[0;34m\u001b[0m\u001b[0m\n",
      "\u001b[0;32m<ipython-input-145-5e8fd781daf2>\u001b[0m in \u001b[0;36mdo_expansion\u001b[0;34m(self, board)\u001b[0m\n\u001b[1;32m    195\u001b[0m \u001b[0;34m\u001b[0m\u001b[0m\n\u001b[1;32m    196\u001b[0m         \u001b[0;32melse\u001b[0m\u001b[0;34m:\u001b[0m\u001b[0;34m\u001b[0m\u001b[0;34m\u001b[0m\u001b[0m\n\u001b[0;32m--> 197\u001b[0;31m             \u001b[0mself\u001b[0m\u001b[0;34m.\u001b[0m\u001b[0mexpand\u001b[0m\u001b[0;34m(\u001b[0m\u001b[0mboard\u001b[0m\u001b[0;34m)\u001b[0m\u001b[0;34m\u001b[0m\u001b[0;34m\u001b[0m\u001b[0m\n\u001b[0m\u001b[1;32m    198\u001b[0m \u001b[0;34m\u001b[0m\u001b[0m\n\u001b[1;32m    199\u001b[0m \u001b[0;34m\u001b[0m\u001b[0m\n",
      "\u001b[0;32m<ipython-input-145-5e8fd781daf2>\u001b[0m in \u001b[0;36mexpand\u001b[0;34m(self, board)\u001b[0m\n\u001b[1;32m     70\u001b[0m         \u001b[0;31m#best_xy = None\u001b[0m\u001b[0;34m\u001b[0m\u001b[0;34m\u001b[0m\u001b[0;34m\u001b[0m\u001b[0m\n\u001b[1;32m     71\u001b[0m \u001b[0;34m\u001b[0m\u001b[0m\n\u001b[0;32m---> 72\u001b[0;31m         \u001b[0mplay_probs\u001b[0m \u001b[0;34m=\u001b[0m \u001b[0mself\u001b[0m\u001b[0;34m.\u001b[0m\u001b[0mmove_model\u001b[0m\u001b[0;34m.\u001b[0m\u001b[0mpredict\u001b[0m\u001b[0;34m(\u001b[0m\u001b[0mnp\u001b[0m\u001b[0;34m.\u001b[0m\u001b[0marray\u001b[0m\u001b[0;34m(\u001b[0m\u001b[0;34m[\u001b[0m\u001b[0mboard\u001b[0m\u001b[0;34m]\u001b[0m\u001b[0;34m)\u001b[0m\u001b[0;34m)\u001b[0m\u001b[0;34m.\u001b[0m\u001b[0mreshape\u001b[0m\u001b[0;34m(\u001b[0m\u001b[0mBOARD_SIZE\u001b[0m\u001b[0;34m,\u001b[0m \u001b[0mBOARD_SIZE\u001b[0m\u001b[0;34m)\u001b[0m\u001b[0;34m\u001b[0m\u001b[0;34m\u001b[0m\u001b[0m\n\u001b[0m\u001b[1;32m     73\u001b[0m \u001b[0;34m\u001b[0m\u001b[0m\n\u001b[1;32m     74\u001b[0m         \u001b[0;32mfor\u001b[0m \u001b[0mx\u001b[0m\u001b[0;34m,\u001b[0m \u001b[0my\u001b[0m \u001b[0;32min\u001b[0m \u001b[0mself\u001b[0m\u001b[0;34m.\u001b[0m\u001b[0mplay_positions\u001b[0m\u001b[0;34m:\u001b[0m\u001b[0;34m\u001b[0m\u001b[0;34m\u001b[0m\u001b[0m\n",
      "\u001b[0;32m~/.virtualenvs/neuralnets/lib/python3.7/site-packages/keras/engine/training.py\u001b[0m in \u001b[0;36mpredict\u001b[0;34m(self, x, batch_size, verbose, steps, callbacks, max_queue_size, workers, use_multiprocessing)\u001b[0m\n\u001b[1;32m   1460\u001b[0m                                             \u001b[0mverbose\u001b[0m\u001b[0;34m=\u001b[0m\u001b[0mverbose\u001b[0m\u001b[0;34m,\u001b[0m\u001b[0;34m\u001b[0m\u001b[0;34m\u001b[0m\u001b[0m\n\u001b[1;32m   1461\u001b[0m                                             \u001b[0msteps\u001b[0m\u001b[0;34m=\u001b[0m\u001b[0msteps\u001b[0m\u001b[0;34m,\u001b[0m\u001b[0;34m\u001b[0m\u001b[0;34m\u001b[0m\u001b[0m\n\u001b[0;32m-> 1462\u001b[0;31m                                             callbacks=callbacks)\n\u001b[0m\u001b[1;32m   1463\u001b[0m \u001b[0;34m\u001b[0m\u001b[0m\n\u001b[1;32m   1464\u001b[0m     def train_on_batch(self, x, y,\n",
      "\u001b[0;32m~/.virtualenvs/neuralnets/lib/python3.7/site-packages/keras/engine/training_arrays.py\u001b[0m in \u001b[0;36mpredict_loop\u001b[0;34m(model, f, ins, batch_size, verbose, steps, callbacks)\u001b[0m\n\u001b[1;32m    322\u001b[0m             \u001b[0mbatch_logs\u001b[0m \u001b[0;34m=\u001b[0m \u001b[0;34m{\u001b[0m\u001b[0;34m'batch'\u001b[0m\u001b[0;34m:\u001b[0m \u001b[0mbatch_index\u001b[0m\u001b[0;34m,\u001b[0m \u001b[0;34m'size'\u001b[0m\u001b[0;34m:\u001b[0m \u001b[0mlen\u001b[0m\u001b[0;34m(\u001b[0m\u001b[0mbatch_ids\u001b[0m\u001b[0;34m)\u001b[0m\u001b[0;34m}\u001b[0m\u001b[0;34m\u001b[0m\u001b[0;34m\u001b[0m\u001b[0m\n\u001b[1;32m    323\u001b[0m             \u001b[0mcallbacks\u001b[0m\u001b[0;34m.\u001b[0m\u001b[0m_call_batch_hook\u001b[0m\u001b[0;34m(\u001b[0m\u001b[0;34m'predict'\u001b[0m\u001b[0;34m,\u001b[0m \u001b[0;34m'begin'\u001b[0m\u001b[0;34m,\u001b[0m \u001b[0mbatch_index\u001b[0m\u001b[0;34m,\u001b[0m \u001b[0mbatch_logs\u001b[0m\u001b[0;34m)\u001b[0m\u001b[0;34m\u001b[0m\u001b[0;34m\u001b[0m\u001b[0m\n\u001b[0;32m--> 324\u001b[0;31m             \u001b[0mbatch_outs\u001b[0m \u001b[0;34m=\u001b[0m \u001b[0mf\u001b[0m\u001b[0;34m(\u001b[0m\u001b[0mins_batch\u001b[0m\u001b[0;34m)\u001b[0m\u001b[0;34m\u001b[0m\u001b[0;34m\u001b[0m\u001b[0m\n\u001b[0m\u001b[1;32m    325\u001b[0m             \u001b[0mbatch_outs\u001b[0m \u001b[0;34m=\u001b[0m \u001b[0mto_list\u001b[0m\u001b[0;34m(\u001b[0m\u001b[0mbatch_outs\u001b[0m\u001b[0;34m)\u001b[0m\u001b[0;34m\u001b[0m\u001b[0;34m\u001b[0m\u001b[0m\n\u001b[1;32m    326\u001b[0m             \u001b[0;32mif\u001b[0m \u001b[0mbatch_index\u001b[0m \u001b[0;34m==\u001b[0m \u001b[0;36m0\u001b[0m\u001b[0;34m:\u001b[0m\u001b[0;34m\u001b[0m\u001b[0;34m\u001b[0m\u001b[0m\n",
      "\u001b[0;32m~/.virtualenvs/neuralnets/lib/python3.7/site-packages/tensorflow_core/python/keras/backend.py\u001b[0m in \u001b[0;36m__call__\u001b[0;34m(self, inputs)\u001b[0m\n\u001b[1;32m   3738\u001b[0m         \u001b[0mvalue\u001b[0m \u001b[0;34m=\u001b[0m \u001b[0mmath_ops\u001b[0m\u001b[0;34m.\u001b[0m\u001b[0mcast\u001b[0m\u001b[0;34m(\u001b[0m\u001b[0mvalue\u001b[0m\u001b[0;34m,\u001b[0m \u001b[0mtensor\u001b[0m\u001b[0;34m.\u001b[0m\u001b[0mdtype\u001b[0m\u001b[0;34m)\u001b[0m\u001b[0;34m\u001b[0m\u001b[0;34m\u001b[0m\u001b[0m\n\u001b[1;32m   3739\u001b[0m       \u001b[0mconverted_inputs\u001b[0m\u001b[0;34m.\u001b[0m\u001b[0mappend\u001b[0m\u001b[0;34m(\u001b[0m\u001b[0mvalue\u001b[0m\u001b[0;34m)\u001b[0m\u001b[0;34m\u001b[0m\u001b[0;34m\u001b[0m\u001b[0m\n\u001b[0;32m-> 3740\u001b[0;31m     \u001b[0moutputs\u001b[0m \u001b[0;34m=\u001b[0m \u001b[0mself\u001b[0m\u001b[0;34m.\u001b[0m\u001b[0m_graph_fn\u001b[0m\u001b[0;34m(\u001b[0m\u001b[0;34m*\u001b[0m\u001b[0mconverted_inputs\u001b[0m\u001b[0;34m)\u001b[0m\u001b[0;34m\u001b[0m\u001b[0;34m\u001b[0m\u001b[0m\n\u001b[0m\u001b[1;32m   3741\u001b[0m \u001b[0;34m\u001b[0m\u001b[0m\n\u001b[1;32m   3742\u001b[0m     \u001b[0;31m# EagerTensor.numpy() will often make a copy to ensure memory safety.\u001b[0m\u001b[0;34m\u001b[0m\u001b[0;34m\u001b[0m\u001b[0;34m\u001b[0m\u001b[0m\n",
      "\u001b[0;32m~/.virtualenvs/neuralnets/lib/python3.7/site-packages/tensorflow_core/python/eager/function.py\u001b[0m in \u001b[0;36m__call__\u001b[0;34m(self, *args, **kwargs)\u001b[0m\n\u001b[1;32m   1079\u001b[0m       \u001b[0mTypeError\u001b[0m\u001b[0;34m:\u001b[0m \u001b[0mFor\u001b[0m \u001b[0minvalid\u001b[0m \u001b[0mpositional\u001b[0m\u001b[0;34m/\u001b[0m\u001b[0mkeyword\u001b[0m \u001b[0margument\u001b[0m \u001b[0mcombinations\u001b[0m\u001b[0;34m.\u001b[0m\u001b[0;34m\u001b[0m\u001b[0;34m\u001b[0m\u001b[0m\n\u001b[1;32m   1080\u001b[0m     \"\"\"\n\u001b[0;32m-> 1081\u001b[0;31m     \u001b[0;32mreturn\u001b[0m \u001b[0mself\u001b[0m\u001b[0;34m.\u001b[0m\u001b[0m_call_impl\u001b[0m\u001b[0;34m(\u001b[0m\u001b[0margs\u001b[0m\u001b[0;34m,\u001b[0m \u001b[0mkwargs\u001b[0m\u001b[0;34m)\u001b[0m\u001b[0;34m\u001b[0m\u001b[0;34m\u001b[0m\u001b[0m\n\u001b[0m\u001b[1;32m   1082\u001b[0m \u001b[0;34m\u001b[0m\u001b[0m\n\u001b[1;32m   1083\u001b[0m   \u001b[0;32mdef\u001b[0m \u001b[0m_call_impl\u001b[0m\u001b[0;34m(\u001b[0m\u001b[0mself\u001b[0m\u001b[0;34m,\u001b[0m \u001b[0margs\u001b[0m\u001b[0;34m,\u001b[0m \u001b[0mkwargs\u001b[0m\u001b[0;34m,\u001b[0m \u001b[0mcancellation_manager\u001b[0m\u001b[0;34m=\u001b[0m\u001b[0;32mNone\u001b[0m\u001b[0;34m)\u001b[0m\u001b[0;34m:\u001b[0m\u001b[0;34m\u001b[0m\u001b[0;34m\u001b[0m\u001b[0m\n",
      "\u001b[0;32m~/.virtualenvs/neuralnets/lib/python3.7/site-packages/tensorflow_core/python/eager/function.py\u001b[0m in \u001b[0;36m_call_impl\u001b[0;34m(self, args, kwargs, cancellation_manager)\u001b[0m\n\u001b[1;32m   1119\u001b[0m       raise TypeError(\"Keyword arguments {} unknown. Expected {}.\".format(\n\u001b[1;32m   1120\u001b[0m           list(kwargs.keys()), list(self._arg_keywords)))\n\u001b[0;32m-> 1121\u001b[0;31m     \u001b[0;32mreturn\u001b[0m \u001b[0mself\u001b[0m\u001b[0;34m.\u001b[0m\u001b[0m_call_flat\u001b[0m\u001b[0;34m(\u001b[0m\u001b[0margs\u001b[0m\u001b[0;34m,\u001b[0m \u001b[0mself\u001b[0m\u001b[0;34m.\u001b[0m\u001b[0mcaptured_inputs\u001b[0m\u001b[0;34m,\u001b[0m \u001b[0mcancellation_manager\u001b[0m\u001b[0;34m)\u001b[0m\u001b[0;34m\u001b[0m\u001b[0;34m\u001b[0m\u001b[0m\n\u001b[0m\u001b[1;32m   1122\u001b[0m \u001b[0;34m\u001b[0m\u001b[0m\n\u001b[1;32m   1123\u001b[0m   \u001b[0;32mdef\u001b[0m \u001b[0m_filtered_call\u001b[0m\u001b[0;34m(\u001b[0m\u001b[0mself\u001b[0m\u001b[0;34m,\u001b[0m \u001b[0margs\u001b[0m\u001b[0;34m,\u001b[0m \u001b[0mkwargs\u001b[0m\u001b[0;34m)\u001b[0m\u001b[0;34m:\u001b[0m\u001b[0;34m\u001b[0m\u001b[0;34m\u001b[0m\u001b[0m\n",
      "\u001b[0;32m~/.virtualenvs/neuralnets/lib/python3.7/site-packages/tensorflow_core/python/eager/function.py\u001b[0m in \u001b[0;36m_call_flat\u001b[0;34m(self, args, captured_inputs, cancellation_manager)\u001b[0m\n\u001b[1;32m   1222\u001b[0m     \u001b[0;32mif\u001b[0m \u001b[0mexecuting_eagerly\u001b[0m\u001b[0;34m:\u001b[0m\u001b[0;34m\u001b[0m\u001b[0;34m\u001b[0m\u001b[0m\n\u001b[1;32m   1223\u001b[0m       flat_outputs = forward_function.call(\n\u001b[0;32m-> 1224\u001b[0;31m           ctx, args, cancellation_manager=cancellation_manager)\n\u001b[0m\u001b[1;32m   1225\u001b[0m     \u001b[0;32melse\u001b[0m\u001b[0;34m:\u001b[0m\u001b[0;34m\u001b[0m\u001b[0;34m\u001b[0m\u001b[0m\n\u001b[1;32m   1226\u001b[0m       \u001b[0mgradient_name\u001b[0m \u001b[0;34m=\u001b[0m \u001b[0mself\u001b[0m\u001b[0;34m.\u001b[0m\u001b[0m_delayed_rewrite_functions\u001b[0m\u001b[0;34m.\u001b[0m\u001b[0mregister\u001b[0m\u001b[0;34m(\u001b[0m\u001b[0;34m)\u001b[0m\u001b[0;34m\u001b[0m\u001b[0;34m\u001b[0m\u001b[0m\n",
      "\u001b[0;32m~/.virtualenvs/neuralnets/lib/python3.7/site-packages/tensorflow_core/python/eager/function.py\u001b[0m in \u001b[0;36mcall\u001b[0;34m(self, ctx, args, cancellation_manager)\u001b[0m\n\u001b[1;32m    509\u001b[0m               \u001b[0minputs\u001b[0m\u001b[0;34m=\u001b[0m\u001b[0margs\u001b[0m\u001b[0;34m,\u001b[0m\u001b[0;34m\u001b[0m\u001b[0;34m\u001b[0m\u001b[0m\n\u001b[1;32m    510\u001b[0m               \u001b[0mattrs\u001b[0m\u001b[0;34m=\u001b[0m\u001b[0;34m(\u001b[0m\u001b[0;34m\"executor_type\"\u001b[0m\u001b[0;34m,\u001b[0m \u001b[0mexecutor_type\u001b[0m\u001b[0;34m,\u001b[0m \u001b[0;34m\"config_proto\"\u001b[0m\u001b[0;34m,\u001b[0m \u001b[0mconfig\u001b[0m\u001b[0;34m)\u001b[0m\u001b[0;34m,\u001b[0m\u001b[0;34m\u001b[0m\u001b[0;34m\u001b[0m\u001b[0m\n\u001b[0;32m--> 511\u001b[0;31m               ctx=ctx)\n\u001b[0m\u001b[1;32m    512\u001b[0m         \u001b[0;32melse\u001b[0m\u001b[0;34m:\u001b[0m\u001b[0;34m\u001b[0m\u001b[0;34m\u001b[0m\u001b[0m\n\u001b[1;32m    513\u001b[0m           outputs = execute.execute_with_cancellation(\n",
      "\u001b[0;32m~/.virtualenvs/neuralnets/lib/python3.7/site-packages/tensorflow_core/python/eager/execute.py\u001b[0m in \u001b[0;36mquick_execute\u001b[0;34m(op_name, num_outputs, inputs, attrs, ctx, name)\u001b[0m\n\u001b[1;32m     59\u001b[0m     tensors = pywrap_tensorflow.TFE_Py_Execute(ctx._handle, device_name,\n\u001b[1;32m     60\u001b[0m                                                \u001b[0mop_name\u001b[0m\u001b[0;34m,\u001b[0m \u001b[0minputs\u001b[0m\u001b[0;34m,\u001b[0m \u001b[0mattrs\u001b[0m\u001b[0;34m,\u001b[0m\u001b[0;34m\u001b[0m\u001b[0;34m\u001b[0m\u001b[0m\n\u001b[0;32m---> 61\u001b[0;31m                                                num_outputs)\n\u001b[0m\u001b[1;32m     62\u001b[0m   \u001b[0;32mexcept\u001b[0m \u001b[0mcore\u001b[0m\u001b[0;34m.\u001b[0m\u001b[0m_NotOkStatusException\u001b[0m \u001b[0;32mas\u001b[0m \u001b[0me\u001b[0m\u001b[0;34m:\u001b[0m\u001b[0;34m\u001b[0m\u001b[0;34m\u001b[0m\u001b[0m\n\u001b[1;32m     63\u001b[0m     \u001b[0;32mif\u001b[0m \u001b[0mname\u001b[0m \u001b[0;32mis\u001b[0m \u001b[0;32mnot\u001b[0m \u001b[0;32mNone\u001b[0m\u001b[0;34m:\u001b[0m\u001b[0;34m\u001b[0m\u001b[0;34m\u001b[0m\u001b[0m\n",
      "\u001b[0;31mKeyboardInterrupt\u001b[0m: "
     ]
    }
   ],
   "source": [
    "print('Running simulation')\n",
    "run_simulation()"
   ]
  },
  {
   "cell_type": "code",
   "execution_count": null,
   "metadata": {},
   "outputs": [],
   "source": [
    "#thing = np.array([[1,2], [2,3], [3,4]])\n",
    "#print(thing.shape)\n",
    "\n",
    "#np.concatenate((np.array([]).reshape(0, 2), thing))"
   ]
  },
  {
   "cell_type": "code",
   "execution_count": null,
   "metadata": {},
   "outputs": [],
   "source": [
    "# plays.shape\n",
    "\n",
    "#boards.shape, plays.shape, board_statuses.shape"
   ]
  },
  {
   "cell_type": "code",
   "execution_count": null,
   "metadata": {},
   "outputs": [],
   "source": [
    "#a_boards, a_plays, a_board_statues = augment_data(boards, plays, board_statuses)"
   ]
  },
  {
   "cell_type": "code",
   "execution_count": null,
   "metadata": {},
   "outputs": [],
   "source": [
    "#a_boards[51][:,:,1]"
   ]
  },
  {
   "cell_type": "markdown",
   "metadata": {},
   "source": [
    "# Analyzing the data"
   ]
  },
  {
   "cell_type": "code",
   "execution_count": 225,
   "metadata": {
    "scrolled": true
   },
   "outputs": [
    {
     "name": "stdout",
     "output_type": "stream",
     "text": [
      "total 7208\r\n",
      "drwxr-xr-x   9 osku  staff   288B Feb 10 18:27 \u001b[34m.\u001b[m\u001b[m\r\n",
      "drwxr-xr-x  22 osku  staff   704B Feb 10 19:27 \u001b[34m..\u001b[m\u001b[m\r\n",
      "drwxr-xr-x   2 osku  staff    64B Feb 10 10:51 \u001b[34m.ipynb_checkpoints\u001b[m\u001b[m\r\n",
      "-rw-r--r--   1 osku  staff   108K Feb 10 18:27 loop_0_game_data.npz\r\n",
      "-rw-r--r--   1 osku  staff   173K Feb 10 18:27 loop_0_move_model.h5\r\n",
      "-rw-r--r--   1 osku  staff   686K Feb 10 18:27 loop_0_score_model.h5\r\n",
      "-rw-r--r--   1 osku  staff    96K Feb 10 18:27 loop_1_game_data.npz\r\n",
      "-rw-r--r--   1 osku  staff   490K Feb 10 18:27 loop_1_move_model.h5\r\n",
      "-rw-r--r--   1 osku  staff   2.0M Feb 10 18:27 loop_1_score_model.h5\r\n"
     ]
    }
   ],
   "source": [
    "! ls -lha game_data\n",
    "\n"
   ]
  },
  {
   "cell_type": "code",
   "execution_count": 226,
   "metadata": {},
   "outputs": [],
   "source": [
    "board_i = 1\n",
    "\n",
    "score_model = keras.models.load_model('game_data/loop_{board_i}_score_model.h5'.format(board_i=board_i))\n",
    "move_model = keras.models.load_model('game_data/loop_{board_i}_move_model.h5'.format(board_i=board_i))\n",
    "\n",
    "loaded = np.load('game_data/loop_{board_i}_game_data.npz'.format(board_i=board_i))\n",
    "list(loaded.keys())\n",
    "plays = loaded['plays']\n",
    "boards = loaded['boards']\n",
    "board_statuses = loaded['board_statuses']"
   ]
  },
  {
   "cell_type": "code",
   "execution_count": 227,
   "metadata": {},
   "outputs": [
    {
     "data": {
      "image/png": "[encoded data removed]",
      "text/plain": [
       "<Figure size 1080x1080 with 225 Axes>"
      ]
     },
     "metadata": {
      "needs_background": "light"
     },
     "output_type": "display_data"
    }
   ],
   "source": [
    "fig, axs = pyplot.subplots(15, 15, figsize=(15, 15))\n",
    "i = 0\n",
    "for x in range(15):\n",
    "    for y in range(15):\n",
    "        if not i >= len(boards):\n",
    "            vis_board(boards[i], axs[x][y])\n",
    "            #axs[x * 2 + 1][y].imshow(plays[i].reshape(12, 12).transpose())\n",
    "            #print(board_statuses[i], boards[i][0][0][0])\n",
    "        i += 1"
   ]
  },
  {
   "cell_type": "code",
   "execution_count": 228,
   "metadata": {},
   "outputs": [
    {
     "data": {
      "image/png": "[encoded data removed]",
      "text/plain": [
       "<Figure size 432x288 with 1 Axes>"
      ]
     },
     "metadata": {
      "needs_background": "light"
     },
     "output_type": "display_data"
    }
   ],
   "source": [
    "board_i = 6\n",
    "\n",
    "vis_board(boards[board_i])"
   ]
  },
  {
   "cell_type": "code",
   "execution_count": 229,
   "metadata": {},
   "outputs": [
    {
     "data": {
      "text/plain": [
       "(0.027336322, 0.27847585)"
      ]
     },
     "execution_count": 229,
     "metadata": {},
     "output_type": "execute_result"
    },
    {
     "data": {
      "image/png": "[encoded data removed]",
      "text/plain": [
       "<Figure size 432x288 with 1 Axes>"
      ]
     },
     "metadata": {
      "needs_background": "light"
     },
     "output_type": "display_data"
    }
   ],
   "source": [
    "prediction = move_model.predict(np.array([boards[board_i]])).reshape(BOARD_SIZE, BOARD_SIZE)\n",
    "score_prediction = score_model.predict(np.array([boards[board_i]]))\n",
    "\n",
    "\n",
    "pyplot.imshow(\n",
    "    prediction.transpose(),\n",
    "    norm=Normalize(0, 0.03)\n",
    ")\n",
    "\n",
    "np.max(prediction), score_prediction[0][0]"
   ]
  },
  {
   "cell_type": "code",
   "execution_count": 230,
   "metadata": {},
   "outputs": [
    {
     "data": {
      "text/plain": [
       "([0.6147101802240623, 0.14583333333333334],\n",
       " [39.48076923076923, 32.516129032258064])"
      ]
     },
     "execution_count": 230,
     "metadata": {},
     "output_type": "execute_result"
    }
   ],
   "source": [
    "win_stats = []\n",
    "game_len_stats = []\n",
    "\n",
    "board_i = 0\n",
    "while True:\n",
    "    try:\n",
    "        loaded = np.load('game_data/loop_{board_i}_game_data.npz'.format(board_i=board_i))\n",
    "    except FileNotFoundError:\n",
    "        break\n",
    "    \n",
    "    win_stats.append(np.sum(loaded['board_statuses']) / len(loaded['board_statuses']))\n",
    "    \n",
    "    game_starts = sum([np.sum(board[:,:,1]) == 0 and np.sum(board[:,:,2]) == 0 for board in loaded['boards']])\n",
    "    game_len_stats.append(len(loaded['boards']) / game_starts)\n",
    "    \n",
    "    board_i += 1\n",
    "    if board_i > 100:\n",
    "        break\n",
    "        \n",
    "win_stats, game_len_stats"
   ]
  },
  {
   "cell_type": "code",
   "execution_count": 231,
   "metadata": {},
   "outputs": [
    {
     "data": {
      "text/plain": [
       "(0, 1)"
      ]
     },
     "execution_count": 231,
     "metadata": {},
     "output_type": "execute_result"
    },
    {
     "data": {
      "image/png": "[encoded data removed]",
      "text/plain": [
       "<Figure size 432x288 with 1 Axes>"
      ]
     },
     "metadata": {
      "needs_background": "light"
     },
     "output_type": "display_data"
    }
   ],
   "source": [
    "pyplot.plot(win_stats)\n",
    "pyplot.ylim((0,1))"
   ]
  },
  {
   "cell_type": "code",
   "execution_count": 232,
   "metadata": {},
   "outputs": [
    {
     "data": {
      "text/plain": [
       "(0, 100)"
      ]
     },
     "execution_count": 232,
     "metadata": {},
     "output_type": "execute_result"
    },
    {
     "data": {
      "image/png": "[encoded data removed]",
      "text/plain": [
       "<Figure size 432x288 with 1 Axes>"
      ]
     },
     "metadata": {
      "needs_background": "light"
     },
     "output_type": "display_data"
    }
   ],
   "source": [
    "pyplot.plot(game_len_stats)\n",
    "pyplot.ylim((0, 100))"
   ]
  },
  {
   "cell_type": "markdown",
   "metadata": {},
   "source": [
    "# Other stuff"
   ]
  },
  {
   "cell_type": "markdown",
   "metadata": {},
   "source": [
    "# Stuff"
   ]
  },
  {
   "cell_type": "code",
   "execution_count": 302,
   "metadata": {},
   "outputs": [
    {
     "data": {
      "image/png": "[encoded data removed]",
      "text/plain": [
       "<Figure size 432x288 with 1 Axes>"
      ]
     },
     "metadata": {
      "needs_background": "light"
     },
     "output_type": "display_data"
    }
   ],
   "source": [
    "board = np.zeros((BOARD_SIZE, BOARD_SIZE, 3))\n",
    "\n",
    "board[5][5][1] = 1\n",
    "board[5][6][1] = 1\n",
    "board[5][7][1] = 1\n",
    "#board[5][8][1] = 1\n",
    "\n",
    "board[8][4][2] = 1\n",
    "board[8][5][2] = 1\n",
    "board[8][6][2] = 1\n",
    "#board[8][7][2] = 1\n",
    "\n",
    "board[:,:,0] = 1\n",
    "\n",
    "vis_board(board)"
   ]
  },
  {
   "cell_type": "code",
   "execution_count": 329,
   "metadata": {},
   "outputs": [],
   "source": [
    "root_calculator = RootCalculator()\n",
    "node = Node(board, root_calculator, None, move_model, score_model, 0)\n",
    "for i in range(100000):\n",
    "    node.do_expansion(board)\n"
   ]
  },
  {
   "cell_type": "code",
   "execution_count": 330,
   "metadata": {},
   "outputs": [],
   "source": [
    "#node.xy"
   ]
  },
  {
   "cell_type": "code",
   "execution_count": 331,
   "metadata": {},
   "outputs": [],
   "source": [
    "#node.get_sub_node_at((8, 3)).xy"
   ]
  },
  {
   "cell_type": "code",
   "execution_count": 332,
   "metadata": {},
   "outputs": [],
   "source": [
    "#node.get_sub_node_at((8, 3)).get_sub_node_at((8, 7)).xy"
   ]
  },
  {
   "cell_type": "code",
   "execution_count": 333,
   "metadata": {},
   "outputs": [
    {
     "data": {
      "text/plain": [
       "(0.030689528, 0.74420315)"
      ]
     },
     "execution_count": 333,
     "metadata": {},
     "output_type": "execute_result"
    },
    {
     "data": {
      "image/png": "[encoded data removed]",
      "text/plain": [
       "<Figure size 432x288 with 1 Axes>"
      ]
     },
     "metadata": {
      "needs_background": "light"
     },
     "output_type": "display_data"
    }
   ],
   "source": [
    "prediction = move_model.predict(np.array([board])).reshape(BOARD_SIZE, BOARD_SIZE)\n",
    "score_prediction = score_model.predict(np.array([board]))\n",
    "\n",
    "\n",
    "pyplot.imshow(\n",
    "    prediction.transpose(),\n",
    "    norm=Normalize(0, 0.03)\n",
    ")\n",
    "\n",
    "np.max(prediction), score_prediction[0][0]"
   ]
  },
  {
   "cell_type": "code",
   "execution_count": 334,
   "metadata": {
    "scrolled": true
   },
   "outputs": [
    {
     "data": {
      "text/plain": [
       "(11, 8)"
      ]
     },
     "execution_count": 334,
     "metadata": {},
     "output_type": "execute_result"
    },
    {
     "data": {
      "image/png": "[encoded data removed]",
      "text/plain": [
       "<Figure size 432x288 with 1 Axes>"
      ]
     },
     "metadata": {
      "needs_background": "light"
     },
     "output_type": "display_data"
    }
   ],
   "source": [
    "values = node.get_values_rec([])\n",
    "pyplot.imshow(values.transpose(), norm=Normalize(0, 1), cmap='gray')\n",
    "node.get_best_xy()"
   ]
  },
  {
   "cell_type": "code",
   "execution_count": 335,
   "metadata": {},
   "outputs": [
    {
     "data": {
      "text/plain": [
       "<matplotlib.image.AxesImage at 0x18f32bcd0>"
      ]
     },
     "execution_count": 335,
     "metadata": {},
     "output_type": "execute_result"
    },
    {
     "data": {
      "image/png": "[encoded data removed]",
      "text/plain": [
       "<Figure size 432x288 with 1 Axes>"
      ]
     },
     "metadata": {
      "needs_background": "light"
     },
     "output_type": "display_data"
    }
   ],
   "source": [
    "values = np.zeros((BOARD_SIZE, BOARD_SIZE))\n",
    "for sub_node in node.get_sub_node_at((8, 3)).get_sub_node_at((6, 5)).sub_nodes:\n",
    "    if sub_node:\n",
    "        values[sub_node.xy[0]][sub_node.xy[1]] = sub_node.expansion_count\n",
    "pyplot.imshow(values.transpose())"
   ]
  },
  {
   "cell_type": "code",
   "execution_count": 336,
   "metadata": {},
   "outputs": [
    {
     "data": {
      "text/plain": [
       "<matplotlib.image.AxesImage at 0x18f442d10>"
      ]
     },
     "execution_count": 336,
     "metadata": {},
     "output_type": "execute_result"
    },
    {
     "data": {
      "image/png": "[encoded data removed]",
      "text/plain": [
       "<Figure size 432x288 with 1 Axes>"
      ]
     },
     "metadata": {
      "needs_background": "light"
     },
     "output_type": "display_data"
    }
   ],
   "source": [
    "values = node.get_values_rec([(8, 3), (6, 5)])\n",
    "pyplot.imshow(values.transpose(), norm=Normalize(0, 1), cmap='gray')"
   ]
  },
  {
   "cell_type": "code",
   "execution_count": 337,
   "metadata": {},
   "outputs": [
    {
     "data": {
      "text/plain": [
       "array([[-1.        , -1.        ,  0.27192736,  0.27185103, -1.        ,\n",
       "        -1.        ,  0.27175981,  0.27173442, -1.        , -1.        ,\n",
       "        -1.        , -1.        ],\n",
       "       [ 0.27212882,  0.27182546,  0.27116585, -1.        , -1.        ,\n",
       "        -1.        , -1.        , -1.        , -1.        , -1.        ,\n",
       "        -1.        , -1.        ],\n",
       "       [-1.        , -1.        , -1.        ,  0.26951852, -1.        ,\n",
       "         0.26920357, -1.        , -1.        , -1.        , -1.        ,\n",
       "        -1.        , -1.        ],\n",
       "       [-1.        , -1.        , -1.        , -1.        , -1.        ,\n",
       "        -1.        , -1.        ,  0.26926199, -1.        , -1.        ,\n",
       "        -1.        ,  0.27166766],\n",
       "       [-1.        , -1.        , -1.        , -1.        ,  0.2683934 ,\n",
       "         0.26888353, -1.        ,  0.26937512, -1.        ,  0.27016625,\n",
       "        -1.        , -1.        ],\n",
       "       [-1.        , -1.        , -1.        , -1.        ,  0.2688722 ,\n",
       "        -1.        , -1.        ,  0.62551766, -1.        ,  0.58611041,\n",
       "        -1.        , -1.        ],\n",
       "       [-1.        , -1.        , -1.        , -1.        , -1.        ,\n",
       "        -1.        ,  0.26930395,  0.26943555, -1.        , -1.        ,\n",
       "         0.27078214, -1.        ],\n",
       "       [-1.        , -1.        ,  0.26935953,  0.26879507,  0.26904082,\n",
       "        -1.        ,  0.26923928, -1.        , -1.        , -1.        ,\n",
       "        -1.        , -1.        ],\n",
       "       [-1.        , -1.        , -1.        , -1.        ,  0.26888248,\n",
       "        -1.        , -1.        ,  0.26892376, -1.        ,  0.26963919,\n",
       "        -1.        , -1.        ],\n",
       "       [-1.        ,  0.27122176,  0.27009851, -1.        , -1.        ,\n",
       "        -1.        , -1.        , -1.        , -1.        , -1.        ,\n",
       "         0.27113324, -1.        ],\n",
       "       [-1.        ,  0.27175078, -1.        , -1.        , -1.        ,\n",
       "         0.27063653, -1.        , -1.        , -1.        ,  0.271128  ,\n",
       "        -1.        ,  0.27214035],\n",
       "       [-1.        , -1.        , -1.        ,  0.27177602, -1.        ,\n",
       "        -1.        , -1.        , -1.        , -1.        ,  0.27196863,\n",
       "        -1.        , -1.        ]])"
      ]
     },
     "execution_count": 337,
     "metadata": {},
     "output_type": "execute_result"
    }
   ],
   "source": [
    "values.transpose()"
   ]
  },
  {
   "cell_type": "code",
   "execution_count": 338,
   "metadata": {},
   "outputs": [
    {
     "data": {
      "text/plain": [
       "<matplotlib.image.AxesImage at 0x18f4a7550>"
      ]
     },
     "execution_count": 338,
     "metadata": {},
     "output_type": "execute_result"
    },
    {
     "data": {
      "image/png": "[encoded data removed]",
      "text/plain": [
       "<Figure size 432x288 with 1 Axes>"
      ]
     },
     "metadata": {
      "needs_background": "light"
     },
     "output_type": "display_data"
    }
   ],
   "source": [
    "#pyplot.imshow(values.transpose(), norm=Normalize(np.min(values), np.max(values)), cmap='bwr')\n",
    "pyplot.imshow(values.transpose() == 1)# , cmap='gray')"
   ]
  },
  {
   "cell_type": "code",
   "execution_count": 339,
   "metadata": {},
   "outputs": [
    {
     "data": {
      "text/plain": [
       "(11, 8)"
      ]
     },
     "execution_count": 339,
     "metadata": {},
     "output_type": "execute_result"
    }
   ],
   "source": [
    "node.get_best_xy()"
   ]
  },
  {
   "cell_type": "code",
   "execution_count": null,
   "metadata": {},
   "outputs": [],
   "source": []
  },
  {
   "cell_type": "code",
   "execution_count": 340,
   "metadata": {},
   "outputs": [
    {
     "data": {
      "text/plain": [
       "(0.030689528, 0.0028759341, 0.74420315)"
      ]
     },
     "execution_count": 340,
     "metadata": {},
     "output_type": "execute_result"
    },
    {
     "data": {
      "image/png": "[encoded data removed]",
      "text/plain": [
       "<Figure size 432x288 with 1 Axes>"
      ]
     },
     "metadata": {
      "needs_background": "light"
     },
     "output_type": "display_data"
    }
   ],
   "source": [
    "prediction = move_model.predict(np.array([board])).reshape(BOARD_SIZE, BOARD_SIZE)\n",
    "score_prediction = score_model.predict(np.array([board]))\n",
    "\n",
    "\n",
    "pyplot.imshow(\n",
    "    prediction.transpose(),\n",
    "    norm=Normalize(0, 0.1),\n",
    "    cmap='gray'\n",
    ")\n",
    "\n",
    "np.max(prediction), np.min(prediction), score_prediction[0][0]"
   ]
  },
  {
   "cell_type": "code",
   "execution_count": null,
   "metadata": {},
   "outputs": [],
   "source": []
  },
  {
   "cell_type": "code",
   "execution_count": null,
   "metadata": {},
   "outputs": [],
   "source": []
  }
 ],
 "metadata": {
  "kernelspec": {
   "display_name": "Python 3",
   "language": "python",
   "name": "python3"
  },
  "language_info": {
   "codemirror_mode": {
    "name": "ipython",
    "version": 3
   },
   "file_extension": ".py",
   "mimetype": "text/x-python",
   "name": "python",
   "nbconvert_exporter": "python",
   "pygments_lexer": "ipython3",
   "version": "3.7.4"
  }
 },
 "nbformat": 4,
 "nbformat_minor": 2
}
