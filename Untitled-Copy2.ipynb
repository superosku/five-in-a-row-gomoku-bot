{
 "cells": [
  {
   "cell_type": "code",
   "execution_count": 173,
   "metadata": {},
   "outputs": [],
   "source": [
    "import numpy as np\n",
    "\n",
    "from keras.models import Sequential\n",
    "from keras.layers import Dense, Conv2D, Flatten\n",
    "\n",
    "from matplotlib import pyplot\n",
    "\n",
    "import random\n",
    "\n",
    "import time\n",
    "\n",
    "from matplotlib.colors import Normalize\n",
    "\n",
    "import matplotlib.pyplot as plt\n",
    "\n",
    "import keras\n",
    "\n",
    "from multiprocessing import Pool\n"
   ]
  },
  {
   "cell_type": "code",
   "execution_count": 174,
   "metadata": {},
   "outputs": [],
   "source": [
    "\n",
    "BOARD_SIZE = 10 # 15?\n",
    "BATCH_SIZE = 250 # 500?\n",
    "ONE_LOOP_DATA = 500 # 100? 1000?\n",
    "EPOCHS = 15 # 50?\n"
   ]
  },
  {
   "cell_type": "code",
   "execution_count": 161,
   "metadata": {},
   "outputs": [
    {
     "name": "stdout",
     "output_type": "stream",
     "text": [
      "Model: \"sequential_17\"\n",
      "_________________________________________________________________\n",
      "Layer (type)                 Output Shape              Param #   \n",
      "=================================================================\n",
      "conv2d_66 (Conv2D)           (None, 10, 10, 64)        640       \n",
      "_________________________________________________________________\n",
      "conv2d_67 (Conv2D)           (None, 10, 10, 128)       73856     \n",
      "_________________________________________________________________\n",
      "conv2d_68 (Conv2D)           (None, 10, 10, 128)       147584    \n",
      "_________________________________________________________________\n",
      "conv2d_69 (Conv2D)           (None, 10, 10, 128)       147584    \n",
      "_________________________________________________________________\n",
      "conv2d_70 (Conv2D)           (None, 10, 10, 1)         129       \n",
      "_________________________________________________________________\n",
      "flatten_17 (Flatten)         (None, 100)               0         \n",
      "_________________________________________________________________\n",
      "softmax_17 (Softmax)         (None, 100)               0         \n",
      "_________________________________________________________________\n",
      "reshape_17 (Reshape)         (None, 10, 10, 1)         0         \n",
      "=================================================================\n",
      "Total params: 369,793\n",
      "Trainable params: 369,793\n",
      "Non-trainable params: 0\n",
      "_________________________________________________________________\n"
     ]
    }
   ],
   "source": [
    "\n",
    "#model.add(Conv2D(256, kernel_size=3, activation='relu', input_shape=(BOARD_SIZE, BOARD_SIZE, 1), padding='same'))\n",
    "#model.add(Conv2D(256, kernel_size=3, activation='relu', input_shape=(BOARD_SIZE, BOARD_SIZE, 1), padding='same'))\n",
    "#model.add(Conv2D(256, kernel_size=3, activation='relu', input_shape=(BOARD_SIZE, BOARD_SIZE, 1), padding='same'))\n",
    "#model.add(Conv2D(256, kernel_size=3, activation='relu', input_shape=(BOARD_SIZE, BOARD_SIZE, 1), padding='same'))\n",
    "#model.add(Conv2D(64, kernel_size=3, activation='relu', input_shape=(BOARD_SIZE, BOARD_SIZE, 1), padding='same'))\n",
    "#model.add(Conv2D(64, kernel_size=3, activation='relu', input_shape=(BOARD_SIZE, BOARD_SIZE, 1), padding='same'))\n",
    "#model.add(Conv2D(64, kernel_size=3, activation='relu', input_shape=(BOARD_SIZE, BOARD_SIZE, 1), padding='same'))\n",
    "\n",
    "model = Sequential()\n",
    "model.add(Conv2D(64, kernel_size=3, activation='relu', input_shape=(BOARD_SIZE, BOARD_SIZE, 1), padding='same'))\n",
    "model.add(Conv2D(128, kernel_size=3, activation='relu', input_shape=(BOARD_SIZE, BOARD_SIZE, 1), padding='same'))\n",
    "model.add(Conv2D(128, kernel_size=3, activation='relu', input_shape=(BOARD_SIZE, BOARD_SIZE, 1), padding='same'))\n",
    "model.add(Conv2D(128, kernel_size=3, activation='relu', input_shape=(BOARD_SIZE, BOARD_SIZE, 1), padding='same'))\n",
    "#model.add(Conv2D(128, kernel_size=3, activation='relu', input_shape=(BOARD_SIZE, BOARD_SIZE, 1), padding='same'))\n",
    "#model.add(Conv2D(64, kernel_size=3, activation='relu', input_shape=(BOARD_SIZE, BOARD_SIZE, 1), padding='same'))\n",
    "\n",
    "model.add(Conv2D(1, kernel_size=1, activation='relu', input_shape=(BOARD_SIZE, BOARD_SIZE, 1), padding='same'))\n",
    "\n",
    "model.add(keras.layers.Flatten())\n",
    "model.add(keras.layers.Softmax())\n",
    "\n",
    "#model.add(keras.layers.Conv1D(1, kernel_size=1, activation='softmax'))\n",
    "\n",
    "model.add(keras.layers.Reshape((BOARD_SIZE, BOARD_SIZE, 1)))\n",
    "\n",
    "#model.add(keras.layers.LocallyConnected1D(1, 1, activation='softmax'))\n",
    "\n",
    "#model.add(keras.layers.Reshape((BOARD_SIZE, BOARD_SIZE)))\n",
    "\n",
    "model.compile(\n",
    "    optimizer=keras.optimizers.Adam(lr=0.0001),\n",
    "    loss='binary_crossentropy',\n",
    "    metrics=['accuracy']\n",
    ")\n",
    "\n",
    "model.summary()"
   ]
  },
  {
   "cell_type": "code",
   "execution_count": 175,
   "metadata": {},
   "outputs": [],
   "source": [
    "class Timer:\n",
    "    \n",
    "    def __init__(self):\n",
    "        self.timers = {}\n",
    "    \n",
    "    def timeit(self_outer, name):\n",
    "        if name not in self_outer.timers:\n",
    "            self_outer.timers[name] = 0\n",
    "            \n",
    "        class TimerInner:\n",
    "            def __enter__(self):\n",
    "                self.name = name\n",
    "                self.start_time = time.time()\n",
    "                pass\n",
    "\n",
    "            def __exit__(self, type, value, traceback):\n",
    "                self_outer.timers[self.name] += time.time() - self.start_time\n",
    "        \n",
    "        return TimerInner\n",
    "    \n",
    "    '''\n",
    "    def timeit(self, name):\n",
    "        if name not in self.timers:\n",
    "            self.timers[name] = 0\n",
    "        \n",
    "        def thing(func):\n",
    "            def inner_thing(*args, **kwargs):\n",
    "                start_time = time.time()\n",
    "                return_val = func(*args, **kwargs)\n",
    "                total_time = start_time - time.time()\n",
    "                self.timers[name] += total_time\n",
    "                return return_val\n",
    "            return inner_thing\n",
    "        return thing\n",
    "        '''"
   ]
  },
  {
   "cell_type": "code",
   "execution_count": 176,
   "metadata": {},
   "outputs": [],
   "source": [
    "timer = Timer()\n",
    "\n",
    "boards = np.zeros((BATCH_SIZE, BOARD_SIZE, BOARD_SIZE, 1))\n",
    "boards.shape\n",
    "\n",
    "def get_play_pos(board_moves, depth=0):\n",
    "    board_sum = random.random() * np.sum(board_moves)\n",
    "    for x in range(BOARD_SIZE):\n",
    "        line_sum = np.sum(board_moves[x])\n",
    "        \n",
    "        #print('hmm board_sum: {}, line_sum: {}'.format(board_sum, line_sum))\n",
    "        \n",
    "        if board_sum > line_sum:\n",
    "            #print('removing line')\n",
    "            #print('asdf', x, board_sum, line_sum, board_moves[x])\n",
    "            #print('wtf1', board_sum, line_sum, type(board_sum), type(line_sum))\n",
    "            board_sum -= line_sum\n",
    "            #print('wtf2', board_sum, line_sum, type(board_sum), type(line_sum))\n",
    "            continue\n",
    "        else:\n",
    "            pass\n",
    "            #print('wwww', x, board_sum, board_moves[x])\n",
    "        \n",
    "        for y in range(BOARD_SIZE):\n",
    "            #print('removing cell')\n",
    "            board_sum -= board_moves[x][y][0]\n",
    "            if board_sum <= 0:\n",
    "                return x, y\n",
    "    \n",
    "    # raise Exception('WUTWUT')\n",
    "    \n",
    "    if depth < 4:\n",
    "        print('Error happened')\n",
    "        return get_play_pos(board_moves, depth=depth+1)\n",
    "    \n",
    "    print('WHY WHYW HY WHY')\n",
    "    return 0, 0\n",
    "    \n",
    "    raise Exception('This should not happen {}'.format(board_sum))\n",
    "\n",
    "    \n",
    "def get_best_play_pos(board_moves):\n",
    "    best_x, best_y, best_score = 0, 0, 0\n",
    "    for x in range(BOARD_SIZE):\n",
    "        for y in range(BOARD_SIZE):\n",
    "            # print(x, y, best_x, best_y, best_score, board_moves[x][y])\n",
    "            if board_moves[x][y] > best_score:\n",
    "                best_x, best_y, best_score = x, y, board_moves[x][y]\n",
    "    return best_x, best_y\n",
    "\n",
    "   \n",
    "'''\n",
    "def define_winning(board):\n",
    "    for x in range(BOARD_SIZE - 5):\n",
    "        for y in range(BOARD_SIZE - 5):\n",
    "            hor = True\n",
    "            ver = True\n",
    "            dia1 = True\n",
    "            dia2 = True\n",
    "            \n",
    "            for i in range(1, 5):\n",
    "                if board[x][y][0] != board[x][y + i][0]:\n",
    "                    ver = False\n",
    "                if board[x][y][0] != board[x + i][y + i][0]:\n",
    "                    dia1 = False\n",
    "                if board[x][y][0] != board[x + i][y][0]:\n",
    "                    hor = False\n",
    "                if board[BOARD_SIZE - x - 1][y][0] != board[BOARD_SIZE - x - i - 1][y + i][0]:\n",
    "                    dia2 = False\n",
    "            \n",
    "            if (hor or ver or dia1) and board[x][y][0] != 0:\n",
    "                #print('WINNER', x, y, hor, ver, dia1)\n",
    "                #vis_board(board)\n",
    "                return board[x][y][0]\n",
    "            \n",
    "            if dia2 and board[BOARD_SIZE - x - 1][y][0] != 0:\n",
    "                return board[BOARD_SIZE - x - 1][y][0]\n",
    "    return 0\n",
    "'''\n",
    "\n",
    "\n",
    "def define_winning(board, x, y):\n",
    "    value = board[x][y][0]\n",
    "    \n",
    "    # X direction\n",
    "    count = 1\n",
    "    i = 1\n",
    "    while x - i >= 0 and board[x - i][y][0] == value:\n",
    "        count += 1\n",
    "        i += 1\n",
    "    i = 1\n",
    "    while x + i < BOARD_SIZE and board[x + i][y][0] == value:\n",
    "        count += 1\n",
    "        i += 1\n",
    "    if count >= 5:\n",
    "        return True\n",
    "    \n",
    "    # Y direction\n",
    "    count = 1\n",
    "    i = 1\n",
    "    while y - i >= 0 and board[x][y - i][0] == value:\n",
    "        count += 1\n",
    "        i += 1\n",
    "    i = 1\n",
    "    while y + i < BOARD_SIZE and board[x][y + i][0] == value:\n",
    "        count += 1\n",
    "        i += 1\n",
    "    if count >= 5:\n",
    "        return True\n",
    "    \n",
    "    # Diagonal 1\n",
    "    count = 1\n",
    "    i = 1\n",
    "    while x - i >= 0 and y - i >= 0 and board[x - i][y - i][0] == value:\n",
    "        count += 1\n",
    "        i += 1\n",
    "    i = 1\n",
    "    while x + i < BOARD_SIZE and y + i < BOARD_SIZE and board[x + i][y + i][0] == value:\n",
    "        count += 1\n",
    "        i += 1\n",
    "    if count >= 5:\n",
    "        return True\n",
    "    \n",
    "    # Diagonal 2\n",
    "    count = 1\n",
    "    i = 1\n",
    "    while x - i >= 0 and y + i < BOARD_SIZE and board[x - i][y + i][0] == value:\n",
    "        count += 1\n",
    "        i += 1\n",
    "    i = 1\n",
    "    while x + i < BOARD_SIZE and y - i >= 0 and board[x + i][y - i][0] == value:\n",
    "        count += 1\n",
    "        i += 1\n",
    "    if count >= 5:\n",
    "        return True\n",
    "    \n",
    "    return False\n",
    "\n",
    "\n",
    "def do_monte_carlo(board, monte_carlo_player):\n",
    "    # Do a batch for each location on the board (non played)\n",
    "    \n",
    "    monte_carlo_result = np.zeros((BOARD_SIZE, BOARD_SIZE))\n",
    "    \n",
    "    # Do monte carlo for each point in the board\n",
    "    for x in range(BOARD_SIZE):\n",
    "        for y in range(BOARD_SIZE):    \n",
    "            # Don't do monte carlo for already played positions\n",
    "            if board[x][y] != 0:\n",
    "                continue\n",
    "                \n",
    "            # Don't do monte carlo if no plays around\n",
    "            # if np.count_nonzero(board[x-2:x+1][y-2:y+1] != 0) == 0:\n",
    "            if np.count_nonzero(board[\n",
    "                #max(0, x-1):min(x+2, BOARD_SIZE - 1),\n",
    "                #max(0, y-1):min(y+2, BOARD_SIZE - 1),\n",
    "                max(0, x-2):min(x+3, BOARD_SIZE - 1),\n",
    "                max(0, y-2):min(y+3, BOARD_SIZE - 1),\n",
    "                0\n",
    "            ] != 0) == 0:\n",
    "                continue\n",
    "            \n",
    "            pos_board = board.copy()\n",
    "            pos_board[x][y][0] = monte_carlo_player\n",
    "            \n",
    "            if define_winning(pos_board, x, y):\n",
    "                ratio = 1\n",
    "            else:\n",
    "                cur_player = monte_carlo_player\n",
    "                winners = np.zeros((BATCH_SIZE))\n",
    "                stacked_boards = np.vstack([\n",
    "                    pos_board.reshape(1, BOARD_SIZE, BOARD_SIZE, 1)\n",
    "                    for i in range(BATCH_SIZE)\n",
    "                ])\n",
    "\n",
    "                # Might have to simulate this many steps, might break earlier\n",
    "                for i in range(BOARD_SIZE * BOARD_SIZE):\n",
    "                #for i in range(50):\n",
    "                    cur_player *= -1\n",
    "\n",
    "                    with timer.timeit('keras')():\n",
    "                        predicted = model.predict(stacked_boards)[:,:,:,0:1]\n",
    "                    \n",
    "                    #print('asdfasdf', predicted.shape, stacked_boards.shape)\n",
    "                    \n",
    "                    #print('asdf', predicted)\n",
    "                    #assert np.sum(predicted) == 1\n",
    "                    \n",
    "                    # Add randomness to the play\n",
    "                    predicted += (0.10 * (1 / (BOARD_SIZE * BOARD_SIZE)))\n",
    "                    \n",
    "                    # Prevent play when tehre is a marker already\n",
    "                    predicted[stacked_boards != 0] = 0\n",
    "                    \n",
    "                    with timer.timeit('slow loop')():\n",
    "                        for batch_id in range(BATCH_SIZE):\n",
    "                            if winners[batch_id] != 0:\n",
    "                                continue\n",
    "\n",
    "                            board_moves = predicted[batch_id]\n",
    "                            \n",
    "                            with timer.timeit('get play pos')():\n",
    "                                play_x, play_y = get_play_pos(board_moves)\n",
    "\n",
    "                            stacked_boards[batch_id][play_x][play_y] = cur_player\n",
    "\n",
    "                            with timer.timeit('define win')():\n",
    "                                if define_winning(stacked_boards[batch_id], play_x, play_y):\n",
    "                                    winners[batch_id] = cur_player\n",
    "                            #if winner != 0:\n",
    "                            #    winners[batch_id] = winner\n",
    "\n",
    "                    # Stop when all boards done\n",
    "                    #if len(winners[winners == 0]) == 0:\n",
    "                    if len(winners[winners == 0]) < BATCH_SIZE / 2:\n",
    "                        #print('Early win condition on all batches', i)\n",
    "                        break\n",
    "            \n",
    "                ratio = len(winners[winners == monte_carlo_player]) / len(winners)\n",
    "\n",
    "                '''\n",
    "                print(\n",
    "                    'asdf',\n",
    "                    x, y, ratio,\n",
    "                    len(winners[winners == monte_carlo_player]),\n",
    "                    len(winners[winners == -monte_carlo_player]),\n",
    "                    len(winners)\n",
    "                )\n",
    "                '''\n",
    "            \n",
    "            monte_carlo_result[x][y] = ratio\n",
    "            \n",
    "            # print('ratio is', x, y, ratio)\n",
    "\n",
    "    return monte_carlo_result\n",
    "\n"
   ]
  },
  {
   "cell_type": "code",
   "execution_count": 177,
   "metadata": {},
   "outputs": [
    {
     "data": {
      "text/plain": [
       "<matplotlib.image.AxesImage at 0x1434d4050>"
      ]
     },
     "execution_count": 177,
     "metadata": {},
     "output_type": "execute_result"
    },
    {
     "data": {
      "image/png": "[encoded data removed]",
      "text/plain": [
       "<Figure size 432x288 with 1 Axes>"
      ]
     },
     "metadata": {
      "needs_background": "light"
     },
     "output_type": "display_data"
    }
   ],
   "source": [
    "board = np.zeros((BOARD_SIZE, BOARD_SIZE, 1))\n",
    "\n",
    "#board[0][0][0] = 1\n",
    "#board[1][1][0] = 1\n",
    "#board[2][2][0] = 1\n",
    "#board[3][3][0] = 1\n",
    "#board[4][4][0] = 1\n",
    "\n",
    "board[6][2][0] = 1\n",
    "board[5][3][0] = 1\n",
    "board[4][4][0] = 1\n",
    "#board[1][3][0] = 1\n",
    "#board[0][4][0] = 1\n",
    "\n",
    "#board[0][2][0] = 1\n",
    "#board[1][2][0] = 1\n",
    "board[4][4][0] = -1\n",
    "board[5][4][0] = -1\n",
    "board[6][4][0] = -1\n",
    "\n",
    "board[7][4][0] = 1\n",
    "board[3][4][0] = -1\n",
    "board[2][4][0] = 1\n",
    "\n",
    "#board[2][0][0] = 1\n",
    "#board[2][1][0] = 1\n",
    "#board[2][2][0] = 1\n",
    "#board[2][3][0] = 1\n",
    "#board[2][4][0] = 1\n",
    "\n",
    "#board *= -1\n",
    "\n",
    "pyplot.imshow(board.reshape(BOARD_SIZE, BOARD_SIZE), norm=Normalize(-1, 1), cmap='rainbow')\n",
    "\n",
    "#define_winning(board, 2, 2)"
   ]
  },
  {
   "cell_type": "code",
   "execution_count": 178,
   "metadata": {},
   "outputs": [
    {
     "data": {
      "text/plain": [
       "<matplotlib.image.AxesImage at 0x1434faed0>"
      ]
     },
     "execution_count": 178,
     "metadata": {},
     "output_type": "execute_result"
    },
    {
     "data": {
      "image/png": "[encoded data removed]",
      "text/plain": [
       "<Figure size 432x288 with 1 Axes>"
      ]
     },
     "metadata": {
      "needs_background": "light"
     },
     "output_type": "display_data"
    }
   ],
   "source": [
    "prediction = model.predict(np.array([board]))[0,:,:,0]\n",
    "pyplot.imshow(prediction) #, norm=Normalize(0, 1), cmap='gray')"
   ]
  },
  {
   "cell_type": "code",
   "execution_count": 179,
   "metadata": {},
   "outputs": [
    {
     "data": {
      "text/plain": [
       "array([[2.08404366e-04, 5.81496388e-05, 4.06989409e-03, 1.55593432e-03,\n",
       "        2.97185878e-04, 2.25194613e-03, 3.48037458e-03, 1.44294114e-04,\n",
       "        1.28748638e-04, 1.37516661e-04],\n",
       "       [1.55827089e-04, 5.81496388e-05, 9.32915777e-04, 8.17128737e-03,\n",
       "        1.00202241e-03, 1.38945533e-02, 1.95533549e-03, 1.81649288e-04,\n",
       "        7.51196494e-05, 1.14807575e-04],\n",
       "       [8.88271548e-04, 1.76486923e-04, 1.73900777e-03, 2.86711883e-02,\n",
       "        5.81496388e-05, 8.58874898e-03, 2.98333541e-02, 2.97549734e-04,\n",
       "        2.42982511e-04, 1.87373458e-04],\n",
       "       [4.17760049e-04, 2.86634616e-03, 4.35120688e-04, 4.38779816e-02,\n",
       "        5.81496388e-05, 9.26743597e-02, 5.93511341e-03, 8.41175788e-05,\n",
       "        1.18202508e-04, 1.98445108e-04],\n",
       "       [1.69004314e-03, 5.27075119e-03, 2.70184845e-01, 6.66648895e-03,\n",
       "        4.93717904e-04, 1.49149494e-02, 4.55456078e-02, 8.89754796e-04,\n",
       "        3.00428452e-04, 1.98445108e-04],\n",
       "       [5.71153313e-03, 1.61802378e-02, 3.11013907e-02, 5.81496388e-05,\n",
       "        5.81496388e-05, 6.14205515e-03, 1.82805229e-02, 1.87599729e-03,\n",
       "        1.25847757e-04, 1.98445108e-04],\n",
       "       [3.22523946e-03, 2.12408020e-04, 5.81496388e-05, 1.78625900e-02,\n",
       "        4.39219148e-04, 2.76951455e-02, 7.85465003e-04, 1.83172131e-04,\n",
       "        1.43462676e-04, 1.98445108e-04],\n",
       "       [1.43915159e-03, 3.90668660e-02, 1.27469122e-01, 7.05652917e-03,\n",
       "        1.01591628e-04, 3.80315408e-02, 1.50402158e-03, 2.44570838e-04,\n",
       "        2.48183700e-04, 1.86722173e-04],\n",
       "       [5.75516233e-03, 2.17744455e-04, 5.76907676e-03, 8.87190085e-03,\n",
       "        3.03338957e-03, 1.08301956e-02, 4.23499150e-03, 7.33287889e-05,\n",
       "        5.81496388e-05, 1.72705099e-04],\n",
       "       [1.17918782e-04, 2.55145074e-04, 1.84706587e-03, 4.34202328e-03,\n",
       "        3.92786984e-04, 2.04805355e-03, 3.24799283e-03, 1.37177354e-04,\n",
       "        1.80723451e-04, 1.52711509e-04]], dtype=float32)"
      ]
     },
     "execution_count": 179,
     "metadata": {},
     "output_type": "execute_result"
    }
   ],
   "source": [
    "prediction"
   ]
  },
  {
   "cell_type": "code",
   "execution_count": 180,
   "metadata": {},
   "outputs": [
    {
     "data": {
      "text/plain": [
       "{}"
      ]
     },
     "execution_count": 180,
     "metadata": {},
     "output_type": "execute_result"
    }
   ],
   "source": [
    "\n",
    "#start_time = time.time()\n",
    "# monte_carlo_result = do_monte_carlo(board, 1)\n",
    "# monte_carlo_result\n",
    "#print(time.time() - start_time)\n",
    "\n",
    "# 50 = 63s\n",
    "\n",
    "timer.timers"
   ]
  },
  {
   "cell_type": "code",
   "execution_count": 181,
   "metadata": {},
   "outputs": [],
   "source": [
    "train_x = []\n",
    "train_y = []\n",
    "monte_carlo_results = []"
   ]
  },
  {
   "cell_type": "code",
   "execution_count": 182,
   "metadata": {
    "scrolled": true
   },
   "outputs": [],
   "source": [
    "'''\n",
    "while True:\n",
    "    board = np.zeros((BOARD_SIZE, BOARD_SIZE, 1))\n",
    "\n",
    "    board[int(BOARD_SIZE / 2)][int(BOARD_SIZE / 2)] = 1\n",
    "    cur_player = -1\n",
    "\n",
    "    for i in range(BOARD_SIZE * BOARD_SIZE):\n",
    "        print('Looping:', i, 'Data count:', len(train_x))\n",
    "        monte_carlo_result = do_monte_carlo(board, cur_player)\n",
    "\n",
    "        monte_carlo_result[board.reshape(BOARD_SIZE, BOARD_SIZE) != 0] = 0\n",
    "\n",
    "        x, y = get_best_play_pos(monte_carlo_result)\n",
    "\n",
    "        new_train_y = np.zeros((BOARD_SIZE, BOARD_SIZE, 1))\n",
    "        new_train_y[x][y][0] = 1\n",
    "\n",
    "        train_x.append(board.copy() * cur_player)\n",
    "        train_y.append(new_train_y)\n",
    "        monte_carlo_results.append(monte_carlo_result)\n",
    "\n",
    "        board[x][y][0] = cur_player\n",
    "\n",
    "        if define_winning(board, x, y):\n",
    "            print('found win condition')\n",
    "            break\n",
    "\n",
    "        cur_player *= -1\n",
    "    \n",
    "    #if i > 5:\n",
    "    #    break\n",
    "'''\n",
    "pass"
   ]
  },
  {
   "cell_type": "code",
   "execution_count": 183,
   "metadata": {},
   "outputs": [
    {
     "data": {
      "text/plain": [
       "{}"
      ]
     },
     "execution_count": 183,
     "metadata": {},
     "output_type": "execute_result"
    }
   ],
   "source": [
    "timer.timers\n",
    "\n",
    "# Before get play pos improvenment\n",
    "#{'define win': 1.1015589237213135,\n",
    "# 'get play pos': 48.229655265808105,\n",
    "# 'keras': 9.573432683944702,\n",
    "# 'slow loop': 52.7112512588501}\n",
    "\n",
    "# After it\n",
    "#{'define win': 120.23645758628845,\n",
    "# 'get play pos': 1031.8518664836884,\n",
    "# 'keras': 995.5591900348663,\n",
    "# 'slow loop': 1492.1334855556488}\n"
   ]
  },
  {
   "cell_type": "code",
   "execution_count": 184,
   "metadata": {},
   "outputs": [],
   "source": [
    "def augment_data(train_x, train_y):\n",
    "    augmented_train_x = []\n",
    "    augmented_train_y = []\n",
    "\n",
    "    train_x[0].shape\n",
    "\n",
    "    #pyplot.imshow(train_x[5].reshape(15, 15))\n",
    "    #pyplot.imshow(train_y[2].reshape(15, 15))\n",
    "\n",
    "    #pyplot.imshow(np.flip(np.rot90(train_x[7])).reshape(15, 15))\n",
    "\n",
    "\n",
    "    for x, y in zip(train_x, train_y):\n",
    "        augmented_train_x.append(x)\n",
    "        augmented_train_y.append(y)\n",
    "        augmented_train_x.append(np.rot90(x))\n",
    "        augmented_train_y.append(np.rot90(y))\n",
    "        augmented_train_x.append(np.rot90(x, 2))\n",
    "        augmented_train_y.append(np.rot90(y, 2))\n",
    "        augmented_train_x.append(np.rot90(x, 3))\n",
    "        augmented_train_y.append(np.rot90(y, 3))\n",
    "        augmented_train_x.append(np.flip(x))\n",
    "        augmented_train_y.append(np.flip(y))\n",
    "        augmented_train_x.append(np.flip(np.rot90(x)))\n",
    "        augmented_train_y.append(np.flip(np.rot90(y)))\n",
    "        augmented_train_x.append(np.flip(np.rot90(x, 2)))\n",
    "        augmented_train_y.append(np.flip(np.rot90(y, 2)))\n",
    "        augmented_train_x.append(np.flip(np.rot90(x, 3)))\n",
    "        augmented_train_y.append(np.flip(np.rot90(y, 3)))\n",
    "    \n",
    "    return augmented_train_x, augmented_train_y\n",
    "\n",
    "\n",
    "# augmented_train_x, augmented_train_y = augment_data(train_x, train_y)"
   ]
  },
  {
   "cell_type": "code",
   "execution_count": 185,
   "metadata": {},
   "outputs": [],
   "source": [
    "#i = 0"
   ]
  },
  {
   "cell_type": "code",
   "execution_count": 186,
   "metadata": {
    "scrolled": true
   },
   "outputs": [],
   "source": [
    "#pyplot.imshow(train_x[i].reshape(BOARD_SIZE, BOARD_SIZE), norm=Normalize(-1, 1), cmap='rainbow')\n",
    "# i += 1"
   ]
  },
  {
   "cell_type": "code",
   "execution_count": 187,
   "metadata": {},
   "outputs": [],
   "source": [
    "#monte_carlo_result\n",
    "#pyplot.imshow(monte_carlo_results[i].reshape(BOARD_SIZE, BOARD_SIZE), norm=Normalize(0, 1), cmap='gray')\n"
   ]
  },
  {
   "cell_type": "code",
   "execution_count": 188,
   "metadata": {},
   "outputs": [],
   "source": [
    "#prediction = model.predict(np.array([train_x[i]]))\n",
    "\n",
    "#pyplot.imshow(prediction[0,:,:,0])#, norm=Normalize(0, 1))\n",
    "\n",
    "#i += 1"
   ]
  },
  {
   "cell_type": "code",
   "execution_count": 189,
   "metadata": {},
   "outputs": [],
   "source": [
    "#len(train_x), len(augmented_train_x)"
   ]
  },
  {
   "cell_type": "code",
   "execution_count": 190,
   "metadata": {},
   "outputs": [],
   "source": [
    "#len(train_y), len(augmented_train_y)"
   ]
  },
  {
   "cell_type": "code",
   "execution_count": 191,
   "metadata": {
    "scrolled": true
   },
   "outputs": [],
   "source": [
    "'''\n",
    "history = model.fit(\n",
    "    np.array(augmented_train_x),\n",
    "    #keras.utils.to_categorical(np.array(augmented_train_y), num_classes=2),\n",
    "    np.array(augmented_train_y),\n",
    "    epochs=EPOCHS,\n",
    "    validation_split=0.1,\n",
    "    shuffle=True\n",
    ")\n",
    "'''\n",
    "pass"
   ]
  },
  {
   "cell_type": "code",
   "execution_count": 192,
   "metadata": {},
   "outputs": [],
   "source": [
    "'''\n",
    "plt.plot(history.history['acc'])\n",
    "plt.plot(history.history['val_acc'])\n",
    "plt.ylabel('accuracy')\n",
    "plt.xlabel('epoch')\n",
    "plt.legend(['train', 'test'], loc='upper left')\n",
    "\n",
    "plt.show()\n",
    "'''\n",
    "pass"
   ]
  },
  {
   "cell_type": "code",
   "execution_count": 193,
   "metadata": {},
   "outputs": [],
   "source": [
    "'''\n",
    "plt.plot(history.history['loss'])\n",
    "plt.plot(history.history['val_loss'])\n",
    "plt.ylabel('loss')\n",
    "plt.xlabel('epoch')\n",
    "plt.legend(['train', 'test'], loc='upper left')\n",
    "plt.show()\n",
    "'''\n",
    "pass"
   ]
  },
  {
   "cell_type": "code",
   "execution_count": 194,
   "metadata": {},
   "outputs": [],
   "source": [
    "#i = 0"
   ]
  },
  {
   "cell_type": "code",
   "execution_count": 195,
   "metadata": {},
   "outputs": [],
   "source": [
    "#pyplot.imshow(train_x[i].reshape(BOARD_SIZE, BOARD_SIZE), norm=Normalize(-1, 1), cmap='rainbow')"
   ]
  },
  {
   "cell_type": "code",
   "execution_count": 196,
   "metadata": {},
   "outputs": [],
   "source": [
    "#pyplot.imshow(train_y[i].reshape(BOARD_SIZE, BOARD_SIZE), norm=Normalize(-1, 1), cmap='rainbow')"
   ]
  },
  {
   "cell_type": "code",
   "execution_count": 197,
   "metadata": {},
   "outputs": [],
   "source": [
    "#i+=1"
   ]
  },
  {
   "cell_type": "code",
   "execution_count": 198,
   "metadata": {},
   "outputs": [
    {
     "name": "stdout",
     "output_type": "stream",
     "text": [
      "STARTING LOOP 0\n",
      "found win condition 16\n",
      "found win condition 33\n",
      "Error happened\n"
     ]
    },
    {
     "ename": "KeyboardInterrupt",
     "evalue": "",
     "output_type": "error",
     "traceback": [
      "\u001b[0;31m---------------------------------------------------------------------------\u001b[0m",
      "\u001b[0;31mKeyboardInterrupt\u001b[0m                         Traceback (most recent call last)",
      "\u001b[0;32m<ipython-input-198-25d8ac5835ac>\u001b[0m in \u001b[0;36m<module>\u001b[0;34m\u001b[0m\n\u001b[1;32m     14\u001b[0m         \u001b[0;32mfor\u001b[0m \u001b[0mi\u001b[0m \u001b[0;32min\u001b[0m \u001b[0mrange\u001b[0m\u001b[0;34m(\u001b[0m\u001b[0mBOARD_SIZE\u001b[0m \u001b[0;34m*\u001b[0m \u001b[0mBOARD_SIZE\u001b[0m\u001b[0;34m)\u001b[0m\u001b[0;34m:\u001b[0m\u001b[0;34m\u001b[0m\u001b[0;34m\u001b[0m\u001b[0m\n\u001b[1;32m     15\u001b[0m             \u001b[0;31m# print('Looping:', i, 'Data count:', len(train_x))\u001b[0m\u001b[0;34m\u001b[0m\u001b[0;34m\u001b[0m\u001b[0;34m\u001b[0m\u001b[0m\n\u001b[0;32m---> 16\u001b[0;31m             \u001b[0mmonte_carlo_result\u001b[0m \u001b[0;34m=\u001b[0m \u001b[0mdo_monte_carlo\u001b[0m\u001b[0;34m(\u001b[0m\u001b[0mboard\u001b[0m\u001b[0;34m,\u001b[0m \u001b[0mcur_player\u001b[0m\u001b[0;34m)\u001b[0m\u001b[0;34m\u001b[0m\u001b[0;34m\u001b[0m\u001b[0m\n\u001b[0m\u001b[1;32m     17\u001b[0m \u001b[0;34m\u001b[0m\u001b[0m\n\u001b[1;32m     18\u001b[0m             \u001b[0mmonte_carlo_result\u001b[0m\u001b[0;34m[\u001b[0m\u001b[0mboard\u001b[0m\u001b[0;34m.\u001b[0m\u001b[0mreshape\u001b[0m\u001b[0;34m(\u001b[0m\u001b[0mBOARD_SIZE\u001b[0m\u001b[0;34m,\u001b[0m \u001b[0mBOARD_SIZE\u001b[0m\u001b[0;34m)\u001b[0m \u001b[0;34m!=\u001b[0m \u001b[0;36m0\u001b[0m\u001b[0;34m]\u001b[0m \u001b[0;34m=\u001b[0m \u001b[0;36m0\u001b[0m\u001b[0;34m\u001b[0m\u001b[0;34m\u001b[0m\u001b[0m\n",
      "\u001b[0;32m<ipython-input-176-6723ff462ac7>\u001b[0m in \u001b[0;36mdo_monte_carlo\u001b[0;34m(board, monte_carlo_player)\u001b[0m\n\u001b[1;32m    201\u001b[0m \u001b[0;34m\u001b[0m\u001b[0m\n\u001b[1;32m    202\u001b[0m                             \u001b[0;32mwith\u001b[0m \u001b[0mtimer\u001b[0m\u001b[0;34m.\u001b[0m\u001b[0mtimeit\u001b[0m\u001b[0;34m(\u001b[0m\u001b[0;34m'get play pos'\u001b[0m\u001b[0;34m)\u001b[0m\u001b[0;34m(\u001b[0m\u001b[0;34m)\u001b[0m\u001b[0;34m:\u001b[0m\u001b[0;34m\u001b[0m\u001b[0;34m\u001b[0m\u001b[0m\n\u001b[0;32m--> 203\u001b[0;31m                                 \u001b[0mplay_x\u001b[0m\u001b[0;34m,\u001b[0m \u001b[0mplay_y\u001b[0m \u001b[0;34m=\u001b[0m \u001b[0mget_play_pos\u001b[0m\u001b[0;34m(\u001b[0m\u001b[0mboard_moves\u001b[0m\u001b[0;34m)\u001b[0m\u001b[0;34m\u001b[0m\u001b[0;34m\u001b[0m\u001b[0m\n\u001b[0m\u001b[1;32m    204\u001b[0m \u001b[0;34m\u001b[0m\u001b[0m\n\u001b[1;32m    205\u001b[0m                             \u001b[0mstacked_boards\u001b[0m\u001b[0;34m[\u001b[0m\u001b[0mbatch_id\u001b[0m\u001b[0;34m]\u001b[0m\u001b[0;34m[\u001b[0m\u001b[0mplay_x\u001b[0m\u001b[0;34m]\u001b[0m\u001b[0;34m[\u001b[0m\u001b[0mplay_y\u001b[0m\u001b[0;34m]\u001b[0m \u001b[0;34m=\u001b[0m \u001b[0mcur_player\u001b[0m\u001b[0;34m\u001b[0m\u001b[0;34m\u001b[0m\u001b[0m\n",
      "\u001b[0;32m<ipython-input-176-6723ff462ac7>\u001b[0m in \u001b[0;36mget_play_pos\u001b[0;34m(board_moves, depth)\u001b[0m\n\u001b[1;32m      7\u001b[0m     \u001b[0mboard_sum\u001b[0m \u001b[0;34m=\u001b[0m \u001b[0mrandom\u001b[0m\u001b[0;34m.\u001b[0m\u001b[0mrandom\u001b[0m\u001b[0;34m(\u001b[0m\u001b[0;34m)\u001b[0m \u001b[0;34m*\u001b[0m \u001b[0mnp\u001b[0m\u001b[0;34m.\u001b[0m\u001b[0msum\u001b[0m\u001b[0;34m(\u001b[0m\u001b[0mboard_moves\u001b[0m\u001b[0;34m)\u001b[0m\u001b[0;34m\u001b[0m\u001b[0;34m\u001b[0m\u001b[0m\n\u001b[1;32m      8\u001b[0m     \u001b[0;32mfor\u001b[0m \u001b[0mx\u001b[0m \u001b[0;32min\u001b[0m \u001b[0mrange\u001b[0m\u001b[0;34m(\u001b[0m\u001b[0mBOARD_SIZE\u001b[0m\u001b[0;34m)\u001b[0m\u001b[0;34m:\u001b[0m\u001b[0;34m\u001b[0m\u001b[0;34m\u001b[0m\u001b[0m\n\u001b[0;32m----> 9\u001b[0;31m         \u001b[0mline_sum\u001b[0m \u001b[0;34m=\u001b[0m \u001b[0mnp\u001b[0m\u001b[0;34m.\u001b[0m\u001b[0msum\u001b[0m\u001b[0;34m(\u001b[0m\u001b[0mboard_moves\u001b[0m\u001b[0;34m[\u001b[0m\u001b[0mx\u001b[0m\u001b[0;34m]\u001b[0m\u001b[0;34m)\u001b[0m\u001b[0;34m\u001b[0m\u001b[0;34m\u001b[0m\u001b[0m\n\u001b[0m\u001b[1;32m     10\u001b[0m \u001b[0;34m\u001b[0m\u001b[0m\n\u001b[1;32m     11\u001b[0m         \u001b[0;31m#print('hmm board_sum: {}, line_sum: {}'.format(board_sum, line_sum))\u001b[0m\u001b[0;34m\u001b[0m\u001b[0;34m\u001b[0m\u001b[0;34m\u001b[0m\u001b[0m\n",
      "\u001b[0;31mKeyboardInterrupt\u001b[0m: "
     ]
    }
   ],
   "source": [
    "\n",
    "loop_index = 0\n",
    "while True:\n",
    "    print('STARTING LOOP', loop_index)\n",
    "    \n",
    "    train_x = []\n",
    "    train_y = []\n",
    "\n",
    "    while len(train_x) < ONE_LOOP_DATA:\n",
    "        board = np.zeros((BOARD_SIZE, BOARD_SIZE, 1))\n",
    "\n",
    "        board[int(BOARD_SIZE / 2)][int(BOARD_SIZE / 2)] = 1\n",
    "        cur_player = -1\n",
    "\n",
    "        for i in range(BOARD_SIZE * BOARD_SIZE):\n",
    "            # print('Looping:', i, 'Data count:', len(train_x))\n",
    "            monte_carlo_result = do_monte_carlo(board, cur_player)\n",
    "\n",
    "            monte_carlo_result[board.reshape(BOARD_SIZE, BOARD_SIZE) != 0] = 0\n",
    "\n",
    "            x, y = get_best_play_pos(monte_carlo_result)\n",
    "\n",
    "            new_train_y = np.zeros((BOARD_SIZE, BOARD_SIZE, 1))\n",
    "            new_train_y[x][y][0] = 1\n",
    "\n",
    "            train_x.append(board.copy() * cur_player)\n",
    "            train_y.append(new_train_y)\n",
    "            monte_carlo_results.append(monte_carlo_result)\n",
    "\n",
    "            board[x][y][0] = cur_player\n",
    "\n",
    "            if define_winning(board, x, y):\n",
    "                print('found win condition', len(train_x))\n",
    "                break\n",
    "\n",
    "            cur_player *= -1\n",
    "    \n",
    "    augmented_train_x, augmented_train_y = augment_data(train_x, train_y)\n",
    "    \n",
    "    history = model.fit(\n",
    "        np.array(augmented_train_x),\n",
    "        #keras.utils.to_categorical(np.array(augmented_train_y), num_classes=2),\n",
    "        np.array(augmented_train_y),\n",
    "        epochs=EPOCHS,\n",
    "        #validation_split=0.1,\n",
    "        shuffle=True\n",
    "    )\n",
    "    \n",
    "    model.save('output/my-model-{}.h5'.format(loop_index))\n",
    "    np.savez_compressed('output/train-x-y-{}'.format(loop_index), train_x=train_x, train_y=train_y)\n",
    "    \n",
    "    loop_index += 1\n",
    "    "
   ]
  },
  {
   "cell_type": "code",
   "execution_count": 203,
   "metadata": {},
   "outputs": [],
   "source": [
    "i = 0"
   ]
  },
  {
   "cell_type": "code",
   "execution_count": 230,
   "metadata": {},
   "outputs": [
    {
     "data": {
      "image/png": "[encoded data removed]",
      "text/plain": [
       "<Figure size 432x288 with 1 Axes>"
      ]
     },
     "metadata": {
      "needs_background": "light"
     },
     "output_type": "display_data"
    }
   ],
   "source": [
    "pyplot.imshow(train_x[i].reshape(BOARD_SIZE, BOARD_SIZE), norm=Normalize(-1, 1), cmap='rainbow')\n",
    "i += 1"
   ]
  },
  {
   "cell_type": "code",
   "execution_count": 165,
   "metadata": {},
   "outputs": [
    {
     "data": {
      "text/plain": [
       "(335, 335, 2680, 2680)"
      ]
     },
     "execution_count": 165,
     "metadata": {},
     "output_type": "execute_result"
    }
   ],
   "source": [
    "augmented_train_x, augmented_train_y = augment_data(train_x, train_y)\n",
    "\n",
    "len(train_x), len(train_y), len(augmented_train_x), len(augmented_train_y)"
   ]
  },
  {
   "cell_type": "code",
   "execution_count": 172,
   "metadata": {},
   "outputs": [],
   "source": [
    "#np.savez_compressed('base-train-x-y', train_x=train_x, train_y=train_y)\n",
    "#model.save('base-model.h5')"
   ]
  },
  {
   "cell_type": "code",
   "execution_count": 167,
   "metadata": {
    "scrolled": true
   },
   "outputs": [
    {
     "name": "stdout",
     "output_type": "stream",
     "text": [
      "Train on 2412 samples, validate on 268 samples\n",
      "Epoch 1/15\n",
      "2412/2412 [==============================] - 6s 3ms/step - loss: 0.0529 - accuracy: 0.9900 - val_loss: 0.0505 - val_accuracy: 0.9900\n",
      "Epoch 2/15\n",
      "2412/2412 [==============================] - 6s 2ms/step - loss: 0.0498 - accuracy: 0.9900 - val_loss: 0.0476 - val_accuracy: 0.9900\n",
      "Epoch 3/15\n",
      "2412/2412 [==============================] - 6s 2ms/step - loss: 0.0455 - accuracy: 0.9900 - val_loss: 0.0418 - val_accuracy: 0.9901\n",
      "Epoch 4/15\n",
      "2412/2412 [==============================] - 6s 2ms/step - loss: 0.0401 - accuracy: 0.9902 - val_loss: 0.0383 - val_accuracy: 0.9901\n",
      "Epoch 5/15\n",
      "2412/2412 [==============================] - 6s 2ms/step - loss: 0.0370 - accuracy: 0.9906 - val_loss: 0.0365 - val_accuracy: 0.9902\n",
      "Epoch 6/15\n",
      "2412/2412 [==============================] - 6s 2ms/step - loss: 0.0351 - accuracy: 0.9910 - val_loss: 0.0357 - val_accuracy: 0.9904\n",
      "Epoch 7/15\n",
      "2412/2412 [==============================] - 6s 2ms/step - loss: 0.0339 - accuracy: 0.9911 - val_loss: 0.0351 - val_accuracy: 0.9907\n",
      "Epoch 8/15\n",
      "2412/2412 [==============================] - 6s 2ms/step - loss: 0.0328 - accuracy: 0.9913 - val_loss: 0.0349 - val_accuracy: 0.9908\n",
      "Epoch 9/15\n",
      "2412/2412 [==============================] - 6s 3ms/step - loss: 0.0320 - accuracy: 0.9915 - val_loss: 0.0341 - val_accuracy: 0.9910\n",
      "Epoch 10/15\n",
      "2412/2412 [==============================] - 6s 3ms/step - loss: 0.0311 - accuracy: 0.9916 - val_loss: 0.0340 - val_accuracy: 0.9916\n",
      "Epoch 11/15\n",
      "2412/2412 [==============================] - 6s 3ms/step - loss: 0.0303 - accuracy: 0.9918 - val_loss: 0.0336 - val_accuracy: 0.9913\n",
      "Epoch 12/15\n",
      "2412/2412 [==============================] - 6s 2ms/step - loss: 0.0297 - accuracy: 0.9921 - val_loss: 0.0340 - val_accuracy: 0.9913\n",
      "Epoch 13/15\n",
      "2412/2412 [==============================] - 6s 2ms/step - loss: 0.0292 - accuracy: 0.9922 - val_loss: 0.0339 - val_accuracy: 0.9915\n",
      "Epoch 14/15\n",
      "2412/2412 [==============================] - 6s 2ms/step - loss: 0.0283 - accuracy: 0.9925 - val_loss: 0.0337 - val_accuracy: 0.9917\n",
      "Epoch 15/15\n",
      "2412/2412 [==============================] - 6s 2ms/step - loss: 0.0278 - accuracy: 0.9926 - val_loss: 0.0339 - val_accuracy: 0.9916\n"
     ]
    }
   ],
   "source": [
    "augmented_train_x, augmented_train_y = augment_data(train_x, train_y)\n",
    "\n",
    "history = model.fit(\n",
    "    np.array(augmented_train_x),\n",
    "    #keras.utils.to_categorical(np.array(augmented_train_y), num_classes=2),\n",
    "    np.array(augmented_train_y),\n",
    "    epochs=EPOCHS,\n",
    "    validation_split=0.10,\n",
    "    shuffle=True\n",
    ")\n"
   ]
  },
  {
   "cell_type": "code",
   "execution_count": 168,
   "metadata": {},
   "outputs": [
    {
     "data": {
      "image/png": "[encoded data removed]",
      "text/plain": [
       "<Figure size 432x288 with 1 Axes>"
      ]
     },
     "metadata": {
      "needs_background": "light"
     },
     "output_type": "display_data"
    }
   ],
   "source": [
    "plt.plot(history.history['accuracy'])\n",
    "plt.plot(history.history['val_accuracy'])\n",
    "plt.ylabel('accuracy')\n",
    "plt.xlabel('epoch')\n",
    "plt.legend(['train', 'test'], loc='upper left')\n",
    "\n",
    "plt.show()\n",
    "\n",
    "######\n",
    "# comparing different model structures\n",
    "# val acc starts from 0.9900\n",
    "######\n",
    "# 5 layers val acc: 0.9919 best e?\n",
    "# 4 layers val acc: 0.9919 best e17\n",
    "# 3 layers val acc: 0.9917 best e29 huom: ei ylioppimista. ei nouse 0.9916 yli tokalla yrityksellä ees 100 epokilla.\n",
    "# 2 layers val acc: 0.9904 best e27\n",
    "# 1 layers val acc: 0.9900 ei kasva.."
   ]
  },
  {
   "cell_type": "code",
   "execution_count": 169,
   "metadata": {},
   "outputs": [
    {
     "data": {
      "image/png": "[encoded data removed]",
      "text/plain": [
       "<Figure size 432x288 with 1 Axes>"
      ]
     },
     "metadata": {
      "needs_background": "light"
     },
     "output_type": "display_data"
    }
   ],
   "source": [
    "plt.plot(history.history['loss'])\n",
    "plt.plot(history.history['val_loss'])\n",
    "plt.ylabel('loss')\n",
    "plt.xlabel('epoch')\n",
    "plt.legend(['train', 'test'], loc='upper left')\n",
    "plt.show()\n"
   ]
  },
  {
   "cell_type": "code",
   "execution_count": null,
   "metadata": {},
   "outputs": [],
   "source": []
  },
  {
   "cell_type": "code",
   "execution_count": 170,
   "metadata": {},
   "outputs": [
    {
     "data": {
      "text/plain": [
       "{'keras': 21544.70647907257,\n",
       " 'slow loop': 15966.63766503334,\n",
       " 'get play pos': 9681.242038488388,\n",
       " 'define win': 1559.1900572776794}"
      ]
     },
     "execution_count": 170,
     "metadata": {},
     "output_type": "execute_result"
    }
   ],
   "source": [
    "timer.timers"
   ]
  },
  {
   "cell_type": "code",
   "execution_count": null,
   "metadata": {},
   "outputs": [],
   "source": []
  }
 ],
 "metadata": {
  "kernelspec": {
   "display_name": "Python 3",
   "language": "python",
   "name": "python3"
  },
  "language_info": {
   "codemirror_mode": {
    "name": "ipython",
    "version": 3
   },
   "file_extension": ".py",
   "mimetype": "text/x-python",
   "name": "python",
   "nbconvert_exporter": "python",
   "pygments_lexer": "ipython3",
   "version": "3.7.4"
  }
 },
 "nbformat": 4,
 "nbformat_minor": 2
}
