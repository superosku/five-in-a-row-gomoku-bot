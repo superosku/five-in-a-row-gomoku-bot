{
 "cells": [
  {
   "cell_type": "code",
   "execution_count": 1,
   "metadata": {},
   "outputs": [
    {
     "name": "stderr",
     "output_type": "stream",
     "text": [
      "Using TensorFlow backend.\n",
      "/home/emblica/code/neuralnets/ENV/lib/python3.5/site-packages/tensorflow/python/framework/dtypes.py:516: FutureWarning: Passing (type, 1) or '1type' as a synonym of type is deprecated; in a future version of numpy, it will be understood as (type, (1,)) / '(1,)type'.\n",
      "  _np_qint8 = np.dtype([(\"qint8\", np.int8, 1)])\n",
      "/home/emblica/code/neuralnets/ENV/lib/python3.5/site-packages/tensorflow/python/framework/dtypes.py:517: FutureWarning: Passing (type, 1) or '1type' as a synonym of type is deprecated; in a future version of numpy, it will be understood as (type, (1,)) / '(1,)type'.\n",
      "  _np_quint8 = np.dtype([(\"quint8\", np.uint8, 1)])\n",
      "/home/emblica/code/neuralnets/ENV/lib/python3.5/site-packages/tensorflow/python/framework/dtypes.py:518: FutureWarning: Passing (type, 1) or '1type' as a synonym of type is deprecated; in a future version of numpy, it will be understood as (type, (1,)) / '(1,)type'.\n",
      "  _np_qint16 = np.dtype([(\"qint16\", np.int16, 1)])\n",
      "/home/emblica/code/neuralnets/ENV/lib/python3.5/site-packages/tensorflow/python/framework/dtypes.py:519: FutureWarning: Passing (type, 1) or '1type' as a synonym of type is deprecated; in a future version of numpy, it will be understood as (type, (1,)) / '(1,)type'.\n",
      "  _np_quint16 = np.dtype([(\"quint16\", np.uint16, 1)])\n",
      "/home/emblica/code/neuralnets/ENV/lib/python3.5/site-packages/tensorflow/python/framework/dtypes.py:520: FutureWarning: Passing (type, 1) or '1type' as a synonym of type is deprecated; in a future version of numpy, it will be understood as (type, (1,)) / '(1,)type'.\n",
      "  _np_qint32 = np.dtype([(\"qint32\", np.int32, 1)])\n",
      "/home/emblica/code/neuralnets/ENV/lib/python3.5/site-packages/tensorflow/python/framework/dtypes.py:525: FutureWarning: Passing (type, 1) or '1type' as a synonym of type is deprecated; in a future version of numpy, it will be understood as (type, (1,)) / '(1,)type'.\n",
      "  np_resource = np.dtype([(\"resource\", np.ubyte, 1)])\n",
      "/home/emblica/code/neuralnets/ENV/lib/python3.5/site-packages/tensorboard/compat/tensorflow_stub/dtypes.py:541: FutureWarning: Passing (type, 1) or '1type' as a synonym of type is deprecated; in a future version of numpy, it will be understood as (type, (1,)) / '(1,)type'.\n",
      "  _np_qint8 = np.dtype([(\"qint8\", np.int8, 1)])\n",
      "/home/emblica/code/neuralnets/ENV/lib/python3.5/site-packages/tensorboard/compat/tensorflow_stub/dtypes.py:542: FutureWarning: Passing (type, 1) or '1type' as a synonym of type is deprecated; in a future version of numpy, it will be understood as (type, (1,)) / '(1,)type'.\n",
      "  _np_quint8 = np.dtype([(\"quint8\", np.uint8, 1)])\n",
      "/home/emblica/code/neuralnets/ENV/lib/python3.5/site-packages/tensorboard/compat/tensorflow_stub/dtypes.py:543: FutureWarning: Passing (type, 1) or '1type' as a synonym of type is deprecated; in a future version of numpy, it will be understood as (type, (1,)) / '(1,)type'.\n",
      "  _np_qint16 = np.dtype([(\"qint16\", np.int16, 1)])\n",
      "/home/emblica/code/neuralnets/ENV/lib/python3.5/site-packages/tensorboard/compat/tensorflow_stub/dtypes.py:544: FutureWarning: Passing (type, 1) or '1type' as a synonym of type is deprecated; in a future version of numpy, it will be understood as (type, (1,)) / '(1,)type'.\n",
      "  _np_quint16 = np.dtype([(\"quint16\", np.uint16, 1)])\n",
      "/home/emblica/code/neuralnets/ENV/lib/python3.5/site-packages/tensorboard/compat/tensorflow_stub/dtypes.py:545: FutureWarning: Passing (type, 1) or '1type' as a synonym of type is deprecated; in a future version of numpy, it will be understood as (type, (1,)) / '(1,)type'.\n",
      "  _np_qint32 = np.dtype([(\"qint32\", np.int32, 1)])\n",
      "/home/emblica/code/neuralnets/ENV/lib/python3.5/site-packages/tensorboard/compat/tensorflow_stub/dtypes.py:550: FutureWarning: Passing (type, 1) or '1type' as a synonym of type is deprecated; in a future version of numpy, it will be understood as (type, (1,)) / '(1,)type'.\n",
      "  np_resource = np.dtype([(\"resource\", np.ubyte, 1)])\n"
     ]
    }
   ],
   "source": [
    "import numpy as np\n",
    "\n",
    "from keras.models import Sequential\n",
    "from keras.layers import Dense, Conv2D, Flatten\n",
    "\n",
    "from matplotlib import pyplot\n",
    "\n",
    "import random\n",
    "\n",
    "import time\n",
    "\n",
    "from matplotlib.colors import Normalize\n",
    "\n",
    "import matplotlib.pyplot as plt\n",
    "\n",
    "import keras\n",
    "\n",
    "from multiprocessing import Pool\n"
   ]
  },
  {
   "cell_type": "code",
   "execution_count": 2,
   "metadata": {},
   "outputs": [],
   "source": [
    "\n",
    "BOARD_SIZE = 15 # 15?\n",
    "BATCH_SIZE = 100 # 500?\n",
    "ONE_LOOP_DATA = 100 # 100? 1000?\n",
    "EPOCHS = 25 # 50?\n"
   ]
  },
  {
   "cell_type": "code",
   "execution_count": 3,
   "metadata": {},
   "outputs": [],
   "source": [
    "\n",
    "def vis_board(board):\n",
    "    lookup = {0: ' ', -1: 'X', 1: 'O'}\n",
    "    print('*' * (BOARD_SIZE + 2))\n",
    "    for line_num, line in enumerate(board):\n",
    "        print('* ' + ''.join([lookup[cell[0]] for cell in line]))\n",
    "\n",
    "#boards[0][4][2] = 1\n",
    "#boards[0][6][2] = -1\n",
    "        \n",
    "# vis_board(boards[0])\n"
   ]
  },
  {
   "cell_type": "code",
   "execution_count": 4,
   "metadata": {},
   "outputs": [
    {
     "name": "stderr",
     "output_type": "stream",
     "text": [
      "WARNING: Logging before flag parsing goes to stderr.\n",
      "W0114 15:16:10.097212 140077039666944 deprecation_wrapper.py:119] From /home/emblica/code/neuralnets/ENV/lib/python3.5/site-packages/keras/backend/tensorflow_backend.py:74: The name tf.get_default_graph is deprecated. Please use tf.compat.v1.get_default_graph instead.\n",
      "\n",
      "W0114 15:16:10.107910 140077039666944 deprecation_wrapper.py:119] From /home/emblica/code/neuralnets/ENV/lib/python3.5/site-packages/keras/backend/tensorflow_backend.py:517: The name tf.placeholder is deprecated. Please use tf.compat.v1.placeholder instead.\n",
      "\n",
      "W0114 15:16:10.109668 140077039666944 deprecation_wrapper.py:119] From /home/emblica/code/neuralnets/ENV/lib/python3.5/site-packages/keras/backend/tensorflow_backend.py:4138: The name tf.random_uniform is deprecated. Please use tf.random.uniform instead.\n",
      "\n",
      "W0114 15:16:10.151162 140077039666944 deprecation_wrapper.py:119] From /home/emblica/code/neuralnets/ENV/lib/python3.5/site-packages/keras/optimizers.py:790: The name tf.train.Optimizer is deprecated. Please use tf.compat.v1.train.Optimizer instead.\n",
      "\n",
      "W0114 15:16:10.155186 140077039666944 deprecation_wrapper.py:119] From /home/emblica/code/neuralnets/ENV/lib/python3.5/site-packages/keras/backend/tensorflow_backend.py:3376: The name tf.log is deprecated. Please use tf.math.log instead.\n",
      "\n",
      "W0114 15:16:10.158720 140077039666944 deprecation.py:323] From /home/emblica/code/neuralnets/ENV/lib/python3.5/site-packages/tensorflow/python/ops/nn_impl.py:180: add_dispatch_support.<locals>.wrapper (from tensorflow.python.ops.array_ops) is deprecated and will be removed in a future version.\n",
      "Instructions for updating:\n",
      "Use tf.where in 2.0, which has the same broadcast rule as np.where\n"
     ]
    },
    {
     "name": "stdout",
     "output_type": "stream",
     "text": [
      "_________________________________________________________________\n",
      "Layer (type)                 Output Shape              Param #   \n",
      "=================================================================\n",
      "conv2d_1 (Conv2D)            (None, 15, 15, 32)        320       \n",
      "_________________________________________________________________\n",
      "conv2d_2 (Conv2D)            (None, 15, 15, 64)        18496     \n",
      "_________________________________________________________________\n",
      "conv2d_3 (Conv2D)            (None, 15, 15, 1)         65        \n",
      "_________________________________________________________________\n",
      "flatten_1 (Flatten)          (None, 225)               0         \n",
      "_________________________________________________________________\n",
      "softmax_1 (Softmax)          (None, 225)               0         \n",
      "_________________________________________________________________\n",
      "reshape_1 (Reshape)          (None, 15, 15, 1)         0         \n",
      "=================================================================\n",
      "Total params: 18,881\n",
      "Trainable params: 18,881\n",
      "Non-trainable params: 0\n",
      "_________________________________________________________________\n"
     ]
    }
   ],
   "source": [
    "\n",
    "#model.add(Conv2D(256, kernel_size=3, activation='relu', input_shape=(BOARD_SIZE, BOARD_SIZE, 1), padding='same'))\n",
    "#model.add(Conv2D(256, kernel_size=3, activation='relu', input_shape=(BOARD_SIZE, BOARD_SIZE, 1), padding='same'))\n",
    "#model.add(Conv2D(256, kernel_size=3, activation='relu', input_shape=(BOARD_SIZE, BOARD_SIZE, 1), padding='same'))\n",
    "#model.add(Conv2D(256, kernel_size=3, activation='relu', input_shape=(BOARD_SIZE, BOARD_SIZE, 1), padding='same'))\n",
    "#model.add(Conv2D(64, kernel_size=3, activation='relu', input_shape=(BOARD_SIZE, BOARD_SIZE, 1), padding='same'))\n",
    "#model.add(Conv2D(64, kernel_size=3, activation='relu', input_shape=(BOARD_SIZE, BOARD_SIZE, 1), padding='same'))\n",
    "#model.add(Conv2D(64, kernel_size=3, activation='relu', input_shape=(BOARD_SIZE, BOARD_SIZE, 1), padding='same'))\n",
    "\n",
    "model = Sequential()\n",
    "model.add(Conv2D(32, kernel_size=3, activation='relu', input_shape=(BOARD_SIZE, BOARD_SIZE, 1), padding='same'))\n",
    "model.add(Conv2D(64, kernel_size=3, activation='relu', input_shape=(BOARD_SIZE, BOARD_SIZE, 1), padding='same'))\n",
    "#model.add(Conv2D(256, kernel_size=3, activation='relu', input_shape=(BOARD_SIZE, BOARD_SIZE, 1), padding='same'))\n",
    "#model.add(Conv2D(64, kernel_size=3, activation='relu', input_shape=(BOARD_SIZE, BOARD_SIZE, 1), padding='same'))\n",
    "#model.add(Conv2D(64, kernel_size=3, activation='relu', input_shape=(BOARD_SIZE, BOARD_SIZE, 1), padding='same'))\n",
    "\n",
    "model.add(Conv2D(1, kernel_size=1, activation='relu', input_shape=(BOARD_SIZE, BOARD_SIZE, 1), padding='same'))\n",
    "\n",
    "model.add(keras.layers.Flatten())\n",
    "model.add(keras.layers.Softmax())\n",
    "\n",
    "#model.add(keras.layers.Conv1D(1, kernel_size=1, activation='softmax'))\n",
    "\n",
    "model.add(keras.layers.Reshape((BOARD_SIZE, BOARD_SIZE, 1)))\n",
    "\n",
    "#model.add(keras.layers.LocallyConnected1D(1, 1, activation='softmax'))\n",
    "\n",
    "#model.add(keras.layers.Reshape((BOARD_SIZE, BOARD_SIZE)))\n",
    "\n",
    "model.compile(\n",
    "    optimizer=keras.optimizers.Adam(lr=0.0001),\n",
    "    loss='binary_crossentropy',\n",
    "    metrics=['accuracy']\n",
    ")\n",
    "\n",
    "model.summary()"
   ]
  },
  {
   "cell_type": "code",
   "execution_count": 5,
   "metadata": {},
   "outputs": [],
   "source": [
    "class Timer:\n",
    "    \n",
    "    def __init__(self):\n",
    "        self.timers = {}\n",
    "    \n",
    "    def timeit(self_outer, name):\n",
    "        if name not in self_outer.timers:\n",
    "            self_outer.timers[name] = 0\n",
    "            \n",
    "        class TimerInner:\n",
    "            def __enter__(self):\n",
    "                self.name = name\n",
    "                self.start_time = time.time()\n",
    "                pass\n",
    "\n",
    "            def __exit__(self, type, value, traceback):\n",
    "                self_outer.timers[self.name] += time.time() - self.start_time\n",
    "        \n",
    "        return TimerInner\n",
    "    \n",
    "    '''\n",
    "    def timeit(self, name):\n",
    "        if name not in self.timers:\n",
    "            self.timers[name] = 0\n",
    "        \n",
    "        def thing(func):\n",
    "            def inner_thing(*args, **kwargs):\n",
    "                start_time = time.time()\n",
    "                return_val = func(*args, **kwargs)\n",
    "                total_time = start_time - time.time()\n",
    "                self.timers[name] += total_time\n",
    "                return return_val\n",
    "            return inner_thing\n",
    "        return thing\n",
    "        '''"
   ]
  },
  {
   "cell_type": "code",
   "execution_count": 6,
   "metadata": {},
   "outputs": [],
   "source": [
    "timer = Timer()\n",
    "\n",
    "boards = np.zeros((BATCH_SIZE, BOARD_SIZE, BOARD_SIZE, 1))\n",
    "boards.shape\n",
    "\n",
    "def get_play_pos(board_moves, depth=0):\n",
    "    board_sum = random.random() * np.sum(board_moves)\n",
    "    for x in range(BOARD_SIZE):\n",
    "        line_sum = np.sum(board_moves[x])\n",
    "        \n",
    "        #print('hmm board_sum: {}, line_sum: {}'.format(board_sum, line_sum))\n",
    "        \n",
    "        if board_sum > line_sum:\n",
    "            #print('removing line')\n",
    "            #print('asdf', x, board_sum, line_sum, board_moves[x])\n",
    "            #print('wtf1', board_sum, line_sum, type(board_sum), type(line_sum))\n",
    "            board_sum -= line_sum\n",
    "            #print('wtf2', board_sum, line_sum, type(board_sum), type(line_sum))\n",
    "            continue\n",
    "        else:\n",
    "            pass\n",
    "            #print('wwww', x, board_sum, board_moves[x])\n",
    "        \n",
    "        for y in range(BOARD_SIZE):\n",
    "            #print('removing cell')\n",
    "            board_sum -= board_moves[x][y][0]\n",
    "            if board_sum <= 0:\n",
    "                return x, y\n",
    "    \n",
    "    # raise Exception('WUTWUT')\n",
    "    \n",
    "    if depth < 4:\n",
    "        print('Error happened')\n",
    "        return get_play_pos(board_moves, depth=depth+1)\n",
    "    \n",
    "    print('WHY WHYW HY WHY')\n",
    "    return 0, 0\n",
    "    \n",
    "    raise Exception('This should not happen {}'.format(board_sum))\n",
    "\n",
    "    \n",
    "def get_best_play_pos(board_moves):\n",
    "    best_x, best_y, best_score = 0, 0, 0\n",
    "    for x in range(BOARD_SIZE):\n",
    "        for y in range(BOARD_SIZE):\n",
    "            # print(x, y, best_x, best_y, best_score, board_moves[x][y])\n",
    "            if board_moves[x][y] > best_score:\n",
    "                best_x, best_y, best_score = x, y, board_moves[x][y]\n",
    "    return best_x, best_y\n",
    "\n",
    "   \n",
    "'''\n",
    "def define_winning(board):\n",
    "    for x in range(BOARD_SIZE - 5):\n",
    "        for y in range(BOARD_SIZE - 5):\n",
    "            hor = True\n",
    "            ver = True\n",
    "            dia1 = True\n",
    "            dia2 = True\n",
    "            \n",
    "            for i in range(1, 5):\n",
    "                if board[x][y][0] != board[x][y + i][0]:\n",
    "                    ver = False\n",
    "                if board[x][y][0] != board[x + i][y + i][0]:\n",
    "                    dia1 = False\n",
    "                if board[x][y][0] != board[x + i][y][0]:\n",
    "                    hor = False\n",
    "                if board[BOARD_SIZE - x - 1][y][0] != board[BOARD_SIZE - x - i - 1][y + i][0]:\n",
    "                    dia2 = False\n",
    "            \n",
    "            if (hor or ver or dia1) and board[x][y][0] != 0:\n",
    "                #print('WINNER', x, y, hor, ver, dia1)\n",
    "                #vis_board(board)\n",
    "                return board[x][y][0]\n",
    "            \n",
    "            if dia2 and board[BOARD_SIZE - x - 1][y][0] != 0:\n",
    "                return board[BOARD_SIZE - x - 1][y][0]\n",
    "    return 0\n",
    "'''\n",
    "\n",
    "\n",
    "def define_winning(board, x, y):\n",
    "    value = board[x][y][0]\n",
    "    \n",
    "    # X direction\n",
    "    count = 1\n",
    "    i = 1\n",
    "    while x - i >= 0 and board[x - i][y][0] == value:\n",
    "        count += 1\n",
    "        i += 1\n",
    "    i = 1\n",
    "    while x + i < BOARD_SIZE and board[x + i][y][0] == value:\n",
    "        count += 1\n",
    "        i += 1\n",
    "    if count >= 5:\n",
    "        return True\n",
    "    \n",
    "    # Y direction\n",
    "    count = 1\n",
    "    i = 1\n",
    "    while y - i >= 0 and board[x][y - i][0] == value:\n",
    "        count += 1\n",
    "        i += 1\n",
    "    i = 1\n",
    "    while y + i < BOARD_SIZE and board[x][y + i][0] == value:\n",
    "        count += 1\n",
    "        i += 1\n",
    "    if count >= 5:\n",
    "        return True\n",
    "    \n",
    "    # Diagonal 1\n",
    "    count = 1\n",
    "    i = 1\n",
    "    while x - i >= 0 and y - i >= 0 and board[x - i][y - i][0] == value:\n",
    "        count += 1\n",
    "        i += 1\n",
    "    i = 1\n",
    "    while x + i < BOARD_SIZE and y + i < BOARD_SIZE and board[x + i][y + i][0] == value:\n",
    "        count += 1\n",
    "        i += 1\n",
    "    if count >= 5:\n",
    "        return True\n",
    "    \n",
    "    # Diagonal 2\n",
    "    count = 1\n",
    "    i = 1\n",
    "    while x - i >= 0 and y + i < BOARD_SIZE and board[x - i][y + i][0] == value:\n",
    "        count += 1\n",
    "        i += 1\n",
    "    i = 1\n",
    "    while x + i < BOARD_SIZE and y - i >= 0 and board[x + i][y - i][0] == value:\n",
    "        count += 1\n",
    "        i += 1\n",
    "    if count >= 5:\n",
    "        return True\n",
    "    \n",
    "    return False\n",
    "\n",
    "\n",
    "def do_monte_carlo(board, monte_carlo_player):\n",
    "    # Do a batch for each location on the board (non played)\n",
    "    \n",
    "    monte_carlo_result = np.zeros((BOARD_SIZE, BOARD_SIZE))\n",
    "    \n",
    "    # Do monte carlo for each point in the board\n",
    "    for x in range(BOARD_SIZE):\n",
    "        for y in range(BOARD_SIZE):    \n",
    "            # Don't do monte carlo for already played positions\n",
    "            if board[x][y] != 0:\n",
    "                continue\n",
    "                \n",
    "            # Don't do monte carlo if no plays around\n",
    "            # if np.count_nonzero(board[x-2:x+1][y-2:y+1] != 0) == 0:\n",
    "            if np.count_nonzero(board[\n",
    "                max(0, x-1):min(x+2, BOARD_SIZE - 1),\n",
    "                max(0, y-1):min(y+2, BOARD_SIZE - 1),\n",
    "                0\n",
    "            ] != 0) == 0:\n",
    "                continue\n",
    "            \n",
    "            pos_board = board.copy()\n",
    "            pos_board[x][y][0] = monte_carlo_player\n",
    "            \n",
    "            if define_winning(pos_board, x, y):\n",
    "                ratio = 1\n",
    "            else:\n",
    "                cur_player = monte_carlo_player\n",
    "                winners = np.zeros((BATCH_SIZE))\n",
    "                stacked_boards = np.vstack([\n",
    "                    pos_board.reshape(1, BOARD_SIZE, BOARD_SIZE, 1)\n",
    "                    for i in range(BATCH_SIZE)\n",
    "                ])\n",
    "\n",
    "                # Might have to simulate this many steps, might break earlier\n",
    "                for i in range(BOARD_SIZE * BOARD_SIZE):\n",
    "                #for i in range(50):\n",
    "                    cur_player *= -1\n",
    "\n",
    "                    with timer.timeit('keras')():\n",
    "                        predicted = model.predict(stacked_boards)[:,:,:,0:1]\n",
    "                    \n",
    "                    #print('asdfasdf', predicted.shape, stacked_boards.shape)\n",
    "                    \n",
    "                    #print('asdf', predicted)\n",
    "                    #assert np.sum(predicted) == 1\n",
    "                    \n",
    "                    # Add randomness to the play\n",
    "                    #predicted += 0.05\n",
    "                    \n",
    "                    # Prevent play when tehre is a marker already\n",
    "                    predicted[stacked_boards != 0] = 0\n",
    "                    \n",
    "                    with timer.timeit('slow loop')():\n",
    "                        for batch_id in range(BATCH_SIZE):\n",
    "                            if winners[batch_id] != 0:\n",
    "                                continue\n",
    "\n",
    "                            board_moves = predicted[batch_id]\n",
    "                            \n",
    "                            with timer.timeit('get play pos')():\n",
    "                                play_x, play_y = get_play_pos(board_moves)\n",
    "\n",
    "                            stacked_boards[batch_id][play_x][play_y] = cur_player\n",
    "\n",
    "                            with timer.timeit('define win')():\n",
    "                                if define_winning(stacked_boards[batch_id], play_x, play_y):\n",
    "                                    winners[batch_id] = cur_player\n",
    "                            #if winner != 0:\n",
    "                            #    winners[batch_id] = winner\n",
    "\n",
    "                    # Stop when all boards done\n",
    "                    #if len(winners[winners == 0]) == 0:\n",
    "                    if len(winners[winners == 0]) < BATCH_SIZE / 2:\n",
    "                        #print('Early win condition on all batches', i)\n",
    "                        break\n",
    "            \n",
    "                ratio = len(winners[winners == monte_carlo_player]) / len(winners)\n",
    "\n",
    "                '''\n",
    "                print(\n",
    "                    'asdf',\n",
    "                    x, y, ratio,\n",
    "                    len(winners[winners == monte_carlo_player]),\n",
    "                    len(winners[winners == -monte_carlo_player]),\n",
    "                    len(winners)\n",
    "                )\n",
    "                '''\n",
    "            \n",
    "            monte_carlo_result[x][y] = ratio\n",
    "            \n",
    "            # print('ratio is', x, y, ratio)\n",
    "\n",
    "    return monte_carlo_result\n",
    "\n"
   ]
  },
  {
   "cell_type": "code",
   "execution_count": 7,
   "metadata": {},
   "outputs": [
    {
     "data": {
      "text/plain": [
       "<matplotlib.image.AxesImage at 0x7f65aebbfe10>"
      ]
     },
     "execution_count": 7,
     "metadata": {},
     "output_type": "execute_result"
    },
    {
     "data": {
      "image/png": "[encoded data removed]",
      "text/plain": [
       "<Figure size 432x288 with 1 Axes>"
      ]
     },
     "metadata": {
      "needs_background": "light"
     },
     "output_type": "display_data"
    }
   ],
   "source": [
    "board = np.zeros((BOARD_SIZE, BOARD_SIZE, 1))\n",
    "\n",
    "#board[0][0][0] = 1\n",
    "#board[1][1][0] = 1\n",
    "#board[2][2][0] = 1\n",
    "#board[3][3][0] = 1\n",
    "#board[4][4][0] = 1\n",
    "\n",
    "board[4][0][0] = 1\n",
    "board[3][1][0] = 1\n",
    "board[2][2][0] = 1\n",
    "#board[1][3][0] = 1\n",
    "#board[0][4][0] = 1\n",
    "\n",
    "#board[0][2][0] = 1\n",
    "#board[1][2][0] = 1\n",
    "board[2][2][0] = -1\n",
    "board[3][2][0] = -1\n",
    "board[4][2][0] = -1\n",
    "\n",
    "#board[2][0][0] = 1\n",
    "#board[2][1][0] = 1\n",
    "#board[2][2][0] = 1\n",
    "#board[2][3][0] = 1\n",
    "#board[2][4][0] = 1\n",
    "\n",
    "pyplot.imshow(board.reshape(BOARD_SIZE, BOARD_SIZE))\n",
    "\n",
    "#define_winning(board, 2, 2)"
   ]
  },
  {
   "cell_type": "code",
   "execution_count": 8,
   "metadata": {},
   "outputs": [
    {
     "name": "stderr",
     "output_type": "stream",
     "text": [
      "W0114 15:16:10.327248 140077039666944 deprecation_wrapper.py:119] From /home/emblica/code/neuralnets/ENV/lib/python3.5/site-packages/keras/backend/tensorflow_backend.py:2741: The name tf.Session is deprecated. Please use tf.compat.v1.Session instead.\n",
      "\n"
     ]
    },
    {
     "data": {
      "text/plain": [
       "<matplotlib.image.AxesImage at 0x7f65acb4ee10>"
      ]
     },
     "execution_count": 8,
     "metadata": {},
     "output_type": "execute_result"
    },
    {
     "data": {
      "image/png": "[encoded data removed]",
      "text/plain": [
       "<Figure size 432x288 with 1 Axes>"
      ]
     },
     "metadata": {
      "needs_background": "light"
     },
     "output_type": "display_data"
    }
   ],
   "source": [
    "prediction = model.predict(np.array([board]))[0,:,:,0]\n",
    "pyplot.imshow(prediction)#, norm=Normalize(0, 1), cmap='gray')"
   ]
  },
  {
   "cell_type": "code",
   "execution_count": 9,
   "metadata": {},
   "outputs": [
    {
     "data": {
      "text/plain": [
       "array([[0.0044519 , 0.0044395 , 0.0044395 , 0.0044395 , 0.0044395 ,\n",
       "        0.0044395 , 0.0044395 , 0.0044395 , 0.0044395 , 0.0044395 ,\n",
       "        0.0044395 , 0.0044395 , 0.0044395 , 0.0044395 , 0.0044395 ],\n",
       "       [0.00444743, 0.0044395 , 0.00471971, 0.0044395 , 0.0044395 ,\n",
       "        0.0044395 , 0.0044395 , 0.0044395 , 0.0044395 , 0.0044395 ,\n",
       "        0.0044395 , 0.0044395 , 0.0044395 , 0.0044395 , 0.0044395 ],\n",
       "       [0.0044395 , 0.0044395 , 0.0044395 , 0.00456187, 0.0044395 ,\n",
       "        0.0044395 , 0.0044395 , 0.0044395 , 0.0044395 , 0.0044395 ,\n",
       "        0.0044395 , 0.0044395 , 0.0044395 , 0.0044395 , 0.0044395 ],\n",
       "       [0.0044395 , 0.0044395 , 0.00452812, 0.00460157, 0.0044395 ,\n",
       "        0.0044395 , 0.0044395 , 0.0044395 , 0.0044395 , 0.0044395 ,\n",
       "        0.0044395 , 0.0044395 , 0.0044395 , 0.0044395 , 0.0044395 ],\n",
       "       [0.0044395 , 0.0044395 , 0.00466636, 0.00459286, 0.0044395 ,\n",
       "        0.0044395 , 0.0044395 , 0.0044395 , 0.0044395 , 0.0044395 ,\n",
       "        0.0044395 , 0.0044395 , 0.0044395 , 0.0044395 , 0.0044395 ],\n",
       "       [0.0044395 , 0.00444523, 0.0044395 , 0.0044395 , 0.0044395 ,\n",
       "        0.0044395 , 0.0044395 , 0.0044395 , 0.0044395 , 0.0044395 ,\n",
       "        0.0044395 , 0.0044395 , 0.0044395 , 0.0044395 , 0.0044395 ],\n",
       "       [0.0044395 , 0.0044395 , 0.0044395 , 0.00449374, 0.0044395 ,\n",
       "        0.0044395 , 0.0044395 , 0.0044395 , 0.0044395 , 0.0044395 ,\n",
       "        0.0044395 , 0.0044395 , 0.0044395 , 0.0044395 , 0.0044395 ],\n",
       "       [0.0044395 , 0.0044395 , 0.0044395 , 0.0044395 , 0.0044395 ,\n",
       "        0.0044395 , 0.0044395 , 0.0044395 , 0.0044395 , 0.0044395 ,\n",
       "        0.0044395 , 0.0044395 , 0.0044395 , 0.0044395 , 0.0044395 ],\n",
       "       [0.0044395 , 0.0044395 , 0.0044395 , 0.0044395 , 0.0044395 ,\n",
       "        0.0044395 , 0.0044395 , 0.0044395 , 0.0044395 , 0.0044395 ,\n",
       "        0.0044395 , 0.0044395 , 0.0044395 , 0.0044395 , 0.0044395 ],\n",
       "       [0.0044395 , 0.0044395 , 0.0044395 , 0.0044395 , 0.0044395 ,\n",
       "        0.0044395 , 0.0044395 , 0.0044395 , 0.0044395 , 0.0044395 ,\n",
       "        0.0044395 , 0.0044395 , 0.0044395 , 0.0044395 , 0.0044395 ],\n",
       "       [0.0044395 , 0.0044395 , 0.0044395 , 0.0044395 , 0.0044395 ,\n",
       "        0.0044395 , 0.0044395 , 0.0044395 , 0.0044395 , 0.0044395 ,\n",
       "        0.0044395 , 0.0044395 , 0.0044395 , 0.0044395 , 0.0044395 ],\n",
       "       [0.0044395 , 0.0044395 , 0.0044395 , 0.0044395 , 0.0044395 ,\n",
       "        0.0044395 , 0.0044395 , 0.0044395 , 0.0044395 , 0.0044395 ,\n",
       "        0.0044395 , 0.0044395 , 0.0044395 , 0.0044395 , 0.0044395 ],\n",
       "       [0.0044395 , 0.0044395 , 0.0044395 , 0.0044395 , 0.0044395 ,\n",
       "        0.0044395 , 0.0044395 , 0.0044395 , 0.0044395 , 0.0044395 ,\n",
       "        0.0044395 , 0.0044395 , 0.0044395 , 0.0044395 , 0.0044395 ],\n",
       "       [0.0044395 , 0.0044395 , 0.0044395 , 0.0044395 , 0.0044395 ,\n",
       "        0.0044395 , 0.0044395 , 0.0044395 , 0.0044395 , 0.0044395 ,\n",
       "        0.0044395 , 0.0044395 , 0.0044395 , 0.0044395 , 0.0044395 ],\n",
       "       [0.0044395 , 0.0044395 , 0.0044395 , 0.0044395 , 0.0044395 ,\n",
       "        0.0044395 , 0.0044395 , 0.0044395 , 0.0044395 , 0.0044395 ,\n",
       "        0.0044395 , 0.0044395 , 0.0044395 , 0.0044395 , 0.0044395 ]],\n",
       "      dtype=float32)"
      ]
     },
     "execution_count": 9,
     "metadata": {},
     "output_type": "execute_result"
    }
   ],
   "source": [
    "prediction"
   ]
  },
  {
   "cell_type": "code",
   "execution_count": 10,
   "metadata": {},
   "outputs": [
    {
     "data": {
      "text/plain": [
       "{}"
      ]
     },
     "execution_count": 10,
     "metadata": {},
     "output_type": "execute_result"
    }
   ],
   "source": [
    "\n",
    "#start_time = time.time()\n",
    "# monte_carlo_result = do_monte_carlo(board, 1)\n",
    "# monte_carlo_result\n",
    "#print(time.time() - start_time)\n",
    "\n",
    "# 50 = 63s\n",
    "\n",
    "timer.timers"
   ]
  },
  {
   "cell_type": "code",
   "execution_count": 11,
   "metadata": {},
   "outputs": [],
   "source": [
    "train_x = []\n",
    "train_y = []\n",
    "monte_carlo_results = []"
   ]
  },
  {
   "cell_type": "code",
   "execution_count": 12,
   "metadata": {
    "scrolled": true
   },
   "outputs": [],
   "source": [
    "'''\n",
    "while True:\n",
    "    board = np.zeros((BOARD_SIZE, BOARD_SIZE, 1))\n",
    "\n",
    "    board[int(BOARD_SIZE / 2)][int(BOARD_SIZE / 2)] = 1\n",
    "    cur_player = -1\n",
    "\n",
    "    for i in range(BOARD_SIZE * BOARD_SIZE):\n",
    "        print('Looping:', i, 'Data count:', len(train_x))\n",
    "        monte_carlo_result = do_monte_carlo(board, cur_player)\n",
    "\n",
    "        monte_carlo_result[board.reshape(BOARD_SIZE, BOARD_SIZE) != 0] = 0\n",
    "\n",
    "        x, y = get_best_play_pos(monte_carlo_result)\n",
    "\n",
    "        new_train_y = np.zeros((BOARD_SIZE, BOARD_SIZE, 1))\n",
    "        new_train_y[x][y][0] = 1\n",
    "\n",
    "        train_x.append(board.copy() * cur_player)\n",
    "        train_y.append(new_train_y)\n",
    "        monte_carlo_results.append(monte_carlo_result)\n",
    "\n",
    "        board[x][y][0] = cur_player\n",
    "\n",
    "        if define_winning(board, x, y):\n",
    "            print('found win condition')\n",
    "            break\n",
    "\n",
    "        cur_player *= -1\n",
    "    \n",
    "    #if i > 5:\n",
    "    #    break\n",
    "'''\n",
    "pass"
   ]
  },
  {
   "cell_type": "code",
   "execution_count": 13,
   "metadata": {},
   "outputs": [
    {
     "data": {
      "text/plain": [
       "{}"
      ]
     },
     "execution_count": 13,
     "metadata": {},
     "output_type": "execute_result"
    }
   ],
   "source": [
    "timer.timers\n",
    "\n",
    "# Before get play pos improvenment\n",
    "#{'define win': 1.1015589237213135,\n",
    "# 'get play pos': 48.229655265808105,\n",
    "# 'keras': 9.573432683944702,\n",
    "# 'slow loop': 52.7112512588501}\n",
    "\n",
    "# After it\n",
    "#{'define win': 120.23645758628845,\n",
    "# 'get play pos': 1031.8518664836884,\n",
    "# 'keras': 995.5591900348663,\n",
    "# 'slow loop': 1492.1334855556488}\n"
   ]
  },
  {
   "cell_type": "code",
   "execution_count": 14,
   "metadata": {},
   "outputs": [],
   "source": [
    "def augment_data(train_x, train_y):\n",
    "    augmented_train_x = []\n",
    "    augmented_train_y = []\n",
    "\n",
    "    train_x[0].shape\n",
    "\n",
    "    #pyplot.imshow(train_x[5].reshape(15, 15))\n",
    "    #pyplot.imshow(train_y[2].reshape(15, 15))\n",
    "\n",
    "    #pyplot.imshow(np.flip(np.rot90(train_x[7])).reshape(15, 15))\n",
    "\n",
    "\n",
    "    for x, y in zip(train_x, train_y):\n",
    "        augmented_train_x.append(x)\n",
    "        augmented_train_y.append(y)\n",
    "        augmented_train_x.append(np.rot90(x))\n",
    "        augmented_train_y.append(np.rot90(y))\n",
    "        augmented_train_x.append(np.rot90(x, 2))\n",
    "        augmented_train_y.append(np.rot90(y, 2))\n",
    "        augmented_train_x.append(np.rot90(x, 3))\n",
    "        augmented_train_y.append(np.rot90(y, 3))\n",
    "        augmented_train_x.append(np.flip(x))\n",
    "        augmented_train_y.append(np.flip(y))\n",
    "        augmented_train_x.append(np.flip(np.rot90(x)))\n",
    "        augmented_train_y.append(np.flip(np.rot90(y)))\n",
    "        augmented_train_x.append(np.flip(np.rot90(x, 2)))\n",
    "        augmented_train_y.append(np.flip(np.rot90(y, 2)))\n",
    "        augmented_train_x.append(np.flip(np.rot90(x, 3)))\n",
    "        augmented_train_y.append(np.flip(np.rot90(y, 3)))\n",
    "    \n",
    "    return augmented_train_x, augmented_train_y\n",
    "\n",
    "\n",
    "# augmented_train_x, augmented_train_y = augment_data(train_x, train_y)"
   ]
  },
  {
   "cell_type": "code",
   "execution_count": 15,
   "metadata": {},
   "outputs": [],
   "source": [
    "#i = 0"
   ]
  },
  {
   "cell_type": "code",
   "execution_count": 16,
   "metadata": {
    "scrolled": true
   },
   "outputs": [],
   "source": [
    "#pyplot.imshow(train_x[i].reshape(BOARD_SIZE, BOARD_SIZE), norm=Normalize(-1, 1), cmap='rainbow')\n",
    "# i += 1"
   ]
  },
  {
   "cell_type": "code",
   "execution_count": 17,
   "metadata": {},
   "outputs": [],
   "source": [
    "#monte_carlo_result\n",
    "#pyplot.imshow(monte_carlo_results[i].reshape(BOARD_SIZE, BOARD_SIZE), norm=Normalize(0, 1), cmap='gray')\n"
   ]
  },
  {
   "cell_type": "code",
   "execution_count": 18,
   "metadata": {},
   "outputs": [],
   "source": [
    "#prediction = model.predict(np.array([train_x[i]]))\n",
    "\n",
    "#pyplot.imshow(prediction[0,:,:,0])#, norm=Normalize(0, 1))\n",
    "\n",
    "#i += 1"
   ]
  },
  {
   "cell_type": "code",
   "execution_count": 19,
   "metadata": {},
   "outputs": [],
   "source": [
    "#len(train_x), len(augmented_train_x)"
   ]
  },
  {
   "cell_type": "code",
   "execution_count": 20,
   "metadata": {},
   "outputs": [],
   "source": [
    "#len(train_y), len(augmented_train_y)"
   ]
  },
  {
   "cell_type": "code",
   "execution_count": 21,
   "metadata": {
    "scrolled": true
   },
   "outputs": [],
   "source": [
    "'''\n",
    "history = model.fit(\n",
    "    np.array(augmented_train_x),\n",
    "    #keras.utils.to_categorical(np.array(augmented_train_y), num_classes=2),\n",
    "    np.array(augmented_train_y),\n",
    "    epochs=EPOCHS,\n",
    "    validation_split=0.1,\n",
    "    shuffle=True\n",
    ")\n",
    "'''\n",
    "pass"
   ]
  },
  {
   "cell_type": "code",
   "execution_count": 22,
   "metadata": {},
   "outputs": [],
   "source": [
    "'''\n",
    "plt.plot(history.history['acc'])\n",
    "plt.plot(history.history['val_acc'])\n",
    "plt.ylabel('accuracy')\n",
    "plt.xlabel('epoch')\n",
    "plt.legend(['train', 'test'], loc='upper left')\n",
    "\n",
    "plt.show()\n",
    "'''\n",
    "pass"
   ]
  },
  {
   "cell_type": "code",
   "execution_count": 23,
   "metadata": {},
   "outputs": [],
   "source": [
    "'''\n",
    "plt.plot(history.history['loss'])\n",
    "plt.plot(history.history['val_loss'])\n",
    "plt.ylabel('loss')\n",
    "plt.xlabel('epoch')\n",
    "plt.legend(['train', 'test'], loc='upper left')\n",
    "plt.show()\n",
    "'''\n",
    "pass"
   ]
  },
  {
   "cell_type": "code",
   "execution_count": 24,
   "metadata": {},
   "outputs": [],
   "source": [
    "#i = 0"
   ]
  },
  {
   "cell_type": "code",
   "execution_count": 25,
   "metadata": {},
   "outputs": [],
   "source": [
    "#pyplot.imshow(train_x[i].reshape(BOARD_SIZE, BOARD_SIZE), norm=Normalize(-1, 1), cmap='rainbow')"
   ]
  },
  {
   "cell_type": "code",
   "execution_count": 26,
   "metadata": {},
   "outputs": [],
   "source": [
    "#pyplot.imshow(train_y[i].reshape(BOARD_SIZE, BOARD_SIZE), norm=Normalize(-1, 1), cmap='rainbow')"
   ]
  },
  {
   "cell_type": "code",
   "execution_count": 27,
   "metadata": {},
   "outputs": [],
   "source": [
    "#i+=1"
   ]
  },
  {
   "cell_type": "code",
   "execution_count": null,
   "metadata": {},
   "outputs": [
    {
     "name": "stdout",
     "output_type": "stream",
     "text": [
      "STARTING LOOP 0\n"
     ]
    }
   ],
   "source": [
    "\n",
    "loop_index = 0\n",
    "while True:\n",
    "    print('STARTING LOOP', loop_index)\n",
    "    \n",
    "    train_x = []\n",
    "    train_y = []\n",
    "\n",
    "    while len(train_x) < ONE_LOOP_DATA:\n",
    "        board = np.zeros((BOARD_SIZE, BOARD_SIZE, 1))\n",
    "\n",
    "        board[int(BOARD_SIZE / 2)][int(BOARD_SIZE / 2)] = 1\n",
    "        cur_player = -1\n",
    "\n",
    "        for i in range(BOARD_SIZE * BOARD_SIZE):\n",
    "            # print('Looping:', i, 'Data count:', len(train_x))\n",
    "            monte_carlo_result = do_monte_carlo(board, cur_player)\n",
    "\n",
    "            monte_carlo_result[board.reshape(BOARD_SIZE, BOARD_SIZE) != 0] = 0\n",
    "\n",
    "            x, y = get_best_play_pos(monte_carlo_result)\n",
    "\n",
    "            new_train_y = np.zeros((BOARD_SIZE, BOARD_SIZE, 1))\n",
    "            new_train_y[x][y][0] = 1\n",
    "\n",
    "            train_x.append(board.copy() * cur_player)\n",
    "            train_y.append(new_train_y)\n",
    "            monte_carlo_results.append(monte_carlo_result)\n",
    "\n",
    "            board[x][y][0] = cur_player\n",
    "\n",
    "            if define_winning(board, x, y):\n",
    "                print('found win condition')\n",
    "                break\n",
    "\n",
    "            cur_player *= -1\n",
    "    \n",
    "    augmented_train_x, augmented_train_y = augment_data(train_x, train_y)\n",
    "    \n",
    "    model.fit(\n",
    "        np.array(augmented_train_x),\n",
    "        #keras.utils.to_categorical(np.array(augmented_train_y), num_classes=2),\n",
    "        np.array(augmented_train_y),\n",
    "        epochs=EPOCHS,\n",
    "        #validation_split=0.1,\n",
    "        shuffle=True\n",
    "    )\n",
    "    \n",
    "    model.save('my-model-{}.h5'.format(loop_index))\n",
    "    np.savez_compressed('train-x-y-{}'.format(loop_index))\n",
    "    \n",
    "    loop_index += 1\n",
    "    "
   ]
  },
  {
   "cell_type": "code",
   "execution_count": null,
   "metadata": {},
   "outputs": [],
   "source": [
    "print('moi')"
   ]
  },
  {
   "cell_type": "code",
   "execution_count": null,
   "metadata": {},
   "outputs": [],
   "source": [
    "i = 0"
   ]
  },
  {
   "cell_type": "code",
   "execution_count": null,
   "metadata": {},
   "outputs": [],
   "source": [
    "pyplot.imshow(augmented_train_x[i * 8].reshape(BOARD_SIZE, BOARD_SIZE), norm=Normalize(-1, 1), cmap='rainbow')"
   ]
  },
  {
   "cell_type": "code",
   "execution_count": null,
   "metadata": {},
   "outputs": [],
   "source": [
    "prediction = model.predict(np.array([augmented_train_x[i * 8]]))\n",
    "\n",
    "pyplot.imshow(prediction.reshape(BOARD_SIZE, BOARD_SIZE))"
   ]
  },
  {
   "cell_type": "code",
   "execution_count": null,
   "metadata": {},
   "outputs": [],
   "source": [
    "i += 1"
   ]
  },
  {
   "cell_type": "code",
   "execution_count": null,
   "metadata": {},
   "outputs": [],
   "source": [
    "i"
   ]
  },
  {
   "cell_type": "code",
   "execution_count": null,
   "metadata": {},
   "outputs": [],
   "source": []
  },
  {
   "cell_type": "code",
   "execution_count": null,
   "metadata": {},
   "outputs": [],
   "source": []
  }
 ],
 "metadata": {
  "kernelspec": {
   "display_name": "Python 3",
   "language": "python",
   "name": "python3"
  },
  "language_info": {
   "codemirror_mode": {
    "name": "ipython",
    "version": 3
   },
   "file_extension": ".py",
   "mimetype": "text/x-python",
   "name": "python",
   "nbconvert_exporter": "python",
   "pygments_lexer": "ipython3",
   "version": "3.5.2"
  }
 },
 "nbformat": 4,
 "nbformat_minor": 2
}
