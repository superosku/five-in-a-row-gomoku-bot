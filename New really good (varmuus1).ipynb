{
 "cells": [
  {
   "cell_type": "code",
   "execution_count": 378,
   "metadata": {},
   "outputs": [],
   "source": [
    "import random\n",
    "import time\n",
    "\n",
    "import numpy as np\n",
    "\n",
    "from matplotlib import pyplot\n",
    "from matplotlib.colors import Normalize\n",
    "\n",
    "from keras.models import Sequential\n",
    "from keras.layers import Dense, Conv2D, Flatten, Softmax, Reshape\n",
    "import keras\n"
   ]
  },
  {
   "cell_type": "code",
   "execution_count": 379,
   "metadata": {},
   "outputs": [],
   "source": [
    "BOARD_SIZE = 10"
   ]
  },
  {
   "cell_type": "code",
   "execution_count": 380,
   "metadata": {},
   "outputs": [
    {
     "data": {
      "image/png": "[encoded data removed]",
      "text/plain": [
       "<Figure size 432x288 with 1 Axes>"
      ]
     },
     "metadata": {
      "needs_background": "light"
     },
     "output_type": "display_data"
    }
   ],
   "source": [
    "board = np.zeros((BOARD_SIZE, BOARD_SIZE, 3))\n",
    "\n",
    "board[5][5][1] = 1\n",
    "board[6][6][2] = 1\n",
    "board[2][5][2] = 1\n",
    "\n",
    "def vis_board(board, shower=pyplot):\n",
    "    #pyplot.grid(which='minor', color='w', linestyle='-', linewidth=2)\n",
    "    shower.imshow((board[:,:,1] - board[:,:,2]).transpose(), norm=Normalize(-1 ,1))\n",
    "    ax = pyplot.gca()\n",
    "\n",
    "    ax.set_xticks(np.arange(-.5, BOARD_SIZE, 1), minor=True);\n",
    "    ax.set_yticks(np.arange(-.5, BOARD_SIZE, 1), minor=True);\n",
    "    ax.grid(which='minor', color='black', linestyle='-', linewidth=1)\n",
    "    \n",
    "    pyplot.axis('off')\n",
    "\n",
    "\n",
    "vis_board(board)"
   ]
  },
  {
   "cell_type": "code",
   "execution_count": 381,
   "metadata": {},
   "outputs": [
    {
     "name": "stdout",
     "output_type": "stream",
     "text": [
      "Model: \"sequential_37\"\n",
      "_________________________________________________________________\n",
      "Layer (type)                 Output Shape              Param #   \n",
      "=================================================================\n",
      "conv2d_88 (Conv2D)           (None, 10, 10, 64)        1792      \n",
      "_________________________________________________________________\n",
      "conv2d_89 (Conv2D)           (None, 10, 10, 64)        36928     \n",
      "_________________________________________________________________\n",
      "conv2d_90 (Conv2D)           (None, 10, 10, 64)        36928     \n",
      "_________________________________________________________________\n",
      "conv2d_91 (Conv2D)           (None, 10, 10, 1)         577       \n",
      "_________________________________________________________________\n",
      "flatten_25 (Flatten)         (None, 100)               0         \n",
      "_________________________________________________________________\n",
      "softmax_6 (Softmax)          (None, 100)               0         \n",
      "_________________________________________________________________\n",
      "reshape_3 (Reshape)          (None, 10, 10, 1)         0         \n",
      "=================================================================\n",
      "Total params: 76,225\n",
      "Trainable params: 76,225\n",
      "Non-trainable params: 0\n",
      "_________________________________________________________________\n",
      "Model: \"sequential_38\"\n",
      "_________________________________________________________________\n",
      "Layer (type)                 Output Shape              Param #   \n",
      "=================================================================\n",
      "conv2d_92 (Conv2D)           (None, 8, 8, 64)          1792      \n",
      "_________________________________________________________________\n",
      "conv2d_93 (Conv2D)           (None, 6, 6, 64)          36928     \n",
      "_________________________________________________________________\n",
      "conv2d_94 (Conv2D)           (None, 4, 4, 64)          36928     \n",
      "_________________________________________________________________\n",
      "flatten_26 (Flatten)         (None, 1024)              0         \n",
      "_________________________________________________________________\n",
      "dense_64 (Dense)             (None, 32)                32800     \n",
      "_________________________________________________________________\n",
      "dense_65 (Dense)             (None, 10)                330       \n",
      "_________________________________________________________________\n",
      "dense_66 (Dense)             (None, 1)                 11        \n",
      "=================================================================\n",
      "Total params: 108,789\n",
      "Trainable params: 108,789\n",
      "Non-trainable params: 0\n",
      "_________________________________________________________________\n"
     ]
    }
   ],
   "source": [
    "\n",
    "move_model = Sequential()\n",
    "move_model.add(Conv2D(\n",
    "    64, kernel_size=3, activation='relu', input_shape=(BOARD_SIZE, BOARD_SIZE, 3), padding='same'\n",
    "))\n",
    "move_model.add(Conv2D(64, kernel_size=3, activation='relu', padding='same'))\n",
    "move_model.add(Conv2D(64, kernel_size=3, activation='relu', padding='same'))\n",
    "move_model.add(Conv2D(1, kernel_size=3, activation='relu', padding='same'))\n",
    "move_model.add(Flatten())\n",
    "move_model.add(Softmax())\n",
    "move_model.add(Reshape((BOARD_SIZE, BOARD_SIZE, 1)))\n",
    "\n",
    "move_model.compile(\n",
    "    optimizer=keras.optimizers.Adam(lr=0.0001),\n",
    "    #loss='categorical_crossentropy',\n",
    "    loss='binary_crossentropy',\n",
    "    metrics=['accuracy']\n",
    ")\n",
    "\n",
    "score_model = Sequential()\n",
    "score_model.add(Conv2D(64, kernel_size=3, activation='relu', input_shape=(BOARD_SIZE, BOARD_SIZE, 3)))#, padding='same'))\n",
    "score_model.add(Conv2D(64, kernel_size=3, activation='relu')) #, padding='same'))\n",
    "score_model.add(Conv2D(64, kernel_size=3, activation='relu')) #, padding='same'))\n",
    "\n",
    "score_model.add(Flatten())\n",
    "\n",
    "score_model.add(Dense(32, activation='sigmoid'))\n",
    "score_model.add(Dense(10, activation='sigmoid'))\n",
    "score_model.add(Dense(1, activation='sigmoid'))\n",
    "\n",
    "score_model.compile(\n",
    "    optimizer=keras.optimizers.Adam(lr=0.0001),\n",
    "    #loss='categorical_crossentropy',\n",
    "    loss='binary_crossentropy',\n",
    "    metrics=['accuracy']\n",
    ")\n",
    "\n",
    "move_model.summary()\n",
    "\n",
    "score_model.summary()\n"
   ]
  },
  {
   "cell_type": "code",
   "execution_count": null,
   "metadata": {},
   "outputs": [],
   "source": []
  },
  {
   "cell_type": "code",
   "execution_count": 319,
   "metadata": {},
   "outputs": [
    {
     "data": {
      "text/plain": [
       "False"
      ]
     },
     "execution_count": 319,
     "metadata": {},
     "output_type": "execute_result"
    },
    {
     "data": {
      "image/png": "[encoded data removed]",
      "text/plain": [
       "<Figure size 432x288 with 1 Axes>"
      ]
     },
     "metadata": {
      "needs_background": "light"
     },
     "output_type": "display_data"
    }
   ],
   "source": [
    "def check_win(board, x, y, player):\n",
    "    #value = board[x][y][0]\n",
    "    \n",
    "    # X direction\n",
    "    count = 1\n",
    "    i = 1\n",
    "    while x - i >= 0 and board[x - i][y][player+1] == 1:\n",
    "        count += 1\n",
    "        i += 1\n",
    "    i = 1\n",
    "    while x + i < BOARD_SIZE and board[x + i][y][player+1] == 1:\n",
    "        count += 1\n",
    "        i += 1\n",
    "    if count >= 5:\n",
    "        return True\n",
    "    \n",
    "    # Y direction\n",
    "    count = 1\n",
    "    i = 1\n",
    "    while y - i >= 0 and board[x][y - i][player+1] == 1:\n",
    "        count += 1\n",
    "        i += 1\n",
    "    i = 1\n",
    "    while y + i < BOARD_SIZE and board[x][y + i][player+1] == 1:\n",
    "        count += 1\n",
    "        i += 1\n",
    "    if count >= 5:\n",
    "        return True\n",
    "    \n",
    "    # Diagonal 1\n",
    "    count = 1\n",
    "    i = 1\n",
    "    while x - i >= 0 and y - i >= 0 and board[x - i][y - i][player+1] == 1:\n",
    "        count += 1\n",
    "        i += 1\n",
    "    i = 1\n",
    "    while x + i < BOARD_SIZE and y + i < BOARD_SIZE and board[x + i][y + i][player+1] == 1:\n",
    "        count += 1\n",
    "        i += 1\n",
    "    if count >= 5:\n",
    "        return True\n",
    "    \n",
    "    # Diagonal 2\n",
    "    count = 1\n",
    "    i = 1\n",
    "    while x - i >= 0 and y + i < BOARD_SIZE and board[x - i][y + i][player+1] == 1:\n",
    "        count += 1\n",
    "        i += 1\n",
    "    i = 1\n",
    "    while x + i < BOARD_SIZE and y - i >= 0 and board[x + i][y - i][player+1] == 1:\n",
    "        count += 1\n",
    "        i += 1\n",
    "    if count >= 5:\n",
    "        return True\n",
    "    \n",
    "    return False\n",
    "\n",
    "board = np.zeros((BOARD_SIZE, BOARD_SIZE, 3))\n",
    "\n",
    "board[2][3][2] = 1\n",
    "board[2][4][2] = 1\n",
    "board[2][5][2] = 1\n",
    "board[2][6][2] = 1\n",
    "#board[2][7][2] = 1\n",
    "\n",
    "board[1][1][1] = 1\n",
    "\n",
    "vis_board(board)\n",
    "\n",
    "check_win(board, 2, 5, 1)"
   ]
  },
  {
   "cell_type": "code",
   "execution_count": null,
   "metadata": {},
   "outputs": [],
   "source": []
  },
  {
   "cell_type": "code",
   "execution_count": 390,
   "metadata": {},
   "outputs": [
    {
     "ename": "TypeError",
     "evalue": "'float' object cannot be interpreted as an integer",
     "output_type": "error",
     "traceback": [
      "\u001b[0;31m---------------------------------------------------------------------------\u001b[0m",
      "\u001b[0;31mTypeError\u001b[0m                                 Traceback (most recent call last)",
      "\u001b[0;32m<ipython-input-390-708588dc6255>\u001b[0m in \u001b[0;36m<module>\u001b[0;34m\u001b[0m\n\u001b[1;32m    125\u001b[0m     \u001b[0mboard\u001b[0m \u001b[0;34m=\u001b[0m \u001b[0mnp\u001b[0m\u001b[0;34m.\u001b[0m\u001b[0mzeros\u001b[0m\u001b[0;34m(\u001b[0m\u001b[0;34m(\u001b[0m\u001b[0mBOARD_SIZE\u001b[0m\u001b[0;34m,\u001b[0m \u001b[0mBOARD_SIZE\u001b[0m\u001b[0;34m,\u001b[0m \u001b[0;36m3\u001b[0m\u001b[0;34m)\u001b[0m\u001b[0;34m)\u001b[0m\u001b[0;34m\u001b[0m\u001b[0;34m\u001b[0m\u001b[0m\n\u001b[1;32m    126\u001b[0m \u001b[0;34m\u001b[0m\u001b[0m\n\u001b[0;32m--> 127\u001b[0;31m     \u001b[0;32mfor\u001b[0m \u001b[0mi\u001b[0m \u001b[0;32min\u001b[0m \u001b[0mrange\u001b[0m\u001b[0;34m(\u001b[0m\u001b[0mBOARD_SIZE\u001b[0m \u001b[0;34m*\u001b[0m \u001b[0mBOARD_SIZE\u001b[0m \u001b[0;34m/\u001b[0m \u001b[0;36m2\u001b[0m\u001b[0;34m)\u001b[0m\u001b[0;34m:\u001b[0m \u001b[0;31m# Max board size / 2 so no stupid board filling games allowed\u001b[0m\u001b[0;34m\u001b[0m\u001b[0;34m\u001b[0m\u001b[0m\n\u001b[0m\u001b[1;32m    128\u001b[0m         \u001b[0;31m#print('Starting loop')\u001b[0m\u001b[0;34m\u001b[0m\u001b[0;34m\u001b[0m\u001b[0;34m\u001b[0m\u001b[0m\n\u001b[1;32m    129\u001b[0m         \u001b[0mcur_player\u001b[0m \u001b[0;34m=\u001b[0m \u001b[0mint\u001b[0m\u001b[0;34m(\u001b[0m\u001b[0mboard\u001b[0m\u001b[0;34m[\u001b[0m\u001b[0;36m0\u001b[0m\u001b[0;34m]\u001b[0m\u001b[0;34m[\u001b[0m\u001b[0;36m0\u001b[0m\u001b[0;34m]\u001b[0m\u001b[0;34m[\u001b[0m\u001b[0;36m0\u001b[0m\u001b[0;34m]\u001b[0m\u001b[0;34m)\u001b[0m\u001b[0;34m\u001b[0m\u001b[0;34m\u001b[0m\u001b[0m\n",
      "\u001b[0;31mTypeError\u001b[0m: 'float' object cannot be interpreted as an integer"
     ]
    }
   ],
   "source": [
    "class RootCalculator():\n",
    "    def __init__(self):\n",
    "        self.nodes = 0\n",
    "    \n",
    "    def expanded(self):\n",
    "        self.nodes += 1\n",
    "\n",
    "\n",
    "class TerminalNode():\n",
    "    def __init__(self, value, xy):\n",
    "        self.value = value\n",
    "        self.best_xy = xy\n",
    "    \n",
    "    def do_expansion(self, board):\n",
    "        pass\n",
    "\n",
    "\n",
    "class Node():\n",
    "    def __init__(self, board, root_calculator, xy):\n",
    "        self.player = int(board[0][0][0])\n",
    "        #print('Player is here', self.player)\n",
    "        self.play_positions = []\n",
    "        self.sub_nodes = []\n",
    "        self.root_calculator = root_calculator\n",
    "        self.xy = xy\n",
    "        self.is_terminal = False\n",
    "        \n",
    "        for x in range(BOARD_SIZE):\n",
    "            for y in range(BOARD_SIZE):\n",
    "                if board[x][y][1] == 0 and board[x][y][2] == 0:\n",
    "                    self.play_positions.append((x, y))\n",
    "        \n",
    "        if xy == None:\n",
    "            # Root node\n",
    "            value = 0.5 # score_model.predict(np.array([board]))[0][0]\n",
    "        else:\n",
    "            # Non root\n",
    "            x, y = xy\n",
    "            \n",
    "            board[x][y][self.player + 1] = 1\n",
    "            if check_win(board, x, y, self.player):\n",
    "                self.is_terminal = True\n",
    "                value = self.player\n",
    "            else:\n",
    "                value = score_model.predict(np.array([board]))[0][0]\n",
    "            board[x][y][self.player + 1] = 0            \n",
    "        \n",
    "        self.value = value\n",
    "        self.best_xy = xy\n",
    "    \n",
    "    def expand(self, board):\n",
    "        if self.is_terminal:\n",
    "            return\n",
    "        \n",
    "        best_val = float('inf') if self.player == 0 else float('-inf')\n",
    "        best_xy = None\n",
    "        \n",
    "        for x, y in self.play_positions:            \n",
    "            sub_node = Node(board, self.root_calculator, (x, y))\n",
    "            \n",
    "            self.sub_nodes.append(sub_node)\n",
    "            \n",
    "            if (\n",
    "                (self.player == 1 and sub_node.value > best_val) or\n",
    "                (self.player == 0 and sub_node.value < best_val)\n",
    "            ):\n",
    "                best_val = sub_node.value\n",
    "                best_xy = (x, y)\n",
    "            \n",
    "        self.value = best_val\n",
    "        self.best_xy = best_xy\n",
    "    \n",
    "    def do_expansion(self, board):\n",
    "        self.root_calculator.expanded()\n",
    "        \n",
    "        # Set board\n",
    "        if self.xy != None:\n",
    "            x, y = self.xy\n",
    "            board[x][y][self.player + 1] = 1\n",
    "            board[:,:,0] = self.player\n",
    "        \n",
    "        if self.sub_nodes:\n",
    "            \n",
    "            random_node = random.choice(self.sub_nodes)\n",
    "            \n",
    "            raise NotImplemented()\n",
    "            \n",
    "            random_node.do_expansion(board)\n",
    "            \n",
    "            if self.player == 1:\n",
    "                if random_node.value > self.value:\n",
    "                    self.best_xy = random_node.best_xy\n",
    "                self.value = max(random_node.value, self.value)\n",
    "            else:\n",
    "                if random_node.value < self.value:\n",
    "                    self.best_xy = random_node.best_xy\n",
    "                self.value = min(random_node.value, self.value)\n",
    "        else:\n",
    "            self.expand(board)\n",
    "\n",
    "        # Unset board\n",
    "        if self.xy != None:\n",
    "            board[x][y][self.player + 1] = 0\n",
    "            board[:,:,0] = self.player\n",
    "            \n",
    "\n",
    "def choose_play(board):\n",
    "    pass\n",
    "\n",
    "board = np.zeros((BOARD_SIZE, BOARD_SIZE, 3))\n",
    "\n",
    "\n",
    "start_time = time.time()\n",
    "\n",
    "\n",
    "boards = []\n",
    "plays = []\n",
    "board_statuses = []\n",
    "\n",
    "while True:\n",
    "    batch_boards = []\n",
    "    batch_plays = []\n",
    "    batch_board_stauts = []\n",
    "    \n",
    "    board = np.zeros((BOARD_SIZE, BOARD_SIZE, 3))\n",
    "    \n",
    "    for i in range(BOARD_SIZE * BOARD_SIZE / 2): # Max board size / 2 so no stupid board filling games allowed\n",
    "        #print('Starting loop')\n",
    "        cur_player = int(board[0][0][0])\n",
    "\n",
    "        root_calculator = RootCalculator()\n",
    "        node = Node(board, root_calculator, None)\n",
    "        for i in range(250):\n",
    "            node.do_expansion(board)\n",
    "            #print('node_count', root_calculator.nodes)\n",
    "\n",
    "        x, y = node.best_xy\n",
    "\n",
    "        batch_boards.append(board.copy())\n",
    "        play_pos = np.zeros((BOARD_SIZE, BOARD_SIZE, 1))\n",
    "        play_pos[x][y][0] = 1\n",
    "        batch_plays.append(play_pos)\n",
    "\n",
    "        board[x][y][cur_player + 1] = 1\n",
    "\n",
    "        if check_win(board, x, y, cur_player):\n",
    "            #print('Win condition found')\n",
    "            batch_board_stauts = len(batch_boards) * [cur_player]\n",
    "            break\n",
    "\n",
    "        board[:,:,0] = 1 if cur_player == 0 else 0 # Change the current player\n",
    "\n",
    "    boards += batch_boards\n",
    "    plays += batch_plays\n",
    "    board_statuses += batch_board_stauts\n",
    "    \n",
    "    print('Win happened', len(boards), len(plays), len(board_statuses))\n",
    "\n",
    "        \n",
    "#print('Value', node.value)\n",
    "#print('Best xy', node.best_xy)\n",
    "#print('Time (s)', time.time() - start_time)\n",
    "\n",
    "vis_board(board)"
   ]
  },
  {
   "cell_type": "code",
   "execution_count": 321,
   "metadata": {},
   "outputs": [],
   "source": [
    "i = 0"
   ]
  },
  {
   "cell_type": "code",
   "execution_count": 323,
   "metadata": {},
   "outputs": [
    {
     "name": "stdout",
     "output_type": "stream",
     "text": [
      "[[0. 0. 0. 0. 0. 0. 0. 0. 0. 0.]\n",
      " [0. 0. 0. 0. 1. 0. 0. 0. 0. 0.]\n",
      " [0. 0. 0. 0. 0. 0. 0. 0. 0. 0.]\n",
      " [0. 0. 0. 0. 0. 0. 0. 0. 0. 0.]\n",
      " [0. 0. 0. 0. 0. 0. 0. 0. 0. 0.]\n",
      " [0. 0. 0. 0. 0. 0. 0. 0. 0. 0.]\n",
      " [0. 0. 0. 0. 0. 0. 0. 0. 0. 0.]\n",
      " [0. 0. 0. 0. 0. 0. 0. 0. 0. 0.]\n",
      " [0. 0. 0. 0. 0. 0. 0. 0. 0. 0.]\n",
      " [0. 0. 0. 0. 0. 0. 0. 0. 0. 0.]]\n"
     ]
    },
    {
     "data": {
      "image/png": "[encoded data removed]",
      "text/plain": [
       "<Figure size 432x288 with 1 Axes>"
      ]
     },
     "metadata": {
      "needs_background": "light"
     },
     "output_type": "display_data"
    }
   ],
   "source": [
    "print(plays[i].reshape(BOARD_SIZE,BOARD_SIZE))\n",
    "i += 1\n",
    "vis_board(boards[i])"
   ]
  },
  {
   "cell_type": "code",
   "execution_count": 324,
   "metadata": {},
   "outputs": [
    {
     "data": {
      "text/plain": [
       "(2, 2, 0)"
      ]
     },
     "execution_count": 324,
     "metadata": {},
     "output_type": "execute_result"
    }
   ],
   "source": [
    "len(plays), len(batch_boards), len(batch_board_stauts)"
   ]
  },
  {
   "cell_type": "code",
   "execution_count": 339,
   "metadata": {},
   "outputs": [
    {
     "data": {
      "image/png": "[encoded data removed]",
      "text/plain": [
       "<Figure size 1080x1080 with 100 Axes>"
      ]
     },
     "metadata": {
      "needs_background": "light"
     },
     "output_type": "display_data"
    }
   ],
   "source": [
    "fig, axs = pyplot.subplots(10, 10, figsize=(15, 15))\n",
    "i = 0\n",
    "for x in range(10):\n",
    "    for y in range(10):\n",
    "        vis_board(boards[i], axs[x][y])\n",
    "        i += 1"
   ]
  },
  {
   "cell_type": "code",
   "execution_count": 389,
   "metadata": {},
   "outputs": [
    {
     "data": {
      "text/plain": [
       "<matplotlib.image.AxesImage at 0x153ef31d0>"
      ]
     },
     "execution_count": 389,
     "metadata": {},
     "output_type": "execute_result"
    },
    {
     "data": {
      "image/png": "[encoded data removed]",
      "text/plain": [
       "<Figure size 432x288 with 1 Axes>"
      ]
     },
     "metadata": {
      "needs_background": "light"
     },
     "output_type": "display_data"
    }
   ],
   "source": [
    "prediction = move_model.predict(np.array([boards[11]])).reshape(BOARD_SIZE, BOARD_SIZE)\n",
    "\n",
    "\n",
    "pyplot.imshow(\n",
    "    prediction.transpose(),\n",
    "    norm=Normalize(0, 0.1)\n",
    ")"
   ]
  },
  {
   "cell_type": "code",
   "execution_count": 382,
   "metadata": {},
   "outputs": [
    {
     "name": "stdout",
     "output_type": "stream",
     "text": [
      "Train on 314 samples, validate on 79 samples\n",
      "Epoch 1/20\n",
      "314/314 [==============================] - 0s 1ms/step - loss: 0.7133 - accuracy: 0.4586 - val_loss: 0.6998 - val_accuracy: 0.5063\n",
      "Epoch 2/20\n",
      "314/314 [==============================] - 0s 508us/step - loss: 0.7107 - accuracy: 0.4586 - val_loss: 0.6982 - val_accuracy: 0.5063\n",
      "Epoch 3/20\n",
      "314/314 [==============================] - 0s 513us/step - loss: 0.7072 - accuracy: 0.4586 - val_loss: 0.6967 - val_accuracy: 0.5063\n",
      "Epoch 4/20\n",
      "314/314 [==============================] - 0s 494us/step - loss: 0.7036 - accuracy: 0.4586 - val_loss: 0.6953 - val_accuracy: 0.5063\n",
      "Epoch 5/20\n",
      "314/314 [==============================] - 0s 507us/step - loss: 0.6997 - accuracy: 0.4586 - val_loss: 0.6943 - val_accuracy: 0.5063\n",
      "Epoch 6/20\n",
      "314/314 [==============================] - 0s 533us/step - loss: 0.6960 - accuracy: 0.4713 - val_loss: 0.6942 - val_accuracy: 0.4810\n",
      "Epoch 7/20\n",
      "314/314 [==============================] - 0s 490us/step - loss: 0.6932 - accuracy: 0.4936 - val_loss: 0.6949 - val_accuracy: 0.5063\n",
      "Epoch 8/20\n",
      "314/314 [==============================] - 0s 451us/step - loss: 0.6906 - accuracy: 0.5414 - val_loss: 0.6950 - val_accuracy: 0.5443\n",
      "Epoch 9/20\n",
      "314/314 [==============================] - 0s 455us/step - loss: 0.6896 - accuracy: 0.5255 - val_loss: 0.6957 - val_accuracy: 0.5063\n",
      "Epoch 10/20\n",
      "314/314 [==============================] - 0s 449us/step - loss: 0.6877 - accuracy: 0.5350 - val_loss: 0.6952 - val_accuracy: 0.5063\n",
      "Epoch 11/20\n",
      "314/314 [==============================] - 0s 446us/step - loss: 0.6867 - accuracy: 0.5350 - val_loss: 0.6936 - val_accuracy: 0.5063\n",
      "Epoch 12/20\n",
      "314/314 [==============================] - 0s 445us/step - loss: 0.6849 - accuracy: 0.5414 - val_loss: 0.6931 - val_accuracy: 0.5190\n",
      "Epoch 13/20\n",
      "314/314 [==============================] - 0s 445us/step - loss: 0.6836 - accuracy: 0.5478 - val_loss: 0.6923 - val_accuracy: 0.5190\n",
      "Epoch 14/20\n",
      "314/314 [==============================] - 0s 467us/step - loss: 0.6820 - accuracy: 0.5478 - val_loss: 0.6918 - val_accuracy: 0.5190\n",
      "Epoch 15/20\n",
      "314/314 [==============================] - 0s 446us/step - loss: 0.6799 - accuracy: 0.5478 - val_loss: 0.6908 - val_accuracy: 0.5316\n",
      "Epoch 16/20\n",
      "314/314 [==============================] - 0s 444us/step - loss: 0.6776 - accuracy: 0.5510 - val_loss: 0.6887 - val_accuracy: 0.5190\n",
      "Epoch 17/20\n",
      "314/314 [==============================] - 0s 470us/step - loss: 0.6749 - accuracy: 0.5701 - val_loss: 0.6864 - val_accuracy: 0.5063\n",
      "Epoch 18/20\n",
      "314/314 [==============================] - 0s 444us/step - loss: 0.6720 - accuracy: 0.6242 - val_loss: 0.6844 - val_accuracy: 0.5063\n",
      "Epoch 19/20\n",
      "314/314 [==============================] - 0s 426us/step - loss: 0.6682 - accuracy: 0.6465 - val_loss: 0.6831 - val_accuracy: 0.5190\n",
      "Epoch 20/20\n",
      "314/314 [==============================] - 0s 429us/step - loss: 0.6633 - accuracy: 0.6592 - val_loss: 0.6799 - val_accuracy: 0.5316\n"
     ]
    }
   ],
   "source": [
    "history = score_model.fit(\n",
    "    np.array(boards),\n",
    "    np.array(board_statuses),\n",
    "    epochs=20,\n",
    "    validation_split=0.2,\n",
    "    shuffle=True\n",
    ")"
   ]
  },
  {
   "cell_type": "code",
   "execution_count": 385,
   "metadata": {},
   "outputs": [
    {
     "name": "stdout",
     "output_type": "stream",
     "text": [
      "Train on 314 samples, validate on 79 samples\n",
      "Epoch 1/20\n",
      "314/314 [==============================] - 1s 2ms/step - loss: 0.0558 - accuracy: 0.9900 - val_loss: 0.0555 - val_accuracy: 0.9900\n",
      "Epoch 2/20\n",
      "314/314 [==============================] - 0s 1ms/step - loss: 0.0554 - accuracy: 0.9900 - val_loss: 0.0551 - val_accuracy: 0.9900\n",
      "Epoch 3/20\n",
      "314/314 [==============================] - 0s 1ms/step - loss: 0.0550 - accuracy: 0.9900 - val_loss: 0.0547 - val_accuracy: 0.9900\n",
      "Epoch 4/20\n",
      "314/314 [==============================] - 0s 1ms/step - loss: 0.0545 - accuracy: 0.9900 - val_loss: 0.0541 - val_accuracy: 0.9900\n",
      "Epoch 5/20\n",
      "314/314 [==============================] - 0s 1ms/step - loss: 0.0539 - accuracy: 0.9900 - val_loss: 0.0533 - val_accuracy: 0.9900\n",
      "Epoch 6/20\n",
      "314/314 [==============================] - 0s 1ms/step - loss: 0.0532 - accuracy: 0.9900 - val_loss: 0.0526 - val_accuracy: 0.9900\n",
      "Epoch 7/20\n",
      "314/314 [==============================] - 0s 1ms/step - loss: 0.0525 - accuracy: 0.9900 - val_loss: 0.0519 - val_accuracy: 0.9900\n",
      "Epoch 8/20\n",
      "314/314 [==============================] - 0s 1ms/step - loss: 0.0518 - accuracy: 0.9900 - val_loss: 0.0514 - val_accuracy: 0.9900\n",
      "Epoch 9/20\n",
      "314/314 [==============================] - 0s 1ms/step - loss: 0.0514 - accuracy: 0.9900 - val_loss: 0.0510 - val_accuracy: 0.9900\n",
      "Epoch 10/20\n",
      "314/314 [==============================] - 0s 1ms/step - loss: 0.0510 - accuracy: 0.9900 - val_loss: 0.0507 - val_accuracy: 0.9900\n",
      "Epoch 11/20\n",
      "314/314 [==============================] - 0s 1ms/step - loss: 0.0506 - accuracy: 0.9900 - val_loss: 0.0505 - val_accuracy: 0.9900\n",
      "Epoch 12/20\n",
      "314/314 [==============================] - 0s 1ms/step - loss: 0.0503 - accuracy: 0.9900 - val_loss: 0.0502 - val_accuracy: 0.9900\n",
      "Epoch 13/20\n",
      "314/314 [==============================] - 0s 1ms/step - loss: 0.0500 - accuracy: 0.9900 - val_loss: 0.0499 - val_accuracy: 0.9900\n",
      "Epoch 14/20\n",
      "314/314 [==============================] - 0s 1ms/step - loss: 0.0496 - accuracy: 0.9900 - val_loss: 0.0497 - val_accuracy: 0.9900\n",
      "Epoch 15/20\n",
      "314/314 [==============================] - 0s 1ms/step - loss: 0.0493 - accuracy: 0.9900 - val_loss: 0.0494 - val_accuracy: 0.9900\n",
      "Epoch 16/20\n",
      "314/314 [==============================] - 0s 1ms/step - loss: 0.0489 - accuracy: 0.9900 - val_loss: 0.0490 - val_accuracy: 0.9900\n",
      "Epoch 17/20\n",
      "314/314 [==============================] - 0s 1ms/step - loss: 0.0485 - accuracy: 0.9900 - val_loss: 0.0487 - val_accuracy: 0.9900\n",
      "Epoch 18/20\n",
      "314/314 [==============================] - 0s 1ms/step - loss: 0.0481 - accuracy: 0.9900 - val_loss: 0.0483 - val_accuracy: 0.9900\n",
      "Epoch 19/20\n",
      "314/314 [==============================] - 0s 1ms/step - loss: 0.0477 - accuracy: 0.9900 - val_loss: 0.0480 - val_accuracy: 0.9900\n",
      "Epoch 20/20\n",
      "314/314 [==============================] - 0s 1ms/step - loss: 0.0472 - accuracy: 0.9900 - val_loss: 0.0477 - val_accuracy: 0.9900\n"
     ]
    }
   ],
   "source": [
    "history = move_model.fit(\n",
    "    np.array(boards),\n",
    "    np.array(plays),\n",
    "    epochs=20,\n",
    "    validation_split=0.2,\n",
    "    shuffle=True\n",
    ")"
   ]
  },
  {
   "cell_type": "code",
   "execution_count": 386,
   "metadata": {},
   "outputs": [
    {
     "data": {
      "image/png": "[encoded data removed]",
      "text/plain": [
       "<Figure size 432x288 with 1 Axes>"
      ]
     },
     "metadata": {
      "needs_background": "light"
     },
     "output_type": "display_data"
    }
   ],
   "source": [
    "pyplot.plot(history.history['accuracy'])\n",
    "pyplot.plot(history.history['val_accuracy'])\n",
    "pyplot.title('Model accuracy')\n",
    "pyplot.ylabel('Accuracy')\n",
    "pyplot.xlabel('Epoch')\n",
    "pyplot.legend(['Train', 'Test'], loc='upper left')\n",
    "pyplot.show()"
   ]
  },
  {
   "cell_type": "code",
   "execution_count": 387,
   "metadata": {},
   "outputs": [
    {
     "data": {
      "image/png": "[encoded data removed]",
      "text/plain": [
       "<Figure size 432x288 with 1 Axes>"
      ]
     },
     "metadata": {
      "needs_background": "light"
     },
     "output_type": "display_data"
    }
   ],
   "source": [
    "# Plot training & validation loss values\n",
    "pyplot.plot(history.history['loss'])\n",
    "pyplot.plot(history.history['val_loss'])\n",
    "pyplot.title('Model loss')\n",
    "pyplot.ylabel('Loss')\n",
    "pyplot.xlabel('Epoch')\n",
    "pyplot.legend(['Train', 'Test'], loc='upper left')\n",
    "pyplot.show()\n"
   ]
  },
  {
   "cell_type": "code",
   "execution_count": null,
   "metadata": {},
   "outputs": [],
   "source": []
  }
 ],
 "metadata": {
  "kernelspec": {
   "display_name": "Python 3",
   "language": "python",
   "name": "python3"
  },
  "language_info": {
   "codemirror_mode": {
    "name": "ipython",
    "version": 3
   },
   "file_extension": ".py",
   "mimetype": "text/x-python",
   "name": "python",
   "nbconvert_exporter": "python",
   "pygments_lexer": "ipython3",
   "version": "3.7.4"
  }
 },
 "nbformat": 4,
 "nbformat_minor": 2
}
