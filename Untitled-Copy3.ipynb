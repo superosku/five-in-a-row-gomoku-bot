{
 "cells": [
  {
   "cell_type": "code",
   "execution_count": 399,
   "metadata": {},
   "outputs": [],
   "source": [
    "import numpy as np\n",
    "\n",
    "from keras.models import Sequential\n",
    "from keras.layers import Dense, Conv2D, Flatten\n",
    "\n",
    "from matplotlib import pyplot\n",
    "\n",
    "import random\n",
    "\n",
    "import time\n",
    "\n",
    "from matplotlib.colors import Normalize\n",
    "\n",
    "import matplotlib.pyplot as plt\n",
    "\n",
    "import keras\n",
    "\n",
    "from multiprocessing import Pool\n"
   ]
  },
  {
   "cell_type": "code",
   "execution_count": 400,
   "metadata": {},
   "outputs": [],
   "source": [
    "\n",
    "BOARD_SIZE = 15 # 15?\n",
    "BATCH_SIZE = 5 # 500?\n",
    "ONE_LOOP_DATA = 500 # 100? 1000?\n",
    "EPOCHS = 15 # 50?\n"
   ]
  },
  {
   "cell_type": "code",
   "execution_count": 430,
   "metadata": {},
   "outputs": [
    {
     "name": "stdout",
     "output_type": "stream",
     "text": [
      "Model: \"sequential_38\"\n",
      "_________________________________________________________________\n",
      "Layer (type)                 Output Shape              Param #   \n",
      "=================================================================\n",
      "conv2d_75 (Conv2D)           (None, 13, 13, 64)        1792      \n",
      "_________________________________________________________________\n",
      "flatten_34 (Flatten)         (None, 10816)             0         \n",
      "_________________________________________________________________\n",
      "dense_84 (Dense)             (None, 256)               2769152   \n",
      "_________________________________________________________________\n",
      "dense_85 (Dense)             (None, 64)                16448     \n",
      "_________________________________________________________________\n",
      "dense_86 (Dense)             (None, 2)                 130       \n",
      "=================================================================\n",
      "Total params: 2,787,522\n",
      "Trainable params: 2,787,522\n",
      "Non-trainable params: 0\n",
      "_________________________________________________________________\n"
     ]
    }
   ],
   "source": [
    "\n",
    "score_model = Sequential()\n",
    "score_model.add(Conv2D(64, kernel_size=3, activation='relu', input_shape=(BOARD_SIZE, BOARD_SIZE, 3)))#, padding='same'))\n",
    "#score_model.add(Conv2D(64, kernel_size=3, activation='relu')) #, padding='same'))\n",
    "#score_model.add(Conv2D(64, kernel_size=3, activation='relu')) #, padding='same'))\n",
    "\n",
    "score_model.add(Flatten())\n",
    "\n",
    "score_model.add(Dense(256, activation='sigmoid'))\n",
    "score_model.add(Dense(64, activation='sigmoid'))\n",
    "score_model.add(Dense(2, activation='softmax'))\n",
    "\n",
    "score_model.compile(\n",
    "    optimizer=keras.optimizers.Adam(lr=0.0001),\n",
    "    loss='categorical_crossentropy',\n",
    "    #loss='binary_crossentropy',\n",
    "    metrics=['accuracy']\n",
    ")\n",
    "\n",
    "score_model.summary()"
   ]
  },
  {
   "cell_type": "code",
   "execution_count": 402,
   "metadata": {},
   "outputs": [],
   "source": [
    "'''\n",
    "#model.add(Conv2D(256, kernel_size=3, activation='relu', input_shape=(BOARD_SIZE, BOARD_SIZE, 1), padding='same'))\n",
    "#model.add(Conv2D(256, kernel_size=3, activation='relu', input_shape=(BOARD_SIZE, BOARD_SIZE, 1), padding='same'))\n",
    "#model.add(Conv2D(256, kernel_size=3, activation='relu', input_shape=(BOARD_SIZE, BOARD_SIZE, 1), padding='same'))\n",
    "#model.add(Conv2D(256, kernel_size=3, activation='relu', input_shape=(BOARD_SIZE, BOARD_SIZE, 1), padding='same'))\n",
    "#model.add(Conv2D(64, kernel_size=3, activation='relu', input_shape=(BOARD_SIZE, BOARD_SIZE, 1), padding='same'))\n",
    "#model.add(Conv2D(64, kernel_size=3, activation='relu', input_shape=(BOARD_SIZE, BOARD_SIZE, 1), padding='same'))\n",
    "#model.add(Conv2D(64, kernel_size=3, activation='relu', input_shape=(BOARD_SIZE, BOARD_SIZE, 1), padding='same'))\n",
    "\n",
    "model = Sequential()\n",
    "model.add(Conv2D(64, kernel_size=3, activation='relu', input_shape=(BOARD_SIZE, BOARD_SIZE, 1), padding='same'))\n",
    "model.add(Conv2D(128, kernel_size=3, activation='relu', input_shape=(BOARD_SIZE, BOARD_SIZE, 1), padding='same'))\n",
    "model.add(Conv2D(128, kernel_size=3, activation='relu', input_shape=(BOARD_SIZE, BOARD_SIZE, 1), padding='same'))\n",
    "model.add(Conv2D(128, kernel_size=3, activation='relu', input_shape=(BOARD_SIZE, BOARD_SIZE, 1), padding='same'))\n",
    "#model.add(Conv2D(128, kernel_size=3, activation='relu', input_shape=(BOARD_SIZE, BOARD_SIZE, 1), padding='same'))\n",
    "#model.add(Conv2D(64, kernel_size=3, activation='relu', input_shape=(BOARD_SIZE, BOARD_SIZE, 1), padding='same'))\n",
    "\n",
    "model.add(Conv2D(1, kernel_size=1, activation='relu', input_shape=(BOARD_SIZE, BOARD_SIZE, 1), padding='same'))\n",
    "\n",
    "model.add(keras.layers.Flatten())\n",
    "model.add(keras.layers.Softmax())\n",
    "\n",
    "#model.add(keras.layers.Conv1D(1, kernel_size=1, activation='softmax'))\n",
    "\n",
    "model.add(keras.layers.Reshape((BOARD_SIZE, BOARD_SIZE, 1)))\n",
    "\n",
    "#model.add(keras.layers.LocallyConnected1D(1, 1, activation='softmax'))\n",
    "\n",
    "#model.add(keras.layers.Reshape((BOARD_SIZE, BOARD_SIZE)))\n",
    "\n",
    "model.compile(\n",
    "    optimizer=keras.optimizers.Adam(lr=0.0001),\n",
    "    loss='binary_crossentropy',\n",
    "    metrics=['accuracy']\n",
    ")\n",
    "\n",
    "model.summary()\n",
    "'''\n",
    "pass"
   ]
  },
  {
   "cell_type": "code",
   "execution_count": 403,
   "metadata": {},
   "outputs": [],
   "source": [
    "class Timer:\n",
    "    \n",
    "    def __init__(self):\n",
    "        self.timers = {}\n",
    "    \n",
    "    def timeit(self_outer, name):\n",
    "        if name not in self_outer.timers:\n",
    "            self_outer.timers[name] = 0\n",
    "            \n",
    "        class TimerInner:\n",
    "            def __enter__(self):\n",
    "                self.name = name\n",
    "                self.start_time = time.time()\n",
    "                pass\n",
    "\n",
    "            def __exit__(self, type, value, traceback):\n",
    "                self_outer.timers[self.name] += time.time() - self.start_time\n",
    "        \n",
    "        return TimerInner\n",
    "    \n",
    "    '''\n",
    "    def timeit(self, name):\n",
    "        if name not in self.timers:\n",
    "            self.timers[name] = 0\n",
    "        \n",
    "        def thing(func):\n",
    "            def inner_thing(*args, **kwargs):\n",
    "                start_time = time.time()\n",
    "                return_val = func(*args, **kwargs)\n",
    "                total_time = start_time - time.time()\n",
    "                self.timers[name] += total_time\n",
    "                return return_val\n",
    "            return inner_thing\n",
    "        return thing\n",
    "        '''"
   ]
  },
  {
   "cell_type": "code",
   "execution_count": 404,
   "metadata": {},
   "outputs": [],
   "source": [
    "def define_winning(board, x, y, player):\n",
    "    #value = board[x][y][0]\n",
    "    \n",
    "    # X direction\n",
    "    count = 1\n",
    "    i = 1\n",
    "    while x - i >= 0 and board[x - i][y][player] == 1:\n",
    "        count += 1\n",
    "        i += 1\n",
    "    i = 1\n",
    "    while x + i < BOARD_SIZE and board[x + i][y][player] == 1:\n",
    "        count += 1\n",
    "        i += 1\n",
    "    if count >= 5:\n",
    "        return True\n",
    "    \n",
    "    # Y direction\n",
    "    count = 1\n",
    "    i = 1\n",
    "    while y - i >= 0 and board[x][y - i][player] == 1:\n",
    "        count += 1\n",
    "        i += 1\n",
    "    i = 1\n",
    "    while y + i < BOARD_SIZE and board[x][y + i][player] == 1:\n",
    "        count += 1\n",
    "        i += 1\n",
    "    if count >= 5:\n",
    "        return True\n",
    "    \n",
    "    # Diagonal 1\n",
    "    count = 1\n",
    "    i = 1\n",
    "    while x - i >= 0 and y - i >= 0 and board[x - i][y - i][player] == 1:\n",
    "        count += 1\n",
    "        i += 1\n",
    "    i = 1\n",
    "    while x + i < BOARD_SIZE and y + i < BOARD_SIZE and board[x + i][y + i][player] == 1:\n",
    "        count += 1\n",
    "        i += 1\n",
    "    if count >= 5:\n",
    "        return True\n",
    "    \n",
    "    # Diagonal 2\n",
    "    count = 1\n",
    "    i = 1\n",
    "    while x - i >= 0 and y + i < BOARD_SIZE and board[x - i][y + i][player] == 1:\n",
    "        count += 1\n",
    "        i += 1\n",
    "    i = 1\n",
    "    while x + i < BOARD_SIZE and y - i >= 0 and board[x + i][y - i][player] == 1:\n",
    "        count += 1\n",
    "        i += 1\n",
    "    if count >= 5:\n",
    "        return True\n",
    "    \n",
    "    return False"
   ]
  },
  {
   "cell_type": "code",
   "execution_count": 428,
   "metadata": {},
   "outputs": [
    {
     "data": {
      "text/plain": [
       "<matplotlib.image.AxesImage at 0x157c50910>"
      ]
     },
     "execution_count": 428,
     "metadata": {},
     "output_type": "execute_result"
    },
    {
     "data": {
      "image/png": "[encoded data removed]",
      "text/plain": [
       "<Figure size 432x288 with 1 Axes>"
      ]
     },
     "metadata": {
      "needs_background": "light"
     },
     "output_type": "display_data"
    }
   ],
   "source": [
    "timer = Timer()\n",
    "\n",
    "boards = np.zeros((BATCH_SIZE, BOARD_SIZE, BOARD_SIZE, 1))\n",
    "boards.shape\n",
    "\n",
    "def get_play_pos(board, depth=0):\n",
    "    for i in range(50):\n",
    "        x = random.randrange(0, BOARD_SIZE)\n",
    "        y = random.randrange(0, BOARD_SIZE)\n",
    "        \n",
    "        if board[x][y][1] == 0 and board[x][y][2] == 0:\n",
    "            return x, y\n",
    "    \n",
    "    print('WARNING WARNING WARNING')\n",
    "    \n",
    "    return 0, 0\n",
    "    \n",
    "    raise Exception('Could not find play pos after trying')\n",
    "\n",
    "\n",
    "def do_monte_carlo(board, monte_carlo_player):\n",
    "    # Do a batch for each location on the board (non played)\n",
    "    \n",
    "    monte_carlo_result = np.zeros((BOARD_SIZE, BOARD_SIZE))\n",
    "    \n",
    "    # Do monte carlo for each point in the board\n",
    "    for x in range(BOARD_SIZE):\n",
    "        for y in range(BOARD_SIZE):               \n",
    "            # Don't do monte carlo for already played positions\n",
    "            if board[x][y][1] == 1 or board[x][y][2] == 1:\n",
    "                continue\n",
    "                        \n",
    "            # Don't do monte carlo if no plays around\n",
    "            # if np.count_nonzero(board[x-2:x+1][y-2:y+1] != 0) == 0:\n",
    "            c1 = np.count_nonzero(board[\n",
    "                #max(0, x-1):min(x+2, BOARD_SIZE - 1),\n",
    "                #max(0, y-1):min(y+2, BOARD_SIZE - 1),\n",
    "                max(0, x-2):min(x+3, BOARD_SIZE - 1),\n",
    "                max(0, y-2):min(y+3, BOARD_SIZE - 1),\n",
    "                1\n",
    "            ] == 1)\n",
    "            c2 = np.count_nonzero(board[\n",
    "                #max(0, x-1):min(x+2, BOARD_SIZE - 1),\n",
    "                #max(0, y-1):min(y+2, BOARD_SIZE - 1),\n",
    "                max(0, x-2):min(x+3, BOARD_SIZE - 1),\n",
    "                max(0, y-2):min(y+3, BOARD_SIZE - 1),\n",
    "                2\n",
    "            ] == 1)\n",
    "            if c1 + c2 == 0:\n",
    "                continue\n",
    "            \n",
    "            # print('asdf', x, y)\n",
    "\n",
    "            \n",
    "            pos_board = board.copy()\n",
    "            pos_board[x][y][monte_carlo_player] = 1\n",
    "            \n",
    "            if define_winning(pos_board, x, y, monte_carlo_player):\n",
    "                score = 1\n",
    "            else:\n",
    "                cur_player = monte_carlo_player\n",
    "                \n",
    "                win_scores = np.zeros((BATCH_SIZE))\n",
    "\n",
    "                stacked_boards = np.vstack([\n",
    "                    pos_board.reshape(1, BOARD_SIZE, BOARD_SIZE, 3)\n",
    "                    for i in range(BATCH_SIZE)\n",
    "                ])\n",
    "\n",
    "                # Run simulation 5 deep\n",
    "                for i in range(5):\n",
    "                    cur_player = 1 if cur_player == 2 else 1\n",
    "\n",
    "                    #with timer.timeit('keras')():\n",
    "                    #    predicted = model.predict(stacked_boards)[:,:,:,0:1]\n",
    "                    \n",
    "                    #print('asdfasdf', predicted.shape, stacked_boards.shape)\n",
    "                    \n",
    "                    #print('asdf', predicted)\n",
    "                    #assert np.sum(predicted) == 1\n",
    "                    \n",
    "                    # Add randomness to the play\n",
    "                    #predicted += (0.10 * (1 / (BOARD_SIZE * BOARD_SIZE)))\n",
    "                    \n",
    "                    # Prevent play when tehre is a marker already\n",
    "                    #predicted[stacked_boards != 0] = 0\n",
    "                    \n",
    "                    with timer.timeit('slow loop')():\n",
    "                        for batch_id in range(BATCH_SIZE):\n",
    "                            if win_scores[batch_id] != 0:\n",
    "                                continue\n",
    "\n",
    "                            # board_moves = predicted[batch_id]\n",
    "                            \n",
    "                            with timer.timeit('get play pos')():\n",
    "                                play_x, play_y = get_play_pos(stacked_boards[batch_id])\n",
    "\n",
    "                            stacked_boards[batch_id][play_x][play_y][cur_player] = 1\n",
    "\n",
    "                            with timer.timeit('define win')():\n",
    "                                if define_winning(stacked_boards[batch_id], play_x, play_y, cur_player):\n",
    "                                    win_scores[batch_id] = 0 if cur_player == monte_carlo_player else 1\n",
    "                \n",
    "                board_scores = score_model.predict(stacked_boards)\n",
    "                \n",
    "                \n",
    "                for i, score in enumerate(board_scores):\n",
    "                    if win_scores[i] == 0:\n",
    "                        win_scores[i] = score[monte_carlo_player - 1]\n",
    "                \n",
    "                #print('asdf1', board_scores)\n",
    "                #print('asdf2', win_scores)\n",
    "\n",
    "                \n",
    "                score = np.sum(win_scores) / BATCH_SIZE\n",
    "            \n",
    "            monte_carlo_result[x][y] = score\n",
    "\n",
    "    return monte_carlo_result\n",
    "\n",
    "prediction = do_monte_carlo(board, 2)\n",
    "pyplot.imshow(prediction, norm=Normalize(0, 1), cmap='gray')"
   ]
  },
  {
   "cell_type": "code",
   "execution_count": 419,
   "metadata": {},
   "outputs": [
    {
     "data": {
      "text/plain": [
       "array([[0.9027376 , 0.09726235]], dtype=float32)"
      ]
     },
     "execution_count": 419,
     "metadata": {},
     "output_type": "execute_result"
    },
    {
     "data": {
      "image/png": "[encoded data removed]",
      "text/plain": [
       "<Figure size 432x288 with 1 Axes>"
      ]
     },
     "metadata": {
      "needs_background": "light"
     },
     "output_type": "display_data"
    }
   ],
   "source": [
    "board = np.zeros((BOARD_SIZE, BOARD_SIZE, 3))\n",
    "\n",
    "\n",
    "board[6][2][1] = 1\n",
    "board[5][3][1] = 1\n",
    "board[4][4][1] = 1\n",
    "#board[5][3][1] = 1\n",
    "#board[4][4][1] = 1\n",
    "#board[4][4][2] = 1\n",
    "#board[5][4][2] = 1\n",
    "#board[6][4][2] = 1\n",
    "\n",
    "#board[7][4][1] = 1\n",
    "#board[3][4][2] = 1\n",
    "#board[2][4][2] = 1\n",
    "\n",
    "#board[2][0][0] = 1\n",
    "#board[2][1][0] = 1\n",
    "#board[2][2][0] = 1\n",
    "#board[2][3][0] = 1\n",
    "#board[2][4][0] = 1\n",
    "\n",
    "#board *= -1\n",
    "\n",
    "\n",
    "vis_board = board[:,:,1] - board[:,:,2]\n",
    "pyplot.imshow(vis_board.reshape(BOARD_SIZE, BOARD_SIZE), norm=Normalize(-1, 1), cmap='rainbow')\n",
    "\n",
    "\n",
    "prediction = score_model.predict(np.array([board]))\n",
    "\n",
    "prediction"
   ]
  },
  {
   "cell_type": "code",
   "execution_count": 407,
   "metadata": {},
   "outputs": [
    {
     "data": {
      "text/plain": [
       "array([[0.        , 0.        , 0.        , 0.        , 0.        ,\n",
       "        0.        , 0.        , 0.        , 0.        , 0.        ,\n",
       "        0.        , 0.        , 0.        , 0.        , 0.        ],\n",
       "       [0.        , 0.        , 0.        , 0.        , 0.        ,\n",
       "        0.        , 0.        , 0.        , 0.        , 0.        ,\n",
       "        0.        , 0.        , 0.        , 0.        , 0.        ],\n",
       "       [0.        , 0.        , 0.35711089, 0.35916553, 0.36110222,\n",
       "        0.35729785, 0.35570152, 0.        , 0.        , 0.        ,\n",
       "        0.        , 0.        , 0.        , 0.        , 0.        ],\n",
       "       [0.        , 0.35856733, 0.3604384 , 0.35980753, 0.35950658,\n",
       "        0.35893676, 0.35922313, 0.        , 0.        , 0.        ,\n",
       "        0.        , 0.        , 0.        , 0.        , 0.        ],\n",
       "       [0.35964507, 0.35714787, 0.35616509, 0.35716975, 0.        ,\n",
       "        0.35612082, 0.35737951, 0.        , 0.        , 0.        ,\n",
       "        0.        , 0.        , 0.        , 0.        , 0.        ],\n",
       "       [0.35954872, 0.3582657 , 0.35835722, 0.        , 0.35812289,\n",
       "        0.35858122, 0.35654937, 0.        , 0.        , 0.        ,\n",
       "        0.        , 0.        , 0.        , 0.        , 0.        ],\n",
       "       [0.35832182, 0.36021003, 0.        , 0.35775525, 0.35545916,\n",
       "        0.35916947, 0.35723167, 0.        , 0.        , 0.        ,\n",
       "        0.        , 0.        , 0.        , 0.        , 0.        ],\n",
       "       [0.35750331, 0.35656046, 0.35939906, 0.35750192, 0.35682807,\n",
       "        0.35890962, 0.        , 0.        , 0.        , 0.        ,\n",
       "        0.        , 0.        , 0.        , 0.        , 0.        ],\n",
       "       [0.35805796, 0.35748025, 0.3603128 , 0.35816066, 0.35557665,\n",
       "        0.        , 0.        , 0.        , 0.        , 0.        ,\n",
       "        0.        , 0.        , 0.        , 0.        , 0.        ],\n",
       "       [0.        , 0.        , 0.        , 0.        , 0.        ,\n",
       "        0.        , 0.        , 0.        , 0.        , 0.        ,\n",
       "        0.        , 0.        , 0.        , 0.        , 0.        ],\n",
       "       [0.        , 0.        , 0.        , 0.        , 0.        ,\n",
       "        0.        , 0.        , 0.        , 0.        , 0.        ,\n",
       "        0.        , 0.        , 0.        , 0.        , 0.        ],\n",
       "       [0.        , 0.        , 0.        , 0.        , 0.        ,\n",
       "        0.        , 0.        , 0.        , 0.        , 0.        ,\n",
       "        0.        , 0.        , 0.        , 0.        , 0.        ],\n",
       "       [0.        , 0.        , 0.        , 0.        , 0.        ,\n",
       "        0.        , 0.        , 0.        , 0.        , 0.        ,\n",
       "        0.        , 0.        , 0.        , 0.        , 0.        ],\n",
       "       [0.        , 0.        , 0.        , 0.        , 0.        ,\n",
       "        0.        , 0.        , 0.        , 0.        , 0.        ,\n",
       "        0.        , 0.        , 0.        , 0.        , 0.        ],\n",
       "       [0.        , 0.        , 0.        , 0.        , 0.        ,\n",
       "        0.        , 0.        , 0.        , 0.        , 0.        ,\n",
       "        0.        , 0.        , 0.        , 0.        , 0.        ]])"
      ]
     },
     "execution_count": 407,
     "metadata": {},
     "output_type": "execute_result"
    }
   ],
   "source": [
    "do_monte_carlo(board, 1)"
   ]
  },
  {
   "cell_type": "code",
   "execution_count": 408,
   "metadata": {},
   "outputs": [],
   "source": [
    "train_x = []\n",
    "train_y = []\n",
    "train_x2 = []\n",
    "train_y2 = []"
   ]
  },
  {
   "cell_type": "code",
   "execution_count": 409,
   "metadata": {
    "scrolled": true
   },
   "outputs": [
    {
     "name": "stdout",
     "output_type": "stream",
     "text": [
      "asdf1 0 21\n",
      "asdf2 0 4\n",
      "asdf1 0 52\n",
      "asdf2 0 8\n",
      "asdf1 26 52\n",
      "asdf2 4 8\n",
      "asdf1 26 65\n",
      "asdf2 4 12\n",
      "asdf1 42 65\n",
      "asdf2 8 12\n",
      "asdf1 102 65\n",
      "asdf2 12 12\n",
      "asdf1 102 86\n",
      "asdf2 12 16\n",
      "asdf1 114 86\n",
      "asdf2 16 16\n",
      "asdf1 156 86\n",
      "asdf2 20 16\n",
      "asdf1 156 105\n",
      "asdf2 20 20\n",
      "asdf1 156 146\n",
      "asdf2 20 24\n",
      "asdf1 172 146\n",
      "asdf2 24 24\n",
      "asdf1 246 146\n",
      "asdf2 28 24\n",
      "asdf1 308 146\n",
      "asdf2 32 24\n",
      "asdf1 318 146\n",
      "asdf2 36 24\n",
      "asdf1 318 177\n",
      "asdf2 36 28\n",
      "asdf1 318 200\n",
      "asdf2 36 32\n",
      "asdf1 318 253\n",
      "asdf2 36 36\n",
      "asdf1 318 288\n",
      "asdf2 36 40\n",
      "asdf1 318 349\n",
      "asdf2 36 44\n",
      "asdf1 348 349\n",
      "asdf2 40 44\n",
      "asdf1 400 349\n",
      "asdf2 44 44\n",
      "asdf1 400 374\n",
      "asdf2 44 48\n",
      "asdf1 400 399\n",
      "asdf2 44 52\n",
      "asdf1 400 484\n",
      "asdf2 44 56\n",
      "asdf1 400 507\n",
      "asdf2 44 60\n",
      "asdf1 400 520\n",
      "asdf2 44 64\n",
      "asdf1 400 569\n",
      "asdf2 44 68\n",
      "asdf1 400 620\n",
      "asdf2 44 72\n",
      "asdf1 400 657\n",
      "asdf2 44 76\n",
      "asdf1 452 657\n",
      "asdf2 48 76\n",
      "asdf1 508 657\n",
      "asdf2 52 76\n",
      "asdf1 508 682\n",
      "asdf2 52 80\n",
      "asdf1 534 682\n",
      "asdf2 56 80\n",
      "asdf1 534 745\n",
      "asdf2 56 84\n",
      "asdf1 534 782\n",
      "asdf2 56 88\n",
      "asdf1 584 782\n",
      "asdf2 60 88\n",
      "asdf1 584 805\n",
      "asdf2 60 92\n",
      "asdf1 606 805\n",
      "asdf2 64 92\n",
      "asdf1 670 805\n",
      "asdf2 68 92\n",
      "asdf1 670 826\n",
      "asdf2 68 96\n",
      "asdf1 702 826\n",
      "asdf2 72 96\n",
      "asdf1 730 826\n",
      "asdf2 76 96\n",
      "asdf1 730 853\n",
      "asdf2 76 100\n",
      "asdf1 800 853\n",
      "asdf2 80 100\n",
      "asdf1 800 894\n",
      "asdf2 80 104\n",
      "asdf1 800 947\n",
      "asdf2 80 108\n",
      "asdf1 800 982\n",
      "asdf2 80 112\n",
      "asdf1 800 1041\n",
      "asdf2 80 116\n",
      "asdf1 818 1041\n",
      "asdf2 84 116\n",
      "asdf1 818 1068\n",
      "asdf2 84 120\n",
      "asdf1 848 1068\n",
      "asdf2 88 120\n",
      "asdf1 848 1111\n",
      "asdf2 88 124\n",
      "asdf1 904 1111\n",
      "asdf2 92 124\n",
      "asdf1 948 1111\n",
      "asdf2 96 124\n",
      "asdf1 948 1150\n",
      "asdf2 96 128\n",
      "asdf1 1008 1150\n",
      "asdf2 100 128\n",
      "asdf1 1044 1150\n",
      "asdf2 104 128\n",
      "asdf1 1082 1150\n",
      "asdf2 108 128\n",
      "asdf1 1118 1150\n",
      "asdf2 112 128\n",
      "asdf1 1146 1150\n",
      "asdf2 116 128\n",
      "asdf1 1174 1150\n",
      "asdf2 120 128\n",
      "asdf1 1218 1150\n",
      "asdf2 124 128\n",
      "asdf1 1262 1150\n",
      "asdf2 128 128\n",
      "asdf1 1308 1150\n",
      "asdf2 132 128\n",
      "asdf1 1308 1179\n",
      "asdf2 132 132\n",
      "asdf1 1342 1179\n",
      "asdf2 136 132\n",
      "asdf1 1390 1179\n",
      "asdf2 140 132\n",
      "asdf1 1438 1179\n",
      "asdf2 144 132\n",
      "asdf1 1438 1254\n",
      "asdf2 144 136\n",
      "asdf1 1502 1254\n",
      "asdf2 148 136\n",
      "asdf1 1502 1273\n",
      "asdf2 148 140\n",
      "asdf1 1502 1312\n",
      "asdf2 148 144\n",
      "asdf1 1502 1345\n",
      "asdf2 148 148\n",
      "asdf1 1542 1345\n",
      "asdf2 152 148\n",
      "asdf1 1542 1390\n",
      "asdf2 152 152\n",
      "asdf1 1578 1390\n",
      "asdf2 156 152\n",
      "asdf1 1578 1429\n",
      "asdf2 156 156\n",
      "asdf1 1606 1429\n",
      "asdf2 160 156\n",
      "asdf1 1606 1464\n",
      "asdf2 160 160\n",
      "asdf1 1628 1464\n",
      "asdf2 164 160\n",
      "asdf1 1670 1464\n",
      "asdf2 168 160\n",
      "asdf1 1700 1464\n",
      "asdf2 172 160\n",
      "asdf1 1726 1464\n",
      "asdf2 176 160\n",
      "asdf1 1726 1505\n",
      "asdf2 176 164\n",
      "asdf1 1766 1505\n",
      "asdf2 180 164\n",
      "asdf1 1796 1505\n",
      "asdf2 184 164\n",
      "asdf1 1826 1505\n",
      "asdf2 188 164\n",
      "asdf1 1868 1505\n",
      "asdf2 192 164\n",
      "asdf1 1868 1534\n",
      "asdf2 192 168\n",
      "asdf1 1868 1581\n",
      "asdf2 192 172\n",
      "asdf1 1892 1581\n",
      "asdf2 196 172\n",
      "asdf1 1950 1581\n",
      "asdf2 200 172\n",
      "asdf1 1950 1592\n",
      "asdf2 200 176\n",
      "asdf1 1996 1592\n",
      "asdf2 204 176\n",
      "asdf1 2038 1592\n",
      "asdf2 208 176\n",
      "asdf1 2078 1592\n",
      "asdf2 212 176\n",
      "asdf1 2078 1623\n",
      "asdf2 212 180\n",
      "asdf1 2078 1660\n",
      "asdf2 212 184\n",
      "asdf1 2078 1707\n",
      "asdf2 212 188\n",
      "asdf1 2120 1707\n",
      "asdf2 216 188\n",
      "asdf1 2164 1707\n",
      "asdf2 220 188\n",
      "asdf1 2164 1762\n",
      "asdf2 220 192\n",
      "asdf1 2164 1795\n",
      "asdf2 220 196\n",
      "asdf1 2164 1822\n",
      "asdf2 220 200\n",
      "asdf1 2164 1843\n",
      "asdf2 220 204\n",
      "asdf1 2218 1843\n",
      "asdf2 224 204\n",
      "asdf1 2268 1843\n",
      "asdf2 228 204\n",
      "asdf1 2322 1843\n",
      "asdf2 232 204\n",
      "asdf1 2360 1843\n",
      "asdf2 236 204\n",
      "asdf1 2360 1888\n",
      "asdf2 236 208\n",
      "asdf1 2360 1921\n",
      "asdf2 236 212\n",
      "asdf1 2360 1978\n",
      "asdf2 236 216\n",
      "asdf1 2360 2029\n",
      "asdf2 236 220\n",
      "asdf1 2396 2029\n",
      "asdf2 240 220\n",
      "asdf1 2418 2029\n",
      "asdf2 244 220\n",
      "asdf1 2418 2098\n",
      "asdf2 244 224\n",
      "asdf1 2446 2098\n",
      "asdf2 248 224\n",
      "asdf1 2488 2098\n",
      "asdf2 252 224\n",
      "asdf1 2488 2125\n",
      "asdf2 252 228\n",
      "asdf1 2526 2125\n",
      "asdf2 256 228\n",
      "asdf1 2558 2125\n",
      "asdf2 260 228\n",
      "asdf1 2586 2125\n",
      "asdf2 264 228\n",
      "asdf1 2616 2125\n",
      "asdf2 268 228\n",
      "asdf1 2616 2172\n",
      "asdf2 268 232\n",
      "asdf1 2616 2245\n",
      "asdf2 268 236\n",
      "asdf1 2656 2245\n",
      "asdf2 272 236\n",
      "asdf1 2656 2284\n",
      "asdf2 272 240\n",
      "asdf1 2674 2284\n",
      "asdf2 276 240\n",
      "asdf1 2674 2321\n",
      "asdf2 276 244\n",
      "asdf1 2726 2321\n",
      "asdf2 280 244\n",
      "asdf1 2726 2346\n",
      "asdf2 280 248\n",
      "asdf1 2788 2346\n",
      "asdf2 284 248\n",
      "asdf1 2862 2346\n",
      "asdf2 288 248\n",
      "asdf1 2904 2346\n",
      "asdf2 292 248\n",
      "asdf1 2968 2346\n",
      "asdf2 296 248\n",
      "asdf1 3004 2346\n",
      "asdf2 300 248\n",
      "asdf1 3004 2405\n",
      "asdf2 300 252\n",
      "asdf1 3040 2405\n",
      "asdf2 304 252\n",
      "asdf1 3064 2405\n",
      "asdf2 308 252\n",
      "asdf1 3116 2405\n",
      "asdf2 312 252\n",
      "asdf1 3148 2405\n",
      "asdf2 316 252\n",
      "asdf1 3204 2405\n",
      "asdf2 320 252\n",
      "asdf1 3234 2405\n",
      "asdf2 324 252\n",
      "asdf1 3262 2405\n",
      "asdf2 328 252\n",
      "asdf1 3262 2446\n",
      "asdf2 328 256\n",
      "asdf1 3316 2446\n",
      "asdf2 332 256\n",
      "asdf1 3316 2497\n",
      "asdf2 332 260\n",
      "asdf1 3316 2536\n",
      "asdf2 332 264\n",
      "asdf1 3316 2589\n",
      "asdf2 332 268\n",
      "asdf1 3364 2589\n",
      "asdf2 336 268\n",
      "asdf1 3364 2622\n",
      "asdf2 336 272\n",
      "asdf1 3364 2679\n",
      "asdf2 336 276\n",
      "asdf1 3364 2720\n",
      "asdf2 336 280\n",
      "asdf1 3364 2759\n",
      "asdf2 336 284\n",
      "asdf1 3410 2759\n",
      "asdf2 340 284\n",
      "asdf1 3410 2790\n",
      "asdf2 340 288\n",
      "asdf1 3436 2790\n",
      "asdf2 344 288\n",
      "asdf1 3454 2790\n",
      "asdf2 348 288\n",
      "asdf1 3454 2815\n",
      "asdf2 348 292\n",
      "asdf1 3454 2846\n",
      "asdf2 348 296\n",
      "asdf1 3478 2846\n",
      "asdf2 352 296\n",
      "asdf1 3478 2881\n",
      "asdf2 352 300\n",
      "asdf1 3508 2881\n",
      "asdf2 356 300\n",
      "asdf1 3546 2881\n",
      "asdf2 360 300\n",
      "asdf1 3598 2881\n",
      "asdf2 364 300\n",
      "asdf1 3598 2934\n",
      "asdf2 364 304\n",
      "asdf1 3634 2934\n",
      "asdf2 368 304\n",
      "asdf1 3690 2934\n",
      "asdf2 372 304\n",
      "asdf1 3690 2997\n",
      "asdf2 372 308\n",
      "asdf1 3724 2997\n",
      "asdf2 376 308\n",
      "asdf1 3724 3020\n",
      "asdf2 376 312\n",
      "asdf1 3724 3055\n",
      "asdf2 376 316\n",
      "asdf1 3724 3102\n",
      "asdf2 376 320\n",
      "asdf1 3724 3117\n",
      "asdf2 376 324\n",
      "asdf1 3724 3164\n",
      "asdf2 376 328\n",
      "asdf1 3738 3164\n",
      "asdf2 380 328\n",
      "asdf1 3772 3164\n",
      "asdf2 384 328\n",
      "asdf1 3772 3201\n",
      "asdf2 384 332\n",
      "asdf1 3772 3260\n",
      "asdf2 384 336\n",
      "asdf1 3802 3260\n",
      "asdf2 388 336\n",
      "asdf1 3802 3299\n",
      "asdf2 388 340\n",
      "asdf1 3840 3299\n",
      "asdf2 392 340\n",
      "asdf1 3890 3299\n",
      "asdf2 396 340\n",
      "asdf1 3890 3346\n",
      "asdf2 396 344\n",
      "asdf1 3948 3346\n",
      "asdf2 400 344\n",
      "asdf1 3976 3346\n",
      "asdf2 404 344\n",
      "asdf1 4046 3346\n",
      "asdf2 408 344\n",
      "asdf1 4046 3375\n",
      "asdf2 408 348\n"
     ]
    },
    {
     "ename": "KeyboardInterrupt",
     "evalue": "",
     "output_type": "error",
     "traceback": [
      "\u001b[0;31m---------------------------------------------------------------------------\u001b[0m",
      "\u001b[0;31mKeyboardInterrupt\u001b[0m                         Traceback (most recent call last)",
      "\u001b[0;32m<ipython-input-409-a91cf0bf578d>\u001b[0m in \u001b[0;36m<module>\u001b[0;34m\u001b[0m\n\u001b[1;32m     11\u001b[0m         \u001b[0;31m#print('Looping:', i, 'Data count:', len(train_x))\u001b[0m\u001b[0;34m\u001b[0m\u001b[0;34m\u001b[0m\u001b[0;34m\u001b[0m\u001b[0m\n\u001b[1;32m     12\u001b[0m \u001b[0;34m\u001b[0m\u001b[0m\n\u001b[0;32m---> 13\u001b[0;31m         \u001b[0mmonte_carlo_result\u001b[0m \u001b[0;34m=\u001b[0m \u001b[0mdo_monte_carlo\u001b[0m\u001b[0;34m(\u001b[0m\u001b[0mboard\u001b[0m\u001b[0;34m,\u001b[0m \u001b[0mcur_player\u001b[0m\u001b[0;34m)\u001b[0m\u001b[0;34m\u001b[0m\u001b[0;34m\u001b[0m\u001b[0m\n\u001b[0m\u001b[1;32m     14\u001b[0m         \u001b[0;31m#monte_carlo_result[board.reshape(BOARD_SIZE, BOARD_SIZE) != 0] = 0\u001b[0m\u001b[0;34m\u001b[0m\u001b[0;34m\u001b[0m\u001b[0;34m\u001b[0m\u001b[0m\n\u001b[1;32m     15\u001b[0m \u001b[0;34m\u001b[0m\u001b[0m\n",
      "\u001b[0;32m<ipython-input-405-6b6b6382e0a1>\u001b[0m in \u001b[0;36mdo_monte_carlo\u001b[0;34m(board, monte_carlo_player)\u001b[0m\n\u001b[1;32m     98\u001b[0m                             \u001b[0mstacked_boards\u001b[0m\u001b[0;34m[\u001b[0m\u001b[0mbatch_id\u001b[0m\u001b[0;34m]\u001b[0m\u001b[0;34m[\u001b[0m\u001b[0mplay_x\u001b[0m\u001b[0;34m]\u001b[0m\u001b[0;34m[\u001b[0m\u001b[0mplay_y\u001b[0m\u001b[0;34m]\u001b[0m\u001b[0;34m[\u001b[0m\u001b[0mcur_player\u001b[0m\u001b[0;34m]\u001b[0m \u001b[0;34m=\u001b[0m \u001b[0;36m1\u001b[0m\u001b[0;34m\u001b[0m\u001b[0;34m\u001b[0m\u001b[0m\n\u001b[1;32m     99\u001b[0m \u001b[0;34m\u001b[0m\u001b[0m\n\u001b[0;32m--> 100\u001b[0;31m                             \u001b[0;32mwith\u001b[0m \u001b[0mtimer\u001b[0m\u001b[0;34m.\u001b[0m\u001b[0mtimeit\u001b[0m\u001b[0;34m(\u001b[0m\u001b[0;34m'define win'\u001b[0m\u001b[0;34m)\u001b[0m\u001b[0;34m(\u001b[0m\u001b[0;34m)\u001b[0m\u001b[0;34m:\u001b[0m\u001b[0;34m\u001b[0m\u001b[0;34m\u001b[0m\u001b[0m\n\u001b[0m\u001b[1;32m    101\u001b[0m                                 \u001b[0;32mif\u001b[0m \u001b[0mdefine_winning\u001b[0m\u001b[0;34m(\u001b[0m\u001b[0mstacked_boards\u001b[0m\u001b[0;34m[\u001b[0m\u001b[0mbatch_id\u001b[0m\u001b[0;34m]\u001b[0m\u001b[0;34m,\u001b[0m \u001b[0mplay_x\u001b[0m\u001b[0;34m,\u001b[0m \u001b[0mplay_y\u001b[0m\u001b[0;34m,\u001b[0m \u001b[0mcur_player\u001b[0m\u001b[0;34m)\u001b[0m\u001b[0;34m:\u001b[0m\u001b[0;34m\u001b[0m\u001b[0;34m\u001b[0m\u001b[0m\n\u001b[1;32m    102\u001b[0m                                     \u001b[0mwin_scores\u001b[0m\u001b[0;34m[\u001b[0m\u001b[0mbatch_id\u001b[0m\u001b[0;34m]\u001b[0m \u001b[0;34m=\u001b[0m \u001b[0;36m0\u001b[0m \u001b[0;32mif\u001b[0m \u001b[0mcur_player\u001b[0m \u001b[0;34m==\u001b[0m \u001b[0mmonte_carlo_player\u001b[0m \u001b[0;32melse\u001b[0m \u001b[0;36m1\u001b[0m\u001b[0;34m\u001b[0m\u001b[0;34m\u001b[0m\u001b[0m\n",
      "\u001b[0;32m<ipython-input-403-6ce3fae258b0>\u001b[0m in \u001b[0;36mtimeit\u001b[0;34m(self_outer, name)\u001b[0m\n\u001b[1;32m      8\u001b[0m             \u001b[0mself_outer\u001b[0m\u001b[0;34m.\u001b[0m\u001b[0mtimers\u001b[0m\u001b[0;34m[\u001b[0m\u001b[0mname\u001b[0m\u001b[0;34m]\u001b[0m \u001b[0;34m=\u001b[0m \u001b[0;36m0\u001b[0m\u001b[0;34m\u001b[0m\u001b[0;34m\u001b[0m\u001b[0m\n\u001b[1;32m      9\u001b[0m \u001b[0;34m\u001b[0m\u001b[0m\n\u001b[0;32m---> 10\u001b[0;31m         \u001b[0;32mclass\u001b[0m \u001b[0mTimerInner\u001b[0m\u001b[0;34m:\u001b[0m\u001b[0;34m\u001b[0m\u001b[0;34m\u001b[0m\u001b[0m\n\u001b[0m\u001b[1;32m     11\u001b[0m             \u001b[0;32mdef\u001b[0m \u001b[0m__enter__\u001b[0m\u001b[0;34m(\u001b[0m\u001b[0mself\u001b[0m\u001b[0;34m)\u001b[0m\u001b[0;34m:\u001b[0m\u001b[0;34m\u001b[0m\u001b[0;34m\u001b[0m\u001b[0m\n\u001b[1;32m     12\u001b[0m                 \u001b[0mself\u001b[0m\u001b[0;34m.\u001b[0m\u001b[0mname\u001b[0m \u001b[0;34m=\u001b[0m \u001b[0mname\u001b[0m\u001b[0;34m\u001b[0m\u001b[0;34m\u001b[0m\u001b[0m\n",
      "\u001b[0;31mKeyboardInterrupt\u001b[0m: "
     ]
    }
   ],
   "source": [
    "\n",
    "while True:\n",
    "    board = np.zeros((BOARD_SIZE, BOARD_SIZE, 3))\n",
    "    \n",
    "    board[int(BOARD_SIZE / 2)][int(BOARD_SIZE / 2)][1] = 1\n",
    "    \n",
    "    cur_player = 1\n",
    "    \n",
    "    loop_boards = []\n",
    "\n",
    "    for i in range(BOARD_SIZE * BOARD_SIZE):\n",
    "        #print('Looping:', i, 'Data count:', len(train_x))\n",
    "        \n",
    "        monte_carlo_result = do_monte_carlo(board, cur_player)\n",
    "        #monte_carlo_result[board.reshape(BOARD_SIZE, BOARD_SIZE) != 0] = 0\n",
    "\n",
    "        x, y = get_best_play_pos(monte_carlo_result)\n",
    "        \n",
    "        #new_train_y = np.zeros((BOARD_SIZE, BOARD_SIZE, 1))\n",
    "        #new_train_y[x][y][0] = 1\n",
    "\n",
    "        #train_x.append(board.copy() * cur_player)\n",
    "        #train_y.append(new_train_y)\n",
    "        #monte_carlo_results.append(monte_carlo_result)\n",
    "\n",
    "        board[x][y][cur_player] = 1\n",
    "\n",
    "        if define_winning(board, x, y, cur_player):\n",
    "            # print('found win condition')\n",
    "            \n",
    "            for board in loop_boards:\n",
    "                train_x.append(board)\n",
    "                train_y.append(cur_player)\n",
    "            for board in loop_boards[-4:]:\n",
    "                train_x2.append(board)\n",
    "                train_y2.append(cur_player)\n",
    "            \n",
    "            loop_boards = []\n",
    "            \n",
    "            break\n",
    "            \n",
    "        loop_boards.append(board.copy())\n",
    "\n",
    "        cur_player = 1 if cur_player == 2 else 2\n",
    "        board[:,:,0] = cur_player - 1\n",
    "    \n",
    "    print('asdf1', len([y for y in train_y if y == 1]), len([y for y in train_y if y == 2]))\n",
    "    print('asdf2', len([y for y in train_y2 if y == 1]), len([y for y in train_y2 if y == 2]))"
   ]
  },
  {
   "cell_type": "code",
   "execution_count": 410,
   "metadata": {},
   "outputs": [
    {
     "data": {
      "text/plain": [
       "(4046, 3375)"
      ]
     },
     "execution_count": 410,
     "metadata": {},
     "output_type": "execute_result"
    }
   ],
   "source": [
    "len([y for y in train_y if y == 1]), len([y for y in train_y if y == 2])"
   ]
  },
  {
   "cell_type": "code",
   "execution_count": 411,
   "metadata": {},
   "outputs": [
    {
     "data": {
      "text/plain": [
       "(7421, 15, 15, 3)"
      ]
     },
     "execution_count": 411,
     "metadata": {},
     "output_type": "execute_result"
    }
   ],
   "source": [
    "np.array(train_x).shape"
   ]
  },
  {
   "cell_type": "code",
   "execution_count": 412,
   "metadata": {},
   "outputs": [
    {
     "data": {
      "text/plain": [
       "array([[0., 1.],\n",
       "       [0., 1.],\n",
       "       [0., 1.],\n",
       "       ...,\n",
       "       [0., 1.],\n",
       "       [0., 1.],\n",
       "       [0., 1.]], dtype=float32)"
      ]
     },
     "execution_count": 412,
     "metadata": {},
     "output_type": "execute_result"
    }
   ],
   "source": [
    "keras.utils.to_categorical(np.subtract(np.array(train_y), 1), num_classes=2)"
   ]
  },
  {
   "cell_type": "code",
   "execution_count": 432,
   "metadata": {},
   "outputs": [
    {
     "name": "stdout",
     "output_type": "stream",
     "text": [
      "Train on 5443 samples, validate on 605 samples\n",
      "Epoch 1/10\n",
      "5443/5443 [==============================] - 8s 1ms/step - loss: 0.6901 - accuracy: 0.5514 - val_loss: 0.7177 - val_accuracy: 0.4711\n",
      "Epoch 2/10\n",
      "5443/5443 [==============================] - 8s 1ms/step - loss: 0.6613 - accuracy: 0.6096 - val_loss: 0.7000 - val_accuracy: 0.4992\n",
      "Epoch 3/10\n",
      "5443/5443 [==============================] - 8s 1ms/step - loss: 0.6096 - accuracy: 0.7092 - val_loss: 0.7622 - val_accuracy: 0.4050\n",
      "Epoch 4/10\n",
      "5443/5443 [==============================] - 8s 1ms/step - loss: 0.5485 - accuracy: 0.7540 - val_loss: 0.7606 - val_accuracy: 0.5306\n",
      "Epoch 5/10\n",
      "5443/5443 [==============================] - 8s 1ms/step - loss: 0.4922 - accuracy: 0.7931 - val_loss: 0.7909 - val_accuracy: 0.5273\n",
      "Epoch 6/10\n",
      "5443/5443 [==============================] - 8s 1ms/step - loss: 0.4462 - accuracy: 0.8111 - val_loss: 0.8056 - val_accuracy: 0.5207\n",
      "Epoch 7/10\n",
      "5443/5443 [==============================] - 8s 1ms/step - loss: 0.4068 - accuracy: 0.8345 - val_loss: 0.8163 - val_accuracy: 0.5372\n",
      "Epoch 8/10\n",
      "5443/5443 [==============================] - 8s 1ms/step - loss: 0.3756 - accuracy: 0.8506 - val_loss: 0.8386 - val_accuracy: 0.5554\n",
      "Epoch 9/10\n",
      "5443/5443 [==============================] - 8s 1ms/step - loss: 0.3395 - accuracy: 0.8679 - val_loss: 0.8513 - val_accuracy: 0.5603\n",
      "Epoch 10/10\n",
      "5443/5443 [==============================] - 8s 1ms/step - loss: 0.3108 - accuracy: 0.8846 - val_loss: 0.8621 - val_accuracy: 0.5736\n"
     ]
    }
   ],
   "source": [
    "y = keras.utils.to_categorical(np.subtract(np.array(augmented_train_y2), 1), num_classes=2)\n",
    "\n",
    "history = score_model.fit(\n",
    "    np.array(augmented_train_x2),\n",
    "    #keras.utils.to_categorical(np.array(augmented_train_y), num_classes=2),\n",
    "    y,\n",
    "    epochs=10,\n",
    "    validation_split=0.10,\n",
    "    shuffle=True\n",
    ")\n"
   ]
  },
  {
   "cell_type": "code",
   "execution_count": 223,
   "metadata": {},
   "outputs": [
    {
     "data": {
      "text/plain": [
       "<matplotlib.image.AxesImage at 0x14aeb5d50>"
      ]
     },
     "execution_count": 223,
     "metadata": {},
     "output_type": "execute_result"
    },
    {
     "data": {
      "image/png": "[encoded data removed]",
      "text/plain": [
       "<Figure size 432x288 with 1 Axes>"
      ]
     },
     "metadata": {
      "needs_background": "light"
     },
     "output_type": "display_data"
    }
   ],
   "source": [
    "board\n",
    "\n",
    "vis_board = board[:,:,1] - board[:,:,2]\n",
    "pyplot.imshow(vis_board.reshape(BOARD_SIZE, BOARD_SIZE), norm=Normalize(-1, 1), cmap='rainbow')\n"
   ]
  },
  {
   "cell_type": "code",
   "execution_count": 183,
   "metadata": {},
   "outputs": [
    {
     "data": {
      "text/plain": [
       "{}"
      ]
     },
     "execution_count": 183,
     "metadata": {},
     "output_type": "execute_result"
    }
   ],
   "source": [
    "timer.timers\n",
    "\n",
    "# Before get play pos improvenment\n",
    "#{'define win': 1.1015589237213135,\n",
    "# 'get play pos': 48.229655265808105,\n",
    "# 'keras': 9.573432683944702,\n",
    "# 'slow loop': 52.7112512588501}\n",
    "\n",
    "# After it\n",
    "#{'define win': 120.23645758628845,\n",
    "# 'get play pos': 1031.8518664836884,\n",
    "# 'keras': 995.5591900348663,\n",
    "# 'slow loop': 1492.1334855556488}\n"
   ]
  },
  {
   "cell_type": "code",
   "execution_count": 429,
   "metadata": {},
   "outputs": [],
   "source": [
    "def augment_data(train_x, train_y):\n",
    "    augmented_train_x = []\n",
    "    augmented_train_y = []\n",
    "\n",
    "    train_x[0].shape\n",
    "\n",
    "    #pyplot.imshow(train_x[5].reshape(15, 15))\n",
    "    #pyplot.imshow(train_y[2].reshape(15, 15))\n",
    "\n",
    "    #pyplot.imshow(np.flip(np.rot90(train_x[7])).reshape(15, 15))\n",
    "\n",
    "\n",
    "    for x, y in zip(train_x, train_y):\n",
    "        augmented_train_x.append(x)\n",
    "        augmented_train_y.append(y)\n",
    "        augmented_train_x.append(np.rot90(x))\n",
    "        augmented_train_y.append(y)\n",
    "        augmented_train_x.append(np.rot90(x, 2))\n",
    "        augmented_train_y.append(y)\n",
    "        augmented_train_x.append(np.rot90(x, 3))\n",
    "        augmented_train_y.append(y)\n",
    "        augmented_train_x.append(np.flip(x))\n",
    "        augmented_train_y.append(y)\n",
    "        augmented_train_x.append(np.flip(np.rot90(x)))\n",
    "        augmented_train_y.append(y)\n",
    "        augmented_train_x.append(np.flip(np.rot90(x, 2)))\n",
    "        augmented_train_y.append(y)\n",
    "        augmented_train_x.append(np.flip(np.rot90(x, 3)))\n",
    "        augmented_train_y.append(y)\n",
    "    \n",
    "    return augmented_train_x, augmented_train_y\n",
    "\n",
    "\n",
    "augmented_train_x, augmented_train_y = augment_data(train_x, train_y)\n",
    "augmented_train_x2, augmented_train_y2 = augment_data(train_x2, train_y2)"
   ]
  },
  {
   "cell_type": "code",
   "execution_count": 185,
   "metadata": {},
   "outputs": [],
   "source": [
    "#i = 0"
   ]
  },
  {
   "cell_type": "code",
   "execution_count": 186,
   "metadata": {
    "scrolled": true
   },
   "outputs": [],
   "source": [
    "#pyplot.imshow(train_x[i].reshape(BOARD_SIZE, BOARD_SIZE), norm=Normalize(-1, 1), cmap='rainbow')\n",
    "# i += 1"
   ]
  },
  {
   "cell_type": "code",
   "execution_count": 187,
   "metadata": {},
   "outputs": [],
   "source": [
    "#monte_carlo_result\n",
    "#pyplot.imshow(monte_carlo_results[i].reshape(BOARD_SIZE, BOARD_SIZE), norm=Normalize(0, 1), cmap='gray')\n"
   ]
  },
  {
   "cell_type": "code",
   "execution_count": 188,
   "metadata": {},
   "outputs": [],
   "source": [
    "#prediction = model.predict(np.array([train_x[i]]))\n",
    "\n",
    "#pyplot.imshow(prediction[0,:,:,0])#, norm=Normalize(0, 1))\n",
    "\n",
    "#i += 1"
   ]
  },
  {
   "cell_type": "code",
   "execution_count": 189,
   "metadata": {},
   "outputs": [],
   "source": [
    "#len(train_x), len(augmented_train_x)"
   ]
  },
  {
   "cell_type": "code",
   "execution_count": 190,
   "metadata": {},
   "outputs": [],
   "source": [
    "#len(train_y), len(augmented_train_y)"
   ]
  },
  {
   "cell_type": "code",
   "execution_count": 191,
   "metadata": {
    "scrolled": true
   },
   "outputs": [],
   "source": [
    "'''\n",
    "history = model.fit(\n",
    "    np.array(augmented_train_x),\n",
    "    #keras.utils.to_categorical(np.array(augmented_train_y), num_classes=2),\n",
    "    np.array(augmented_train_y),\n",
    "    epochs=EPOCHS,\n",
    "    validation_split=0.1,\n",
    "    shuffle=True\n",
    ")\n",
    "'''\n",
    "pass"
   ]
  },
  {
   "cell_type": "code",
   "execution_count": 192,
   "metadata": {},
   "outputs": [],
   "source": [
    "'''\n",
    "plt.plot(history.history['acc'])\n",
    "plt.plot(history.history['val_acc'])\n",
    "plt.ylabel('accuracy')\n",
    "plt.xlabel('epoch')\n",
    "plt.legend(['train', 'test'], loc='upper left')\n",
    "\n",
    "plt.show()\n",
    "'''\n",
    "pass"
   ]
  },
  {
   "cell_type": "code",
   "execution_count": 193,
   "metadata": {},
   "outputs": [],
   "source": [
    "'''\n",
    "plt.plot(history.history['loss'])\n",
    "plt.plot(history.history['val_loss'])\n",
    "plt.ylabel('loss')\n",
    "plt.xlabel('epoch')\n",
    "plt.legend(['train', 'test'], loc='upper left')\n",
    "plt.show()\n",
    "'''\n",
    "pass"
   ]
  },
  {
   "cell_type": "code",
   "execution_count": 194,
   "metadata": {},
   "outputs": [],
   "source": [
    "#i = 0"
   ]
  },
  {
   "cell_type": "code",
   "execution_count": 195,
   "metadata": {},
   "outputs": [],
   "source": [
    "#pyplot.imshow(train_x[i].reshape(BOARD_SIZE, BOARD_SIZE), norm=Normalize(-1, 1), cmap='rainbow')"
   ]
  },
  {
   "cell_type": "code",
   "execution_count": 196,
   "metadata": {},
   "outputs": [],
   "source": [
    "#pyplot.imshow(train_y[i].reshape(BOARD_SIZE, BOARD_SIZE), norm=Normalize(-1, 1), cmap='rainbow')"
   ]
  },
  {
   "cell_type": "code",
   "execution_count": 197,
   "metadata": {},
   "outputs": [],
   "source": [
    "#i+=1"
   ]
  },
  {
   "cell_type": "code",
   "execution_count": 198,
   "metadata": {},
   "outputs": [
    {
     "name": "stdout",
     "output_type": "stream",
     "text": [
      "STARTING LOOP 0\n",
      "found win condition 16\n",
      "found win condition 33\n",
      "Error happened\n"
     ]
    },
    {
     "ename": "KeyboardInterrupt",
     "evalue": "",
     "output_type": "error",
     "traceback": [
      "\u001b[0;31m---------------------------------------------------------------------------\u001b[0m",
      "\u001b[0;31mKeyboardInterrupt\u001b[0m                         Traceback (most recent call last)",
      "\u001b[0;32m<ipython-input-198-25d8ac5835ac>\u001b[0m in \u001b[0;36m<module>\u001b[0;34m\u001b[0m\n\u001b[1;32m     14\u001b[0m         \u001b[0;32mfor\u001b[0m \u001b[0mi\u001b[0m \u001b[0;32min\u001b[0m \u001b[0mrange\u001b[0m\u001b[0;34m(\u001b[0m\u001b[0mBOARD_SIZE\u001b[0m \u001b[0;34m*\u001b[0m \u001b[0mBOARD_SIZE\u001b[0m\u001b[0;34m)\u001b[0m\u001b[0;34m:\u001b[0m\u001b[0;34m\u001b[0m\u001b[0;34m\u001b[0m\u001b[0m\n\u001b[1;32m     15\u001b[0m             \u001b[0;31m# print('Looping:', i, 'Data count:', len(train_x))\u001b[0m\u001b[0;34m\u001b[0m\u001b[0;34m\u001b[0m\u001b[0;34m\u001b[0m\u001b[0m\n\u001b[0;32m---> 16\u001b[0;31m             \u001b[0mmonte_carlo_result\u001b[0m \u001b[0;34m=\u001b[0m \u001b[0mdo_monte_carlo\u001b[0m\u001b[0;34m(\u001b[0m\u001b[0mboard\u001b[0m\u001b[0;34m,\u001b[0m \u001b[0mcur_player\u001b[0m\u001b[0;34m)\u001b[0m\u001b[0;34m\u001b[0m\u001b[0;34m\u001b[0m\u001b[0m\n\u001b[0m\u001b[1;32m     17\u001b[0m \u001b[0;34m\u001b[0m\u001b[0m\n\u001b[1;32m     18\u001b[0m             \u001b[0mmonte_carlo_result\u001b[0m\u001b[0;34m[\u001b[0m\u001b[0mboard\u001b[0m\u001b[0;34m.\u001b[0m\u001b[0mreshape\u001b[0m\u001b[0;34m(\u001b[0m\u001b[0mBOARD_SIZE\u001b[0m\u001b[0;34m,\u001b[0m \u001b[0mBOARD_SIZE\u001b[0m\u001b[0;34m)\u001b[0m \u001b[0;34m!=\u001b[0m \u001b[0;36m0\u001b[0m\u001b[0;34m]\u001b[0m \u001b[0;34m=\u001b[0m \u001b[0;36m0\u001b[0m\u001b[0;34m\u001b[0m\u001b[0;34m\u001b[0m\u001b[0m\n",
      "\u001b[0;32m<ipython-input-176-6723ff462ac7>\u001b[0m in \u001b[0;36mdo_monte_carlo\u001b[0;34m(board, monte_carlo_player)\u001b[0m\n\u001b[1;32m    201\u001b[0m \u001b[0;34m\u001b[0m\u001b[0m\n\u001b[1;32m    202\u001b[0m                             \u001b[0;32mwith\u001b[0m \u001b[0mtimer\u001b[0m\u001b[0;34m.\u001b[0m\u001b[0mtimeit\u001b[0m\u001b[0;34m(\u001b[0m\u001b[0;34m'get play pos'\u001b[0m\u001b[0;34m)\u001b[0m\u001b[0;34m(\u001b[0m\u001b[0;34m)\u001b[0m\u001b[0;34m:\u001b[0m\u001b[0;34m\u001b[0m\u001b[0;34m\u001b[0m\u001b[0m\n\u001b[0;32m--> 203\u001b[0;31m                                 \u001b[0mplay_x\u001b[0m\u001b[0;34m,\u001b[0m \u001b[0mplay_y\u001b[0m \u001b[0;34m=\u001b[0m \u001b[0mget_play_pos\u001b[0m\u001b[0;34m(\u001b[0m\u001b[0mboard_moves\u001b[0m\u001b[0;34m)\u001b[0m\u001b[0;34m\u001b[0m\u001b[0;34m\u001b[0m\u001b[0m\n\u001b[0m\u001b[1;32m    204\u001b[0m \u001b[0;34m\u001b[0m\u001b[0m\n\u001b[1;32m    205\u001b[0m                             \u001b[0mstacked_boards\u001b[0m\u001b[0;34m[\u001b[0m\u001b[0mbatch_id\u001b[0m\u001b[0;34m]\u001b[0m\u001b[0;34m[\u001b[0m\u001b[0mplay_x\u001b[0m\u001b[0;34m]\u001b[0m\u001b[0;34m[\u001b[0m\u001b[0mplay_y\u001b[0m\u001b[0;34m]\u001b[0m \u001b[0;34m=\u001b[0m \u001b[0mcur_player\u001b[0m\u001b[0;34m\u001b[0m\u001b[0;34m\u001b[0m\u001b[0m\n",
      "\u001b[0;32m<ipython-input-176-6723ff462ac7>\u001b[0m in \u001b[0;36mget_play_pos\u001b[0;34m(board_moves, depth)\u001b[0m\n\u001b[1;32m      7\u001b[0m     \u001b[0mboard_sum\u001b[0m \u001b[0;34m=\u001b[0m \u001b[0mrandom\u001b[0m\u001b[0;34m.\u001b[0m\u001b[0mrandom\u001b[0m\u001b[0;34m(\u001b[0m\u001b[0;34m)\u001b[0m \u001b[0;34m*\u001b[0m \u001b[0mnp\u001b[0m\u001b[0;34m.\u001b[0m\u001b[0msum\u001b[0m\u001b[0;34m(\u001b[0m\u001b[0mboard_moves\u001b[0m\u001b[0;34m)\u001b[0m\u001b[0;34m\u001b[0m\u001b[0;34m\u001b[0m\u001b[0m\n\u001b[1;32m      8\u001b[0m     \u001b[0;32mfor\u001b[0m \u001b[0mx\u001b[0m \u001b[0;32min\u001b[0m \u001b[0mrange\u001b[0m\u001b[0;34m(\u001b[0m\u001b[0mBOARD_SIZE\u001b[0m\u001b[0;34m)\u001b[0m\u001b[0;34m:\u001b[0m\u001b[0;34m\u001b[0m\u001b[0;34m\u001b[0m\u001b[0m\n\u001b[0;32m----> 9\u001b[0;31m         \u001b[0mline_sum\u001b[0m \u001b[0;34m=\u001b[0m \u001b[0mnp\u001b[0m\u001b[0;34m.\u001b[0m\u001b[0msum\u001b[0m\u001b[0;34m(\u001b[0m\u001b[0mboard_moves\u001b[0m\u001b[0;34m[\u001b[0m\u001b[0mx\u001b[0m\u001b[0;34m]\u001b[0m\u001b[0;34m)\u001b[0m\u001b[0;34m\u001b[0m\u001b[0;34m\u001b[0m\u001b[0m\n\u001b[0m\u001b[1;32m     10\u001b[0m \u001b[0;34m\u001b[0m\u001b[0m\n\u001b[1;32m     11\u001b[0m         \u001b[0;31m#print('hmm board_sum: {}, line_sum: {}'.format(board_sum, line_sum))\u001b[0m\u001b[0;34m\u001b[0m\u001b[0;34m\u001b[0m\u001b[0;34m\u001b[0m\u001b[0m\n",
      "\u001b[0;31mKeyboardInterrupt\u001b[0m: "
     ]
    }
   ],
   "source": [
    "\n",
    "loop_index = 0\n",
    "while True:\n",
    "    print('STARTING LOOP', loop_index)\n",
    "    \n",
    "    train_x = []\n",
    "    train_y = []\n",
    "\n",
    "    while len(train_x) < ONE_LOOP_DATA:\n",
    "        board = np.zeros((BOARD_SIZE, BOARD_SIZE, 1))\n",
    "\n",
    "        board[int(BOARD_SIZE / 2)][int(BOARD_SIZE / 2)] = 1\n",
    "        cur_player = -1\n",
    "\n",
    "        for i in range(BOARD_SIZE * BOARD_SIZE):\n",
    "            # print('Looping:', i, 'Data count:', len(train_x))\n",
    "            monte_carlo_result = do_monte_carlo(board, cur_player)\n",
    "\n",
    "            monte_carlo_result[board.reshape(BOARD_SIZE, BOARD_SIZE) != 0] = 0\n",
    "\n",
    "            x, y = get_best_play_pos(monte_carlo_result)\n",
    "\n",
    "            new_train_y = np.zeros((BOARD_SIZE, BOARD_SIZE, 1))\n",
    "            new_train_y[x][y][0] = 1\n",
    "\n",
    "            train_x.append(board.copy() * cur_player)\n",
    "            train_y.append(new_train_y)\n",
    "            monte_carlo_results.append(monte_carlo_result)\n",
    "\n",
    "            board[x][y][0] = cur_player\n",
    "\n",
    "            if define_winning(board, x, y):\n",
    "                print('found win condition', len(train_x))\n",
    "                break\n",
    "\n",
    "            cur_player *= -1\n",
    "    \n",
    "    augmented_train_x, augmented_train_y = augment_data(train_x, train_y)\n",
    "    \n",
    "    history = model.fit(\n",
    "        np.array(augmented_train_x),\n",
    "        #keras.utils.to_categorical(np.array(augmented_train_y), num_classes=2),\n",
    "        np.array(augmented_train_y),\n",
    "        epochs=EPOCHS,\n",
    "        #validation_split=0.1,\n",
    "        shuffle=True\n",
    "    )\n",
    "    \n",
    "    model.save('output/my-model-{}.h5'.format(loop_index))\n",
    "    np.savez_compressed('output/train-x-y-{}'.format(loop_index), train_x=train_x, train_y=train_y)\n",
    "    \n",
    "    loop_index += 1\n",
    "    "
   ]
  },
  {
   "cell_type": "code",
   "execution_count": 203,
   "metadata": {},
   "outputs": [],
   "source": [
    "i = 0"
   ]
  },
  {
   "cell_type": "code",
   "execution_count": 230,
   "metadata": {},
   "outputs": [
    {
     "data": {
      "image/png": "[encoded data removed]",
      "text/plain": [
       "<Figure size 432x288 with 1 Axes>"
      ]
     },
     "metadata": {
      "needs_background": "light"
     },
     "output_type": "display_data"
    }
   ],
   "source": [
    "pyplot.imshow(train_x[i].reshape(BOARD_SIZE, BOARD_SIZE), norm=Normalize(-1, 1), cmap='rainbow')\n",
    "i += 1"
   ]
  },
  {
   "cell_type": "code",
   "execution_count": 165,
   "metadata": {},
   "outputs": [
    {
     "data": {
      "text/plain": [
       "(335, 335, 2680, 2680)"
      ]
     },
     "execution_count": 165,
     "metadata": {},
     "output_type": "execute_result"
    }
   ],
   "source": [
    "augmented_train_x, augmented_train_y = augment_data(train_x, train_y)\n",
    "\n",
    "len(train_x), len(train_y), len(augmented_train_x), len(augmented_train_y)"
   ]
  },
  {
   "cell_type": "code",
   "execution_count": 172,
   "metadata": {},
   "outputs": [],
   "source": [
    "#np.savez_compressed('base-train-x-y', train_x=train_x, train_y=train_y)\n",
    "#model.save('base-model.h5')"
   ]
  },
  {
   "cell_type": "code",
   "execution_count": 431,
   "metadata": {
    "scrolled": true
   },
   "outputs": [
    {
     "ename": "ValueError",
     "evalue": "Error when checking input: expected conv2d_32_input to have shape (15, 15, 1) but got array with shape (15, 15, 3)",
     "output_type": "error",
     "traceback": [
      "\u001b[0;31m---------------------------------------------------------------------------\u001b[0m",
      "\u001b[0;31mValueError\u001b[0m                                Traceback (most recent call last)",
      "\u001b[0;32m<ipython-input-431-2fe53e326795>\u001b[0m in \u001b[0;36m<module>\u001b[0;34m\u001b[0m\n\u001b[1;32m      7\u001b[0m     \u001b[0mepochs\u001b[0m\u001b[0;34m=\u001b[0m\u001b[0mEPOCHS\u001b[0m\u001b[0;34m,\u001b[0m\u001b[0;34m\u001b[0m\u001b[0;34m\u001b[0m\u001b[0m\n\u001b[1;32m      8\u001b[0m     \u001b[0mvalidation_split\u001b[0m\u001b[0;34m=\u001b[0m\u001b[0;36m0.10\u001b[0m\u001b[0;34m,\u001b[0m\u001b[0;34m\u001b[0m\u001b[0;34m\u001b[0m\u001b[0m\n\u001b[0;32m----> 9\u001b[0;31m     \u001b[0mshuffle\u001b[0m\u001b[0;34m=\u001b[0m\u001b[0;32mTrue\u001b[0m\u001b[0;34m\u001b[0m\u001b[0;34m\u001b[0m\u001b[0m\n\u001b[0m\u001b[1;32m     10\u001b[0m )\n",
      "\u001b[0;32m~/.virtualenvs/neuralnets/lib/python3.7/site-packages/keras/engine/training.py\u001b[0m in \u001b[0;36mfit\u001b[0;34m(self, x, y, batch_size, epochs, verbose, callbacks, validation_split, validation_data, shuffle, class_weight, sample_weight, initial_epoch, steps_per_epoch, validation_steps, validation_freq, max_queue_size, workers, use_multiprocessing, **kwargs)\u001b[0m\n\u001b[1;32m   1152\u001b[0m             \u001b[0msample_weight\u001b[0m\u001b[0;34m=\u001b[0m\u001b[0msample_weight\u001b[0m\u001b[0;34m,\u001b[0m\u001b[0;34m\u001b[0m\u001b[0;34m\u001b[0m\u001b[0m\n\u001b[1;32m   1153\u001b[0m             \u001b[0mclass_weight\u001b[0m\u001b[0;34m=\u001b[0m\u001b[0mclass_weight\u001b[0m\u001b[0;34m,\u001b[0m\u001b[0;34m\u001b[0m\u001b[0;34m\u001b[0m\u001b[0m\n\u001b[0;32m-> 1154\u001b[0;31m             batch_size=batch_size)\n\u001b[0m\u001b[1;32m   1155\u001b[0m \u001b[0;34m\u001b[0m\u001b[0m\n\u001b[1;32m   1156\u001b[0m         \u001b[0;31m# Prepare validation data.\u001b[0m\u001b[0;34m\u001b[0m\u001b[0;34m\u001b[0m\u001b[0;34m\u001b[0m\u001b[0m\n",
      "\u001b[0;32m~/.virtualenvs/neuralnets/lib/python3.7/site-packages/keras/engine/training.py\u001b[0m in \u001b[0;36m_standardize_user_data\u001b[0;34m(self, x, y, sample_weight, class_weight, check_array_lengths, batch_size)\u001b[0m\n\u001b[1;32m    577\u001b[0m             \u001b[0mfeed_input_shapes\u001b[0m\u001b[0;34m,\u001b[0m\u001b[0;34m\u001b[0m\u001b[0;34m\u001b[0m\u001b[0m\n\u001b[1;32m    578\u001b[0m             \u001b[0mcheck_batch_axis\u001b[0m\u001b[0;34m=\u001b[0m\u001b[0;32mFalse\u001b[0m\u001b[0;34m,\u001b[0m  \u001b[0;31m# Don't enforce the batch size.\u001b[0m\u001b[0;34m\u001b[0m\u001b[0;34m\u001b[0m\u001b[0m\n\u001b[0;32m--> 579\u001b[0;31m             exception_prefix='input')\n\u001b[0m\u001b[1;32m    580\u001b[0m \u001b[0;34m\u001b[0m\u001b[0m\n\u001b[1;32m    581\u001b[0m         \u001b[0;32mif\u001b[0m \u001b[0my\u001b[0m \u001b[0;32mis\u001b[0m \u001b[0;32mnot\u001b[0m \u001b[0;32mNone\u001b[0m\u001b[0;34m:\u001b[0m\u001b[0;34m\u001b[0m\u001b[0;34m\u001b[0m\u001b[0m\n",
      "\u001b[0;32m~/.virtualenvs/neuralnets/lib/python3.7/site-packages/keras/engine/training_utils.py\u001b[0m in \u001b[0;36mstandardize_input_data\u001b[0;34m(data, names, shapes, check_batch_axis, exception_prefix)\u001b[0m\n\u001b[1;32m    143\u001b[0m                             \u001b[0;34m': expected '\u001b[0m \u001b[0;34m+\u001b[0m \u001b[0mnames\u001b[0m\u001b[0;34m[\u001b[0m\u001b[0mi\u001b[0m\u001b[0;34m]\u001b[0m \u001b[0;34m+\u001b[0m \u001b[0;34m' to have shape '\u001b[0m \u001b[0;34m+\u001b[0m\u001b[0;34m\u001b[0m\u001b[0;34m\u001b[0m\u001b[0m\n\u001b[1;32m    144\u001b[0m                             \u001b[0mstr\u001b[0m\u001b[0;34m(\u001b[0m\u001b[0mshape\u001b[0m\u001b[0;34m)\u001b[0m \u001b[0;34m+\u001b[0m \u001b[0;34m' but got array with shape '\u001b[0m \u001b[0;34m+\u001b[0m\u001b[0;34m\u001b[0m\u001b[0;34m\u001b[0m\u001b[0m\n\u001b[0;32m--> 145\u001b[0;31m                             str(data_shape))\n\u001b[0m\u001b[1;32m    146\u001b[0m     \u001b[0;32mreturn\u001b[0m \u001b[0mdata\u001b[0m\u001b[0;34m\u001b[0m\u001b[0;34m\u001b[0m\u001b[0m\n\u001b[1;32m    147\u001b[0m \u001b[0;34m\u001b[0m\u001b[0m\n",
      "\u001b[0;31mValueError\u001b[0m: Error when checking input: expected conv2d_32_input to have shape (15, 15, 1) but got array with shape (15, 15, 3)"
     ]
    }
   ],
   "source": [
    "augmented_train_x, augmented_train_y = augment_data(train_x, train_y)\n",
    "\n",
    "history = model.fit(\n",
    "    np.array(augmented_train_x),\n",
    "    #keras.utils.to_categorical(np.array(augmented_train_y), num_classes=2),\n",
    "    np.array(augmented_train_y),\n",
    "    epochs=EPOCHS,\n",
    "    validation_split=0.10,\n",
    "    shuffle=True\n",
    ")\n"
   ]
  },
  {
   "cell_type": "code",
   "execution_count": 433,
   "metadata": {},
   "outputs": [
    {
     "data": {
      "image/png": "[encoded data removed]",
      "text/plain": [
       "<Figure size 432x288 with 1 Axes>"
      ]
     },
     "metadata": {
      "needs_background": "light"
     },
     "output_type": "display_data"
    }
   ],
   "source": [
    "plt.plot(history.history['accuracy'])\n",
    "plt.plot(history.history['val_accuracy'])\n",
    "plt.ylabel('accuracy')\n",
    "plt.xlabel('epoch')\n",
    "plt.legend(['train', 'test'], loc='upper left')\n",
    "\n",
    "plt.show()\n",
    "\n",
    "######\n",
    "# comparing different model structures\n",
    "# val acc starts from 0.9900\n",
    "######\n",
    "# 5 layers val acc: 0.9919 best e?\n",
    "# 4 layers val acc: 0.9919 best e17\n",
    "# 3 layers val acc: 0.9917 best e29 huom: ei ylioppimista. ei nouse 0.9916 yli tokalla yrityksellä ees 100 epokilla.\n",
    "# 2 layers val acc: 0.9904 best e27\n",
    "# 1 layers val acc: 0.9900 ei kasva.."
   ]
  },
  {
   "cell_type": "code",
   "execution_count": 434,
   "metadata": {},
   "outputs": [
    {
     "data": {
      "image/png": "[encoded data removed]",
      "text/plain": [
       "<Figure size 432x288 with 1 Axes>"
      ]
     },
     "metadata": {
      "needs_background": "light"
     },
     "output_type": "display_data"
    }
   ],
   "source": [
    "plt.plot(history.history['loss'])\n",
    "plt.plot(history.history['val_loss'])\n",
    "plt.ylabel('loss')\n",
    "plt.xlabel('epoch')\n",
    "plt.legend(['train', 'test'], loc='upper left')\n",
    "plt.show()\n"
   ]
  },
  {
   "cell_type": "code",
   "execution_count": null,
   "metadata": {},
   "outputs": [],
   "source": []
  },
  {
   "cell_type": "code",
   "execution_count": 170,
   "metadata": {},
   "outputs": [
    {
     "data": {
      "text/plain": [
       "{'keras': 21544.70647907257,\n",
       " 'slow loop': 15966.63766503334,\n",
       " 'get play pos': 9681.242038488388,\n",
       " 'define win': 1559.1900572776794}"
      ]
     },
     "execution_count": 170,
     "metadata": {},
     "output_type": "execute_result"
    }
   ],
   "source": [
    "timer.timers"
   ]
  },
  {
   "cell_type": "code",
   "execution_count": null,
   "metadata": {},
   "outputs": [],
   "source": []
  }
 ],
 "metadata": {
  "kernelspec": {
   "display_name": "Python 3",
   "language": "python",
   "name": "python3"
  },
  "language_info": {
   "codemirror_mode": {
    "name": "ipython",
    "version": 3
   },
   "file_extension": ".py",
   "mimetype": "text/x-python",
   "name": "python",
   "nbconvert_exporter": "python",
   "pygments_lexer": "ipython3",
   "version": "3.7.4"
  }
 },
 "nbformat": 4,
 "nbformat_minor": 2
}
