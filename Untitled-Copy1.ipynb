{
 "cells": [
  {
   "cell_type": "code",
   "execution_count": 143,
   "metadata": {},
   "outputs": [],
   "source": [
    "import numpy as np\n",
    "\n",
    "from keras.models import Sequential\n",
    "from keras.layers import Dense, Conv2D, Flatten\n",
    "\n",
    "from matplotlib import pyplot\n",
    "\n",
    "import random\n",
    "\n",
    "import time\n",
    "\n",
    "from matplotlib.colors import Normalize\n",
    "\n",
    "import matplotlib.pyplot as plt\n",
    "\n",
    "import keras\n",
    "\n",
    "from multiprocessing import Pool\n"
   ]
  },
  {
   "cell_type": "code",
   "execution_count": 144,
   "metadata": {},
   "outputs": [],
   "source": [
    "\n",
    "BOARD_SIZE = 15\n",
    "BATCH_SIZE = 100\n"
   ]
  },
  {
   "cell_type": "code",
   "execution_count": 145,
   "metadata": {},
   "outputs": [],
   "source": [
    "\n",
    "def vis_board(board):\n",
    "    lookup = {0: ' ', -1: 'X', 1: 'O'}\n",
    "    print('*' * (BOARD_SIZE + 2))\n",
    "    for line_num, line in enumerate(board):\n",
    "        print('* ' + ''.join([lookup[cell[0]] for cell in line]))\n",
    "\n",
    "#boards[0][4][2] = 1\n",
    "#boards[0][6][2] = -1\n",
    "        \n",
    "# vis_board(boards[0])\n"
   ]
  },
  {
   "cell_type": "code",
   "execution_count": 374,
   "metadata": {},
   "outputs": [
    {
     "name": "stdout",
     "output_type": "stream",
     "text": [
      "_________________________________________________________________\n",
      "Layer (type)                 Output Shape              Param #   \n",
      "=================================================================\n",
      "conv2d_41 (Conv2D)           (None, 15, 15, 64)        640       \n",
      "_________________________________________________________________\n",
      "conv2d_42 (Conv2D)           (None, 15, 15, 64)        36928     \n",
      "_________________________________________________________________\n",
      "conv2d_43 (Conv2D)           (None, 15, 15, 2)         130       \n",
      "=================================================================\n",
      "Total params: 37,698\n",
      "Trainable params: 37,698\n",
      "Non-trainable params: 0\n",
      "_________________________________________________________________\n"
     ]
    }
   ],
   "source": [
    "\n",
    "#model.add(Conv2D(256, kernel_size=3, activation='relu', input_shape=(BOARD_SIZE, BOARD_SIZE, 1), padding='same'))\n",
    "#model.add(Conv2D(256, kernel_size=3, activation='relu', input_shape=(BOARD_SIZE, BOARD_SIZE, 1), padding='same'))\n",
    "#model.add(Conv2D(256, kernel_size=3, activation='relu', input_shape=(BOARD_SIZE, BOARD_SIZE, 1), padding='same'))\n",
    "#model.add(Conv2D(256, kernel_size=3, activation='relu', input_shape=(BOARD_SIZE, BOARD_SIZE, 1), padding='same'))\n",
    "#model.add(Conv2D(64, kernel_size=3, activation='relu', input_shape=(BOARD_SIZE, BOARD_SIZE, 1), padding='same'))\n",
    "#model.add(Conv2D(64, kernel_size=3, activation='relu', input_shape=(BOARD_SIZE, BOARD_SIZE, 1), padding='same'))\n",
    "#model.add(Conv2D(64, kernel_size=3, activation='relu', input_shape=(BOARD_SIZE, BOARD_SIZE, 1), padding='same'))\n",
    "\n",
    "model = Sequential()\n",
    "model.add(Conv2D(64, kernel_size=3, activation='relu', input_shape=(BOARD_SIZE, BOARD_SIZE, 1), padding='same'))\n",
    "model.add(Conv2D(64, kernel_size=3, activation='relu', input_shape=(BOARD_SIZE, BOARD_SIZE, 1), padding='same'))\n",
    "#model.add(Conv2D(256, kernel_size=3, activation='relu', input_shape=(BOARD_SIZE, BOARD_SIZE, 1), padding='same'))\n",
    "#model.add(Conv2D(64, kernel_size=3, activation='relu', input_shape=(BOARD_SIZE, BOARD_SIZE, 1), padding='same'))\n",
    "#model.add(Conv2D(64, kernel_size=3, activation='relu', input_shape=(BOARD_SIZE, BOARD_SIZE, 1), padding='same'))\n",
    "\n",
    "model.add(Conv2D(2, kernel_size=1, activation='sigmoid', input_shape=(BOARD_SIZE, BOARD_SIZE, 1), padding='same'))\n",
    "\n",
    "model.compile(\n",
    "    optimizer=keras.optimizers.Adam(lr=0.0001),\n",
    "    loss='categorical_crossentropy',\n",
    "    metrics=['accuracy']\n",
    ")\n",
    "\n",
    "model.summary()"
   ]
  },
  {
   "cell_type": "code",
   "execution_count": 324,
   "metadata": {},
   "outputs": [],
   "source": [
    "class Timer:\n",
    "    \n",
    "    def __init__(self):\n",
    "        self.timers = {}\n",
    "    \n",
    "    def timeit(self_outer, name):\n",
    "        if name not in self_outer.timers:\n",
    "            self_outer.timers[name] = 0\n",
    "            \n",
    "        class TimerInner:\n",
    "            def __enter__(self):\n",
    "                self.name = name\n",
    "                self.start_time = time.time()\n",
    "                pass\n",
    "\n",
    "            def __exit__(self, type, value, traceback):\n",
    "                self_outer.timers[self.name] += time.time() - self.start_time\n",
    "        \n",
    "        return TimerInner\n",
    "    \n",
    "    '''\n",
    "    def timeit(self, name):\n",
    "        if name not in self.timers:\n",
    "            self.timers[name] = 0\n",
    "        \n",
    "        def thing(func):\n",
    "            def inner_thing(*args, **kwargs):\n",
    "                start_time = time.time()\n",
    "                return_val = func(*args, **kwargs)\n",
    "                total_time = start_time - time.time()\n",
    "                self.timers[name] += total_time\n",
    "                return return_val\n",
    "            return inner_thing\n",
    "        return thing\n",
    "        '''"
   ]
  },
  {
   "cell_type": "code",
   "execution_count": 325,
   "metadata": {},
   "outputs": [],
   "source": [
    "timer = Timer()\n",
    "\n",
    "boards = np.zeros((BATCH_SIZE, BOARD_SIZE, BOARD_SIZE, 1))\n",
    "boards.shape\n",
    "\n",
    "def get_play_pos(board_moves, depth=0):\n",
    "    board_sum = random.random() * np.sum(board_moves)\n",
    "    for x in range(BOARD_SIZE):\n",
    "        line_sum = np.sum(board_moves[x])\n",
    "        \n",
    "        #print('hmm board_sum: {}, line_sum: {}'.format(board_sum, line_sum))\n",
    "        \n",
    "        if board_sum > line_sum:\n",
    "            #print('removing line')\n",
    "            #print('asdf', x, board_sum, line_sum, board_moves[x])\n",
    "            #print('wtf1', board_sum, line_sum, type(board_sum), type(line_sum))\n",
    "            board_sum -= line_sum\n",
    "            #print('wtf2', board_sum, line_sum, type(board_sum), type(line_sum))\n",
    "            continue\n",
    "        else:\n",
    "            pass\n",
    "            #print('wwww', x, board_sum, board_moves[x])\n",
    "        \n",
    "        for y in range(BOARD_SIZE):\n",
    "            #print('removing cell')\n",
    "            board_sum -= board_moves[x][y][0]\n",
    "            if board_sum <= 0:\n",
    "                return x, y\n",
    "    \n",
    "    # raise Exception('WUTWUT')\n",
    "    \n",
    "    if depth < 4:\n",
    "        print('Error happened')\n",
    "        return get_play_pos(board_moves, depth=depth+1)\n",
    "    \n",
    "    print('WHY WHYW HY WHY')\n",
    "    return 0, 0\n",
    "    \n",
    "    raise Exception('This should not happen {}'.format(board_sum))\n",
    "\n",
    "    \n",
    "def get_best_play_pos(board_moves):\n",
    "    best_x, best_y, best_score = 0, 0, 0\n",
    "    for x in range(BOARD_SIZE):\n",
    "        for y in range(BOARD_SIZE):\n",
    "            # print(x, y, best_x, best_y, best_score, board_moves[x][y])\n",
    "            if board_moves[x][y] > best_score:\n",
    "                best_x, best_y, best_score = x, y, board_moves[x][y]\n",
    "    return best_x, best_y\n",
    "\n",
    "   \n",
    "'''\n",
    "def define_winning(board):\n",
    "    for x in range(BOARD_SIZE - 5):\n",
    "        for y in range(BOARD_SIZE - 5):\n",
    "            hor = True\n",
    "            ver = True\n",
    "            dia1 = True\n",
    "            dia2 = True\n",
    "            \n",
    "            for i in range(1, 5):\n",
    "                if board[x][y][0] != board[x][y + i][0]:\n",
    "                    ver = False\n",
    "                if board[x][y][0] != board[x + i][y + i][0]:\n",
    "                    dia1 = False\n",
    "                if board[x][y][0] != board[x + i][y][0]:\n",
    "                    hor = False\n",
    "                if board[BOARD_SIZE - x - 1][y][0] != board[BOARD_SIZE - x - i - 1][y + i][0]:\n",
    "                    dia2 = False\n",
    "            \n",
    "            if (hor or ver or dia1) and board[x][y][0] != 0:\n",
    "                #print('WINNER', x, y, hor, ver, dia1)\n",
    "                #vis_board(board)\n",
    "                return board[x][y][0]\n",
    "            \n",
    "            if dia2 and board[BOARD_SIZE - x - 1][y][0] != 0:\n",
    "                return board[BOARD_SIZE - x - 1][y][0]\n",
    "    return 0\n",
    "'''\n",
    "\n",
    "\n",
    "def define_winning(board, x, y):\n",
    "    value = board[x][y][0]\n",
    "    \n",
    "    # X direction\n",
    "    count = 1\n",
    "    i = 1\n",
    "    while x - i >= 0 and board[x - i][y][0] == value:\n",
    "        count += 1\n",
    "        i += 1\n",
    "    i = 1\n",
    "    while x + i < BOARD_SIZE and board[x + i][y][0] == value:\n",
    "        count += 1\n",
    "        i += 1\n",
    "    if count >= 5:\n",
    "        return True\n",
    "    \n",
    "    # Y direction\n",
    "    count = 1\n",
    "    i = 1\n",
    "    while y - i >= 0 and board[x][y - i][0] == value:\n",
    "        count += 1\n",
    "        i += 1\n",
    "    i = 1\n",
    "    while y + i < BOARD_SIZE and board[x][y + i][0] == value:\n",
    "        count += 1\n",
    "        i += 1\n",
    "    if count >= 5:\n",
    "        return True\n",
    "    \n",
    "    # Diagonal 1\n",
    "    count = 1\n",
    "    i = 1\n",
    "    while x - i >= 0 and y - i >= 0 and board[x - i][y - i][0] == value:\n",
    "        count += 1\n",
    "        i += 1\n",
    "    i = 1\n",
    "    while x + i < BOARD_SIZE and y + i < BOARD_SIZE and board[x + i][y + i][0] == value:\n",
    "        count += 1\n",
    "        i += 1\n",
    "    if count >= 5:\n",
    "        return True\n",
    "    \n",
    "    # Diagonal 2\n",
    "    count = 1\n",
    "    i = 1\n",
    "    while x - i >= 0 and y + i < BOARD_SIZE and board[x - i][y + i][0] == value:\n",
    "        count += 1\n",
    "        i += 1\n",
    "    i = 1\n",
    "    while x + i < BOARD_SIZE and y - i >= 0 and board[x + i][y - i][0] == value:\n",
    "        count += 1\n",
    "        i += 1\n",
    "    if count >= 5:\n",
    "        return True\n",
    "    \n",
    "    return False\n",
    "\n",
    "\n",
    "def do_monte_carlo(board, monte_carlo_player):\n",
    "    # Do a batch for each location on the board (non played)\n",
    "    \n",
    "    monte_carlo_result = np.zeros((BOARD_SIZE, BOARD_SIZE))\n",
    "    \n",
    "    # Do monte carlo for each point in the board\n",
    "    for x in range(BOARD_SIZE):\n",
    "        for y in range(BOARD_SIZE):    \n",
    "            # Don't do monte carlo for already played positions\n",
    "            if board[x][y] != 0:\n",
    "                continue\n",
    "                \n",
    "            # Don't do monte carlo if no plays around\n",
    "            # if np.count_nonzero(board[x-2:x+1][y-2:y+1] != 0) == 0:\n",
    "            if np.count_nonzero(board[\n",
    "                max(0, x-1):min(x+2, BOARD_SIZE - 1),\n",
    "                max(0, y-1):min(y+2, BOARD_SIZE - 1),\n",
    "                0\n",
    "            ] != 0) == 0:\n",
    "                continue\n",
    "            \n",
    "            pos_board = board.copy()\n",
    "            pos_board[x][y][0] = monte_carlo_player\n",
    "            \n",
    "            if define_winning(pos_board, x, y):\n",
    "                ratio = 1\n",
    "            else:\n",
    "                cur_player = monte_carlo_player\n",
    "                winners = np.zeros((BATCH_SIZE))\n",
    "                stacked_boards = np.vstack([\n",
    "                    pos_board.reshape(1, BOARD_SIZE, BOARD_SIZE, 1)\n",
    "                    for i in range(BATCH_SIZE)\n",
    "                ])\n",
    "\n",
    "                # Might have to simulate this many steps, might break earlier\n",
    "                for i in range(BOARD_SIZE * BOARD_SIZE):\n",
    "                #for i in range(50):\n",
    "                    cur_player *= -1\n",
    "\n",
    "                    with timer.timeit('keras')():\n",
    "                        predicted = model.predict(stacked_boards)[:,:,:,0:1]\n",
    "                    \n",
    "                    #print('asdfasdf', predicted.shape, stacked_boards.shape)\n",
    "                    \n",
    "                    #print('asdf', predicted)\n",
    "                    #assert np.sum(predicted) == 1\n",
    "                    \n",
    "                    # Add randomness to the play\n",
    "                    #predicted += 0.05\n",
    "                    \n",
    "                    # Prevent play when tehre is a marker already\n",
    "                    predicted[stacked_boards != 0] = 0\n",
    "                    \n",
    "                    with timer.timeit('slow loop')():\n",
    "                        for batch_id in range(BATCH_SIZE):\n",
    "                            if winners[batch_id] != 0:\n",
    "                                continue\n",
    "\n",
    "                            board_moves = predicted[batch_id]\n",
    "                            \n",
    "                            with timer.timeit('get play pos')():\n",
    "                                play_x, play_y = get_play_pos(board_moves)\n",
    "\n",
    "                            stacked_boards[batch_id][play_x][play_y] = cur_player\n",
    "\n",
    "                            with timer.timeit('define win')():\n",
    "                                if define_winning(stacked_boards[batch_id], play_x, play_y):\n",
    "                                    winners[batch_id] = cur_player\n",
    "                            #if winner != 0:\n",
    "                            #    winners[batch_id] = winner\n",
    "\n",
    "                    # Stop when all boards done\n",
    "                    #if len(winners[winners == 0]) == 0:\n",
    "                    if len(winners[winners == 0]) < BATCH_SIZE / 2:\n",
    "                        #print('Early win condition on all batches', i)\n",
    "                        break\n",
    "            \n",
    "                ratio = len(winners[winners == monte_carlo_player]) / len(winners)\n",
    "\n",
    "                '''\n",
    "                print(\n",
    "                    'asdf',\n",
    "                    x, y, ratio,\n",
    "                    len(winners[winners == monte_carlo_player]),\n",
    "                    len(winners[winners == -monte_carlo_player]),\n",
    "                    len(winners)\n",
    "                )\n",
    "                '''\n",
    "            \n",
    "            monte_carlo_result[x][y] = ratio\n",
    "            \n",
    "            # print('ratio is', x, y, ratio)\n",
    "\n",
    "    return monte_carlo_result\n",
    "\n"
   ]
  },
  {
   "cell_type": "code",
   "execution_count": 371,
   "metadata": {},
   "outputs": [
    {
     "data": {
      "text/plain": [
       "<matplotlib.image.AxesImage at 0x7f3ca8429dd8>"
      ]
     },
     "execution_count": 371,
     "metadata": {},
     "output_type": "execute_result"
    },
    {
     "data": {
      "image/png": "[encoded data removed]",
      "text/plain": [
       "<Figure size 432x288 with 1 Axes>"
      ]
     },
     "metadata": {
      "needs_background": "light"
     },
     "output_type": "display_data"
    }
   ],
   "source": [
    "board = np.zeros((BOARD_SIZE, BOARD_SIZE, 1))\n",
    "\n",
    "#board[0][0][0] = 1\n",
    "#board[1][1][0] = 1\n",
    "#board[2][2][0] = 1\n",
    "#board[3][3][0] = 1\n",
    "#board[4][4][0] = 1\n",
    "\n",
    "board[4][0][0] = 1\n",
    "board[3][1][0] = 1\n",
    "board[2][2][0] = 1\n",
    "#board[1][3][0] = 1\n",
    "#board[0][4][0] = 1\n",
    "\n",
    "#board[0][2][0] = 1\n",
    "#board[1][2][0] = 1\n",
    "board[2][2][0] = -1\n",
    "board[3][2][0] = -1\n",
    "board[4][2][0] = -1\n",
    "\n",
    "#board[2][0][0] = 1\n",
    "#board[2][1][0] = 1\n",
    "#board[2][2][0] = 1\n",
    "#board[2][3][0] = 1\n",
    "#board[2][4][0] = 1\n",
    "\n",
    "pyplot.imshow(board.reshape(BOARD_SIZE, BOARD_SIZE))\n",
    "\n",
    "#define_winning(board, 2, 2)"
   ]
  },
  {
   "cell_type": "code",
   "execution_count": 372,
   "metadata": {},
   "outputs": [
    {
     "data": {
      "text/plain": [
       "<matplotlib.image.AxesImage at 0x7f3ca83e74e0>"
      ]
     },
     "execution_count": 372,
     "metadata": {},
     "output_type": "execute_result"
    },
    {
     "data": {
      "image/png": "[encoded data removed]",
      "text/plain": [
       "<Figure size 432x288 with 1 Axes>"
      ]
     },
     "metadata": {
      "needs_background": "light"
     },
     "output_type": "display_data"
    }
   ],
   "source": [
    "prediction = model.predict(np.array([board]))[0,:,:,0]\n",
    "pyplot.imshow(prediction, norm=Normalize(0, 1), cmap='gray')"
   ]
  },
  {
   "cell_type": "code",
   "execution_count": 373,
   "metadata": {},
   "outputs": [
    {
     "data": {
      "text/plain": [
       "array([[0.76905704, 0.87117386, 0.88314795, 0.86764616, 0.84866005,\n",
       "        0.81645143, 0.81645143, 0.81645143, 0.81645143, 0.81645143,\n",
       "        0.81645143, 0.81645143, 0.81645143, 0.81645143, 0.7417538 ],\n",
       "       [0.9026232 , 0.96958375, 0.97355145, 0.9575976 , 0.94188976,\n",
       "        0.897393  , 0.897393  , 0.897393  , 0.897393  , 0.897393  ,\n",
       "        0.897393  , 0.897393  , 0.897393  , 0.897393  , 0.81660384],\n",
       "       [0.96718544, 0.99235827, 0.99281377, 0.9792716 , 0.9600979 ,\n",
       "        0.897393  , 0.897393  , 0.897393  , 0.897393  , 0.897393  ,\n",
       "        0.897393  , 0.897393  , 0.897393  , 0.897393  , 0.81660384],\n",
       "       [0.9818173 , 0.99725646, 0.9953532 , 0.98454547, 0.9583802 ,\n",
       "        0.897393  , 0.897393  , 0.897393  , 0.897393  , 0.897393  ,\n",
       "        0.897393  , 0.897393  , 0.897393  , 0.897393  , 0.81660384],\n",
       "       [0.98398906, 0.9964438 , 0.9945023 , 0.9826864 , 0.94639695,\n",
       "        0.897393  , 0.897393  , 0.897393  , 0.897393  , 0.897393  ,\n",
       "        0.897393  , 0.897393  , 0.897393  , 0.897393  , 0.81660384],\n",
       "       [0.9539853 , 0.98656136, 0.98342013, 0.9643886 , 0.9236664 ,\n",
       "        0.897393  , 0.897393  , 0.897393  , 0.897393  , 0.897393  ,\n",
       "        0.897393  , 0.897393  , 0.897393  , 0.897393  , 0.81660384],\n",
       "       [0.8964184 , 0.9513933 , 0.95107794, 0.9277353 , 0.90858597,\n",
       "        0.897393  , 0.897393  , 0.897393  , 0.897393  , 0.897393  ,\n",
       "        0.897393  , 0.897393  , 0.897393  , 0.897393  , 0.81660384],\n",
       "       [0.81340754, 0.897393  , 0.897393  , 0.897393  , 0.897393  ,\n",
       "        0.897393  , 0.897393  , 0.897393  , 0.897393  , 0.897393  ,\n",
       "        0.897393  , 0.897393  , 0.897393  , 0.897393  , 0.81660384],\n",
       "       [0.81340754, 0.897393  , 0.897393  , 0.897393  , 0.897393  ,\n",
       "        0.897393  , 0.897393  , 0.897393  , 0.897393  , 0.897393  ,\n",
       "        0.897393  , 0.897393  , 0.897393  , 0.897393  , 0.81660384],\n",
       "       [0.81340754, 0.897393  , 0.897393  , 0.897393  , 0.897393  ,\n",
       "        0.897393  , 0.897393  , 0.897393  , 0.897393  , 0.897393  ,\n",
       "        0.897393  , 0.897393  , 0.897393  , 0.897393  , 0.81660384],\n",
       "       [0.81340754, 0.897393  , 0.897393  , 0.897393  , 0.897393  ,\n",
       "        0.897393  , 0.897393  , 0.897393  , 0.897393  , 0.897393  ,\n",
       "        0.897393  , 0.897393  , 0.897393  , 0.897393  , 0.81660384],\n",
       "       [0.81340754, 0.897393  , 0.897393  , 0.897393  , 0.897393  ,\n",
       "        0.897393  , 0.897393  , 0.897393  , 0.897393  , 0.897393  ,\n",
       "        0.897393  , 0.897393  , 0.897393  , 0.897393  , 0.81660384],\n",
       "       [0.81340754, 0.897393  , 0.897393  , 0.897393  , 0.897393  ,\n",
       "        0.897393  , 0.897393  , 0.897393  , 0.897393  , 0.897393  ,\n",
       "        0.897393  , 0.897393  , 0.897393  , 0.897393  , 0.81660384],\n",
       "       [0.81340754, 0.897393  , 0.897393  , 0.897393  , 0.897393  ,\n",
       "        0.897393  , 0.897393  , 0.897393  , 0.897393  , 0.897393  ,\n",
       "        0.897393  , 0.897393  , 0.897393  , 0.897393  , 0.81660384],\n",
       "       [0.7412401 , 0.8214093 , 0.8214093 , 0.8214093 , 0.8214093 ,\n",
       "        0.8214093 , 0.8214093 , 0.8214093 , 0.8214093 , 0.8214093 ,\n",
       "        0.8214093 , 0.8214093 , 0.8214093 , 0.8214093 , 0.7430317 ]],\n",
       "      dtype=float32)"
      ]
     },
     "execution_count": 373,
     "metadata": {},
     "output_type": "execute_result"
    }
   ],
   "source": [
    "prediction"
   ]
  },
  {
   "cell_type": "code",
   "execution_count": 152,
   "metadata": {},
   "outputs": [
    {
     "data": {
      "text/plain": [
       "{}"
      ]
     },
     "execution_count": 152,
     "metadata": {},
     "output_type": "execute_result"
    }
   ],
   "source": [
    "\n",
    "#start_time = time.time()\n",
    "# monte_carlo_result = do_monte_carlo(board, 1)\n",
    "# monte_carlo_result\n",
    "#print(time.time() - start_time)\n",
    "\n",
    "# 50 = 63s\n",
    "\n",
    "timer.timers"
   ]
  },
  {
   "cell_type": "code",
   "execution_count": 344,
   "metadata": {},
   "outputs": [],
   "source": [
    "train_x = []\n",
    "train_y = []\n",
    "monte_carlo_results = []"
   ]
  },
  {
   "cell_type": "code",
   "execution_count": 345,
   "metadata": {
    "scrolled": true
   },
   "outputs": [
    {
     "name": "stdout",
     "output_type": "stream",
     "text": [
      "Looping: 0 Data count: 0\n",
      "Looping: 1 Data count: 1\n",
      "Looping: 2 Data count: 2\n",
      "Looping: 3 Data count: 3\n",
      "Looping: 4 Data count: 4\n",
      "Looping: 5 Data count: 5\n",
      "Looping: 6 Data count: 6\n",
      "Looping: 7 Data count: 7\n",
      "Looping: 8 Data count: 8\n",
      "Looping: 9 Data count: 9\n",
      "Looping: 10 Data count: 10\n",
      "found win condition\n",
      "Looping: 0 Data count: 11\n",
      "Looping: 1 Data count: 12\n",
      "Looping: 2 Data count: 13\n",
      "Looping: 3 Data count: 14\n",
      "Looping: 4 Data count: 15\n",
      "Looping: 5 Data count: 16\n",
      "Looping: 6 Data count: 17\n",
      "Looping: 7 Data count: 18\n",
      "Looping: 8 Data count: 19\n",
      "Looping: 9 Data count: 20\n",
      "Looping: 10 Data count: 21\n",
      "Looping: 11 Data count: 22\n",
      "found win condition\n",
      "Looping: 0 Data count: 23\n",
      "Looping: 1 Data count: 24\n",
      "Looping: 2 Data count: 25\n",
      "Looping: 3 Data count: 26\n",
      "Looping: 4 Data count: 27\n",
      "Looping: 5 Data count: 28\n",
      "Looping: 6 Data count: 29\n",
      "Looping: 7 Data count: 30\n",
      "Looping: 8 Data count: 31\n",
      "Looping: 9 Data count: 32\n",
      "Looping: 10 Data count: 33\n",
      "Looping: 11 Data count: 34\n",
      "found win condition\n",
      "Looping: 0 Data count: 35\n",
      "Looping: 1 Data count: 36\n",
      "Looping: 2 Data count: 37\n",
      "Looping: 3 Data count: 38\n",
      "Looping: 4 Data count: 39\n",
      "Looping: 5 Data count: 40\n",
      "Looping: 6 Data count: 41\n"
     ]
    },
    {
     "ename": "KeyboardInterrupt",
     "evalue": "",
     "output_type": "error",
     "traceback": [
      "\u001b[0;31m---------------------------------------------------------------------------\u001b[0m",
      "\u001b[0;31mKeyboardInterrupt\u001b[0m                         Traceback (most recent call last)",
      "\u001b[0;32m<ipython-input-345-4c2dca236a3f>\u001b[0m in \u001b[0;36m<module>\u001b[0;34m\u001b[0m\n\u001b[1;32m      7\u001b[0m     \u001b[0;32mfor\u001b[0m \u001b[0mi\u001b[0m \u001b[0;32min\u001b[0m \u001b[0mrange\u001b[0m\u001b[0;34m(\u001b[0m\u001b[0mBOARD_SIZE\u001b[0m \u001b[0;34m*\u001b[0m \u001b[0mBOARD_SIZE\u001b[0m\u001b[0;34m)\u001b[0m\u001b[0;34m:\u001b[0m\u001b[0;34m\u001b[0m\u001b[0m\n\u001b[1;32m      8\u001b[0m         \u001b[0mprint\u001b[0m\u001b[0;34m(\u001b[0m\u001b[0;34m'Looping:'\u001b[0m\u001b[0;34m,\u001b[0m \u001b[0mi\u001b[0m\u001b[0;34m,\u001b[0m \u001b[0;34m'Data count:'\u001b[0m\u001b[0;34m,\u001b[0m \u001b[0mlen\u001b[0m\u001b[0;34m(\u001b[0m\u001b[0mtrain_x\u001b[0m\u001b[0;34m)\u001b[0m\u001b[0;34m)\u001b[0m\u001b[0;34m\u001b[0m\u001b[0m\n\u001b[0;32m----> 9\u001b[0;31m         \u001b[0mmonte_carlo_result\u001b[0m \u001b[0;34m=\u001b[0m \u001b[0mdo_monte_carlo\u001b[0m\u001b[0;34m(\u001b[0m\u001b[0mboard\u001b[0m\u001b[0;34m,\u001b[0m \u001b[0mcur_player\u001b[0m\u001b[0;34m)\u001b[0m\u001b[0;34m\u001b[0m\u001b[0m\n\u001b[0m\u001b[1;32m     10\u001b[0m \u001b[0;34m\u001b[0m\u001b[0m\n\u001b[1;32m     11\u001b[0m         \u001b[0mmonte_carlo_result\u001b[0m\u001b[0;34m[\u001b[0m\u001b[0mboard\u001b[0m\u001b[0;34m.\u001b[0m\u001b[0mreshape\u001b[0m\u001b[0;34m(\u001b[0m\u001b[0mBOARD_SIZE\u001b[0m\u001b[0;34m,\u001b[0m \u001b[0mBOARD_SIZE\u001b[0m\u001b[0;34m)\u001b[0m \u001b[0;34m!=\u001b[0m \u001b[0;36m0\u001b[0m\u001b[0;34m]\u001b[0m \u001b[0;34m=\u001b[0m \u001b[0;36m0\u001b[0m\u001b[0;34m\u001b[0m\u001b[0m\n",
      "\u001b[0;32m<ipython-input-325-456c9368d39f>\u001b[0m in \u001b[0;36mdo_monte_carlo\u001b[0;34m(board, monte_carlo_player)\u001b[0m\n\u001b[1;32m    178\u001b[0m \u001b[0;34m\u001b[0m\u001b[0m\n\u001b[1;32m    179\u001b[0m                     \u001b[0;32mwith\u001b[0m \u001b[0mtimer\u001b[0m\u001b[0;34m.\u001b[0m\u001b[0mtimeit\u001b[0m\u001b[0;34m(\u001b[0m\u001b[0;34m'keras'\u001b[0m\u001b[0;34m)\u001b[0m\u001b[0;34m(\u001b[0m\u001b[0;34m)\u001b[0m\u001b[0;34m:\u001b[0m\u001b[0;34m\u001b[0m\u001b[0m\n\u001b[0;32m--> 180\u001b[0;31m                         \u001b[0mpredicted\u001b[0m \u001b[0;34m=\u001b[0m \u001b[0mmodel\u001b[0m\u001b[0;34m.\u001b[0m\u001b[0mpredict\u001b[0m\u001b[0;34m(\u001b[0m\u001b[0mstacked_boards\u001b[0m\u001b[0;34m)\u001b[0m\u001b[0;34m[\u001b[0m\u001b[0;34m:\u001b[0m\u001b[0;34m,\u001b[0m\u001b[0;34m:\u001b[0m\u001b[0;34m,\u001b[0m\u001b[0;34m:\u001b[0m\u001b[0;34m,\u001b[0m\u001b[0;36m0\u001b[0m\u001b[0;34m:\u001b[0m\u001b[0;36m1\u001b[0m\u001b[0;34m]\u001b[0m\u001b[0;34m\u001b[0m\u001b[0m\n\u001b[0m\u001b[1;32m    181\u001b[0m \u001b[0;34m\u001b[0m\u001b[0m\n\u001b[1;32m    182\u001b[0m                     \u001b[0;31m#print('asdfasdf', predicted.shape, stacked_boards.shape)\u001b[0m\u001b[0;34m\u001b[0m\u001b[0;34m\u001b[0m\u001b[0m\n",
      "\u001b[0;32m~/code/neuralnets/ENV/lib/python3.5/site-packages/keras/engine/training.py\u001b[0m in \u001b[0;36mpredict\u001b[0;34m(self, x, batch_size, verbose, steps)\u001b[0m\n\u001b[1;32m   1167\u001b[0m                                             \u001b[0mbatch_size\u001b[0m\u001b[0;34m=\u001b[0m\u001b[0mbatch_size\u001b[0m\u001b[0;34m,\u001b[0m\u001b[0;34m\u001b[0m\u001b[0m\n\u001b[1;32m   1168\u001b[0m                                             \u001b[0mverbose\u001b[0m\u001b[0;34m=\u001b[0m\u001b[0mverbose\u001b[0m\u001b[0;34m,\u001b[0m\u001b[0;34m\u001b[0m\u001b[0m\n\u001b[0;32m-> 1169\u001b[0;31m                                             steps=steps)\n\u001b[0m\u001b[1;32m   1170\u001b[0m \u001b[0;34m\u001b[0m\u001b[0m\n\u001b[1;32m   1171\u001b[0m     def train_on_batch(self, x, y,\n",
      "\u001b[0;32m~/code/neuralnets/ENV/lib/python3.5/site-packages/keras/engine/training_arrays.py\u001b[0m in \u001b[0;36mpredict_loop\u001b[0;34m(model, f, ins, batch_size, verbose, steps)\u001b[0m\n\u001b[1;32m    292\u001b[0m                 \u001b[0mins_batch\u001b[0m\u001b[0;34m[\u001b[0m\u001b[0mi\u001b[0m\u001b[0;34m]\u001b[0m \u001b[0;34m=\u001b[0m \u001b[0mins_batch\u001b[0m\u001b[0;34m[\u001b[0m\u001b[0mi\u001b[0m\u001b[0;34m]\u001b[0m\u001b[0;34m.\u001b[0m\u001b[0mtoarray\u001b[0m\u001b[0;34m(\u001b[0m\u001b[0;34m)\u001b[0m\u001b[0;34m\u001b[0m\u001b[0m\n\u001b[1;32m    293\u001b[0m \u001b[0;34m\u001b[0m\u001b[0m\n\u001b[0;32m--> 294\u001b[0;31m             \u001b[0mbatch_outs\u001b[0m \u001b[0;34m=\u001b[0m \u001b[0mf\u001b[0m\u001b[0;34m(\u001b[0m\u001b[0mins_batch\u001b[0m\u001b[0;34m)\u001b[0m\u001b[0;34m\u001b[0m\u001b[0m\n\u001b[0m\u001b[1;32m    295\u001b[0m             \u001b[0mbatch_outs\u001b[0m \u001b[0;34m=\u001b[0m \u001b[0mto_list\u001b[0m\u001b[0;34m(\u001b[0m\u001b[0mbatch_outs\u001b[0m\u001b[0;34m)\u001b[0m\u001b[0;34m\u001b[0m\u001b[0m\n\u001b[1;32m    296\u001b[0m             \u001b[0;32mif\u001b[0m \u001b[0mbatch_index\u001b[0m \u001b[0;34m==\u001b[0m \u001b[0;36m0\u001b[0m\u001b[0;34m:\u001b[0m\u001b[0;34m\u001b[0m\u001b[0m\n",
      "\u001b[0;32m~/code/neuralnets/ENV/lib/python3.5/site-packages/keras/backend/tensorflow_backend.py\u001b[0m in \u001b[0;36m__call__\u001b[0;34m(self, inputs)\u001b[0m\n\u001b[1;32m   2713\u001b[0m                 \u001b[0;32mreturn\u001b[0m \u001b[0mself\u001b[0m\u001b[0;34m.\u001b[0m\u001b[0m_legacy_call\u001b[0m\u001b[0;34m(\u001b[0m\u001b[0minputs\u001b[0m\u001b[0;34m)\u001b[0m\u001b[0;34m\u001b[0m\u001b[0m\n\u001b[1;32m   2714\u001b[0m \u001b[0;34m\u001b[0m\u001b[0m\n\u001b[0;32m-> 2715\u001b[0;31m             \u001b[0;32mreturn\u001b[0m \u001b[0mself\u001b[0m\u001b[0;34m.\u001b[0m\u001b[0m_call\u001b[0m\u001b[0;34m(\u001b[0m\u001b[0minputs\u001b[0m\u001b[0;34m)\u001b[0m\u001b[0;34m\u001b[0m\u001b[0m\n\u001b[0m\u001b[1;32m   2716\u001b[0m         \u001b[0;32melse\u001b[0m\u001b[0;34m:\u001b[0m\u001b[0;34m\u001b[0m\u001b[0m\n\u001b[1;32m   2717\u001b[0m             \u001b[0;32mif\u001b[0m \u001b[0mpy_any\u001b[0m\u001b[0;34m(\u001b[0m\u001b[0mis_tensor\u001b[0m\u001b[0;34m(\u001b[0m\u001b[0mx\u001b[0m\u001b[0;34m)\u001b[0m \u001b[0;32mfor\u001b[0m \u001b[0mx\u001b[0m \u001b[0;32min\u001b[0m \u001b[0minputs\u001b[0m\u001b[0;34m)\u001b[0m\u001b[0;34m:\u001b[0m\u001b[0;34m\u001b[0m\u001b[0m\n",
      "\u001b[0;32m~/code/neuralnets/ENV/lib/python3.5/site-packages/keras/backend/tensorflow_backend.py\u001b[0m in \u001b[0;36m_call\u001b[0;34m(self, inputs)\u001b[0m\n\u001b[1;32m   2673\u001b[0m             \u001b[0mfetched\u001b[0m \u001b[0;34m=\u001b[0m \u001b[0mself\u001b[0m\u001b[0;34m.\u001b[0m\u001b[0m_callable_fn\u001b[0m\u001b[0;34m(\u001b[0m\u001b[0;34m*\u001b[0m\u001b[0marray_vals\u001b[0m\u001b[0;34m,\u001b[0m \u001b[0mrun_metadata\u001b[0m\u001b[0;34m=\u001b[0m\u001b[0mself\u001b[0m\u001b[0;34m.\u001b[0m\u001b[0mrun_metadata\u001b[0m\u001b[0;34m)\u001b[0m\u001b[0;34m\u001b[0m\u001b[0m\n\u001b[1;32m   2674\u001b[0m         \u001b[0;32melse\u001b[0m\u001b[0;34m:\u001b[0m\u001b[0;34m\u001b[0m\u001b[0m\n\u001b[0;32m-> 2675\u001b[0;31m             \u001b[0mfetched\u001b[0m \u001b[0;34m=\u001b[0m \u001b[0mself\u001b[0m\u001b[0;34m.\u001b[0m\u001b[0m_callable_fn\u001b[0m\u001b[0;34m(\u001b[0m\u001b[0;34m*\u001b[0m\u001b[0marray_vals\u001b[0m\u001b[0;34m)\u001b[0m\u001b[0;34m\u001b[0m\u001b[0m\n\u001b[0m\u001b[1;32m   2676\u001b[0m         \u001b[0;32mreturn\u001b[0m \u001b[0mfetched\u001b[0m\u001b[0;34m[\u001b[0m\u001b[0;34m:\u001b[0m\u001b[0mlen\u001b[0m\u001b[0;34m(\u001b[0m\u001b[0mself\u001b[0m\u001b[0;34m.\u001b[0m\u001b[0moutputs\u001b[0m\u001b[0;34m)\u001b[0m\u001b[0;34m]\u001b[0m\u001b[0;34m\u001b[0m\u001b[0m\n\u001b[1;32m   2677\u001b[0m \u001b[0;34m\u001b[0m\u001b[0m\n",
      "\u001b[0;32m~/code/neuralnets/ENV/lib/python3.5/site-packages/tensorflow/python/client/session.py\u001b[0m in \u001b[0;36m__call__\u001b[0;34m(self, *args, **kwargs)\u001b[0m\n\u001b[1;32m   1456\u001b[0m         ret = tf_session.TF_SessionRunCallable(self._session._session,\n\u001b[1;32m   1457\u001b[0m                                                \u001b[0mself\u001b[0m\u001b[0;34m.\u001b[0m\u001b[0m_handle\u001b[0m\u001b[0;34m,\u001b[0m \u001b[0margs\u001b[0m\u001b[0;34m,\u001b[0m\u001b[0;34m\u001b[0m\u001b[0m\n\u001b[0;32m-> 1458\u001b[0;31m                                                run_metadata_ptr)\n\u001b[0m\u001b[1;32m   1459\u001b[0m         \u001b[0;32mif\u001b[0m \u001b[0mrun_metadata\u001b[0m\u001b[0;34m:\u001b[0m\u001b[0;34m\u001b[0m\u001b[0m\n\u001b[1;32m   1460\u001b[0m           \u001b[0mproto_data\u001b[0m \u001b[0;34m=\u001b[0m \u001b[0mtf_session\u001b[0m\u001b[0;34m.\u001b[0m\u001b[0mTF_GetBuffer\u001b[0m\u001b[0;34m(\u001b[0m\u001b[0mrun_metadata_ptr\u001b[0m\u001b[0;34m)\u001b[0m\u001b[0;34m\u001b[0m\u001b[0m\n",
      "\u001b[0;31mKeyboardInterrupt\u001b[0m: "
     ]
    }
   ],
   "source": [
    "while True:\n",
    "    board = np.zeros((BOARD_SIZE, BOARD_SIZE, 1))\n",
    "\n",
    "    board[int(BOARD_SIZE / 2)][int(BOARD_SIZE / 2)] = 1\n",
    "    cur_player = -1\n",
    "\n",
    "    for i in range(BOARD_SIZE * BOARD_SIZE):\n",
    "        print('Looping:', i, 'Data count:', len(train_x))\n",
    "        monte_carlo_result = do_monte_carlo(board, cur_player)\n",
    "\n",
    "        monte_carlo_result[board.reshape(BOARD_SIZE, BOARD_SIZE) != 0] = 0\n",
    "\n",
    "        x, y = get_best_play_pos(monte_carlo_result)\n",
    "\n",
    "        new_train_y = np.zeros((BOARD_SIZE, BOARD_SIZE, 1))\n",
    "        new_train_y[x][y][0] = 1\n",
    "\n",
    "        train_x.append(board.copy() * cur_player)\n",
    "        train_y.append(new_train_y)\n",
    "        monte_carlo_results.append(monte_carlo_result)\n",
    "\n",
    "        board[x][y][0] = cur_player\n",
    "\n",
    "        if define_winning(board, x, y):\n",
    "            print('found win condition')\n",
    "            break\n",
    "\n",
    "        cur_player *= -1\n",
    "    \n",
    "    #if i > 5:\n",
    "    #    break"
   ]
  },
  {
   "cell_type": "code",
   "execution_count": 346,
   "metadata": {},
   "outputs": [
    {
     "data": {
      "text/plain": [
       "{'define win': 40.599616289138794,\n",
       " 'get play pos': 351.35560512542725,\n",
       " 'keras': 614.9061341285706,\n",
       " 'slow loop': 509.3124318122864}"
      ]
     },
     "execution_count": 346,
     "metadata": {},
     "output_type": "execute_result"
    }
   ],
   "source": [
    "timer.timers\n",
    "\n",
    "# Before get play pos improvenment\n",
    "#{'define win': 1.1015589237213135,\n",
    "# 'get play pos': 48.229655265808105,\n",
    "# 'keras': 9.573432683944702,\n",
    "# 'slow loop': 52.7112512588501}\n",
    "\n",
    "# After it\n",
    "#{'define win': 120.23645758628845,\n",
    "# 'get play pos': 1031.8518664836884,\n",
    "# 'keras': 995.5591900348663,\n",
    "# 'slow loop': 1492.1334855556488}\n"
   ]
  },
  {
   "cell_type": "code",
   "execution_count": 347,
   "metadata": {},
   "outputs": [],
   "source": [
    "augmented_train_x = []\n",
    "augmented_train_y = []\n",
    "\n",
    "train_x[0].shape\n",
    "\n",
    "#pyplot.imshow(train_x[5].reshape(15, 15))\n",
    "#pyplot.imshow(train_y[2].reshape(15, 15))\n",
    "\n",
    "#pyplot.imshow(np.flip(np.rot90(train_x[7])).reshape(15, 15))\n",
    "\n",
    "\n",
    "for x, y in zip(train_x, train_y):\n",
    "    augmented_train_x.append(x)\n",
    "    augmented_train_y.append(y)\n",
    "    augmented_train_x.append(np.rot90(x))\n",
    "    augmented_train_y.append(np.rot90(y))\n",
    "    augmented_train_x.append(np.rot90(x, 2))\n",
    "    augmented_train_y.append(np.rot90(y, 2))\n",
    "    augmented_train_x.append(np.rot90(x, 3))\n",
    "    augmented_train_y.append(np.rot90(y, 3))\n",
    "    augmented_train_x.append(np.flip(x))\n",
    "    augmented_train_y.append(np.flip(y))\n",
    "    augmented_train_x.append(np.flip(np.rot90(x)))\n",
    "    augmented_train_y.append(np.flip(np.rot90(y)))\n",
    "    augmented_train_x.append(np.flip(np.rot90(x, 2)))\n",
    "    augmented_train_y.append(np.flip(np.rot90(y, 2)))\n",
    "    augmented_train_x.append(np.flip(np.rot90(x, 3)))\n",
    "    augmented_train_y.append(np.flip(np.rot90(y, 3)))\n"
   ]
  },
  {
   "cell_type": "code",
   "execution_count": 348,
   "metadata": {},
   "outputs": [],
   "source": [
    "i = 0"
   ]
  },
  {
   "cell_type": "code",
   "execution_count": 349,
   "metadata": {
    "scrolled": true
   },
   "outputs": [
    {
     "data": {
      "text/plain": [
       "<matplotlib.image.AxesImage at 0x7f3ca8b9c940>"
      ]
     },
     "execution_count": 349,
     "metadata": {},
     "output_type": "execute_result"
    },
    {
     "data": {
      "image/png": "[encoded data removed]",
      "text/plain": [
       "<Figure size 432x288 with 1 Axes>"
      ]
     },
     "metadata": {
      "needs_background": "light"
     },
     "output_type": "display_data"
    }
   ],
   "source": [
    "pyplot.imshow(train_x[i].reshape(BOARD_SIZE, BOARD_SIZE), norm=Normalize(-1, 1), cmap='rainbow')\n",
    "# i += 1"
   ]
  },
  {
   "cell_type": "code",
   "execution_count": 350,
   "metadata": {},
   "outputs": [
    {
     "data": {
      "text/plain": [
       "<matplotlib.image.AxesImage at 0x7f3ca8f89128>"
      ]
     },
     "execution_count": 350,
     "metadata": {},
     "output_type": "execute_result"
    },
    {
     "data": {
      "image/png": "[encoded data removed]",
      "text/plain": [
       "<Figure size 432x288 with 1 Axes>"
      ]
     },
     "metadata": {
      "needs_background": "light"
     },
     "output_type": "display_data"
    }
   ],
   "source": [
    "#monte_carlo_result\n",
    "pyplot.imshow(monte_carlo_results[i].reshape(BOARD_SIZE, BOARD_SIZE), norm=Normalize(0, 1), cmap='gray')\n"
   ]
  },
  {
   "cell_type": "code",
   "execution_count": 351,
   "metadata": {},
   "outputs": [
    {
     "data": {
      "image/png": "[encoded data removed]",
      "text/plain": [
       "<Figure size 432x288 with 1 Axes>"
      ]
     },
     "metadata": {
      "needs_background": "light"
     },
     "output_type": "display_data"
    }
   ],
   "source": [
    "prediction = model.predict(np.array([train_x[i]]))\n",
    "\n",
    "pyplot.imshow(prediction[0,:,:,0], norm=Normalize(0, 1))\n",
    "\n",
    "i += 1"
   ]
  },
  {
   "cell_type": "code",
   "execution_count": 375,
   "metadata": {},
   "outputs": [
    {
     "data": {
      "text/plain": [
       "(41, 328)"
      ]
     },
     "execution_count": 375,
     "metadata": {},
     "output_type": "execute_result"
    }
   ],
   "source": [
    "len(train_x), len(augmented_train_x)"
   ]
  },
  {
   "cell_type": "code",
   "execution_count": 376,
   "metadata": {},
   "outputs": [
    {
     "data": {
      "text/plain": [
       "(41, 328)"
      ]
     },
     "execution_count": 376,
     "metadata": {},
     "output_type": "execute_result"
    }
   ],
   "source": [
    "len(train_y), len(augmented_train_y)"
   ]
  },
  {
   "cell_type": "code",
   "execution_count": 377,
   "metadata": {
    "scrolled": true
   },
   "outputs": [
    {
     "name": "stdout",
     "output_type": "stream",
     "text": [
      "Train on 295 samples, validate on 33 samples\n",
      "Epoch 1/10\n",
      "295/295 [==============================] - 1s 2ms/step - loss: 0.6853 - acc: 0.9703 - val_loss: 0.6797 - val_acc: 0.9937\n",
      "Epoch 2/10\n",
      "295/295 [==============================] - 0s 437us/step - loss: 0.6718 - acc: 0.9954 - val_loss: 0.6660 - val_acc: 0.9956\n",
      "Epoch 3/10\n",
      "295/295 [==============================] - 0s 439us/step - loss: 0.6555 - acc: 0.9956 - val_loss: 0.6489 - val_acc: 0.9956\n",
      "Epoch 4/10\n",
      "295/295 [==============================] - 0s 451us/step - loss: 0.6353 - acc: 0.9956 - val_loss: 0.6273 - val_acc: 0.9956\n",
      "Epoch 5/10\n",
      "295/295 [==============================] - 0s 439us/step - loss: 0.6103 - acc: 0.9956 - val_loss: 0.6002 - val_acc: 0.9956\n",
      "Epoch 6/10\n",
      "295/295 [==============================] - 0s 432us/step - loss: 0.5796 - acc: 0.9956 - val_loss: 0.5667 - val_acc: 0.9956\n",
      "Epoch 7/10\n",
      "295/295 [==============================] - 0s 450us/step - loss: 0.5431 - acc: 0.9956 - val_loss: 0.5276 - val_acc: 0.9956\n",
      "Epoch 8/10\n",
      "295/295 [==============================] - 0s 437us/step - loss: 0.5017 - acc: 0.9956 - val_loss: 0.4840 - val_acc: 0.9956\n",
      "Epoch 9/10\n",
      "295/295 [==============================] - 0s 449us/step - loss: 0.4567 - acc: 0.9956 - val_loss: 0.4373 - val_acc: 0.9956\n",
      "Epoch 10/10\n",
      "295/295 [==============================] - 0s 438us/step - loss: 0.4097 - acc: 0.9956 - val_loss: 0.3895 - val_acc: 0.9956\n"
     ]
    }
   ],
   "source": [
    "history = model.fit(\n",
    "    np.array(augmented_train_x),\n",
    "    keras.utils.to_categorical(np.array(augmented_train_y), num_classes=2),\n",
    "    epochs=10,\n",
    "    validation_split=0.1\n",
    ")\n"
   ]
  },
  {
   "cell_type": "code",
   "execution_count": 378,
   "metadata": {},
   "outputs": [
    {
     "data": {
      "image/png": "[encoded data removed]",
      "text/plain": [
       "<Figure size 432x288 with 1 Axes>"
      ]
     },
     "metadata": {
      "needs_background": "light"
     },
     "output_type": "display_data"
    }
   ],
   "source": [
    "plt.plot(history.history['acc'])\n",
    "plt.plot(history.history['val_acc'])\n",
    "plt.ylabel('accuracy')\n",
    "plt.xlabel('epoch')\n",
    "plt.legend(['train', 'test'], loc='upper left')\n",
    "\n",
    "plt.show()\n"
   ]
  },
  {
   "cell_type": "code",
   "execution_count": 379,
   "metadata": {},
   "outputs": [
    {
     "data": {
      "image/png": "[encoded data removed]",
      "text/plain": [
       "<Figure size 432x288 with 1 Axes>"
      ]
     },
     "metadata": {
      "needs_background": "light"
     },
     "output_type": "display_data"
    }
   ],
   "source": [
    "plt.plot(history.history['loss'])\n",
    "plt.plot(history.history['val_loss'])\n",
    "plt.ylabel('loss')\n",
    "plt.xlabel('epoch')\n",
    "plt.legend(['train', 'test'], loc='upper left')\n",
    "plt.show()"
   ]
  },
  {
   "cell_type": "code",
   "execution_count": null,
   "metadata": {},
   "outputs": [],
   "source": []
  }
 ],
 "metadata": {
  "kernelspec": {
   "display_name": "Python 3",
   "language": "python",
   "name": "python3"
  },
  "language_info": {
   "codemirror_mode": {
    "name": "ipython",
    "version": 3
   },
   "file_extension": ".py",
   "mimetype": "text/x-python",
   "name": "python",
   "nbconvert_exporter": "python",
   "pygments_lexer": "ipython3",
   "version": "3.5.2"
  }
 },
 "nbformat": 4,
 "nbformat_minor": 2
}
