{
 "cells": [
  {
   "cell_type": "code",
   "execution_count": 415,
   "metadata": {},
   "outputs": [],
   "source": [
    "import numpy as np\n",
    "\n",
    "from keras.models import Sequential\n",
    "from keras.layers import Dense, Conv2D, Flatten\n",
    "\n",
    "from matplotlib import pyplot\n",
    "\n",
    "import random\n",
    "\n",
    "import time\n",
    "\n",
    "from matplotlib.colors import Normalize\n",
    "\n",
    "import matplotlib.pyplot as plt\n",
    "\n",
    "import keras"
   ]
  },
  {
   "cell_type": "code",
   "execution_count": 416,
   "metadata": {},
   "outputs": [],
   "source": [
    "\n",
    "BOARD_SIZE = 15\n",
    "BATCH_SIZE = 200\n"
   ]
  },
  {
   "cell_type": "code",
   "execution_count": 417,
   "metadata": {},
   "outputs": [],
   "source": [
    "\n",
    "def vis_board(board):\n",
    "    lookup = {0: ' ', -1: 'X', 1: 'O'}\n",
    "    print('*' * (BOARD_SIZE + 2))\n",
    "    for line_num, line in enumerate(board):\n",
    "        print('* ' + ''.join([lookup[cell[0]] for cell in line]))\n",
    "\n",
    "#boards[0][4][2] = 1\n",
    "#boards[0][6][2] = -1\n",
    "        \n",
    "# vis_board(boards[0])\n"
   ]
  },
  {
   "cell_type": "code",
   "execution_count": 418,
   "metadata": {},
   "outputs": [
    {
     "name": "stdout",
     "output_type": "stream",
     "text": [
      "Model: \"sequential_13\"\n",
      "_________________________________________________________________\n",
      "Layer (type)                 Output Shape              Param #   \n",
      "=================================================================\n",
      "conv2d_30 (Conv2D)           (None, 15, 15, 128)       1280      \n",
      "_________________________________________________________________\n",
      "conv2d_31 (Conv2D)           (None, 15, 15, 2)         258       \n",
      "=================================================================\n",
      "Total params: 1,538\n",
      "Trainable params: 1,538\n",
      "Non-trainable params: 0\n",
      "_________________________________________________________________\n"
     ]
    }
   ],
   "source": [
    "\n",
    "#model.add(Conv2D(256, kernel_size=3, activation='relu', input_shape=(BOARD_SIZE, BOARD_SIZE, 1), padding='same'))\n",
    "#model.add(Conv2D(256, kernel_size=3, activation='relu', input_shape=(BOARD_SIZE, BOARD_SIZE, 1), padding='same'))\n",
    "#model.add(Conv2D(256, kernel_size=3, activation='relu', input_shape=(BOARD_SIZE, BOARD_SIZE, 1), padding='same'))\n",
    "#model.add(Conv2D(256, kernel_size=3, activation='relu', input_shape=(BOARD_SIZE, BOARD_SIZE, 1), padding='same'))\n",
    "#model.add(Conv2D(64, kernel_size=3, activation='relu', input_shape=(BOARD_SIZE, BOARD_SIZE, 1), padding='same'))\n",
    "#model.add(Conv2D(64, kernel_size=3, activation='relu', input_shape=(BOARD_SIZE, BOARD_SIZE, 1), padding='same'))\n",
    "#model.add(Conv2D(64, kernel_size=3, activation='relu', input_shape=(BOARD_SIZE, BOARD_SIZE, 1), padding='same'))\n",
    "\n",
    "model = Sequential()\n",
    "model.add(Conv2D(128, kernel_size=3, activation='relu', input_shape=(BOARD_SIZE, BOARD_SIZE, 1), padding='same'))\n",
    "#model.add(Conv2D(64, kernel_size=3, activation='relu', input_shape=(BOARD_SIZE, BOARD_SIZE, 1), padding='same'))\n",
    "\n",
    "model.add(Conv2D(2, kernel_size=1, activation='sigmoid', input_shape=(BOARD_SIZE, BOARD_SIZE, 1), padding='same'))\n",
    "\n",
    "model.compile(optimizer='adam', loss='categorical_crossentropy', metrics=['accuracy'])\n",
    "\n",
    "model.summary()"
   ]
  },
  {
   "cell_type": "code",
   "execution_count": 419,
   "metadata": {},
   "outputs": [],
   "source": [
    "class Timer:\n",
    "    \n",
    "    def __init__(self):\n",
    "        self.timers = {}\n",
    "    \n",
    "    def timeit(self_outer, name):\n",
    "        if name not in self_outer.timers:\n",
    "            self_outer.timers[name] = 0\n",
    "            \n",
    "        class TimerInner:\n",
    "            def __enter__(self):\n",
    "                self.name = name\n",
    "                self.start_time = time.time()\n",
    "                pass\n",
    "\n",
    "            def __exit__(self, type, value, traceback):\n",
    "                self_outer.timers[self.name] += time.time() - self.start_time\n",
    "        \n",
    "        return TimerInner\n",
    "    \n",
    "    '''\n",
    "    def timeit(self, name):\n",
    "        if name not in self.timers:\n",
    "            self.timers[name] = 0\n",
    "        \n",
    "        def thing(func):\n",
    "            def inner_thing(*args, **kwargs):\n",
    "                start_time = time.time()\n",
    "                return_val = func(*args, **kwargs)\n",
    "                total_time = start_time - time.time()\n",
    "                self.timers[name] += total_time\n",
    "                return return_val\n",
    "            return inner_thing\n",
    "        return thing\n",
    "        '''"
   ]
  },
  {
   "cell_type": "code",
   "execution_count": 420,
   "metadata": {},
   "outputs": [],
   "source": [
    "timer = Timer()\n",
    "\n",
    "boards = np.zeros((BATCH_SIZE, BOARD_SIZE, BOARD_SIZE, 1))\n",
    "boards.shape\n",
    "\n",
    "def get_play_pos(board_moves, depth=0):\n",
    "    board_sum = random.random() * np.sum(board_moves)\n",
    "    for x in range(BOARD_SIZE):\n",
    "        for y in range(BOARD_SIZE):\n",
    "            board_sum -= board_moves[x][y]\n",
    "            if board_sum <= 0:\n",
    "                return x, y\n",
    "    \n",
    "    if depth < 4:\n",
    "        print('Error happened')\n",
    "        return get_play_pos(board_moves, depth=depth+1)\n",
    "    \n",
    "    print('WHY WHYW HY WHY')\n",
    "    return 0, 0\n",
    "    \n",
    "    raise Exception('This should not happen {}'.format(board_sum))\n",
    "\n",
    "    \n",
    "def get_best_play_pos(board_moves):\n",
    "    best_x, best_y, best_score = 0, 0, 0\n",
    "    for x in range(BOARD_SIZE):\n",
    "        for y in range(BOARD_SIZE):\n",
    "            # print(x, y, best_x, best_y, best_score, board_moves[x][y])\n",
    "            if board_moves[x][y] > best_score:\n",
    "                best_x, best_y, best_score = x, y, board_moves[x][y]\n",
    "    return best_x, best_y\n",
    "\n",
    "   \n",
    "'''\n",
    "def define_winning(board):\n",
    "    for x in range(BOARD_SIZE - 5):\n",
    "        for y in range(BOARD_SIZE - 5):\n",
    "            hor = True\n",
    "            ver = True\n",
    "            dia1 = True\n",
    "            dia2 = True\n",
    "            \n",
    "            for i in range(1, 5):\n",
    "                if board[x][y][0] != board[x][y + i][0]:\n",
    "                    ver = False\n",
    "                if board[x][y][0] != board[x + i][y + i][0]:\n",
    "                    dia1 = False\n",
    "                if board[x][y][0] != board[x + i][y][0]:\n",
    "                    hor = False\n",
    "                if board[BOARD_SIZE - x - 1][y][0] != board[BOARD_SIZE - x - i - 1][y + i][0]:\n",
    "                    dia2 = False\n",
    "            \n",
    "            if (hor or ver or dia1) and board[x][y][0] != 0:\n",
    "                #print('WINNER', x, y, hor, ver, dia1)\n",
    "                #vis_board(board)\n",
    "                return board[x][y][0]\n",
    "            \n",
    "            if dia2 and board[BOARD_SIZE - x - 1][y][0] != 0:\n",
    "                return board[BOARD_SIZE - x - 1][y][0]\n",
    "    return 0\n",
    "'''\n",
    "\n",
    "\n",
    "def define_winning(board, x, y):\n",
    "    value = board[x][y][0]\n",
    "    \n",
    "    # X direction\n",
    "    count = 1\n",
    "    i = 1\n",
    "    while x - i >= 0 and board[x - i][y][0] == value:\n",
    "        count += 1\n",
    "        i += 1\n",
    "    i = 1\n",
    "    while x + i < BOARD_SIZE and board[x + i][y][0] == value:\n",
    "        count += 1\n",
    "        i += 1\n",
    "    if count >= 5:\n",
    "        return True\n",
    "    \n",
    "    # Y direction\n",
    "    count = 1\n",
    "    i = 1\n",
    "    while y - i >= 0 and board[x][y - i][0] == value:\n",
    "        count += 1\n",
    "        i += 1\n",
    "    i = 1\n",
    "    while y + i < BOARD_SIZE and board[x][y + i][0] == value:\n",
    "        count += 1\n",
    "        i += 1\n",
    "    if count >= 5:\n",
    "        return True\n",
    "    \n",
    "    # Diagonal 1\n",
    "    count = 1\n",
    "    i = 1\n",
    "    while x - i >= 0 and y - i >= 0 and board[x - i][y - i][0] == value:\n",
    "        count += 1\n",
    "        i += 1\n",
    "    i = 1\n",
    "    while x + i < BOARD_SIZE and y + i < BOARD_SIZE and board[x + i][y + i][0] == value:\n",
    "        count += 1\n",
    "        i += 1\n",
    "    if count >= 5:\n",
    "        return True\n",
    "    \n",
    "    # Diagonal 2\n",
    "    count = 1\n",
    "    i = 1\n",
    "    while x - i >= 0 and y + i < BOARD_SIZE and board[x - i][y + i][0] == value:\n",
    "        count += 1\n",
    "        i += 1\n",
    "    i = 1\n",
    "    while x + i < BOARD_SIZE and y - i >= 0 and board[x + i][y - i][0] == value:\n",
    "        count += 1\n",
    "        i += 1\n",
    "    if count >= 5:\n",
    "        return True\n",
    "    \n",
    "    return False\n",
    "\n",
    "\n",
    "def do_monte_carlo(board, monte_carlo_player):\n",
    "    # Do a batch for each location on the board (non played)\n",
    "    \n",
    "    monte_carlo_result = np.zeros((BOARD_SIZE, BOARD_SIZE))\n",
    "    \n",
    "    # Do monte carlo for each point in the board\n",
    "    for x in range(BOARD_SIZE):\n",
    "        for y in range(BOARD_SIZE):    \n",
    "            # Don't do monte carlo for already played positions\n",
    "            if board[x][y] != 0:\n",
    "                continue\n",
    "                \n",
    "            # Don't do monte carlo if no plays around\n",
    "            # if np.count_nonzero(board[x-2:x+1][y-2:y+1] != 0) == 0:\n",
    "            if np.count_nonzero(board[\n",
    "                max(0, x-1):min(x+2, BOARD_SIZE - 1),\n",
    "                max(0, y-1):min(y+2, BOARD_SIZE - 1),\n",
    "                0\n",
    "            ] != 0) == 0:\n",
    "                continue\n",
    "            \n",
    "            pos_board = board.copy()\n",
    "            pos_board[x][y][0] = monte_carlo_player\n",
    "            \n",
    "            if define_winning(pos_board, x, y):\n",
    "                ratio = 1\n",
    "            else:\n",
    "                cur_player = monte_carlo_player\n",
    "                winners = np.zeros((BATCH_SIZE))\n",
    "                stacked_boards = np.vstack([\n",
    "                    pos_board.reshape(1, BOARD_SIZE, BOARD_SIZE, 1)\n",
    "                    for i in range(BATCH_SIZE)\n",
    "                ])\n",
    "\n",
    "                # Might have to simulate this many steps, might break earlier\n",
    "                for i in range(BOARD_SIZE * BOARD_SIZE):\n",
    "                #for i in range(50):\n",
    "                    cur_player *= -1\n",
    "\n",
    "                    with timer.timeit('keras')():\n",
    "                        predicted = model.predict(stacked_boards)[:,:,:,0:1]\n",
    "                    \n",
    "                    #print('asdfasdf', predicted.shape, stacked_boards.shape)\n",
    "                    \n",
    "                    #print('asdf', predicted)\n",
    "                    #assert np.sum(predicted) == 1\n",
    "                    \n",
    "                    # Add randomness to the play\n",
    "                    predicted += 0.05\n",
    "                    \n",
    "                    # Prevent play when tehre is a marker already\n",
    "                    predicted[stacked_boards != 0] = 0\n",
    "\n",
    "\n",
    "                    with timer.timeit('defining_win_conditions')():\n",
    "                        for batch_id in range(BATCH_SIZE):\n",
    "                            if winners[batch_id] != 0:\n",
    "                                continue\n",
    "\n",
    "                            board_moves = predicted[batch_id]\n",
    "                            play_x, play_y = get_play_pos(board_moves)\n",
    "\n",
    "                            stacked_boards[batch_id][play_x][play_y] = cur_player\n",
    "\n",
    "                            if define_winning(stacked_boards[batch_id], play_x, play_y):\n",
    "                                winners[batch_id] = cur_player\n",
    "                            #if winner != 0:\n",
    "                            #    winners[batch_id] = winner\n",
    "\n",
    "                    # Stop when all boards done\n",
    "                    if len(winners[winners == 0]) == 0:\n",
    "                        print('Early win condition on all batches', i)\n",
    "                        break\n",
    "            \n",
    "                ratio = len(winners[winners == monte_carlo_player]) / len(winners)\n",
    "\n",
    "                '''\n",
    "                print(\n",
    "                    'asdf',\n",
    "                    x, y, ratio,\n",
    "                    len(winners[winners == monte_carlo_player]),\n",
    "                    len(winners[winners == -monte_carlo_player]),\n",
    "                    len(winners)\n",
    "                )\n",
    "                '''\n",
    "            \n",
    "            monte_carlo_result[x][y] = ratio\n",
    "            \n",
    "            # print('ratio is', x, y, ratio)\n",
    "\n",
    "    return monte_carlo_result\n",
    "\n"
   ]
  },
  {
   "cell_type": "code",
   "execution_count": 421,
   "metadata": {},
   "outputs": [
    {
     "data": {
      "text/plain": [
       "<matplotlib.image.AxesImage at 0x147110a10>"
      ]
     },
     "execution_count": 421,
     "metadata": {},
     "output_type": "execute_result"
    },
    {
     "data": {
      "image/png": "[encoded data removed]",
      "text/plain": [
       "<Figure size 432x288 with 1 Axes>"
      ]
     },
     "metadata": {
      "needs_background": "light"
     },
     "output_type": "display_data"
    }
   ],
   "source": [
    "board = np.zeros((BOARD_SIZE, BOARD_SIZE, 1))\n",
    "\n",
    "#board[0][0][0] = 1\n",
    "#board[1][1][0] = 1\n",
    "#board[2][2][0] = 1\n",
    "#board[3][3][0] = 1\n",
    "#board[4][4][0] = 1\n",
    "\n",
    "board[4][0][0] = 1\n",
    "board[3][1][0] = 1\n",
    "board[2][2][0] = 1\n",
    "#board[1][3][0] = 1\n",
    "#board[0][4][0] = 1\n",
    "\n",
    "#board[0][2][0] = 1\n",
    "#board[1][2][0] = 1\n",
    "board[2][2][0] = -1\n",
    "board[3][2][0] = -1\n",
    "board[4][2][0] = -1\n",
    "\n",
    "#board[2][0][0] = 1\n",
    "#board[2][1][0] = 1\n",
    "#board[2][2][0] = 1\n",
    "#board[2][3][0] = 1\n",
    "#board[2][4][0] = 1\n",
    "\n",
    "pyplot.imshow(board.reshape(BOARD_SIZE, BOARD_SIZE))\n",
    "\n",
    "#define_winning(board, 2, 2)"
   ]
  },
  {
   "cell_type": "code",
   "execution_count": 422,
   "metadata": {},
   "outputs": [
    {
     "data": {
      "text/plain": [
       "<matplotlib.image.AxesImage at 0x14745e150>"
      ]
     },
     "execution_count": 422,
     "metadata": {},
     "output_type": "execute_result"
    },
    {
     "data": {
      "image/png": "[encoded data removed]",
      "text/plain": [
       "<Figure size 432x288 with 1 Axes>"
      ]
     },
     "metadata": {
      "needs_background": "light"
     },
     "output_type": "display_data"
    }
   ],
   "source": [
    "pyplot.imshow(model.predict(np.array([board]))[0,:,:,0])"
   ]
  },
  {
   "cell_type": "code",
   "execution_count": 423,
   "metadata": {},
   "outputs": [
    {
     "data": {
      "text/plain": [
       "{}"
      ]
     },
     "execution_count": 423,
     "metadata": {},
     "output_type": "execute_result"
    }
   ],
   "source": [
    "\n",
    "#start_time = time.time()\n",
    "# monte_carlo_result = do_monte_carlo(board, 1)\n",
    "# monte_carlo_result\n",
    "#print(time.time() - start_time)\n",
    "\n",
    "# 50 = 63s\n",
    "\n",
    "timer.timers"
   ]
  },
  {
   "cell_type": "code",
   "execution_count": 454,
   "metadata": {},
   "outputs": [],
   "source": [
    "train_x = []\n",
    "train_y = []\n",
    "monte_carlo_results = []"
   ]
  },
  {
   "cell_type": "code",
   "execution_count": 455,
   "metadata": {},
   "outputs": [
    {
     "name": "stdout",
     "output_type": "stream",
     "text": [
      "Looping 0\n",
      "Early win condition on all batches 157\n",
      "Early win condition on all batches 170\n"
     ]
    },
    {
     "ename": "KeyboardInterrupt",
     "evalue": "",
     "output_type": "error",
     "traceback": [
      "\u001b[0;31m---------------------------------------------------------------------------\u001b[0m",
      "\u001b[0;31mKeyboardInterrupt\u001b[0m                         Traceback (most recent call last)",
      "\u001b[0;32m<ipython-input-455-79ffb924bd8b>\u001b[0m in \u001b[0;36m<module>\u001b[0;34m\u001b[0m\n\u001b[1;32m      7\u001b[0m     \u001b[0;32mfor\u001b[0m \u001b[0mi\u001b[0m \u001b[0;32min\u001b[0m \u001b[0mrange\u001b[0m\u001b[0;34m(\u001b[0m\u001b[0mBOARD_SIZE\u001b[0m \u001b[0;34m*\u001b[0m \u001b[0mBOARD_SIZE\u001b[0m\u001b[0;34m)\u001b[0m\u001b[0;34m:\u001b[0m\u001b[0;34m\u001b[0m\u001b[0;34m\u001b[0m\u001b[0m\n\u001b[1;32m      8\u001b[0m         \u001b[0mprint\u001b[0m\u001b[0;34m(\u001b[0m\u001b[0;34m'Looping'\u001b[0m\u001b[0;34m,\u001b[0m \u001b[0mi\u001b[0m\u001b[0;34m)\u001b[0m\u001b[0;34m\u001b[0m\u001b[0;34m\u001b[0m\u001b[0m\n\u001b[0;32m----> 9\u001b[0;31m         \u001b[0mmonte_carlo_result\u001b[0m \u001b[0;34m=\u001b[0m \u001b[0mdo_monte_carlo\u001b[0m\u001b[0;34m(\u001b[0m\u001b[0mboard\u001b[0m\u001b[0;34m,\u001b[0m \u001b[0mcur_player\u001b[0m\u001b[0;34m)\u001b[0m\u001b[0;34m\u001b[0m\u001b[0;34m\u001b[0m\u001b[0m\n\u001b[0m\u001b[1;32m     10\u001b[0m \u001b[0;34m\u001b[0m\u001b[0m\n\u001b[1;32m     11\u001b[0m         \u001b[0mmonte_carlo_result\u001b[0m\u001b[0;34m[\u001b[0m\u001b[0mboard\u001b[0m\u001b[0;34m.\u001b[0m\u001b[0mreshape\u001b[0m\u001b[0;34m(\u001b[0m\u001b[0mBOARD_SIZE\u001b[0m\u001b[0;34m,\u001b[0m \u001b[0mBOARD_SIZE\u001b[0m\u001b[0;34m)\u001b[0m \u001b[0;34m!=\u001b[0m \u001b[0;36m0\u001b[0m\u001b[0;34m]\u001b[0m \u001b[0;34m=\u001b[0m \u001b[0;36m0\u001b[0m\u001b[0;34m\u001b[0m\u001b[0;34m\u001b[0m\u001b[0m\n",
      "\u001b[0;32m<ipython-input-420-00ee43b649e5>\u001b[0m in \u001b[0;36mdo_monte_carlo\u001b[0;34m(board, monte_carlo_player)\u001b[0m\n\u001b[1;32m    180\u001b[0m \u001b[0;34m\u001b[0m\u001b[0m\n\u001b[1;32m    181\u001b[0m                             \u001b[0mboard_moves\u001b[0m \u001b[0;34m=\u001b[0m \u001b[0mpredicted\u001b[0m\u001b[0;34m[\u001b[0m\u001b[0mbatch_id\u001b[0m\u001b[0;34m]\u001b[0m\u001b[0;34m\u001b[0m\u001b[0;34m\u001b[0m\u001b[0m\n\u001b[0;32m--> 182\u001b[0;31m                             \u001b[0mplay_x\u001b[0m\u001b[0;34m,\u001b[0m \u001b[0mplay_y\u001b[0m \u001b[0;34m=\u001b[0m \u001b[0mget_play_pos\u001b[0m\u001b[0;34m(\u001b[0m\u001b[0mboard_moves\u001b[0m\u001b[0;34m)\u001b[0m\u001b[0;34m\u001b[0m\u001b[0;34m\u001b[0m\u001b[0m\n\u001b[0m\u001b[1;32m    183\u001b[0m \u001b[0;34m\u001b[0m\u001b[0m\n\u001b[1;32m    184\u001b[0m                             \u001b[0mstacked_boards\u001b[0m\u001b[0;34m[\u001b[0m\u001b[0mbatch_id\u001b[0m\u001b[0;34m]\u001b[0m\u001b[0;34m[\u001b[0m\u001b[0mplay_x\u001b[0m\u001b[0;34m]\u001b[0m\u001b[0;34m[\u001b[0m\u001b[0mplay_y\u001b[0m\u001b[0;34m]\u001b[0m \u001b[0;34m=\u001b[0m \u001b[0mcur_player\u001b[0m\u001b[0;34m\u001b[0m\u001b[0;34m\u001b[0m\u001b[0m\n",
      "\u001b[0;32m<ipython-input-420-00ee43b649e5>\u001b[0m in \u001b[0;36mget_play_pos\u001b[0;34m(board_moves, depth)\u001b[0m\n\u001b[1;32m      8\u001b[0m     \u001b[0;32mfor\u001b[0m \u001b[0mx\u001b[0m \u001b[0;32min\u001b[0m \u001b[0mrange\u001b[0m\u001b[0;34m(\u001b[0m\u001b[0mBOARD_SIZE\u001b[0m\u001b[0;34m)\u001b[0m\u001b[0;34m:\u001b[0m\u001b[0;34m\u001b[0m\u001b[0;34m\u001b[0m\u001b[0m\n\u001b[1;32m      9\u001b[0m         \u001b[0;32mfor\u001b[0m \u001b[0my\u001b[0m \u001b[0;32min\u001b[0m \u001b[0mrange\u001b[0m\u001b[0;34m(\u001b[0m\u001b[0mBOARD_SIZE\u001b[0m\u001b[0;34m)\u001b[0m\u001b[0;34m:\u001b[0m\u001b[0;34m\u001b[0m\u001b[0;34m\u001b[0m\u001b[0m\n\u001b[0;32m---> 10\u001b[0;31m             \u001b[0mboard_sum\u001b[0m \u001b[0;34m-=\u001b[0m \u001b[0mboard_moves\u001b[0m\u001b[0;34m[\u001b[0m\u001b[0mx\u001b[0m\u001b[0;34m]\u001b[0m\u001b[0;34m[\u001b[0m\u001b[0my\u001b[0m\u001b[0;34m]\u001b[0m\u001b[0;34m\u001b[0m\u001b[0;34m\u001b[0m\u001b[0m\n\u001b[0m\u001b[1;32m     11\u001b[0m             \u001b[0;32mif\u001b[0m \u001b[0mboard_sum\u001b[0m \u001b[0;34m<=\u001b[0m \u001b[0;36m0\u001b[0m\u001b[0;34m:\u001b[0m\u001b[0;34m\u001b[0m\u001b[0;34m\u001b[0m\u001b[0m\n\u001b[1;32m     12\u001b[0m                 \u001b[0;32mreturn\u001b[0m \u001b[0mx\u001b[0m\u001b[0;34m,\u001b[0m \u001b[0my\u001b[0m\u001b[0;34m\u001b[0m\u001b[0;34m\u001b[0m\u001b[0m\n",
      "\u001b[0;31mKeyboardInterrupt\u001b[0m: "
     ]
    }
   ],
   "source": [
    "while True:\n",
    "    board = np.zeros((BOARD_SIZE, BOARD_SIZE, 1))\n",
    "\n",
    "    board[int(BOARD_SIZE / 2)][int(BOARD_SIZE / 2)] = 1\n",
    "    cur_player = -1\n",
    "\n",
    "    for i in range(BOARD_SIZE * BOARD_SIZE):\n",
    "        print('Looping', i)\n",
    "        monte_carlo_result = do_monte_carlo(board, cur_player)\n",
    "\n",
    "        monte_carlo_result[board.reshape(BOARD_SIZE, BOARD_SIZE) != 0] = 0\n",
    "\n",
    "        x, y = get_best_play_pos(monte_carlo_result)\n",
    "\n",
    "        new_train_y = np.zeros((BOARD_SIZE, BOARD_SIZE, 1))\n",
    "        new_train_y[x][y][0] = 1\n",
    "\n",
    "        train_x.append(board.copy() * cur_player)\n",
    "        train_y.append(new_train_y)\n",
    "        monte_carlo_results.append(monte_carlo_result)\n",
    "\n",
    "        board[x][y][0] = cur_player\n",
    "\n",
    "        if define_winning(board, x, y):\n",
    "            print('found win condition')\n",
    "            break\n",
    "\n",
    "        cur_player *= -1\n",
    "    \n",
    "    #if i > 5:\n",
    "    #    break"
   ]
  },
  {
   "cell_type": "code",
   "execution_count": 441,
   "metadata": {},
   "outputs": [],
   "source": [
    "i = 0"
   ]
  },
  {
   "cell_type": "code",
   "execution_count": 451,
   "metadata": {
    "scrolled": true
   },
   "outputs": [
    {
     "ename": "IndexError",
     "evalue": "list index out of range",
     "output_type": "error",
     "traceback": [
      "\u001b[0;31m---------------------------------------------------------------------------\u001b[0m",
      "\u001b[0;31mIndexError\u001b[0m                                Traceback (most recent call last)",
      "\u001b[0;32m<ipython-input-451-dd8e0afbe13e>\u001b[0m in \u001b[0;36m<module>\u001b[0;34m\u001b[0m\n\u001b[0;32m----> 1\u001b[0;31m \u001b[0mpyplot\u001b[0m\u001b[0;34m.\u001b[0m\u001b[0mimshow\u001b[0m\u001b[0;34m(\u001b[0m\u001b[0mtrain_x\u001b[0m\u001b[0;34m[\u001b[0m\u001b[0mi\u001b[0m\u001b[0;34m]\u001b[0m\u001b[0;34m.\u001b[0m\u001b[0mreshape\u001b[0m\u001b[0;34m(\u001b[0m\u001b[0mBOARD_SIZE\u001b[0m\u001b[0;34m,\u001b[0m \u001b[0mBOARD_SIZE\u001b[0m\u001b[0;34m)\u001b[0m\u001b[0;34m,\u001b[0m \u001b[0mnorm\u001b[0m\u001b[0;34m=\u001b[0m\u001b[0mNormalize\u001b[0m\u001b[0;34m(\u001b[0m\u001b[0;34m-\u001b[0m\u001b[0;36m1\u001b[0m\u001b[0;34m,\u001b[0m \u001b[0;36m1\u001b[0m\u001b[0;34m)\u001b[0m\u001b[0;34m,\u001b[0m \u001b[0mcmap\u001b[0m\u001b[0;34m=\u001b[0m\u001b[0;34m'rainbow'\u001b[0m\u001b[0;34m)\u001b[0m\u001b[0;34m\u001b[0m\u001b[0;34m\u001b[0m\u001b[0m\n\u001b[0m",
      "\u001b[0;31mIndexError\u001b[0m: list index out of range"
     ]
    }
   ],
   "source": [
    "pyplot.imshow(train_x[i].reshape(BOARD_SIZE, BOARD_SIZE), norm=Normalize(-1, 1), cmap='rainbow')"
   ]
  },
  {
   "cell_type": "code",
   "execution_count": 452,
   "metadata": {},
   "outputs": [
    {
     "ename": "IndexError",
     "evalue": "list index out of range",
     "output_type": "error",
     "traceback": [
      "\u001b[0;31m---------------------------------------------------------------------------\u001b[0m",
      "\u001b[0;31mIndexError\u001b[0m                                Traceback (most recent call last)",
      "\u001b[0;32m<ipython-input-452-e8549a8c9ca4>\u001b[0m in \u001b[0;36m<module>\u001b[0;34m\u001b[0m\n\u001b[1;32m      1\u001b[0m \u001b[0;31m#monte_carlo_result\u001b[0m\u001b[0;34m\u001b[0m\u001b[0;34m\u001b[0m\u001b[0;34m\u001b[0m\u001b[0m\n\u001b[0;32m----> 2\u001b[0;31m \u001b[0mpyplot\u001b[0m\u001b[0;34m.\u001b[0m\u001b[0mimshow\u001b[0m\u001b[0;34m(\u001b[0m\u001b[0mmonte_carlo_results\u001b[0m\u001b[0;34m[\u001b[0m\u001b[0mi\u001b[0m\u001b[0;34m]\u001b[0m\u001b[0;34m.\u001b[0m\u001b[0mreshape\u001b[0m\u001b[0;34m(\u001b[0m\u001b[0mBOARD_SIZE\u001b[0m\u001b[0;34m,\u001b[0m \u001b[0mBOARD_SIZE\u001b[0m\u001b[0;34m)\u001b[0m\u001b[0;34m,\u001b[0m \u001b[0mnorm\u001b[0m\u001b[0;34m=\u001b[0m\u001b[0mNormalize\u001b[0m\u001b[0;34m(\u001b[0m\u001b[0;36m0\u001b[0m\u001b[0;34m,\u001b[0m \u001b[0;36m1\u001b[0m\u001b[0;34m)\u001b[0m\u001b[0;34m,\u001b[0m \u001b[0mcmap\u001b[0m\u001b[0;34m=\u001b[0m\u001b[0;34m'gray'\u001b[0m\u001b[0;34m)\u001b[0m\u001b[0;34m\u001b[0m\u001b[0;34m\u001b[0m\u001b[0m\n\u001b[0m",
      "\u001b[0;31mIndexError\u001b[0m: list index out of range"
     ]
    }
   ],
   "source": [
    "#monte_carlo_result\n",
    "pyplot.imshow(monte_carlo_results[i].reshape(BOARD_SIZE, BOARD_SIZE), norm=Normalize(0, 1), cmap='gray')\n"
   ]
  },
  {
   "cell_type": "code",
   "execution_count": 453,
   "metadata": {},
   "outputs": [
    {
     "ename": "IndexError",
     "evalue": "list index out of range",
     "output_type": "error",
     "traceback": [
      "\u001b[0;31m---------------------------------------------------------------------------\u001b[0m",
      "\u001b[0;31mIndexError\u001b[0m                                Traceback (most recent call last)",
      "\u001b[0;32m<ipython-input-453-383ddddb51a9>\u001b[0m in \u001b[0;36m<module>\u001b[0;34m\u001b[0m\n\u001b[0;32m----> 1\u001b[0;31m \u001b[0mprediction\u001b[0m \u001b[0;34m=\u001b[0m \u001b[0mmodel\u001b[0m\u001b[0;34m.\u001b[0m\u001b[0mpredict\u001b[0m\u001b[0;34m(\u001b[0m\u001b[0mnp\u001b[0m\u001b[0;34m.\u001b[0m\u001b[0marray\u001b[0m\u001b[0;34m(\u001b[0m\u001b[0;34m[\u001b[0m\u001b[0mtrain_x\u001b[0m\u001b[0;34m[\u001b[0m\u001b[0mi\u001b[0m\u001b[0;34m]\u001b[0m\u001b[0;34m]\u001b[0m\u001b[0;34m)\u001b[0m\u001b[0;34m)\u001b[0m\u001b[0;34m\u001b[0m\u001b[0;34m\u001b[0m\u001b[0m\n\u001b[0m\u001b[1;32m      2\u001b[0m \u001b[0;34m\u001b[0m\u001b[0m\n\u001b[1;32m      3\u001b[0m \u001b[0mpyplot\u001b[0m\u001b[0;34m.\u001b[0m\u001b[0mimshow\u001b[0m\u001b[0;34m(\u001b[0m\u001b[0mprediction\u001b[0m\u001b[0;34m[\u001b[0m\u001b[0;36m0\u001b[0m\u001b[0;34m,\u001b[0m\u001b[0;34m:\u001b[0m\u001b[0;34m,\u001b[0m\u001b[0;34m:\u001b[0m\u001b[0;34m,\u001b[0m\u001b[0;36m0\u001b[0m\u001b[0;34m]\u001b[0m\u001b[0;34m)\u001b[0m \u001b[0;31m#, norm=Normalize(0, 1))\u001b[0m\u001b[0;34m\u001b[0m\u001b[0;34m\u001b[0m\u001b[0m\n\u001b[1;32m      4\u001b[0m \u001b[0;34m\u001b[0m\u001b[0m\n\u001b[1;32m      5\u001b[0m \u001b[0mi\u001b[0m \u001b[0;34m+=\u001b[0m \u001b[0;36m1\u001b[0m\u001b[0;34m\u001b[0m\u001b[0;34m\u001b[0m\u001b[0m\n",
      "\u001b[0;31mIndexError\u001b[0m: list index out of range"
     ]
    }
   ],
   "source": [
    "prediction = model.predict(np.array([train_x[i]]))\n",
    "\n",
    "pyplot.imshow(prediction[0,:,:,0]) #, norm=Normalize(0, 1))\n",
    "\n",
    "i += 1"
   ]
  },
  {
   "cell_type": "code",
   "execution_count": 430,
   "metadata": {},
   "outputs": [],
   "source": [
    "i = 0"
   ]
  },
  {
   "cell_type": "code",
   "execution_count": 431,
   "metadata": {},
   "outputs": [
    {
     "data": {
      "image/png": "[encoded data removed]",
      "text/plain": [
       "<Figure size 432x288 with 1 Axes>"
      ]
     },
     "metadata": {
      "needs_background": "light"
     },
     "output_type": "display_data"
    }
   ],
   "source": [
    "pyplot.imshow(train_x[i].reshape(BOARD_SIZE, BOARD_SIZE), norm=Normalize(-1, 1), cmap='rainbow')\n",
    "i += 1"
   ]
  },
  {
   "cell_type": "code",
   "execution_count": 432,
   "metadata": {},
   "outputs": [
    {
     "data": {
      "text/plain": [
       "(15, 15, 1)"
      ]
     },
     "execution_count": 432,
     "metadata": {},
     "output_type": "execute_result"
    }
   ],
   "source": [
    "board.shape"
   ]
  },
  {
   "cell_type": "code",
   "execution_count": 433,
   "metadata": {},
   "outputs": [
    {
     "data": {
      "text/plain": [
       "0"
      ]
     },
     "execution_count": 433,
     "metadata": {},
     "output_type": "execute_result"
    }
   ],
   "source": [
    "np.count_nonzero(board[2:4,2:4] != 0)"
   ]
  },
  {
   "cell_type": "code",
   "execution_count": 434,
   "metadata": {},
   "outputs": [
    {
     "data": {
      "text/plain": [
       "3"
      ]
     },
     "execution_count": 434,
     "metadata": {},
     "output_type": "execute_result"
    }
   ],
   "source": [
    "len(train_x)"
   ]
  },
  {
   "cell_type": "code",
   "execution_count": 435,
   "metadata": {},
   "outputs": [
    {
     "data": {
      "text/plain": [
       "3"
      ]
     },
     "execution_count": 435,
     "metadata": {},
     "output_type": "execute_result"
    }
   ],
   "source": [
    "len(train_y)"
   ]
  },
  {
   "cell_type": "code",
   "execution_count": 436,
   "metadata": {
    "scrolled": true
   },
   "outputs": [
    {
     "name": "stdout",
     "output_type": "stream",
     "text": [
      "Epoch 1/10\n",
      "3/3 [==============================] - 0s 33ms/step - loss: 0.6936 - accuracy: 0.9541\n",
      "Epoch 2/10\n",
      "3/3 [==============================] - 0s 996us/step - loss: 0.6908 - accuracy: 0.9689\n",
      "Epoch 3/10\n",
      "3/3 [==============================] - 0s 1ms/step - loss: 0.6884 - accuracy: 0.9778\n",
      "Epoch 4/10\n",
      "3/3 [==============================] - 0s 1ms/step - loss: 0.6858 - accuracy: 0.9896\n",
      "Epoch 5/10\n",
      "3/3 [==============================] - 0s 1ms/step - loss: 0.6832 - accuracy: 0.9926\n",
      "Epoch 6/10\n",
      "3/3 [==============================] - 0s 1ms/step - loss: 0.6804 - accuracy: 0.9956\n",
      "Epoch 7/10\n",
      "3/3 [==============================] - 0s 1ms/step - loss: 0.6776 - accuracy: 0.9956\n",
      "Epoch 8/10\n",
      "3/3 [==============================] - 0s 1ms/step - loss: 0.6746 - accuracy: 0.9956\n",
      "Epoch 9/10\n",
      "3/3 [==============================] - 0s 1ms/step - loss: 0.6715 - accuracy: 0.9956\n",
      "Epoch 10/10\n",
      "3/3 [==============================] - 0s 1ms/step - loss: 0.6684 - accuracy: 0.9956\n"
     ]
    }
   ],
   "source": [
    "history = model.fit(\n",
    "    np.array(train_x),\n",
    "    keras.utils.to_categorical(np.array(train_y), num_classes=2),\n",
    "    epochs=10,\n",
    "    #validation_split=0.2\n",
    ")\n"
   ]
  },
  {
   "cell_type": "code",
   "execution_count": 437,
   "metadata": {},
   "outputs": [
    {
     "ename": "KeyError",
     "evalue": "'val_accuracy'",
     "output_type": "error",
     "traceback": [
      "\u001b[0;31m---------------------------------------------------------------------------\u001b[0m",
      "\u001b[0;31mKeyError\u001b[0m                                  Traceback (most recent call last)",
      "\u001b[0;32m<ipython-input-437-a41b19d69601>\u001b[0m in \u001b[0;36m<module>\u001b[0;34m\u001b[0m\n\u001b[1;32m      1\u001b[0m \u001b[0mplt\u001b[0m\u001b[0;34m.\u001b[0m\u001b[0mplot\u001b[0m\u001b[0;34m(\u001b[0m\u001b[0mhistory\u001b[0m\u001b[0;34m.\u001b[0m\u001b[0mhistory\u001b[0m\u001b[0;34m[\u001b[0m\u001b[0;34m'accuracy'\u001b[0m\u001b[0;34m]\u001b[0m\u001b[0;34m)\u001b[0m\u001b[0;34m\u001b[0m\u001b[0;34m\u001b[0m\u001b[0m\n\u001b[0;32m----> 2\u001b[0;31m \u001b[0mplt\u001b[0m\u001b[0;34m.\u001b[0m\u001b[0mplot\u001b[0m\u001b[0;34m(\u001b[0m\u001b[0mhistory\u001b[0m\u001b[0;34m.\u001b[0m\u001b[0mhistory\u001b[0m\u001b[0;34m[\u001b[0m\u001b[0;34m'val_accuracy'\u001b[0m\u001b[0;34m]\u001b[0m\u001b[0;34m)\u001b[0m\u001b[0;34m\u001b[0m\u001b[0;34m\u001b[0m\u001b[0m\n\u001b[0m\u001b[1;32m      3\u001b[0m \u001b[0mplt\u001b[0m\u001b[0;34m.\u001b[0m\u001b[0mylabel\u001b[0m\u001b[0;34m(\u001b[0m\u001b[0;34m'accuracy'\u001b[0m\u001b[0;34m)\u001b[0m\u001b[0;34m\u001b[0m\u001b[0;34m\u001b[0m\u001b[0m\n\u001b[1;32m      4\u001b[0m \u001b[0mplt\u001b[0m\u001b[0;34m.\u001b[0m\u001b[0mxlabel\u001b[0m\u001b[0;34m(\u001b[0m\u001b[0;34m'epoch'\u001b[0m\u001b[0;34m)\u001b[0m\u001b[0;34m\u001b[0m\u001b[0;34m\u001b[0m\u001b[0m\n\u001b[1;32m      5\u001b[0m \u001b[0mplt\u001b[0m\u001b[0;34m.\u001b[0m\u001b[0mlegend\u001b[0m\u001b[0;34m(\u001b[0m\u001b[0;34m[\u001b[0m\u001b[0;34m'train'\u001b[0m\u001b[0;34m,\u001b[0m \u001b[0;34m'test'\u001b[0m\u001b[0;34m]\u001b[0m\u001b[0;34m,\u001b[0m \u001b[0mloc\u001b[0m\u001b[0;34m=\u001b[0m\u001b[0;34m'upper left'\u001b[0m\u001b[0;34m)\u001b[0m\u001b[0;34m\u001b[0m\u001b[0;34m\u001b[0m\u001b[0m\n",
      "\u001b[0;31mKeyError\u001b[0m: 'val_accuracy'"
     ]
    },
    {
     "data": {
      "image/png": "[encoded data removed]",
      "text/plain": [
       "<Figure size 432x288 with 1 Axes>"
      ]
     },
     "metadata": {
      "needs_background": "light"
     },
     "output_type": "display_data"
    }
   ],
   "source": [
    "plt.plot(history.history['accuracy'])\n",
    "plt.plot(history.history['val_accuracy'])\n",
    "plt.ylabel('accuracy')\n",
    "plt.xlabel('epoch')\n",
    "plt.legend(['train', 'test'], loc='upper left')\n",
    "\n",
    "plt.show()\n"
   ]
  },
  {
   "cell_type": "code",
   "execution_count": 438,
   "metadata": {},
   "outputs": [
    {
     "ename": "KeyError",
     "evalue": "'val_loss'",
     "output_type": "error",
     "traceback": [
      "\u001b[0;31m---------------------------------------------------------------------------\u001b[0m",
      "\u001b[0;31mKeyError\u001b[0m                                  Traceback (most recent call last)",
      "\u001b[0;32m<ipython-input-438-16857d773fd6>\u001b[0m in \u001b[0;36m<module>\u001b[0;34m\u001b[0m\n\u001b[1;32m      1\u001b[0m \u001b[0mplt\u001b[0m\u001b[0;34m.\u001b[0m\u001b[0mplot\u001b[0m\u001b[0;34m(\u001b[0m\u001b[0mhistory\u001b[0m\u001b[0;34m.\u001b[0m\u001b[0mhistory\u001b[0m\u001b[0;34m[\u001b[0m\u001b[0;34m'loss'\u001b[0m\u001b[0;34m]\u001b[0m\u001b[0;34m)\u001b[0m\u001b[0;34m\u001b[0m\u001b[0;34m\u001b[0m\u001b[0m\n\u001b[0;32m----> 2\u001b[0;31m \u001b[0mplt\u001b[0m\u001b[0;34m.\u001b[0m\u001b[0mplot\u001b[0m\u001b[0;34m(\u001b[0m\u001b[0mhistory\u001b[0m\u001b[0;34m.\u001b[0m\u001b[0mhistory\u001b[0m\u001b[0;34m[\u001b[0m\u001b[0;34m'val_loss'\u001b[0m\u001b[0;34m]\u001b[0m\u001b[0;34m)\u001b[0m\u001b[0;34m\u001b[0m\u001b[0;34m\u001b[0m\u001b[0m\n\u001b[0m\u001b[1;32m      3\u001b[0m \u001b[0mplt\u001b[0m\u001b[0;34m.\u001b[0m\u001b[0mylabel\u001b[0m\u001b[0;34m(\u001b[0m\u001b[0;34m'loss'\u001b[0m\u001b[0;34m)\u001b[0m\u001b[0;34m\u001b[0m\u001b[0;34m\u001b[0m\u001b[0m\n\u001b[1;32m      4\u001b[0m \u001b[0mplt\u001b[0m\u001b[0;34m.\u001b[0m\u001b[0mxlabel\u001b[0m\u001b[0;34m(\u001b[0m\u001b[0;34m'epoch'\u001b[0m\u001b[0;34m)\u001b[0m\u001b[0;34m\u001b[0m\u001b[0;34m\u001b[0m\u001b[0m\n\u001b[1;32m      5\u001b[0m \u001b[0mplt\u001b[0m\u001b[0;34m.\u001b[0m\u001b[0mlegend\u001b[0m\u001b[0;34m(\u001b[0m\u001b[0;34m[\u001b[0m\u001b[0;34m'train'\u001b[0m\u001b[0;34m,\u001b[0m \u001b[0;34m'test'\u001b[0m\u001b[0;34m]\u001b[0m\u001b[0;34m,\u001b[0m \u001b[0mloc\u001b[0m\u001b[0;34m=\u001b[0m\u001b[0;34m'upper left'\u001b[0m\u001b[0;34m)\u001b[0m\u001b[0;34m\u001b[0m\u001b[0;34m\u001b[0m\u001b[0m\n",
      "\u001b[0;31mKeyError\u001b[0m: 'val_loss'"
     ]
    },
    {
     "data": {
      "image/png": "[encoded data removed]",
      "text/plain": [
       "<Figure size 432x288 with 1 Axes>"
      ]
     },
     "metadata": {
      "needs_background": "light"
     },
     "output_type": "display_data"
    }
   ],
   "source": [
    "plt.plot(history.history['loss'])\n",
    "plt.plot(history.history['val_loss'])\n",
    "plt.ylabel('loss')\n",
    "plt.xlabel('epoch')\n",
    "plt.legend(['train', 'test'], loc='upper left')\n",
    "plt.show()"
   ]
  },
  {
   "cell_type": "code",
   "execution_count": 439,
   "metadata": {},
   "outputs": [
    {
     "data": {
      "text/plain": [
       "{'keras': 71.63976788520813, 'defining_win_conditions': 337.5478208065033}"
      ]
     },
     "execution_count": 439,
     "metadata": {},
     "output_type": "execute_result"
    }
   ],
   "source": [
    "timer.timers"
   ]
  },
  {
   "cell_type": "code",
   "execution_count": null,
   "metadata": {},
   "outputs": [],
   "source": []
  }
 ],
 "metadata": {
  "kernelspec": {
   "display_name": "Python 3",
   "language": "python",
   "name": "python3"
  },
  "language_info": {
   "codemirror_mode": {
    "name": "ipython",
    "version": 3
   },
   "file_extension": ".py",
   "mimetype": "text/x-python",
   "name": "python",
   "nbconvert_exporter": "python",
   "pygments_lexer": "ipython3",
   "version": "3.7.4"
  }
 },
 "nbformat": 4,
 "nbformat_minor": 2
}
