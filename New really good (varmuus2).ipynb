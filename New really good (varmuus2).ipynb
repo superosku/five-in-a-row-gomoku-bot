{
 "cells": [
  {
   "cell_type": "code",
   "execution_count": 1,
   "metadata": {},
   "outputs": [
    {
     "name": "stderr",
     "output_type": "stream",
     "text": [
      "Using TensorFlow backend.\n"
     ]
    }
   ],
   "source": [
    "import random\n",
    "import time\n",
    "\n",
    "import numpy as np\n",
    "\n",
    "from matplotlib import pyplot\n",
    "from matplotlib.colors import Normalize\n",
    "\n",
    "from keras.models import Sequential\n",
    "from keras.layers import Dense, Conv2D, Flatten, Softmax, Reshape\n",
    "import keras\n"
   ]
  },
  {
   "cell_type": "code",
   "execution_count": 2,
   "metadata": {},
   "outputs": [],
   "source": [
    "BOARD_SIZE = 10"
   ]
  },
  {
   "cell_type": "code",
   "execution_count": 3,
   "metadata": {},
   "outputs": [
    {
     "data": {
      "image/png": "[encoded data removed]",
      "text/plain": [
       "<Figure size 432x288 with 1 Axes>"
      ]
     },
     "metadata": {
      "needs_background": "light"
     },
     "output_type": "display_data"
    }
   ],
   "source": [
    "board = np.zeros((BOARD_SIZE, BOARD_SIZE, 3))\n",
    "\n",
    "board[5][5][1] = 1\n",
    "board[6][6][2] = 1\n",
    "board[2][5][2] = 1\n",
    "\n",
    "def vis_board(board, shower=pyplot):\n",
    "    #pyplot.grid(which='minor', color='w', linestyle='-', linewidth=2)\n",
    "    shower.imshow((board[:,:,1] - board[:,:,2]).transpose(), norm=Normalize(-1 ,1))\n",
    "    ax = pyplot.gca()\n",
    "\n",
    "    ax.set_xticks(np.arange(-.5, BOARD_SIZE, 1), minor=True);\n",
    "    ax.set_yticks(np.arange(-.5, BOARD_SIZE, 1), minor=True);\n",
    "    ax.grid(which='minor', color='black', linestyle='-', linewidth=1)\n",
    "    \n",
    "    #pyplot.axis('off')\n",
    "\n",
    "\n",
    "vis_board(board)"
   ]
  },
  {
   "cell_type": "code",
   "execution_count": 4,
   "metadata": {},
   "outputs": [
    {
     "name": "stdout",
     "output_type": "stream",
     "text": [
      "Model: \"sequential_1\"\n",
      "_________________________________________________________________\n",
      "Layer (type)                 Output Shape              Param #   \n",
      "=================================================================\n",
      "conv2d_1 (Conv2D)            (None, 10, 10, 64)        1792      \n",
      "_________________________________________________________________\n",
      "conv2d_2 (Conv2D)            (None, 10, 10, 64)        36928     \n",
      "_________________________________________________________________\n",
      "conv2d_3 (Conv2D)            (None, 10, 10, 64)        36928     \n",
      "_________________________________________________________________\n",
      "conv2d_4 (Conv2D)            (None, 10, 10, 1)         577       \n",
      "_________________________________________________________________\n",
      "flatten_1 (Flatten)          (None, 100)               0         \n",
      "_________________________________________________________________\n",
      "softmax_1 (Softmax)          (None, 100)               0         \n",
      "_________________________________________________________________\n",
      "reshape_1 (Reshape)          (None, 10, 10, 1)         0         \n",
      "=================================================================\n",
      "Total params: 76,225\n",
      "Trainable params: 76,225\n",
      "Non-trainable params: 0\n",
      "_________________________________________________________________\n",
      "Model: \"sequential_2\"\n",
      "_________________________________________________________________\n",
      "Layer (type)                 Output Shape              Param #   \n",
      "=================================================================\n",
      "conv2d_5 (Conv2D)            (None, 8, 8, 64)          1792      \n",
      "_________________________________________________________________\n",
      "conv2d_6 (Conv2D)            (None, 6, 6, 64)          36928     \n",
      "_________________________________________________________________\n",
      "conv2d_7 (Conv2D)            (None, 4, 4, 64)          36928     \n",
      "_________________________________________________________________\n",
      "flatten_2 (Flatten)          (None, 1024)              0         \n",
      "_________________________________________________________________\n",
      "dense_1 (Dense)              (None, 32)                32800     \n",
      "_________________________________________________________________\n",
      "dense_2 (Dense)              (None, 10)                330       \n",
      "_________________________________________________________________\n",
      "dense_3 (Dense)              (None, 1)                 11        \n",
      "=================================================================\n",
      "Total params: 108,789\n",
      "Trainable params: 108,789\n",
      "Non-trainable params: 0\n",
      "_________________________________________________________________\n"
     ]
    }
   ],
   "source": [
    "\n",
    "move_model = Sequential()\n",
    "move_model.add(Conv2D(\n",
    "    64, kernel_size=3, activation='relu', input_shape=(BOARD_SIZE, BOARD_SIZE, 3), padding='same'\n",
    "))\n",
    "move_model.add(Conv2D(64, kernel_size=3, activation='relu', padding='same'))\n",
    "move_model.add(Conv2D(64, kernel_size=3, activation='relu', padding='same'))\n",
    "move_model.add(Conv2D(1, kernel_size=3, activation='relu', padding='same'))\n",
    "move_model.add(Flatten())\n",
    "move_model.add(Softmax())\n",
    "move_model.add(Reshape((BOARD_SIZE, BOARD_SIZE, 1)))\n",
    "\n",
    "move_model.compile(\n",
    "    optimizer=keras.optimizers.Adam(lr=0.0001),\n",
    "    #loss='categorical_crossentropy',\n",
    "    loss='binary_crossentropy',\n",
    "    metrics=['accuracy']\n",
    ")\n",
    "\n",
    "score_model = Sequential()\n",
    "score_model.add(Conv2D(64, kernel_size=3, activation='relu', input_shape=(BOARD_SIZE, BOARD_SIZE, 3)))#, padding='same'))\n",
    "score_model.add(Conv2D(64, kernel_size=3, activation='relu')) #, padding='same'))\n",
    "score_model.add(Conv2D(64, kernel_size=3, activation='relu')) #, padding='same'))\n",
    "\n",
    "score_model.add(Flatten())\n",
    "\n",
    "score_model.add(Dense(32, activation='sigmoid'))\n",
    "score_model.add(Dense(10, activation='sigmoid'))\n",
    "score_model.add(Dense(1, activation='sigmoid'))\n",
    "\n",
    "score_model.compile(\n",
    "    optimizer=keras.optimizers.Adam(lr=0.0001),\n",
    "    #loss='categorical_crossentropy',\n",
    "    loss='binary_crossentropy',\n",
    "    metrics=['accuracy']\n",
    ")\n",
    "\n",
    "move_model.summary()\n",
    "\n",
    "score_model.summary()\n"
   ]
  },
  {
   "cell_type": "code",
   "execution_count": 5,
   "metadata": {},
   "outputs": [],
   "source": [
    "def weighted_random(pairs):\n",
    "    total = sum(pair[0] for pair in pairs)\n",
    "    r = random.random() * total # randint(1, total)\n",
    "    for (weight, value) in pairs:\n",
    "        # print('asdf', r, weight)\n",
    "        r -= weight\n",
    "        if r <= 0: return value\n",
    "    print('ERROR IN weighted_random')\n",
    "    return pairs[-1][1]\n"
   ]
  },
  {
   "cell_type": "code",
   "execution_count": 6,
   "metadata": {},
   "outputs": [
    {
     "data": {
      "text/plain": [
       "False"
      ]
     },
     "execution_count": 6,
     "metadata": {},
     "output_type": "execute_result"
    },
    {
     "data": {
      "image/png": "[encoded data removed]",
      "text/plain": [
       "<Figure size 432x288 with 1 Axes>"
      ]
     },
     "metadata": {
      "needs_background": "light"
     },
     "output_type": "display_data"
    }
   ],
   "source": [
    "def check_win(board, x, y, player):\n",
    "    #value = board[x][y][0]\n",
    "    \n",
    "    # X direction\n",
    "    count = 1\n",
    "    i = 1\n",
    "    while x - i >= 0 and board[x - i][y][player+1] == 1:\n",
    "        count += 1\n",
    "        i += 1\n",
    "    i = 1\n",
    "    while x + i < BOARD_SIZE and board[x + i][y][player+1] == 1:\n",
    "        count += 1\n",
    "        i += 1\n",
    "    if count >= 5:\n",
    "        return True\n",
    "    \n",
    "    # Y direction\n",
    "    count = 1\n",
    "    i = 1\n",
    "    while y - i >= 0 and board[x][y - i][player+1] == 1:\n",
    "        count += 1\n",
    "        i += 1\n",
    "    i = 1\n",
    "    while y + i < BOARD_SIZE and board[x][y + i][player+1] == 1:\n",
    "        count += 1\n",
    "        i += 1\n",
    "    if count >= 5:\n",
    "        return True\n",
    "    \n",
    "    # Diagonal 1\n",
    "    count = 1\n",
    "    i = 1\n",
    "    while x - i >= 0 and y - i >= 0 and board[x - i][y - i][player+1] == 1:\n",
    "        count += 1\n",
    "        i += 1\n",
    "    i = 1\n",
    "    while x + i < BOARD_SIZE and y + i < BOARD_SIZE and board[x + i][y + i][player+1] == 1:\n",
    "        count += 1\n",
    "        i += 1\n",
    "    if count >= 5:\n",
    "        return True\n",
    "    \n",
    "    # Diagonal 2\n",
    "    count = 1\n",
    "    i = 1\n",
    "    while x - i >= 0 and y + i < BOARD_SIZE and board[x - i][y + i][player+1] == 1:\n",
    "        count += 1\n",
    "        i += 1\n",
    "    i = 1\n",
    "    while x + i < BOARD_SIZE and y - i >= 0 and board[x + i][y - i][player+1] == 1:\n",
    "        count += 1\n",
    "        i += 1\n",
    "    if count >= 5:\n",
    "        return True\n",
    "    \n",
    "    return False\n",
    "\n",
    "board = np.zeros((BOARD_SIZE, BOARD_SIZE, 3))\n",
    "\n",
    "board[2][3][2] = 1\n",
    "board[2][4][2] = 1\n",
    "board[2][5][2] = 1\n",
    "board[2][6][2] = 1\n",
    "#board[2][7][2] = 1\n",
    "\n",
    "board[1][1][1] = 1\n",
    "\n",
    "vis_board(board)\n",
    "\n",
    "check_win(board, 2, 5, 1)"
   ]
  },
  {
   "cell_type": "code",
   "execution_count": null,
   "metadata": {},
   "outputs": [],
   "source": []
  },
  {
   "cell_type": "code",
   "execution_count": 7,
   "metadata": {},
   "outputs": [
    {
     "ename": "KeyboardInterrupt",
     "evalue": "",
     "output_type": "error",
     "traceback": [
      "\u001b[0;31m---------------------------------------------------------------------------\u001b[0m",
      "\u001b[0;31mKeyboardInterrupt\u001b[0m                         Traceback (most recent call last)",
      "\u001b[0;32m<ipython-input-7-e19f083f49fb>\u001b[0m in \u001b[0;36m<module>\u001b[0;34m\u001b[0m\n\u001b[1;32m    135\u001b[0m         \u001b[0mnode\u001b[0m \u001b[0;34m=\u001b[0m \u001b[0mNode\u001b[0m\u001b[0;34m(\u001b[0m\u001b[0mboard\u001b[0m\u001b[0;34m,\u001b[0m \u001b[0mroot_calculator\u001b[0m\u001b[0;34m,\u001b[0m \u001b[0;32mNone\u001b[0m\u001b[0;34m)\u001b[0m\u001b[0;34m\u001b[0m\u001b[0;34m\u001b[0m\u001b[0m\n\u001b[1;32m    136\u001b[0m         \u001b[0;32mfor\u001b[0m \u001b[0mi\u001b[0m \u001b[0;32min\u001b[0m \u001b[0mrange\u001b[0m\u001b[0;34m(\u001b[0m\u001b[0;36m250\u001b[0m\u001b[0;34m)\u001b[0m\u001b[0;34m:\u001b[0m\u001b[0;34m\u001b[0m\u001b[0;34m\u001b[0m\u001b[0m\n\u001b[0;32m--> 137\u001b[0;31m             \u001b[0mnode\u001b[0m\u001b[0;34m.\u001b[0m\u001b[0mdo_expansion\u001b[0m\u001b[0;34m(\u001b[0m\u001b[0mboard\u001b[0m\u001b[0;34m)\u001b[0m\u001b[0;34m\u001b[0m\u001b[0;34m\u001b[0m\u001b[0m\n\u001b[0m\u001b[1;32m    138\u001b[0m             \u001b[0;31m#print('node_count', root_calculator.nodes)\u001b[0m\u001b[0;34m\u001b[0m\u001b[0;34m\u001b[0m\u001b[0;34m\u001b[0m\u001b[0m\n\u001b[1;32m    139\u001b[0m \u001b[0;34m\u001b[0m\u001b[0m\n",
      "\u001b[0;32m<ipython-input-7-e19f083f49fb>\u001b[0m in \u001b[0;36mdo_expansion\u001b[0;34m(self, board)\u001b[0m\n\u001b[1;32m     89\u001b[0m             \u001b[0mrandom_node\u001b[0m \u001b[0;34m=\u001b[0m \u001b[0mweighted_random\u001b[0m\u001b[0;34m(\u001b[0m\u001b[0mlist\u001b[0m\u001b[0;34m(\u001b[0m\u001b[0mzip\u001b[0m\u001b[0;34m(\u001b[0m\u001b[0mself\u001b[0m\u001b[0;34m.\u001b[0m\u001b[0mplay_probs\u001b[0m\u001b[0;34m,\u001b[0m \u001b[0mself\u001b[0m\u001b[0;34m.\u001b[0m\u001b[0msub_nodes\u001b[0m\u001b[0;34m)\u001b[0m\u001b[0;34m)\u001b[0m\u001b[0;34m)\u001b[0m\u001b[0;34m\u001b[0m\u001b[0;34m\u001b[0m\u001b[0m\n\u001b[1;32m     90\u001b[0m \u001b[0;34m\u001b[0m\u001b[0m\n\u001b[0;32m---> 91\u001b[0;31m             \u001b[0mrandom_node\u001b[0m\u001b[0;34m.\u001b[0m\u001b[0mdo_expansion\u001b[0m\u001b[0;34m(\u001b[0m\u001b[0mboard\u001b[0m\u001b[0;34m)\u001b[0m\u001b[0;34m\u001b[0m\u001b[0;34m\u001b[0m\u001b[0m\n\u001b[0m\u001b[1;32m     92\u001b[0m \u001b[0;34m\u001b[0m\u001b[0m\n\u001b[1;32m     93\u001b[0m             \u001b[0;32mif\u001b[0m \u001b[0mself\u001b[0m\u001b[0;34m.\u001b[0m\u001b[0mplayer\u001b[0m \u001b[0;34m==\u001b[0m \u001b[0;36m1\u001b[0m\u001b[0;34m:\u001b[0m\u001b[0;34m\u001b[0m\u001b[0;34m\u001b[0m\u001b[0m\n",
      "\u001b[0;32m<ipython-input-7-e19f083f49fb>\u001b[0m in \u001b[0;36mdo_expansion\u001b[0;34m(self, board)\u001b[0m\n\u001b[1;32m    100\u001b[0m                 \u001b[0mself\u001b[0m\u001b[0;34m.\u001b[0m\u001b[0mvalue\u001b[0m \u001b[0;34m=\u001b[0m \u001b[0mmin\u001b[0m\u001b[0;34m(\u001b[0m\u001b[0mrandom_node\u001b[0m\u001b[0;34m.\u001b[0m\u001b[0mvalue\u001b[0m\u001b[0;34m,\u001b[0m \u001b[0mself\u001b[0m\u001b[0;34m.\u001b[0m\u001b[0mvalue\u001b[0m\u001b[0;34m)\u001b[0m\u001b[0;34m\u001b[0m\u001b[0;34m\u001b[0m\u001b[0m\n\u001b[1;32m    101\u001b[0m         \u001b[0;32melse\u001b[0m\u001b[0;34m:\u001b[0m\u001b[0;34m\u001b[0m\u001b[0;34m\u001b[0m\u001b[0m\n\u001b[0;32m--> 102\u001b[0;31m             \u001b[0mself\u001b[0m\u001b[0;34m.\u001b[0m\u001b[0mexpand\u001b[0m\u001b[0;34m(\u001b[0m\u001b[0mboard\u001b[0m\u001b[0;34m)\u001b[0m\u001b[0;34m\u001b[0m\u001b[0;34m\u001b[0m\u001b[0m\n\u001b[0m\u001b[1;32m    103\u001b[0m \u001b[0;34m\u001b[0m\u001b[0m\n\u001b[1;32m    104\u001b[0m         \u001b[0;31m# Unset board\u001b[0m\u001b[0;34m\u001b[0m\u001b[0;34m\u001b[0m\u001b[0;34m\u001b[0m\u001b[0m\n",
      "\u001b[0;32m<ipython-input-7-e19f083f49fb>\u001b[0m in \u001b[0;36mexpand\u001b[0;34m(self, board)\u001b[0m\n\u001b[1;32m     64\u001b[0m             \u001b[0mself\u001b[0m\u001b[0;34m.\u001b[0m\u001b[0mplay_probs\u001b[0m\u001b[0;34m.\u001b[0m\u001b[0mappend\u001b[0m\u001b[0;34m(\u001b[0m\u001b[0mprob\u001b[0m\u001b[0;34m)\u001b[0m\u001b[0;34m\u001b[0m\u001b[0;34m\u001b[0m\u001b[0m\n\u001b[1;32m     65\u001b[0m \u001b[0;34m\u001b[0m\u001b[0m\n\u001b[0;32m---> 66\u001b[0;31m             \u001b[0msub_node\u001b[0m \u001b[0;34m=\u001b[0m \u001b[0mNode\u001b[0m\u001b[0;34m(\u001b[0m\u001b[0mboard\u001b[0m\u001b[0;34m,\u001b[0m \u001b[0mself\u001b[0m\u001b[0;34m.\u001b[0m\u001b[0mroot_calculator\u001b[0m\u001b[0;34m,\u001b[0m \u001b[0;34m(\u001b[0m\u001b[0mx\u001b[0m\u001b[0;34m,\u001b[0m \u001b[0my\u001b[0m\u001b[0;34m)\u001b[0m\u001b[0;34m)\u001b[0m\u001b[0;34m\u001b[0m\u001b[0;34m\u001b[0m\u001b[0m\n\u001b[0m\u001b[1;32m     67\u001b[0m             \u001b[0mself\u001b[0m\u001b[0;34m.\u001b[0m\u001b[0msub_nodes\u001b[0m\u001b[0;34m.\u001b[0m\u001b[0mappend\u001b[0m\u001b[0;34m(\u001b[0m\u001b[0msub_node\u001b[0m\u001b[0;34m)\u001b[0m\u001b[0;34m\u001b[0m\u001b[0;34m\u001b[0m\u001b[0m\n\u001b[1;32m     68\u001b[0m \u001b[0;34m\u001b[0m\u001b[0m\n",
      "\u001b[0;32m<ipython-input-7-e19f083f49fb>\u001b[0m in \u001b[0;36m__init__\u001b[0;34m(self, board, root_calculator, xy)\u001b[0m\n\u001b[1;32m     45\u001b[0m                 \u001b[0mvalue\u001b[0m \u001b[0;34m=\u001b[0m \u001b[0mself\u001b[0m\u001b[0;34m.\u001b[0m\u001b[0mplayer\u001b[0m\u001b[0;34m\u001b[0m\u001b[0;34m\u001b[0m\u001b[0m\n\u001b[1;32m     46\u001b[0m             \u001b[0;32melse\u001b[0m\u001b[0;34m:\u001b[0m\u001b[0;34m\u001b[0m\u001b[0;34m\u001b[0m\u001b[0m\n\u001b[0;32m---> 47\u001b[0;31m                 \u001b[0mvalue\u001b[0m \u001b[0;34m=\u001b[0m \u001b[0mscore_model\u001b[0m\u001b[0;34m.\u001b[0m\u001b[0mpredict\u001b[0m\u001b[0;34m(\u001b[0m\u001b[0mnp\u001b[0m\u001b[0;34m.\u001b[0m\u001b[0marray\u001b[0m\u001b[0;34m(\u001b[0m\u001b[0;34m[\u001b[0m\u001b[0mboard\u001b[0m\u001b[0;34m]\u001b[0m\u001b[0;34m)\u001b[0m\u001b[0;34m)\u001b[0m\u001b[0;34m[\u001b[0m\u001b[0;36m0\u001b[0m\u001b[0;34m]\u001b[0m\u001b[0;34m[\u001b[0m\u001b[0;36m0\u001b[0m\u001b[0;34m]\u001b[0m\u001b[0;34m\u001b[0m\u001b[0;34m\u001b[0m\u001b[0m\n\u001b[0m\u001b[1;32m     48\u001b[0m             \u001b[0mboard\u001b[0m\u001b[0;34m[\u001b[0m\u001b[0mx\u001b[0m\u001b[0;34m]\u001b[0m\u001b[0;34m[\u001b[0m\u001b[0my\u001b[0m\u001b[0;34m]\u001b[0m\u001b[0;34m[\u001b[0m\u001b[0mself\u001b[0m\u001b[0;34m.\u001b[0m\u001b[0mplayer\u001b[0m \u001b[0;34m+\u001b[0m \u001b[0;36m1\u001b[0m\u001b[0;34m]\u001b[0m \u001b[0;34m=\u001b[0m \u001b[0;36m0\u001b[0m\u001b[0;34m\u001b[0m\u001b[0;34m\u001b[0m\u001b[0m\n\u001b[1;32m     49\u001b[0m \u001b[0;34m\u001b[0m\u001b[0m\n",
      "\u001b[0;32m~/.virtualenvs/neuralnets/lib/python3.7/site-packages/keras/engine/training.py\u001b[0m in \u001b[0;36mpredict\u001b[0;34m(self, x, batch_size, verbose, steps, callbacks, max_queue_size, workers, use_multiprocessing)\u001b[0m\n\u001b[1;32m   1460\u001b[0m                                             \u001b[0mverbose\u001b[0m\u001b[0;34m=\u001b[0m\u001b[0mverbose\u001b[0m\u001b[0;34m,\u001b[0m\u001b[0;34m\u001b[0m\u001b[0;34m\u001b[0m\u001b[0m\n\u001b[1;32m   1461\u001b[0m                                             \u001b[0msteps\u001b[0m\u001b[0;34m=\u001b[0m\u001b[0msteps\u001b[0m\u001b[0;34m,\u001b[0m\u001b[0;34m\u001b[0m\u001b[0;34m\u001b[0m\u001b[0m\n\u001b[0;32m-> 1462\u001b[0;31m                                             callbacks=callbacks)\n\u001b[0m\u001b[1;32m   1463\u001b[0m \u001b[0;34m\u001b[0m\u001b[0m\n\u001b[1;32m   1464\u001b[0m     def train_on_batch(self, x, y,\n",
      "\u001b[0;32m~/.virtualenvs/neuralnets/lib/python3.7/site-packages/keras/engine/training_arrays.py\u001b[0m in \u001b[0;36mpredict_loop\u001b[0;34m(model, f, ins, batch_size, verbose, steps, callbacks)\u001b[0m\n\u001b[1;32m    322\u001b[0m             \u001b[0mbatch_logs\u001b[0m \u001b[0;34m=\u001b[0m \u001b[0;34m{\u001b[0m\u001b[0;34m'batch'\u001b[0m\u001b[0;34m:\u001b[0m \u001b[0mbatch_index\u001b[0m\u001b[0;34m,\u001b[0m \u001b[0;34m'size'\u001b[0m\u001b[0;34m:\u001b[0m \u001b[0mlen\u001b[0m\u001b[0;34m(\u001b[0m\u001b[0mbatch_ids\u001b[0m\u001b[0;34m)\u001b[0m\u001b[0;34m}\u001b[0m\u001b[0;34m\u001b[0m\u001b[0;34m\u001b[0m\u001b[0m\n\u001b[1;32m    323\u001b[0m             \u001b[0mcallbacks\u001b[0m\u001b[0;34m.\u001b[0m\u001b[0m_call_batch_hook\u001b[0m\u001b[0;34m(\u001b[0m\u001b[0;34m'predict'\u001b[0m\u001b[0;34m,\u001b[0m \u001b[0;34m'begin'\u001b[0m\u001b[0;34m,\u001b[0m \u001b[0mbatch_index\u001b[0m\u001b[0;34m,\u001b[0m \u001b[0mbatch_logs\u001b[0m\u001b[0;34m)\u001b[0m\u001b[0;34m\u001b[0m\u001b[0;34m\u001b[0m\u001b[0m\n\u001b[0;32m--> 324\u001b[0;31m             \u001b[0mbatch_outs\u001b[0m \u001b[0;34m=\u001b[0m \u001b[0mf\u001b[0m\u001b[0;34m(\u001b[0m\u001b[0mins_batch\u001b[0m\u001b[0;34m)\u001b[0m\u001b[0;34m\u001b[0m\u001b[0;34m\u001b[0m\u001b[0m\n\u001b[0m\u001b[1;32m    325\u001b[0m             \u001b[0mbatch_outs\u001b[0m \u001b[0;34m=\u001b[0m \u001b[0mto_list\u001b[0m\u001b[0;34m(\u001b[0m\u001b[0mbatch_outs\u001b[0m\u001b[0;34m)\u001b[0m\u001b[0;34m\u001b[0m\u001b[0;34m\u001b[0m\u001b[0m\n\u001b[1;32m    326\u001b[0m             \u001b[0;32mif\u001b[0m \u001b[0mbatch_index\u001b[0m \u001b[0;34m==\u001b[0m \u001b[0;36m0\u001b[0m\u001b[0;34m:\u001b[0m\u001b[0;34m\u001b[0m\u001b[0;34m\u001b[0m\u001b[0m\n",
      "\u001b[0;32m~/.virtualenvs/neuralnets/lib/python3.7/site-packages/tensorflow_core/python/keras/backend.py\u001b[0m in \u001b[0;36m__call__\u001b[0;34m(self, inputs)\u001b[0m\n\u001b[1;32m   3747\u001b[0m         \u001b[0mself\u001b[0m\u001b[0;34m.\u001b[0m\u001b[0m_outputs_structure\u001b[0m\u001b[0;34m,\u001b[0m\u001b[0;34m\u001b[0m\u001b[0;34m\u001b[0m\u001b[0m\n\u001b[1;32m   3748\u001b[0m         \u001b[0;34m[\u001b[0m\u001b[0mx\u001b[0m\u001b[0;34m.\u001b[0m\u001b[0m_numpy\u001b[0m\u001b[0;34m(\u001b[0m\u001b[0;34m)\u001b[0m \u001b[0;32mfor\u001b[0m \u001b[0mx\u001b[0m \u001b[0;32min\u001b[0m \u001b[0moutputs\u001b[0m\u001b[0;34m]\u001b[0m\u001b[0;34m,\u001b[0m  \u001b[0;31m# pylint: disable=protected-access\u001b[0m\u001b[0;34m\u001b[0m\u001b[0;34m\u001b[0m\u001b[0m\n\u001b[0;32m-> 3749\u001b[0;31m         expand_composites=True)\n\u001b[0m\u001b[1;32m   3750\u001b[0m \u001b[0;34m\u001b[0m\u001b[0m\n\u001b[1;32m   3751\u001b[0m \u001b[0;34m\u001b[0m\u001b[0m\n",
      "\u001b[0;32m~/.virtualenvs/neuralnets/lib/python3.7/site-packages/tensorflow_core/python/util/nest.py\u001b[0m in \u001b[0;36mpack_sequence_as\u001b[0;34m(structure, flat_sequence, expand_composites)\u001b[0m\n\u001b[1;32m    448\u001b[0m   \"\"\"\n\u001b[1;32m    449\u001b[0m   \u001b[0mis_seq\u001b[0m \u001b[0;34m=\u001b[0m \u001b[0mis_sequence_or_composite\u001b[0m \u001b[0;32mif\u001b[0m \u001b[0mexpand_composites\u001b[0m \u001b[0;32melse\u001b[0m \u001b[0mis_sequence\u001b[0m\u001b[0;34m\u001b[0m\u001b[0;34m\u001b[0m\u001b[0m\n\u001b[0;32m--> 450\u001b[0;31m   \u001b[0;32mif\u001b[0m \u001b[0;32mnot\u001b[0m \u001b[0mis_seq\u001b[0m\u001b[0;34m(\u001b[0m\u001b[0mflat_sequence\u001b[0m\u001b[0;34m)\u001b[0m\u001b[0;34m:\u001b[0m\u001b[0;34m\u001b[0m\u001b[0;34m\u001b[0m\u001b[0m\n\u001b[0m\u001b[1;32m    451\u001b[0m     \u001b[0;32mraise\u001b[0m \u001b[0mTypeError\u001b[0m\u001b[0;34m(\u001b[0m\u001b[0;34m\"flat_sequence must be a sequence\"\u001b[0m\u001b[0;34m)\u001b[0m\u001b[0;34m\u001b[0m\u001b[0;34m\u001b[0m\u001b[0m\n\u001b[1;32m    452\u001b[0m \u001b[0;34m\u001b[0m\u001b[0m\n",
      "\u001b[0;32m~/.virtualenvs/neuralnets/lib/python3.7/site-packages/tensorflow_core/python/pywrap_tensorflow_internal.py\u001b[0m in \u001b[0;36mIsSequenceOrComposite\u001b[0;34m(o)\u001b[0m\n\u001b[1;32m   2514\u001b[0m     \u001b[0;32mreturn\u001b[0m \u001b[0m_pywrap_tensorflow_internal\u001b[0m\u001b[0;34m.\u001b[0m\u001b[0mIsSequence\u001b[0m\u001b[0;34m(\u001b[0m\u001b[0mo\u001b[0m\u001b[0;34m)\u001b[0m\u001b[0;34m\u001b[0m\u001b[0;34m\u001b[0m\u001b[0m\n\u001b[1;32m   2515\u001b[0m \u001b[0;34m\u001b[0m\u001b[0m\n\u001b[0;32m-> 2516\u001b[0;31m \u001b[0;32mdef\u001b[0m \u001b[0mIsSequenceOrComposite\u001b[0m\u001b[0;34m(\u001b[0m\u001b[0mo\u001b[0m\u001b[0;34m)\u001b[0m\u001b[0;34m:\u001b[0m\u001b[0;34m\u001b[0m\u001b[0;34m\u001b[0m\u001b[0m\n\u001b[0m\u001b[1;32m   2517\u001b[0m     \"\"\"\n\u001b[1;32m   2518\u001b[0m     \u001b[0mReturns\u001b[0m \u001b[0mtrue\u001b[0m \u001b[0;32mif\u001b[0m \u001b[0mits\u001b[0m \u001b[0minput\u001b[0m \u001b[0;32mis\u001b[0m \u001b[0ma\u001b[0m \u001b[0msequence\u001b[0m \u001b[0;32mor\u001b[0m \u001b[0ma\u001b[0m\u001b[0;31m \u001b[0m\u001b[0;31m`\u001b[0m\u001b[0mCompositeTensor\u001b[0m\u001b[0;31m`\u001b[0m\u001b[0;34m.\u001b[0m\u001b[0;34m\u001b[0m\u001b[0;34m\u001b[0m\u001b[0m\n",
      "\u001b[0;31mKeyboardInterrupt\u001b[0m: "
     ]
    }
   ],
   "source": [
    "class RootCalculator():\n",
    "    def __init__(self):\n",
    "        self.nodes = 0\n",
    "    \n",
    "    def expanded(self):\n",
    "        self.nodes += 1\n",
    "\n",
    "\n",
    "class TerminalNode():\n",
    "    def __init__(self, value, xy):\n",
    "        self.value = value\n",
    "        self.best_xy = xy\n",
    "    \n",
    "    def do_expansion(self, board):\n",
    "        pass\n",
    "\n",
    "\n",
    "class Node():\n",
    "    def __init__(self, board, root_calculator, xy):\n",
    "        self.player = int(board[0][0][0])\n",
    "        #print('Player is here', self.player)\n",
    "        self.play_positions = []\n",
    "        self.sub_nodes = []\n",
    "        self.play_probs = []\n",
    "        \n",
    "        self.root_calculator = root_calculator\n",
    "        self.xy = xy\n",
    "        self.is_terminal = False\n",
    "        \n",
    "        for x in range(BOARD_SIZE):\n",
    "            for y in range(BOARD_SIZE):\n",
    "                if board[x][y][1] == 0 and board[x][y][2] == 0:\n",
    "                    self.play_positions.append((x, y))\n",
    "        \n",
    "        if xy == None:\n",
    "            # Root node\n",
    "            value = 0.5 # score_model.predict(np.array([board]))[0][0]\n",
    "        else:\n",
    "            # Non root\n",
    "            x, y = xy\n",
    "            \n",
    "            board[x][y][self.player + 1] = 1\n",
    "            if check_win(board, x, y, self.player):\n",
    "                self.is_terminal = True\n",
    "                value = self.player\n",
    "            else:\n",
    "                value = score_model.predict(np.array([board]))[0][0]\n",
    "            board[x][y][self.player + 1] = 0            \n",
    "        \n",
    "        self.value = value\n",
    "        self.best_xy = xy\n",
    "    \n",
    "    def expand(self, board):\n",
    "        if self.is_terminal:\n",
    "            return\n",
    "        \n",
    "        best_val = float('inf') if self.player == 0 else float('-inf')\n",
    "        best_xy = None\n",
    "        \n",
    "        play_probs = move_model.predict(np.array([board])).reshape(BOARD_SIZE, BOARD_SIZE)\n",
    "        \n",
    "        for x, y in self.play_positions:\n",
    "            prob = play_probs[x][y]\n",
    "            self.play_probs.append(prob)\n",
    "            \n",
    "            sub_node = Node(board, self.root_calculator, (x, y))\n",
    "            self.sub_nodes.append(sub_node)\n",
    "            \n",
    "            if (\n",
    "                (self.player == 1 and sub_node.value > best_val) or\n",
    "                (self.player == 0 and sub_node.value < best_val)\n",
    "            ):\n",
    "                best_val = sub_node.value\n",
    "                best_xy = (x, y)\n",
    "            \n",
    "        self.value = best_val\n",
    "        self.best_xy = best_xy\n",
    "    \n",
    "    def do_expansion(self, board):\n",
    "        self.root_calculator.expanded()\n",
    "        \n",
    "        # Set board\n",
    "        if self.xy != None:\n",
    "            x, y = self.xy\n",
    "            board[x][y][self.player + 1] = 1\n",
    "            board[:,:,0] = self.player\n",
    "        \n",
    "        if self.sub_nodes:\n",
    "            random_node = weighted_random(list(zip(self.play_probs, self.sub_nodes)))\n",
    "            \n",
    "            random_node.do_expansion(board)\n",
    "            \n",
    "            if self.player == 1:\n",
    "                if random_node.value > self.value:\n",
    "                    self.best_xy = random_node.best_xy\n",
    "                self.value = max(random_node.value, self.value)\n",
    "            else:\n",
    "                if random_node.value < self.value:\n",
    "                    self.best_xy = random_node.best_xy\n",
    "                self.value = min(random_node.value, self.value)\n",
    "        else:\n",
    "            self.expand(board)\n",
    "\n",
    "        # Unset board\n",
    "        if self.xy != None:\n",
    "            board[x][y][self.player + 1] = 0\n",
    "            board[:,:,0] = self.player\n",
    "            \n",
    "\n",
    "def choose_play(board):\n",
    "    pass\n",
    "\n",
    "board = np.zeros((BOARD_SIZE, BOARD_SIZE, 3))\n",
    "\n",
    "\n",
    "start_time = time.time()\n",
    "\n",
    "\n",
    "boards = []\n",
    "plays = []\n",
    "board_statuses = []\n",
    "\n",
    "while True:\n",
    "    batch_boards = []\n",
    "    batch_plays = []\n",
    "    batch_board_stauts = []\n",
    "    \n",
    "    board = np.zeros((BOARD_SIZE, BOARD_SIZE, 3))\n",
    "    \n",
    "    for i in range(int(BOARD_SIZE * BOARD_SIZE / 2)): # Max board size / 2 so no stupid board filling games allowed\n",
    "        #print('Starting loop')\n",
    "        cur_player = int(board[0][0][0])\n",
    "\n",
    "        root_calculator = RootCalculator()\n",
    "        node = Node(board, root_calculator, None)\n",
    "        for i in range(250):\n",
    "            node.do_expansion(board)\n",
    "            #print('node_count', root_calculator.nodes)\n",
    "\n",
    "        x, y = node.best_xy\n",
    "\n",
    "        batch_boards.append(board.copy())\n",
    "        play_pos = np.zeros((BOARD_SIZE, BOARD_SIZE, 1))\n",
    "        play_pos[x][y][0] = 1\n",
    "        batch_plays.append(play_pos)\n",
    "\n",
    "        board[x][y][cur_player + 1] = 1\n",
    "\n",
    "        if check_win(board, x, y, cur_player):\n",
    "            #print('Win condition found')\n",
    "            batch_board_stauts = len(batch_boards) * [cur_player]\n",
    "            break\n",
    "\n",
    "        board[:,:,0] = 1 if cur_player == 0 else 0 # Change the current player\n",
    "\n",
    "    boards += batch_boards\n",
    "    plays += batch_plays\n",
    "    board_statuses += batch_board_stauts\n",
    "    \n",
    "    print('Win happened', len(boards), len(plays), len(board_statuses))\n",
    "    \n",
    "    np.savez_compressed(\n",
    "        'latest',\n",
    "        plays=plays, \n",
    "        boards=boards,\n",
    "        board_statuses=board_statuses\n",
    "    )\n",
    "\n",
    "        \n",
    "#print('Value', node.value)\n",
    "#print('Best xy', node.best_xy)\n",
    "#print('Time (s)', time.time() - start_time)\n",
    "\n",
    "vis_board(board)"
   ]
  },
  {
   "cell_type": "code",
   "execution_count": 13,
   "metadata": {},
   "outputs": [],
   "source": [
    "i = 0"
   ]
  },
  {
   "cell_type": "code",
   "execution_count": 14,
   "metadata": {},
   "outputs": [
    {
     "name": "stdout",
     "output_type": "stream",
     "text": [
      "[[0. 0. 0. 0. 0. 0. 0. 0. 0. 0.]\n",
      " [0. 0. 0. 0. 0. 0. 0. 0. 0. 0.]\n",
      " [0. 0. 0. 0. 0. 0. 0. 0. 0. 0.]\n",
      " [0. 0. 0. 0. 0. 0. 0. 0. 0. 0.]\n",
      " [0. 0. 0. 0. 1. 0. 0. 0. 0. 0.]\n",
      " [0. 0. 0. 0. 0. 0. 0. 0. 0. 0.]\n",
      " [0. 0. 0. 0. 0. 0. 0. 0. 0. 0.]\n",
      " [0. 0. 0. 0. 0. 0. 0. 0. 0. 0.]\n",
      " [0. 0. 0. 0. 0. 0. 0. 0. 0. 0.]\n",
      " [0. 0. 0. 0. 0. 0. 0. 0. 0. 0.]]\n"
     ]
    },
    {
     "ename": "IndexError",
     "evalue": "list index out of range",
     "output_type": "error",
     "traceback": [
      "\u001b[0;31m---------------------------------------------------------------------------\u001b[0m",
      "\u001b[0;31mIndexError\u001b[0m                                Traceback (most recent call last)",
      "\u001b[0;32m<ipython-input-14-261c65c5c098>\u001b[0m in \u001b[0;36m<module>\u001b[0;34m\u001b[0m\n\u001b[1;32m      1\u001b[0m \u001b[0mprint\u001b[0m\u001b[0;34m(\u001b[0m\u001b[0mplays\u001b[0m\u001b[0;34m[\u001b[0m\u001b[0mi\u001b[0m\u001b[0;34m]\u001b[0m\u001b[0;34m.\u001b[0m\u001b[0mreshape\u001b[0m\u001b[0;34m(\u001b[0m\u001b[0mBOARD_SIZE\u001b[0m\u001b[0;34m,\u001b[0m\u001b[0mBOARD_SIZE\u001b[0m\u001b[0;34m)\u001b[0m\u001b[0;34m)\u001b[0m\u001b[0;34m\u001b[0m\u001b[0;34m\u001b[0m\u001b[0m\n\u001b[1;32m      2\u001b[0m \u001b[0mi\u001b[0m \u001b[0;34m+=\u001b[0m \u001b[0;36m1\u001b[0m\u001b[0;34m\u001b[0m\u001b[0;34m\u001b[0m\u001b[0m\n\u001b[0;32m----> 3\u001b[0;31m \u001b[0mvis_board\u001b[0m\u001b[0;34m(\u001b[0m\u001b[0mboards\u001b[0m\u001b[0;34m[\u001b[0m\u001b[0mi\u001b[0m\u001b[0;34m]\u001b[0m\u001b[0;34m)\u001b[0m\u001b[0;34m\u001b[0m\u001b[0;34m\u001b[0m\u001b[0m\n\u001b[0m",
      "\u001b[0;31mIndexError\u001b[0m: list index out of range"
     ]
    }
   ],
   "source": [
    "print(plays[i].reshape(BOARD_SIZE,BOARD_SIZE))\n",
    "i += 1\n",
    "vis_board(boards[i])"
   ]
  },
  {
   "cell_type": "code",
   "execution_count": 15,
   "metadata": {},
   "outputs": [
    {
     "data": {
      "text/plain": [
       "(1150, 5, 0)"
      ]
     },
     "execution_count": 15,
     "metadata": {},
     "output_type": "execute_result"
    }
   ],
   "source": [
    "len(plays), len(batch_boards), len(batch_board_stauts)"
   ]
  },
  {
   "cell_type": "code",
   "execution_count": 470,
   "metadata": {},
   "outputs": [
    {
     "data": {
      "image/png": "[encoded data removed]",
      "text/plain": [
       "<Figure size 1080x1080 with 100 Axes>"
      ]
     },
     "metadata": {
      "needs_background": "light"
     },
     "output_type": "display_data"
    }
   ],
   "source": [
    "fig, axs = pyplot.subplots(10, 10, figsize=(15, 15))\n",
    "i = 100\n",
    "for x in range(10):\n",
    "    for y in range(10):\n",
    "        vis_board(boards[i], axs[x][y])\n",
    "        i += 1"
   ]
  },
  {
   "cell_type": "code",
   "execution_count": 462,
   "metadata": {},
   "outputs": [
    {
     "data": {
      "image/png": "[encoded data removed]",
      "text/plain": [
       "<Figure size 432x288 with 1 Axes>"
      ]
     },
     "metadata": {
      "needs_background": "light"
     },
     "output_type": "display_data"
    }
   ],
   "source": [
    "vis_board(boards[15])"
   ]
  },
  {
   "cell_type": "code",
   "execution_count": 472,
   "metadata": {},
   "outputs": [
    {
     "data": {
      "text/plain": [
       "<matplotlib.image.AxesImage at 0x159665e50>"
      ]
     },
     "execution_count": 472,
     "metadata": {},
     "output_type": "execute_result"
    },
    {
     "data": {
      "image/png": "[encoded data removed]",
      "text/plain": [
       "<Figure size 432x288 with 1 Axes>"
      ]
     },
     "metadata": {
      "needs_background": "light"
     },
     "output_type": "display_data"
    }
   ],
   "source": [
    "prediction = move_model.predict(np.array([boards[11]])).reshape(BOARD_SIZE, BOARD_SIZE)\n",
    "\n",
    "\n",
    "pyplot.imshow(\n",
    "    prediction.transpose(),\n",
    "    norm=Normalize(0, 0.1)\n",
    ")"
   ]
  },
  {
   "cell_type": "code",
   "execution_count": 464,
   "metadata": {},
   "outputs": [
    {
     "name": "stdout",
     "output_type": "stream",
     "text": [
      "Train on 920 samples, validate on 230 samples\n",
      "Epoch 1/20\n",
      "920/920 [==============================] - 0s 422us/step - loss: 0.3708 - accuracy: 1.0000 - val_loss: 0.3549 - val_accuracy: 1.0000\n",
      "Epoch 2/20\n",
      "920/920 [==============================] - 0s 455us/step - loss: 0.3419 - accuracy: 1.0000 - val_loss: 0.3290 - val_accuracy: 1.0000\n",
      "Epoch 3/20\n",
      "920/920 [==============================] - 0s 438us/step - loss: 0.3190 - accuracy: 1.0000 - val_loss: 0.3088 - val_accuracy: 1.0000\n",
      "Epoch 4/20\n",
      "920/920 [==============================] - 0s 422us/step - loss: 0.3007 - accuracy: 1.0000 - val_loss: 0.2923 - val_accuracy: 1.0000\n",
      "Epoch 5/20\n",
      "920/920 [==============================] - 0s 440us/step - loss: 0.2855 - accuracy: 1.0000 - val_loss: 0.2784 - val_accuracy: 1.0000\n",
      "Epoch 6/20\n",
      "920/920 [==============================] - 0s 427us/step - loss: 0.2725 - accuracy: 1.0000 - val_loss: 0.2664 - val_accuracy: 1.0000\n",
      "Epoch 7/20\n",
      "920/920 [==============================] - 0s 384us/step - loss: 0.2612 - accuracy: 1.0000 - val_loss: 0.2558 - val_accuracy: 1.0000\n",
      "Epoch 8/20\n",
      "920/920 [==============================] - 0s 411us/step - loss: 0.2512 - accuracy: 1.0000 - val_loss: 0.2463 - val_accuracy: 1.0000\n",
      "Epoch 9/20\n",
      "920/920 [==============================] - 0s 404us/step - loss: 0.2421 - accuracy: 1.0000 - val_loss: 0.2376 - val_accuracy: 1.0000\n",
      "Epoch 10/20\n",
      "920/920 [==============================] - 0s 396us/step - loss: 0.2338 - accuracy: 1.0000 - val_loss: 0.2297 - val_accuracy: 1.0000\n",
      "Epoch 11/20\n",
      "920/920 [==============================] - 0s 400us/step - loss: 0.2262 - accuracy: 1.0000 - val_loss: 0.2224 - val_accuracy: 1.0000\n",
      "Epoch 12/20\n",
      "920/920 [==============================] - 0s 397us/step - loss: 0.2191 - accuracy: 1.0000 - val_loss: 0.2156 - val_accuracy: 1.0000\n",
      "Epoch 13/20\n",
      "920/920 [==============================] - 0s 382us/step - loss: 0.2125 - accuracy: 1.0000 - val_loss: 0.2092 - val_accuracy: 1.0000\n",
      "Epoch 14/20\n",
      "920/920 [==============================] - 0s 383us/step - loss: 0.2064 - accuracy: 1.0000 - val_loss: 0.2033 - val_accuracy: 1.0000\n",
      "Epoch 15/20\n",
      "920/920 [==============================] - 0s 373us/step - loss: 0.2006 - accuracy: 1.0000 - val_loss: 0.1977 - val_accuracy: 1.0000\n",
      "Epoch 16/20\n",
      "920/920 [==============================] - 0s 392us/step - loss: 0.1952 - accuracy: 1.0000 - val_loss: 0.1924 - val_accuracy: 1.0000\n",
      "Epoch 17/20\n",
      "920/920 [==============================] - 0s 377us/step - loss: 0.1900 - accuracy: 1.0000 - val_loss: 0.1875 - val_accuracy: 1.0000\n",
      "Epoch 18/20\n",
      "920/920 [==============================] - 0s 375us/step - loss: 0.1852 - accuracy: 1.0000 - val_loss: 0.1827 - val_accuracy: 1.0000\n",
      "Epoch 19/20\n",
      "920/920 [==============================] - 0s 358us/step - loss: 0.1806 - accuracy: 1.0000 - val_loss: 0.1782 - val_accuracy: 1.0000\n",
      "Epoch 20/20\n",
      "920/920 [==============================] - 0s 373us/step - loss: 0.1762 - accuracy: 1.0000 - val_loss: 0.1740 - val_accuracy: 1.0000\n"
     ]
    }
   ],
   "source": [
    "history = score_model.fit(\n",
    "    np.array(boards),\n",
    "    np.array(board_statuses),\n",
    "    epochs=20,\n",
    "    validation_split=0.2,\n",
    "    shuffle=True\n",
    ")"
   ]
  },
  {
   "cell_type": "code",
   "execution_count": 467,
   "metadata": {},
   "outputs": [
    {
     "name": "stdout",
     "output_type": "stream",
     "text": [
      "Train on 920 samples, validate on 230 samples\n",
      "Epoch 1/20\n",
      "920/920 [==============================] - 1s 1ms/step - loss: 0.0452 - accuracy: 0.9905 - val_loss: 0.0369 - val_accuracy: 0.9913\n",
      "Epoch 2/20\n",
      "920/920 [==============================] - 1s 1ms/step - loss: 0.0362 - accuracy: 0.9913 - val_loss: 0.0328 - val_accuracy: 0.9917\n",
      "Epoch 3/20\n",
      "920/920 [==============================] - 1s 1ms/step - loss: 0.0327 - accuracy: 0.9917 - val_loss: 0.0304 - val_accuracy: 0.9921\n",
      "Epoch 4/20\n",
      "920/920 [==============================] - 1s 1ms/step - loss: 0.0303 - accuracy: 0.9921 - val_loss: 0.0288 - val_accuracy: 0.9922\n",
      "Epoch 5/20\n",
      "920/920 [==============================] - 1s 1ms/step - loss: 0.0289 - accuracy: 0.9922 - val_loss: 0.0276 - val_accuracy: 0.9925\n",
      "Epoch 6/20\n",
      "920/920 [==============================] - 1s 1ms/step - loss: 0.0280 - accuracy: 0.9924 - val_loss: 0.0269 - val_accuracy: 0.9923\n",
      "Epoch 7/20\n",
      "920/920 [==============================] - 1s 1ms/step - loss: 0.0272 - accuracy: 0.9923 - val_loss: 0.0261 - val_accuracy: 0.9924\n",
      "Epoch 8/20\n",
      "920/920 [==============================] - 1s 1ms/step - loss: 0.0264 - accuracy: 0.9925 - val_loss: 0.0258 - val_accuracy: 0.9925\n",
      "Epoch 9/20\n",
      "920/920 [==============================] - 1s 1ms/step - loss: 0.0260 - accuracy: 0.9925 - val_loss: 0.0251 - val_accuracy: 0.9924\n",
      "Epoch 10/20\n",
      "920/920 [==============================] - 1s 1ms/step - loss: 0.0253 - accuracy: 0.9926 - val_loss: 0.0246 - val_accuracy: 0.9924\n",
      "Epoch 11/20\n",
      "920/920 [==============================] - 1s 1ms/step - loss: 0.0248 - accuracy: 0.9926 - val_loss: 0.0244 - val_accuracy: 0.9927\n",
      "Epoch 12/20\n",
      "920/920 [==============================] - 1s 1ms/step - loss: 0.0244 - accuracy: 0.9927 - val_loss: 0.0239 - val_accuracy: 0.9926\n",
      "Epoch 13/20\n",
      "920/920 [==============================] - 1s 1ms/step - loss: 0.0240 - accuracy: 0.9927 - val_loss: 0.0238 - val_accuracy: 0.9925\n",
      "Epoch 14/20\n",
      "920/920 [==============================] - 1s 1ms/step - loss: 0.0236 - accuracy: 0.9927 - val_loss: 0.0238 - val_accuracy: 0.9930\n",
      "Epoch 15/20\n",
      "920/920 [==============================] - 1s 1ms/step - loss: 0.0233 - accuracy: 0.9930 - val_loss: 0.0230 - val_accuracy: 0.9928\n",
      "Epoch 16/20\n",
      "920/920 [==============================] - 1s 1ms/step - loss: 0.0230 - accuracy: 0.9930 - val_loss: 0.0227 - val_accuracy: 0.9930\n",
      "Epoch 17/20\n",
      "920/920 [==============================] - 1s 1ms/step - loss: 0.0227 - accuracy: 0.9929 - val_loss: 0.0225 - val_accuracy: 0.9929\n",
      "Epoch 18/20\n",
      "920/920 [==============================] - 1s 1ms/step - loss: 0.0224 - accuracy: 0.9931 - val_loss: 0.0220 - val_accuracy: 0.9929\n",
      "Epoch 19/20\n",
      "920/920 [==============================] - 1s 1ms/step - loss: 0.0222 - accuracy: 0.9932 - val_loss: 0.0219 - val_accuracy: 0.9928\n",
      "Epoch 20/20\n",
      "920/920 [==============================] - 1s 1ms/step - loss: 0.0220 - accuracy: 0.9931 - val_loss: 0.0216 - val_accuracy: 0.9927\n"
     ]
    }
   ],
   "source": [
    "history = move_model.fit(\n",
    "    np.array(boards),\n",
    "    np.array(plays),\n",
    "    epochs=20,\n",
    "    validation_split=0.2,\n",
    "    shuffle=True\n",
    ")"
   ]
  },
  {
   "cell_type": "code",
   "execution_count": 468,
   "metadata": {},
   "outputs": [
    {
     "data": {
      "image/png": "[encoded data removed]",
      "text/plain": [
       "<Figure size 432x288 with 1 Axes>"
      ]
     },
     "metadata": {
      "needs_background": "light"
     },
     "output_type": "display_data"
    }
   ],
   "source": [
    "pyplot.plot(history.history['accuracy'])\n",
    "pyplot.plot(history.history['val_accuracy'])\n",
    "pyplot.title('Model accuracy')\n",
    "pyplot.ylabel('Accuracy')\n",
    "pyplot.xlabel('Epoch')\n",
    "pyplot.legend(['Train', 'Test'], loc='upper left')\n",
    "pyplot.show()"
   ]
  },
  {
   "cell_type": "code",
   "execution_count": 469,
   "metadata": {},
   "outputs": [
    {
     "data": {
      "image/png": "[encoded data removed]",
      "text/plain": [
       "<Figure size 432x288 with 1 Axes>"
      ]
     },
     "metadata": {
      "needs_background": "light"
     },
     "output_type": "display_data"
    }
   ],
   "source": [
    "# Plot training & validation loss values\n",
    "pyplot.plot(history.history['loss'])\n",
    "pyplot.plot(history.history['val_loss'])\n",
    "pyplot.title('Model loss')\n",
    "pyplot.ylabel('Loss')\n",
    "pyplot.xlabel('Epoch')\n",
    "pyplot.legend(['Train', 'Test'], loc='upper left')\n",
    "pyplot.show()\n"
   ]
  },
  {
   "cell_type": "code",
   "execution_count": 475,
   "metadata": {},
   "outputs": [],
   "source": [
    "np.savez_compressed(\n",
    "    'some_initial',\n",
    "    plays=plays, \n",
    "    boards=boards,\n",
    "    board_stauts=board_stauts\n",
    ")"
   ]
  },
  {
   "cell_type": "code",
   "execution_count": null,
   "metadata": {},
   "outputs": [],
   "source": []
  }
 ],
 "metadata": {
  "kernelspec": {
   "display_name": "Python 3",
   "language": "python",
   "name": "python3"
  },
  "language_info": {
   "codemirror_mode": {
    "name": "ipython",
    "version": 3
   },
   "file_extension": ".py",
   "mimetype": "text/x-python",
   "name": "python",
   "nbconvert_exporter": "python",
   "pygments_lexer": "ipython3",
   "version": "3.7.4"
  }
 },
 "nbformat": 4,
 "nbformat_minor": 2
}
