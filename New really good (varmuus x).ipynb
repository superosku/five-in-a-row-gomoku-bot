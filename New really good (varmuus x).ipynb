{
 "cells": [
  {
   "cell_type": "code",
   "execution_count": 718,
   "metadata": {},
   "outputs": [],
   "source": [
    "import random\n",
    "import time\n",
    "\n",
    "import numpy as np\n",
    "\n",
    "from matplotlib import pyplot\n",
    "from matplotlib.colors import Normalize\n",
    "\n",
    "from keras.models import Sequential\n",
    "from keras.layers import Dense, Conv2D, Flatten, Softmax, Reshape\n",
    "import keras\n"
   ]
  },
  {
   "cell_type": "code",
   "execution_count": 719,
   "metadata": {},
   "outputs": [],
   "source": [
    "BOARD_SIZE = 12"
   ]
  },
  {
   "cell_type": "markdown",
   "metadata": {},
   "source": [
    "# Helpers and stuff"
   ]
  },
  {
   "cell_type": "code",
   "execution_count": 720,
   "metadata": {},
   "outputs": [
    {
     "data": {
      "image/png": "[encoded data removed]",
      "text/plain": [
       "<Figure size 432x288 with 1 Axes>"
      ]
     },
     "metadata": {
      "needs_background": "light"
     },
     "output_type": "display_data"
    }
   ],
   "source": [
    "board = np.zeros((BOARD_SIZE, BOARD_SIZE, 3))\n",
    "\n",
    "board[5][5][1] = 1\n",
    "board[6][6][2] = 1\n",
    "board[2][5][2] = 1\n",
    "\n",
    "def vis_board(board, shower=pyplot):\n",
    "    #pyplot.grid(which='minor', color='w', linestyle='-', linewidth=2)\n",
    "    shower.imshow((board[:,:,1] - board[:,:,2]).transpose(), norm=Normalize(-1 ,1))\n",
    "    ax = pyplot.gca()\n",
    "\n",
    "    ax.set_xticks(np.arange(-.5, BOARD_SIZE, 1), minor=True);\n",
    "    ax.set_yticks(np.arange(-.5, BOARD_SIZE, 1), minor=True);\n",
    "    ax.grid(which='minor', color='black', linestyle='-', linewidth=1)\n",
    "    \n",
    "    #pyplot.axis('off')\n",
    "\n",
    "\n",
    "vis_board(board)"
   ]
  },
  {
   "cell_type": "code",
   "execution_count": 721,
   "metadata": {},
   "outputs": [
    {
     "name": "stdout",
     "output_type": "stream",
     "text": [
      "Model: \"sequential_49\"\n",
      "_________________________________________________________________\n",
      "Layer (type)                 Output Shape              Param #   \n",
      "=================================================================\n",
      "conv2d_125 (Conv2D)          (None, 12, 12, 64)        1792      \n",
      "_________________________________________________________________\n",
      "conv2d_126 (Conv2D)          (None, 12, 12, 64)        36928     \n",
      "_________________________________________________________________\n",
      "conv2d_127 (Conv2D)          (None, 12, 12, 1)         577       \n",
      "_________________________________________________________________\n",
      "flatten_49 (Flatten)         (None, 144)               0         \n",
      "_________________________________________________________________\n",
      "softmax_25 (Softmax)         (None, 144)               0         \n",
      "_________________________________________________________________\n",
      "reshape_25 (Reshape)         (None, 12, 12, 1)         0         \n",
      "=================================================================\n",
      "Total params: 39,297\n",
      "Trainable params: 39,297\n",
      "Non-trainable params: 0\n",
      "_________________________________________________________________\n",
      "Model: \"sequential_50\"\n",
      "_________________________________________________________________\n",
      "Layer (type)                 Output Shape              Param #   \n",
      "=================================================================\n",
      "conv2d_128 (Conv2D)          (None, 10, 10, 64)        1792      \n",
      "_________________________________________________________________\n",
      "conv2d_129 (Conv2D)          (None, 8, 8, 64)          36928     \n",
      "_________________________________________________________________\n",
      "flatten_50 (Flatten)         (None, 4096)              0         \n",
      "_________________________________________________________________\n",
      "dense_73 (Dense)             (None, 32)                131104    \n",
      "_________________________________________________________________\n",
      "dense_74 (Dense)             (None, 10)                330       \n",
      "_________________________________________________________________\n",
      "dense_75 (Dense)             (None, 1)                 11        \n",
      "=================================================================\n",
      "Total params: 170,165\n",
      "Trainable params: 170,165\n",
      "Non-trainable params: 0\n",
      "_________________________________________________________________\n"
     ]
    }
   ],
   "source": [
    "def get_models():\n",
    "    move_model = Sequential()\n",
    "    move_model.add(Conv2D(\n",
    "        64, kernel_size=3, activation='relu', input_shape=(BOARD_SIZE, BOARD_SIZE, 3), padding='same'\n",
    "    ))\n",
    "    move_model.add(Conv2D(64, kernel_size=3, activation='relu', padding='same'))\n",
    "    #move_model.add(Conv2D(128, kernel_size=3, activation='relu', padding='same'))\n",
    "    move_model.add(Conv2D(1, kernel_size=3, activation='relu', padding='same'))\n",
    "    move_model.add(Flatten())\n",
    "    move_model.add(Softmax())\n",
    "    move_model.add(Reshape((BOARD_SIZE, BOARD_SIZE, 1)))\n",
    "\n",
    "    move_model.compile(\n",
    "        optimizer=keras.optimizers.Adam(lr=0.0001),\n",
    "        #loss='categorical_crossentropy',\n",
    "        loss='binary_crossentropy',\n",
    "        metrics=['accuracy']\n",
    "    )\n",
    "\n",
    "    score_model = Sequential()\n",
    "    score_model.add(Conv2D(64, kernel_size=3, activation='relu', input_shape=(BOARD_SIZE, BOARD_SIZE, 3)))#, padding='same'))\n",
    "    score_model.add(Conv2D(64, kernel_size=3, activation='relu')) #, padding='same'))\n",
    "    #score_model.add(Conv2D(128, kernel_size=3, activation='relu')) #, padding='same'))\n",
    "\n",
    "    score_model.add(Flatten())\n",
    "\n",
    "    score_model.add(Dense(32, activation='sigmoid'))\n",
    "    score_model.add(Dense(10, activation='sigmoid'))\n",
    "    score_model.add(Dense(1, activation='sigmoid'))\n",
    "\n",
    "    score_model.compile(\n",
    "        optimizer=keras.optimizers.Adam(lr=0.0001),\n",
    "        #loss='categorical_crossentropy',\n",
    "        loss='binary_crossentropy',\n",
    "        metrics=['accuracy']\n",
    "    )\n",
    "    \n",
    "    return move_model, score_model\n",
    "\n",
    "test_move_model, test_score_model = get_models()\n",
    "\n",
    "test_move_model.summary()\n",
    "test_score_model.summary()\n"
   ]
  },
  {
   "cell_type": "code",
   "execution_count": null,
   "metadata": {},
   "outputs": [],
   "source": []
  },
  {
   "cell_type": "code",
   "execution_count": 722,
   "metadata": {},
   "outputs": [],
   "source": [
    "def weighted_random(pairs):\n",
    "    total = sum(pair[0] for pair in pairs)\n",
    "    r = random.random() * total # randint(1, total)\n",
    "    for index, (weight, value) in enumerate(pairs):\n",
    "        # print('asdf', r, weight)\n",
    "        r -= weight\n",
    "        if r <= 0: return index # value\n",
    "    print('ERROR IN weighted_random')\n",
    "    return len(pairs) - 1\n",
    "    return pairs[-1][1]\n"
   ]
  },
  {
   "cell_type": "code",
   "execution_count": 723,
   "metadata": {},
   "outputs": [],
   "source": [
    "def augment_data(train_x, train_y, scores):\n",
    "    augmented_train_x = []\n",
    "    augmented_train_y = []\n",
    "    augmented_train_scores = []\n",
    "\n",
    "    #train_x[0].shape\n",
    "\n",
    "    #pyplot.imshow(train_x[5].reshape(15, 15))\n",
    "    #pyplot.imshow(train_y[2].reshape(15, 15))\n",
    "\n",
    "    #pyplot.imshow(np.flip(np.rot90(train_x[7])).reshape(15, 15))\n",
    "\n",
    "\n",
    "    for x, y, score in zip(train_x, train_y, scores):\n",
    "        augmented_train_x.append(x)\n",
    "        augmented_train_y.append(y)\n",
    "        augmented_train_scores.append(score)\n",
    "        augmented_train_x.append(np.rot90(x))\n",
    "        augmented_train_y.append(np.rot90(y))\n",
    "        augmented_train_scores.append(score)\n",
    "        augmented_train_x.append(np.rot90(x, 2))\n",
    "        augmented_train_y.append(np.rot90(y, 2))\n",
    "        augmented_train_scores.append(score)\n",
    "        augmented_train_x.append(np.rot90(x, 3))\n",
    "        augmented_train_y.append(np.rot90(y, 3))\n",
    "        augmented_train_scores.append(score)\n",
    "        augmented_train_x.append(np.flip(x))\n",
    "        augmented_train_y.append(np.flip(y))\n",
    "        augmented_train_scores.append(score)\n",
    "        augmented_train_x.append(np.flip(np.rot90(x)))\n",
    "        augmented_train_y.append(np.flip(np.rot90(y)))\n",
    "        augmented_train_scores.append(score)\n",
    "        augmented_train_x.append(np.flip(np.rot90(x, 2)))\n",
    "        augmented_train_y.append(np.flip(np.rot90(y, 2)))\n",
    "        augmented_train_scores.append(score)\n",
    "        augmented_train_x.append(np.flip(np.rot90(x, 3)))\n",
    "        augmented_train_y.append(np.flip(np.rot90(y, 3)))\n",
    "        augmented_train_scores.append(score)\n",
    "    \n",
    "    augmented_boards = []\n",
    "    augmented_statuses = []\n",
    "    augmented_scores = []\n",
    "    \n",
    "    for board, status, score in zip(augmented_train_x, augmented_train_y, augmented_train_scores):\n",
    "        augmented_boards.append(board)\n",
    "        augmented_statuses.append(status)\n",
    "        augmented_scores.append(score)\n",
    "\n",
    "        flipped_board = np.zeros((BOARD_SIZE, BOARD_SIZE, 3))\n",
    "    \n",
    "        flipped_board[:,:,0] = 1 if board[0,0,0] == 0 else 0\n",
    "        flipped_board[:,:,1] = board[:,:,2]\n",
    "        flipped_board[:,:,2] = board[:,:,1]\n",
    "\n",
    "        augmented_boards.append(flipped_board)\n",
    "        augmented_statuses.append(status)\n",
    "        augmented_scores.append(1 - score)\n",
    "\n",
    "    \n",
    "    return np.array(augmented_boards), np.array(augmented_statuses), np.array(augmented_scores)\n"
   ]
  },
  {
   "cell_type": "code",
   "execution_count": 724,
   "metadata": {},
   "outputs": [
    {
     "data": {
      "text/plain": [
       "False"
      ]
     },
     "execution_count": 724,
     "metadata": {},
     "output_type": "execute_result"
    },
    {
     "data": {
      "image/png": "[encoded data removed]",
      "text/plain": [
       "<Figure size 432x288 with 1 Axes>"
      ]
     },
     "metadata": {
      "needs_background": "light"
     },
     "output_type": "display_data"
    }
   ],
   "source": [
    "def check_win(board, x, y, player):\n",
    "    #value = board[x][y][0]\n",
    "    \n",
    "    # X direction\n",
    "    count = 1\n",
    "    i = 1\n",
    "    while x - i >= 0 and board[x - i][y][player+1] == 1:\n",
    "        count += 1\n",
    "        i += 1\n",
    "    i = 1\n",
    "    while x + i < BOARD_SIZE and board[x + i][y][player+1] == 1:\n",
    "        count += 1\n",
    "        i += 1\n",
    "    if count >= 5:\n",
    "        return True\n",
    "    \n",
    "    # Y direction\n",
    "    count = 1\n",
    "    i = 1\n",
    "    while y - i >= 0 and board[x][y - i][player+1] == 1:\n",
    "        count += 1\n",
    "        i += 1\n",
    "    i = 1\n",
    "    while y + i < BOARD_SIZE and board[x][y + i][player+1] == 1:\n",
    "        count += 1\n",
    "        i += 1\n",
    "    if count >= 5:\n",
    "        return True\n",
    "    \n",
    "    # Diagonal 1\n",
    "    count = 1\n",
    "    i = 1\n",
    "    while x - i >= 0 and y - i >= 0 and board[x - i][y - i][player+1] == 1:\n",
    "        count += 1\n",
    "        i += 1\n",
    "    i = 1\n",
    "    while x + i < BOARD_SIZE and y + i < BOARD_SIZE and board[x + i][y + i][player+1] == 1:\n",
    "        count += 1\n",
    "        i += 1\n",
    "    if count >= 5:\n",
    "        return True\n",
    "    \n",
    "    # Diagonal 2\n",
    "    count = 1\n",
    "    i = 1\n",
    "    while x - i >= 0 and y + i < BOARD_SIZE and board[x - i][y + i][player+1] == 1:\n",
    "        count += 1\n",
    "        i += 1\n",
    "    i = 1\n",
    "    while x + i < BOARD_SIZE and y - i >= 0 and board[x + i][y - i][player+1] == 1:\n",
    "        count += 1\n",
    "        i += 1\n",
    "    if count >= 5:\n",
    "        return True\n",
    "    \n",
    "    return False\n",
    "\n",
    "board = np.zeros((BOARD_SIZE, BOARD_SIZE, 3))\n",
    "\n",
    "board[2][3][2] = 1\n",
    "board[2][4][2] = 1\n",
    "board[2][5][2] = 1\n",
    "board[2][6][2] = 1\n",
    "#board[2][7][2] = 1\n",
    "\n",
    "board[1][1][1] = 1\n",
    "\n",
    "vis_board(board)\n",
    "\n",
    "check_win(board, 2, 5, 1)"
   ]
  },
  {
   "cell_type": "code",
   "execution_count": null,
   "metadata": {},
   "outputs": [],
   "source": []
  },
  {
   "cell_type": "code",
   "execution_count": 725,
   "metadata": {
    "scrolled": false
   },
   "outputs": [],
   "source": [
    "EXPANSIONS_PER_MOVE = 200\n",
    "BOARDS_PER_STEP = 500\n",
    "\n",
    "class RootCalculator():\n",
    "    def __init__(self):\n",
    "        self.nodes = 0\n",
    "    \n",
    "    def expanded(self):\n",
    "        self.nodes += 1\n",
    "\n",
    "\n",
    "class TerminalNode():\n",
    "    def __init__(self, value, xy):\n",
    "        self.value = value\n",
    "        self.best_xy = xy\n",
    "    \n",
    "    def do_expansion(self, board):\n",
    "        pass\n",
    "\n",
    "\n",
    "class Node():\n",
    "    def __init__(self, board, root_calculator, xy, move_model, score_model, depth):\n",
    "        self.move_model = move_model\n",
    "        self.score_model = score_model\n",
    "        \n",
    "        self.depth = depth\n",
    "        self.player = int(board[0][0][0])\n",
    "        #print('Player is here', self.player)\n",
    "        self.play_positions = []\n",
    "        self.sub_nodes = []\n",
    "        self.play_probs = []\n",
    "        \n",
    "        self.expansion_count = 0\n",
    "        \n",
    "        self.root_calculator = root_calculator\n",
    "        self.xy = xy\n",
    "        self.is_terminal = False\n",
    "        \n",
    "        for x in range(BOARD_SIZE):\n",
    "            for y in range(BOARD_SIZE):\n",
    "                if board[x][y][1] == 0 and board[x][y][2] == 0:\n",
    "                    self.play_positions.append((x, y))\n",
    "        \n",
    "        if xy == None:\n",
    "            # Root node\n",
    "            value = 0.5 # score_model.predict(np.array([board]))[0][0]\n",
    "        else:\n",
    "            # Non root\n",
    "            x, y = xy\n",
    "            \n",
    "            board[x][y][self.player + 1] = 1\n",
    "            if check_win(board, x, y, self.player):\n",
    "                self.is_terminal = True\n",
    "                value = self.player\n",
    "            else:\n",
    "                value = self.score_model.predict(np.array([board]))[0][0]\n",
    "            board[x][y][self.player + 1] = 0            \n",
    "        \n",
    "        self.value = value\n",
    "        self.best_xy = xy\n",
    "    \n",
    "    def expand(self, board):\n",
    "        if self.is_terminal:\n",
    "            return\n",
    "        \n",
    "        #best_val = float('inf') if self.player == 0 else float('-inf')\n",
    "        #best_xy = None\n",
    "        \n",
    "        play_probs = self.move_model.predict(np.array([board])).reshape(BOARD_SIZE, BOARD_SIZE)\n",
    "        \n",
    "        for x, y in self.play_positions:\n",
    "            prob = play_probs[x][y]\n",
    "            self.play_probs.append(prob + 0.1 / (BOARD_SIZE * BOARD_SIZE)) # Add some randomness\n",
    "            \n",
    "            #sub_node = Node(board, self.root_calculator, (x, y))\n",
    "            #self.sub_nodes.append(sub_node)\n",
    "            \n",
    "            self.sub_nodes.append(None)\n",
    "            \n",
    "            #if (\n",
    "            #    (self.player == 1 and sub_node.value > best_val) or\n",
    "            #    (self.player == 0 and sub_node.value < best_val)\n",
    "            #):\n",
    "            #    best_val = sub_node.value\n",
    "            #    best_xy = (x, y)\n",
    "            \n",
    "        #self.value = best_val\n",
    "        #self.best_xy = best_xy\n",
    "    \n",
    "    def get_value(self):\n",
    "        if not any(self.sub_nodes) or self.is_terminal:\n",
    "            return self.value\n",
    "        \n",
    "        best_value = float('inf') if self.player == 0 else float('-inf')\n",
    "        for node in self.sub_nodes:\n",
    "            if node:\n",
    "                node_value = node.get_value()\n",
    "                \n",
    "                best_value = min(best_value, node_value) if self.player == 0 else max(best_value, node_value)\n",
    "        \n",
    "        return best_value\n",
    "    \n",
    "    def get_best_xy(self):\n",
    "        \n",
    "        best_value = float('inf') if self.player == 0 else float('-inf')\n",
    "        best_xy = None\n",
    "        \n",
    "        for xy, node in zip(self.play_positions, self.sub_nodes):\n",
    "            if node is not None:\n",
    "                node_value = node.get_value()\n",
    "                #print('asdf', xy, node_value, best_value, best_xy)\n",
    "                if (self.player == 0 and node_value < best_value) or (self.player == 1 and node_value > best_value):\n",
    "                    best_value = node_value\n",
    "                    best_xy = xy\n",
    "        \n",
    "        return best_xy\n",
    "    \n",
    "    def get_sub_node_at(self, xy):\n",
    "        for pos, sub_node in zip(self.play_positions, self.sub_nodes):\n",
    "            if sub_node and xy == pos:\n",
    "                return sub_node\n",
    "        raise ValueError('Invalid path')\n",
    "        \n",
    "    def get_values_rec(self, path=[]):\n",
    "        if path:\n",
    "            return self.get_sub_node_at(path[0]).get_values_rec(path[1:])\n",
    "        \n",
    "        values = np.ones((BOARD_SIZE, BOARD_SIZE)) * -1\n",
    "\n",
    "        for (x, y), sub_node in zip(self.play_positions, self.sub_nodes):\n",
    "            values[x][y] = sub_node.get_value() if sub_node else -1\n",
    "\n",
    "        return values\n",
    "\n",
    "    \n",
    "    def do_expansion(self, board):\n",
    "        self.expansion_count += 1\n",
    "        \n",
    "        self.root_calculator.expanded()\n",
    "        \n",
    "        # Set board\n",
    "        if self.xy != None:\n",
    "            x, y = self.xy\n",
    "            board[x][y][self.player + 1] = 1\n",
    "            board[:,:,0] = self.player\n",
    "        \n",
    "        if self.sub_nodes:\n",
    "            # Select expansion position\n",
    "            random_node_index = weighted_random(list(zip(self.play_probs, self.sub_nodes)))\n",
    "            random_node = self.sub_nodes[random_node_index]\n",
    "            random_node_xy = self.play_positions[random_node_index]\n",
    "\n",
    "            # Expand or add random node\n",
    "            if random_node is None:\n",
    "                xy = self.play_positions[random_node_index]\n",
    "                random_node = Node(\n",
    "                    board, \n",
    "                    self.root_calculator,\n",
    "                    random_node_xy,\n",
    "                    self.move_model,\n",
    "                    self.score_model,\n",
    "                    self.depth+1\n",
    "                )\n",
    "                self.sub_nodes[random_node_index] = random_node\n",
    "                value = random_node.value\n",
    "            else:\n",
    "                random_node.do_expansion(board)\n",
    "                value = random_node.value\n",
    "            \n",
    "            '''\n",
    "            # Update value\n",
    "            if self.player == 1:\n",
    "                if value > self.value or self.best_xy == None:\n",
    "                    self.best_xy = random_node_xy\n",
    "                    #print('Updating bestxy', self.xy, self.best_xy, self.depth)\n",
    "                    self.value = value\n",
    "                #self.value = max(value, self.value)\n",
    "            else:\n",
    "                if value < self.value or self.best_xy == None:\n",
    "                    self.best_xy = random_node_xy\n",
    "                    #print('Updating bestxy', self.xy, self.best_xy, self.depth)\n",
    "                    self.value = value\n",
    "                #self.value = min(value, self.value)\n",
    "            '''\n",
    "            \n",
    "            #all_sub_values = [sub_node.value for sub_node in self.sub_nodes if sub_node]\n",
    "            #self.value = sum(all_sub_values) / len(all_sub_values)\n",
    "            \n",
    "        else:\n",
    "            self.expand(board)\n",
    "\n",
    "        # Unset board\n",
    "        if self.xy != None:\n",
    "            board[x][y][self.player + 1] = 0\n",
    "            board[:,:,0] = self.player\n",
    "\n",
    "\n",
    "def do_play_round(move_model, score_model):\n",
    "    boards = []\n",
    "    plays = []\n",
    "    board_statuses = []\n",
    "\n",
    "    while True:\n",
    "        batch_boards = []\n",
    "        batch_plays = []\n",
    "        batch_board_stauts = []\n",
    "\n",
    "        board = np.zeros((BOARD_SIZE, BOARD_SIZE, 3))\n",
    "\n",
    "        winned = False\n",
    "\n",
    "        for i in range(int(BOARD_SIZE * BOARD_SIZE / 2)): # Max board size / 2 so no stupid board filling games allowed\n",
    "            #print('Starting loop')\n",
    "            cur_player = int(board[0][0][0])\n",
    "\n",
    "            root_calculator = RootCalculator()\n",
    "            node = Node(board, root_calculator, None, move_model, score_model,0)\n",
    "            for i in range(EXPANSIONS_PER_MOVE):\n",
    "                node.do_expansion(board)\n",
    "                #print('wtf', node.best_xy)\n",
    "                #print('node_count', root_calculator.nodes)\n",
    "            #print('asdfg', node.best_xy, node.depth)\n",
    "            x, y = node.get_best_xy()\n",
    "\n",
    "            batch_boards.append(board.copy())\n",
    "            play_pos = np.zeros((BOARD_SIZE, BOARD_SIZE, 1))\n",
    "            play_pos[x][y][0] = 1\n",
    "            batch_plays.append(play_pos)\n",
    "\n",
    "            board[x][y][cur_player + 1] = 1\n",
    "\n",
    "            if check_win(board, x, y, cur_player):\n",
    "                print('Win condition found')\n",
    "                winned = True\n",
    "                batch_board_stauts = len(batch_boards) * [cur_player]\n",
    "                break\n",
    "\n",
    "            board[:,:,0] = 1 if cur_player == 0 else 0 # Change the current player\n",
    "\n",
    "        if winned:\n",
    "            boards += batch_boards\n",
    "            plays += batch_plays\n",
    "            board_statuses += batch_board_stauts\n",
    "\n",
    "        print('Loop ended', len(boards), len(plays), len(board_statuses))\n",
    "        \n",
    "        if len(boards) > BOARDS_PER_STEP:\n",
    "            return boards, plays, board_statuses\n",
    "\n",
    "\n",
    "def run_simulation():\n",
    "    move_model, score_model = get_models()\n",
    "    \n",
    "    prev_augmented_boards, prev_augmented_plays, prev_augmented_board_statuses = (\n",
    "        np.array([]).reshape(0, BOARD_SIZE, BOARD_SIZE, 3),\n",
    "        np.array([]).reshape(0, BOARD_SIZE, BOARD_SIZE, 1),\n",
    "        np.array([]).reshape(0)\n",
    "    )\n",
    "    \n",
    "    loop_index = 0\n",
    "    while True:\n",
    "\n",
    "        boards, plays, board_statuses = do_play_round(move_model, score_model)\n",
    "\n",
    "        np.savez_compressed(\n",
    "            'game_data/loop_{}_game_data'.format(loop_index),\n",
    "            plays=plays, \n",
    "            boards=boards,\n",
    "            board_statuses=board_statuses\n",
    "        )\n",
    "\n",
    "        move_model.save('game_data/loop_{}_move_model.h5'.format(loop_index))\n",
    "        score_model.save('game_data/loop_{}_score_model.h5'.format(loop_index))\n",
    "\n",
    "        move_model, score_model = get_models()\n",
    "        \n",
    "        augmented_boards, augmented_plays, augmented_board_statuses = augment_data(boards, plays, board_statuses)\n",
    "        \n",
    "        history = score_model.fit(\n",
    "            np.concatenate((prev_augmented_boards, augmented_boards)),\n",
    "            np.concatenate((prev_augmented_board_statuses, augmented_board_statuses)),\n",
    "            epochs=10,\n",
    "            #validation_split=0.2,\n",
    "            shuffle=True\n",
    "        )\n",
    "        history = move_model.fit(\n",
    "            np.concatenate((prev_augmented_boards, augmented_boards)),\n",
    "            np.concatenate((prev_augmented_plays, augmented_plays)),\n",
    "            epochs=10,\n",
    "            #validation_split=0.2,\n",
    "            shuffle=True\n",
    "        )\n",
    "        \n",
    "        prev_augmented_boards, prev_augmented_plays, prev_augmented_board_statuses = augmented_boards, augmented_plays, augmented_board_statuses\n",
    "\n",
    "        loop_index += 1\n",
    "    \n",
    "\n",
    "#run_simulation()"
   ]
  },
  {
   "cell_type": "code",
   "execution_count": 726,
   "metadata": {},
   "outputs": [],
   "source": [
    "#thing = np.array([[1,2], [2,3], [3,4]])\n",
    "#print(thing.shape)\n",
    "\n",
    "#np.concatenate((np.array([]).reshape(0, 2), thing))"
   ]
  },
  {
   "cell_type": "code",
   "execution_count": 727,
   "metadata": {},
   "outputs": [],
   "source": [
    "# plays.shape\n",
    "\n",
    "#boards.shape, plays.shape, board_statuses.shape"
   ]
  },
  {
   "cell_type": "code",
   "execution_count": 728,
   "metadata": {},
   "outputs": [],
   "source": [
    "#a_boards, a_plays, a_board_statues = augment_data(boards, plays, board_statuses)"
   ]
  },
  {
   "cell_type": "code",
   "execution_count": 441,
   "metadata": {},
   "outputs": [
    {
     "data": {
      "text/plain": [
       "array([[0., 0., 0., 0., 0., 0., 0., 0., 0., 0., 0., 0.],\n",
       "       [0., 0., 0., 0., 0., 0., 0., 0., 0., 0., 0., 0.],\n",
       "       [0., 0., 0., 0., 0., 0., 0., 0., 0., 0., 0., 0.],\n",
       "       [0., 0., 0., 0., 0., 0., 0., 0., 0., 0., 0., 0.],\n",
       "       [0., 0., 0., 0., 0., 0., 0., 0., 0., 0., 0., 0.],\n",
       "       [0., 0., 0., 0., 0., 0., 0., 0., 0., 0., 0., 0.],\n",
       "       [0., 0., 0., 0., 0., 1., 0., 0., 0., 0., 0., 0.],\n",
       "       [0., 0., 0., 0., 0., 0., 0., 0., 0., 0., 0., 0.],\n",
       "       [0., 0., 0., 0., 0., 0., 0., 0., 0., 0., 0., 0.],\n",
       "       [0., 0., 0., 0., 0., 0., 0., 0., 0., 0., 0., 0.],\n",
       "       [0., 0., 0., 0., 0., 0., 0., 0., 0., 0., 0., 0.],\n",
       "       [0., 0., 0., 0., 0., 0., 0., 0., 0., 0., 0., 0.]])"
      ]
     },
     "execution_count": 441,
     "metadata": {},
     "output_type": "execute_result"
    }
   ],
   "source": [
    "#a_boards[51][:,:,1]"
   ]
  },
  {
   "cell_type": "markdown",
   "metadata": {},
   "source": [
    "# Analyzing the data"
   ]
  },
  {
   "cell_type": "code",
   "execution_count": 489,
   "metadata": {
    "scrolled": true
   },
   "outputs": [
    {
     "name": "stdout",
     "output_type": "stream",
     "text": [
      "total 22176\r\n",
      "drwxr-xr-x  20 osku  staff   640B Feb  7 08:53 \u001b[34m..\u001b[m\u001b[m\r\n",
      "-rw-r--r--   1 osku  staff   490K Feb  7 08:49 loop_1_move_model.h5\r\n",
      "-rw-r--r--   1 osku  staff   2.0M Feb  7 08:49 loop_1_score_model.h5\r\n",
      "-rw-r--r--   1 osku  staff   686K Feb  7 08:49 loop_0_score_model.h5\r\n",
      "-rw-r--r--   1 osku  staff   490K Feb  7 08:49 loop_2_move_model.h5\r\n",
      "-rw-r--r--   1 osku  staff    17K Feb  7 08:49 loop_2_game_data.npz\r\n",
      "-rw-r--r--   1 osku  staff   2.0M Feb  7 08:49 loop_4_score_model.h5\r\n",
      "drwxr-xr-x  17 osku  staff   544B Feb  7 08:49 \u001b[34m.\u001b[m\u001b[m\r\n",
      "-rw-r--r--   1 osku  staff    25K Feb  7 08:49 loop_0_game_data.npz\r\n",
      "-rw-r--r--   1 osku  staff   173K Feb  7 08:49 loop_0_move_model.h5\r\n",
      "-rw-r--r--   1 osku  staff   490K Feb  7 08:49 loop_4_move_model.h5\r\n",
      "-rw-r--r--   1 osku  staff   2.0M Feb  7 08:49 loop_3_score_model.h5\r\n",
      "-rw-r--r--   1 osku  staff   2.0M Feb  7 08:49 loop_2_score_model.h5\r\n",
      "-rw-r--r--   1 osku  staff   490K Feb  7 08:49 loop_3_move_model.h5\r\n",
      "-rw-r--r--   1 osku  staff    21K Feb  7 08:49 loop_4_game_data.npz\r\n",
      "-rw-r--r--   1 osku  staff    19K Feb  7 08:49 loop_3_game_data.npz\r\n",
      "-rw-r--r--   1 osku  staff    18K Feb  7 08:49 loop_1_game_data.npz\r\n"
     ]
    }
   ],
   "source": [
    "! ls -lhta game_data\n",
    "\n"
   ]
  },
  {
   "cell_type": "code",
   "execution_count": 551,
   "metadata": {},
   "outputs": [],
   "source": [
    "board_i = 2\n",
    "\n",
    "score_model = keras.models.load_model('game_data/loop_{board_i}_score_model.h5'.format(board_i=board_i))\n",
    "move_model = keras.models.load_model('game_data/loop_{board_i}_move_model.h5'.format(board_i=board_i))\n",
    "\n",
    "loaded = np.load('game_data/loop_{board_i}_game_data.npz'.format(board_i=board_i))\n",
    "list(loaded.keys())\n",
    "plays = loaded['plays']\n",
    "boards = loaded['boards']\n",
    "board_statuses = loaded['board_statuses']"
   ]
  },
  {
   "cell_type": "code",
   "execution_count": 552,
   "metadata": {},
   "outputs": [
    {
     "data": {
      "image/png": "[encoded data removed]",
      "text/plain": [
       "<Figure size 1080x1080 with 100 Axes>"
      ]
     },
     "metadata": {
      "needs_background": "light"
     },
     "output_type": "display_data"
    }
   ],
   "source": [
    "fig, axs = pyplot.subplots(10, 10, figsize=(15, 15))\n",
    "i = 0\n",
    "for x in range(10):\n",
    "    for y in range(10):\n",
    "        if not i >= len(boards):\n",
    "            vis_board(boards[i], axs[x][y])\n",
    "        i += 1"
   ]
  },
  {
   "cell_type": "code",
   "execution_count": 553,
   "metadata": {},
   "outputs": [
    {
     "data": {
      "image/png": "[encoded data removed]",
      "text/plain": [
       "<Figure size 432x288 with 1 Axes>"
      ]
     },
     "metadata": {
      "needs_background": "light"
     },
     "output_type": "display_data"
    }
   ],
   "source": [
    "vis_board(boards[12])"
   ]
  },
  {
   "cell_type": "code",
   "execution_count": 554,
   "metadata": {},
   "outputs": [
    {
     "data": {
      "text/plain": [
       "(0.13331895, 0.2632833)"
      ]
     },
     "execution_count": 554,
     "metadata": {},
     "output_type": "execute_result"
    },
    {
     "data": {
      "image/png": "[encoded data removed]",
      "text/plain": [
       "<Figure size 432x288 with 1 Axes>"
      ]
     },
     "metadata": {
      "needs_background": "light"
     },
     "output_type": "display_data"
    }
   ],
   "source": [
    "prediction = move_model.predict(np.array([boards[12]])).reshape(BOARD_SIZE, BOARD_SIZE)\n",
    "score_prediction = score_model.predict(np.array([boards[12]]))\n",
    "\n",
    "\n",
    "pyplot.imshow(\n",
    "    prediction.transpose(),\n",
    "    norm=Normalize(0, 0.1)\n",
    ")\n",
    "\n",
    "np.max(prediction), score_prediction[0][0]"
   ]
  },
  {
   "cell_type": "code",
   "execution_count": 555,
   "metadata": {},
   "outputs": [
    {
     "data": {
      "text/plain": [
       "([0.2315369261477046,\n",
       "  0.11067193675889328,\n",
       "  0.49230769230769234,\n",
       "  0.5066162570888468,\n",
       "  0.5193798449612403,\n",
       "  0.6181102362204725,\n",
       "  0.6168958742632613,\n",
       "  0.4873294346978557],\n",
       " [35.785714285714285,\n",
       "  20.24,\n",
       "  20.0,\n",
       "  25.19047619047619,\n",
       "  25.8,\n",
       "  26.736842105263158,\n",
       "  22.130434782608695,\n",
       "  24.428571428571427])"
      ]
     },
     "execution_count": 555,
     "metadata": {},
     "output_type": "execute_result"
    }
   ],
   "source": [
    "win_stats = []\n",
    "game_len_stats = []\n",
    "\n",
    "board_i = 0\n",
    "while True:\n",
    "    try:\n",
    "        loaded = np.load('game_data/loop_{board_i}_game_data.npz'.format(board_i=board_i))\n",
    "    except FileNotFoundError:\n",
    "        break\n",
    "    \n",
    "    win_stats.append(np.sum(loaded['board_statuses']) / len(loaded['board_statuses']))\n",
    "    \n",
    "    game_starts = sum([np.sum(board[:,:,1]) == 0 and np.sum(board[:,:,2]) == 0 for board in loaded['boards']])\n",
    "    game_len_stats.append(len(loaded['boards']) / game_starts)\n",
    "    \n",
    "    board_i += 1\n",
    "    if board_i > 100:\n",
    "        break\n",
    "        \n",
    "win_stats, game_len_stats"
   ]
  },
  {
   "cell_type": "code",
   "execution_count": 556,
   "metadata": {},
   "outputs": [
    {
     "data": {
      "text/plain": [
       "(0, 1)"
      ]
     },
     "execution_count": 556,
     "metadata": {},
     "output_type": "execute_result"
    },
    {
     "data": {
      "image/png": "[encoded data removed]",
      "text/plain": [
       "<Figure size 432x288 with 1 Axes>"
      ]
     },
     "metadata": {
      "needs_background": "light"
     },
     "output_type": "display_data"
    }
   ],
   "source": [
    "pyplot.plot(win_stats)\n",
    "pyplot.ylim((0,1))"
   ]
  },
  {
   "cell_type": "code",
   "execution_count": 557,
   "metadata": {},
   "outputs": [
    {
     "data": {
      "text/plain": [
       "(0, 50)"
      ]
     },
     "execution_count": 557,
     "metadata": {},
     "output_type": "execute_result"
    },
    {
     "data": {
      "image/png": "[encoded data removed]",
      "text/plain": [
       "<Figure size 432x288 with 1 Axes>"
      ]
     },
     "metadata": {
      "needs_background": "light"
     },
     "output_type": "display_data"
    }
   ],
   "source": [
    "pyplot.plot(game_len_stats)\n",
    "pyplot.ylim((0, 50))"
   ]
  },
  {
   "cell_type": "markdown",
   "metadata": {},
   "source": [
    "# Other stuff"
   ]
  },
  {
   "cell_type": "markdown",
   "metadata": {},
   "source": [
    "# Stuff"
   ]
  },
  {
   "cell_type": "code",
   "execution_count": 777,
   "metadata": {},
   "outputs": [
    {
     "data": {
      "image/png": "[encoded data removed]",
      "text/plain": [
       "<Figure size 432x288 with 1 Axes>"
      ]
     },
     "metadata": {
      "needs_background": "light"
     },
     "output_type": "display_data"
    }
   ],
   "source": [
    "board = np.zeros((BOARD_SIZE, BOARD_SIZE, 3))\n",
    "\n",
    "board[5][5][1] = 1\n",
    "board[5][6][1] = 1\n",
    "board[5][7][1] = 1\n",
    "board[5][8][1] = 1\n",
    "\n",
    "board[8][4][2] = 1\n",
    "board[8][5][2] = 1\n",
    "board[8][6][2] = 1\n",
    "board[8][7][2] = 1\n",
    "\n",
    "board[:,:,0] = 0\n",
    "\n",
    "vis_board(board)"
   ]
  },
  {
   "cell_type": "code",
   "execution_count": 778,
   "metadata": {},
   "outputs": [],
   "source": [
    "root_calculator = RootCalculator()\n",
    "node = Node(board, root_calculator, None, move_model, score_model, 0)\n",
    "for i in range(20000):\n",
    "    node.do_expansion(board)\n"
   ]
  },
  {
   "cell_type": "code",
   "execution_count": 779,
   "metadata": {},
   "outputs": [],
   "source": [
    "#node.xy"
   ]
  },
  {
   "cell_type": "code",
   "execution_count": 780,
   "metadata": {},
   "outputs": [],
   "source": [
    "#node.get_sub_node_at((8, 3)).xy"
   ]
  },
  {
   "cell_type": "code",
   "execution_count": 781,
   "metadata": {},
   "outputs": [],
   "source": [
    "#node.get_sub_node_at((8, 3)).get_sub_node_at((8, 7)).xy"
   ]
  },
  {
   "cell_type": "code",
   "execution_count": 782,
   "metadata": {},
   "outputs": [
    {
     "data": {
      "text/plain": [
       "<matplotlib.image.AxesImage at 0x15fe47610>"
      ]
     },
     "execution_count": 782,
     "metadata": {},
     "output_type": "execute_result"
    },
    {
     "data": {
      "image/png": "[encoded data removed]",
      "text/plain": [
       "<Figure size 432x288 with 1 Axes>"
      ]
     },
     "metadata": {
      "needs_background": "light"
     },
     "output_type": "display_data"
    }
   ],
   "source": [
    "values = node.get_values_rec([])\n",
    "pyplot.imshow(values.transpose(), norm=Normalize(-0.1, 1), cmap='gray')"
   ]
  },
  {
   "cell_type": "code",
   "execution_count": 783,
   "metadata": {},
   "outputs": [
    {
     "data": {
      "text/plain": [
       "<matplotlib.image.AxesImage at 0x17a2cef10>"
      ]
     },
     "execution_count": 783,
     "metadata": {},
     "output_type": "execute_result"
    },
    {
     "data": {
      "image/png": "[encoded data removed]",
      "text/plain": [
       "<Figure size 432x288 with 1 Axes>"
      ]
     },
     "metadata": {
      "needs_background": "light"
     },
     "output_type": "display_data"
    }
   ],
   "source": [
    "values = node.get_values_rec([(8, 3)])\n",
    "pyplot.imshow(values.transpose(), norm=Normalize(-0.1, 1), cmap='gray')"
   ]
  },
  {
   "cell_type": "code",
   "execution_count": 776,
   "metadata": {},
   "outputs": [
    {
     "data": {
      "text/plain": [
       "<matplotlib.image.AxesImage at 0x175afa5d0>"
      ]
     },
     "execution_count": 776,
     "metadata": {},
     "output_type": "execute_result"
    },
    {
     "data": {
      "image/png": "[encoded data removed]",
      "text/plain": [
       "<Figure size 432x288 with 1 Axes>"
      ]
     },
     "metadata": {
      "needs_background": "light"
     },
     "output_type": "display_data"
    }
   ],
   "source": [
    "#pyplot.imshow(values.transpose(), norm=Normalize(np.min(values), np.max(values)), cmap='bwr')\n",
    "pyplot.imshow(values.transpose() == 1)# , cmap='gray')"
   ]
  },
  {
   "cell_type": "code",
   "execution_count": 614,
   "metadata": {},
   "outputs": [
    {
     "data": {
      "text/plain": [
       "(6, 6)"
      ]
     },
     "execution_count": 614,
     "metadata": {},
     "output_type": "execute_result"
    }
   ],
   "source": [
    "node.get_best_xy()"
   ]
  },
  {
   "cell_type": "code",
   "execution_count": null,
   "metadata": {},
   "outputs": [],
   "source": []
  },
  {
   "cell_type": "code",
   "execution_count": 592,
   "metadata": {},
   "outputs": [
    {
     "data": {
      "text/plain": [
       "(0.04813878, 0.00024075771, 0.07576854)"
      ]
     },
     "execution_count": 592,
     "metadata": {},
     "output_type": "execute_result"
    },
    {
     "data": {
      "image/png": "[encoded data removed]",
      "text/plain": [
       "<Figure size 432x288 with 1 Axes>"
      ]
     },
     "metadata": {
      "needs_background": "light"
     },
     "output_type": "display_data"
    }
   ],
   "source": [
    "prediction = move_model.predict(np.array([board])).reshape(BOARD_SIZE, BOARD_SIZE)\n",
    "score_prediction = score_model.predict(np.array([board]))\n",
    "\n",
    "\n",
    "pyplot.imshow(\n",
    "    prediction.transpose(),\n",
    "    norm=Normalize(0, 0.1),\n",
    "    cmap='gray'\n",
    ")\n",
    "\n",
    "np.max(prediction), np.min(prediction), score_prediction[0][0]"
   ]
  },
  {
   "cell_type": "code",
   "execution_count": null,
   "metadata": {},
   "outputs": [],
   "source": []
  },
  {
   "cell_type": "code",
   "execution_count": null,
   "metadata": {},
   "outputs": [],
   "source": []
  }
 ],
 "metadata": {
  "kernelspec": {
   "display_name": "Python 3",
   "language": "python",
   "name": "python3"
  },
  "language_info": {
   "codemirror_mode": {
    "name": "ipython",
    "version": 3
   },
   "file_extension": ".py",
   "mimetype": "text/x-python",
   "name": "python",
   "nbconvert_exporter": "python",
   "pygments_lexer": "ipython3",
   "version": "3.7.4"
  }
 },
 "nbformat": 4,
 "nbformat_minor": 2
}
